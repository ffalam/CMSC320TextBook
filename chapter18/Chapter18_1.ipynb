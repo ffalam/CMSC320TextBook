{
  "cells": [
    {
      "cell_type": "markdown",
      "metadata": {
        "id": "Y6aDzvHAAEIc"
      },
      "source": [
        "## **18.1 Neurons: The Building Blocks**\n",
        "\n",
        "A neuron (or node) is the fundamental unit of a neural network, mimicking biological neurons. It receives inputs, processes them using weights and an activation function, and produces an output. Mathematically, a neuron's operation can be represented as:\n",
        "\n",
        "\n",
        "$$ y = f\\left(\\sum_{i=1}^{n} (w_i x_i) + b\\right) $$\n",
        "\n",
        "Where:\n",
        "- $x_i$ = input features\n",
        "- $w_i$ = weights\n",
        "- $b$ = bias term  \n",
        "- $f$ = activation function"
      ]
    }
  ],
  "metadata": {
    "colab": {
      "provenance": []
    },
    "kernelspec": {
      "display_name": "Python 3",
      "name": "python3"
    },
    "language_info": {
      "name": "python"
    }
  },
  "nbformat": 4,
  "nbformat_minor": 0
}
