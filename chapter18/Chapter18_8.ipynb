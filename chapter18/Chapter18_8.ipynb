{
  "cells": [
    {
      "cell_type": "markdown",
      "metadata": {
        "id": "kaC2y5rYGfCz"
      },
      "source": [
        "## Putting It All Together: How Neural Network Training Happens\n",
        "\n",
        "After understanding how regularization helps prevent overfitting and improve generalization, it's important to see how the entire training process operates in practice. Training a neural network involves repeatedly feeding data through the model in manageable portions, updating parameters, and gradually improving performance.\n",
        "\n",
        "The next section explains the key concepts of **batch size**, **iteration**, and **epoch**, which organize how training data is processed and how the model learns over time.\n",
        "\n",
        "---\n",
        "\n",
        "## Neural Network Training: Batch Size, Iteration, and Epoch\n",
        "\n",
        "When training a neural network, the dataset is usually too large to process all at once, so it is split into smaller parts called **batches**.\n",
        "\n",
        "---\n",
        "\n",
        "### Batch Size  \n",
        "The number of training examples used in one forward and backward pass.  \n",
        "For example, a batch size of 32 means the model processes 32 samples before updating weights.\n",
        "\n",
        "---\n",
        "\n",
        "### Iteration  \n",
        "One update of the model’s parameters (weights and biases).  \n",
        "Each iteration uses one batch of data.\n",
        "\n",
        "---\n",
        "\n",
        "### Epoch  \n",
        "One full pass over the entire training dataset.  \n",
        "If the dataset has 1000 samples and batch size is 100, then:  \n",
        "$$\n",
        "1 \\text{ epoch} = \\frac{1000}{100} = 10 \\text{ iterations}\n",
        "$$\n",
        "\n",
        "<p align=\"center\">\n",
        "  <img src=\"https://media.geeksforgeeks.org/wp-content/uploads/20241024155237307614/epoch-in-machine-learning_.webp\" width=\"600\"/>\n",
        "</p>\n",
        "\n",
        "<p align=\"center\"><b>Figure: Epoch in Machine Learning</b></p>\n",
        "\n",
        "---\n",
        "\n",
        "### Training Process Overview\n",
        "\n",
        "1. **Start Training:** Initialize model parameters.\n",
        "\n",
        "2. For each epoch (repeat multiple times):\n",
        "\n",
        "   - Divide data into batches according to batch size.  \n",
        "   \n",
        "   - For each batch:  \n",
        "     - Perform forward pass to calculate predictions.  \n",
        "     - Calculate loss based on predictions and true labels.  \n",
        "     - Perform backward pass (backpropagation) to compute gradients.  \n",
        "     - Update weights using gradients (e.g., gradient descent).\n",
        "\n",
        "\n",
        "3. Repeat until model performance stabilizes or desired accuracy is reached.\n",
        "\n",
        "\n",
        "<p>\n",
        "  <img src=\"https://miro.medium.com/v2/resize:fit:1400/format:webp/1*TFKm_XC2dIk36i80drQ0KA.png\" width=\"600\"/>\n",
        "</p>\n",
        "\n",
        "<p>\n",
        "  <b>Figure:</b> In the Input Training Dataset step, as different kinds of strategies, we can assign a Batch Size to determine how many training datasets are going to be used for one weights updating process. For example, there are 5000 images in total as the training datasets. If we set the Batch Size = 1000, we get 5 batches of training datasets. As a result, the weights updating process will be executed 5 times (Iterations).\n",
        "</p>\n",
        "\n",
        "<p><em>Ref: <a href=\"https://medium.com/@crazyhatcap/epoch-batch-size-iteration-in-neural-network-training-process-bee58415eb8e\" target=\"_blank\">medium.com/@crazyhatcap</a></em></p>"
      ]
    },
    {
      "cell_type": "markdown",
      "metadata": {
        "id": "2dPswavaKLSk"
      },
      "source": [
        "## Chapter Summary\n",
        "In this chapter, we explored the key components of training neural networks, including the forward and backward passes, how loss guides learning, and how weights are updated iteratively. We also discussed the role of batch size, iterations, and epochs in organizing the training process for efficient and effective learning.\n",
        "\n",
        "Understanding these concepts lays the foundation for building, training, and optimizing deep learning models. In the next chapter, we will delve into advanced optimization techniques and strategies to further improve model performance."
      ]
    },
    {
      "cell_type": "markdown",
      "metadata": {
        "id": "vTONdaP1Xv3U"
      },
      "source": [
        "## Knowledge Check\n",
        "\n",
        "<iframe src=\"https://docs.google.com/forms/d/e/1FAIpQLSdWDTzfBm1pC7w07wLKetrKKxVlzdEz-D-feCfFYemssJeVAA/viewform?embedded=true\" width=\"640\" height=\"1078\" frameborder=\"0\" marginheight=\"0\" marginwidth=\"0\">Loading…</iframe>"
      ]
    }
  ],
  "metadata": {
    "colab": {
      "provenance": []
    },
    "kernelspec": {
      "display_name": "Python 3",
      "name": "python3"
    },
    "language_info": {
      "name": "python"
    }
  },
  "nbformat": 4,
  "nbformat_minor": 0
}
