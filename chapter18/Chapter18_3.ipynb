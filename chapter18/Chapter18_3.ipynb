{
  "cells": [
    {
      "cell_type": "markdown",
      "metadata": {
        "id": "axt7egrlAOID"
      },
      "source": [
        "## **18.3 Weights and Biases**\n",
        " | Component | Role |\n",
        " |-----------|------|\n",
        " | **Weights** (\\( w_i \\)) | Determine connection strength between neurons. They are adjusted during training to minimize prediction errors. |\n",
        "  | **Bias** (\\( b \\)) | Allows shifting the activation function to improve model flexibility. |\n"
      ]
    }
  ],
  "metadata": {
    "colab": {
      "provenance": []
    },
    "kernelspec": {
      "display_name": "Python 3",
      "name": "python3"
    },
    "language_info": {
      "name": "python"
    }
  },
  "nbformat": 4,
  "nbformat_minor": 0
}
