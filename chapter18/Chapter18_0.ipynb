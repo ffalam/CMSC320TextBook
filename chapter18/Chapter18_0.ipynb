{
  "cells": [
    {
      "cell_type": "markdown",
      "metadata": {
        "id": "vG0Z1u8yTPRI"
      },
      "source": [
        "# Chapter 18: Introduction to the  Neural Network\n",
        "\n",
        "\n",
        "Artificial intelligence has revolutionized the way machines learn from data, enabling them to perform tasks that once seemed impossible. From powering voice assistants to enabling autonomous vehicles, AI systems are now integrated into many aspects of daily life. At the core of this transformation are neural networks—computational models inspired by **the structure and function of the human brain**. These networks consist of interconnected nodes, or \"neurons,\" that process information in layers, allowing them to recognize patterns, make decisions, and improve over time. From early single-layer perceptrons to today’s deep architectures, neural networks have become a cornerstone of modern AI, powering breakthroughs in fields like healthcare, finance, and autonomous systems.\n",
        "\n",
        "> Neural networks are a **type of supervised learning algorithm** capable of identifying intricate patterns and relationships within data, making them suitable for tackling problems that traditional models often struggle with.\n",
        "\n",
        "![NN](imgs/NN.png)\n",
        "\n",
        "\n",
        "Although neural network algorithms have existed for many years, recent advancements in their architectures have led to significant improvements in performance on large-scale machine learning tasks. These developments form the foundation of what is now referred to as the \"deep learning\" methodology.\n",
        "\n",
        "Deep learning, a branch of machine learning and artificial intelligence, leverages neural networks with multiple hidden layers to address highly complex tasks. These tasks range from natural language processing—such as speech recognition and text interpretation—to computer vision applications like object detection and image classification. The rise of deep learning over the past twenty years can be attributed to its remarkable effectiveness, the surge in computational power, and the growing accessibility of vast datasets."
      ]
    },
    {
      "cell_type": "markdown",
      "metadata": {
        "id": "Z2Ta9SqhT8lu"
      },
      "source": [
        "## 18.0: Fundamentals of Neural Networks\n",
        "\n",
        "Neural networks are a powerful class of supervised learning algorithms capable of modeling complex, nonlinear relationships in data. Unlike traditional machine learning models, which rely on handcrafted features, neural networks automatically learn hierarchical representations from raw input. Key components include:\n",
        "\n",
        "* **Input Layer:** Receives raw data (e.g., pixels in an image, words in a text).\n",
        "\n",
        "* **Hidden Layers:** Intermediate layers that transform inputs through weighted connections and activation functions.\n",
        "\n",
        "* **Output Layer:** Produces the final prediction (e.g., class label, regression value).\n",
        "\n",
        "* **Weights & Biases:** Adjustable parameters learned during training.\n",
        "\n",
        "* **Activation Functions:** Introduce nonlinearity (e.g., ReLU, Sigmoid, Tanh).\n",
        "\n",
        "Training a neural network involves **forward propagation** (passing data through the network) and **backpropagation **(adjusting weights based on error gradients using optimization techniques like gradient descent)."
      ]
    }
  ],
  "metadata": {
    "colab": {
      "provenance": []
    },
    "kernelspec": {
      "display_name": "Python 3",
      "name": "python3"
    },
    "language_info": {
      "name": "python"
    }
  },
  "nbformat": 4,
  "nbformat_minor": 0
}
