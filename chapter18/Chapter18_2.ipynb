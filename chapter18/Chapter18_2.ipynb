{
  "cells": [
    {
      "cell_type": "markdown",
      "metadata": {
        "id": "SbxT8eTcAIo-"
      },
      "source": [
        "## **18.2 Layers: Input, Hidden, and Output**\n",
        "Layers: Input, Hidden, and Output**\n",
        "Neural networks are organized into layers:\n",
        "\n",
        "1. **Input Layer**:\n",
        "    - The first layer that receives raw data (e.g., pixel values in an image, word embeddings in text).\n",
        "\n",
        "2. **Hidden Layers**:\n",
        "    - Intermediate layers between input and output where feature extraction and transformation occur.\n",
        "    - Deep networks have multiple hidden layers\n",
        "\n",
        " 3. **Output Layer**:\n",
        "    - Produces final predictions\n",
        "    - Classification: class probabilities\n",
        "    - Regression: continuous values\n"
      ]
    }
  ],
  "metadata": {
    "colab": {
      "provenance": []
    },
    "kernelspec": {
      "display_name": "Python 3",
      "name": "python3"
    },
    "language_info": {
      "name": "python"
    }
  },
  "nbformat": 4,
  "nbformat_minor": 0
}
