{
 "cells": [
  {
   "cell_type": "markdown",
   "metadata": {
    "id": "NJpkkMwvcTbG"
   },
   "source": [
    "# Arithmetic Operations and Functions in Pandas\n",
    "\n",
    "So far we explored how to inspect and select data in Pandas. Once you have access to the right rows and columns, the next step is to perform calculations and apply functions. Pandas makes this process very intuitive by allowing you to apply arithmetic directly to DataFrames or Series, and by offering tools like apply(), map(), and applymap() for more flexibility.\n",
    "\n",
    "## Arithmetic Operations on Columns\n",
    "\n",
    "You can directly apply mathematical operations to Pandas Series or DataFrame columns. Operations are vectorized, meaning they are applied element-wise across the column.\n",
    "\n",
    "In below example, you can notice how the operations are automatically applied to each row."
   ]
  },
  {
   "cell_type": "code",
   "execution_count": null,
   "metadata": {
    "id": "C8WDkGdlclFS"
   },
   "outputs": [],
   "source": [
    "import pandas as pd\n",
    "\n",
    "data = {\n",
    "    'Name': ['Alice', 'Bob', 'Charlie'],\n",
    "    'Age': [24, 30, 28],\n",
    "    'Salary': [50000, 60000, 55000]\n",
    "}\n",
    "df = pd.DataFrame(data)\n",
    "print(df)\n",
    "\n",
    "# Increase all salaries by 10%\n",
    "df['Salary'] = df['Salary'] * 1.10\n",
    "\n",
    "# Add 5 years to everyone’s age\n",
    "df['Age'] = df['Age'] + 5\n",
    "print(df)"
   ]
  },
  {
   "cell_type": "markdown",
   "metadata": {
    "id": "uUXQ9Iodcx3U"
   },
   "source": [
    "## Arithmetic Between Columns\n",
    "You can also perform arithmetic between two or more columns to create new features."
   ]
  },
  {
   "cell_type": "code",
   "execution_count": null,
   "metadata": {
    "id": "fTt6nukjc2NT"
   },
   "outputs": [],
   "source": [
    "# Create a new column 'Income_per_Age'\n",
    "df['Income_per_Age'] = df['Salary'] / df['Age']\n",
    "print(df)"
   ]
  },
  {
   "cell_type": "markdown",
   "metadata": {
    "id": "IxIFiA4ic7DW"
   },
   "source": [
    "# Applying Built-in Pandas/Numpy Functions\n",
    "\n",
    "Pandas integrates with NumPy functions, allowing you to apply common statistics directly.\n"
   ]
  },
  {
   "cell_type": "code",
   "execution_count": null,
   "metadata": {
    "id": "42HA1XToc_h8"
   },
   "outputs": [],
   "source": [
    "import numpy as np\n",
    "\n",
    "# Calculate average salary\n",
    "print(df['Salary'].mean())\n",
    "\n",
    "# Standard deviation of Age\n",
    "print(df['Age'].std())\n",
    "\n",
    "# Apply numpy square root\n",
    "print(np.sqrt(df['Age']))"
   ]
  },
  {
   "cell_type": "markdown",
   "metadata": {
    "id": "2kyj2xDbc-n7"
   },
   "source": [
    "### Applying Functions with **apply()**\n",
    "\n",
    "Sometimes you need custom transformations. The apply() method lets you apply a function to an entire column (Series) or to each row/column in a DataFrame.\n"
   ]
  },
  {
   "cell_type": "code",
   "execution_count": null,
   "metadata": {
    "id": "CI_UGGeidXH9"
   },
   "outputs": [],
   "source": [
    "# Apply to a Series\n",
    "df['Age_squared'] = df['Age'].apply(lambda x: x**2)\n",
    "\n",
    "# Apply to DataFrame across rows\n",
    "df['Total'] = df[['Age','Salary']].apply(lambda row: row['Age'] + row['Salary'], axis=1)\n",
    "print(df)"
   ]
  },
  {
   "cell_type": "markdown",
   "metadata": {
    "id": "k5ZTacVnucQQ"
   },
   "source": [
    "Note that, we can also apply a Function Elementwise with applymap() and to a Single Column with map() but not covering in this course."
   ]
  },
  {
   "cell_type": "markdown",
   "metadata": {
    "id": "fyVTfiKTeI04"
   },
   "source": [
    "# Filtering Data in Pandas\n",
    "\n",
    "Once you know how to select columns and rows, the next step is learning how to filter data. Filtering helps you focus on only the relevant part of your dataset, whether that means removing unnecessary columns, isolating rows that meet certain conditions, or preparing features for modeling.\n",
    "\n",
    "## Filtering Columns\n",
    "\n",
    "Column filtering is about selecting only the columns you need or dropping the ones you don’t. This reduces memory usage and keeps your DataFrame manageable."
   ]
  },
  {
   "cell_type": "code",
   "execution_count": null,
   "metadata": {
    "id": "c4v3yYEUeGOK"
   },
   "outputs": [],
   "source": [
    "# Select a single column\n",
    "df['Age']\n",
    "\n",
    "# Select multiple columns\n",
    "df[['Name', 'City']]\n",
    "\n"
   ]
  },
  {
   "cell_type": "markdown",
   "metadata": {
    "id": "qR9sZFu5e-pV"
   },
   "source": [
    "## Dropping Unused Columns"
   ]
  },
  {
   "cell_type": "code",
   "execution_count": null,
   "metadata": {
    "id": "Hso3cwY3fAVo"
   },
   "outputs": [],
   "source": [
    "# Drop the 'City' column\n",
    "df = df.drop(columns=['City'])\n",
    "print(df)"
   ]
  },
  {
   "cell_type": "markdown",
   "metadata": {
    "id": "4Uxc9z7sfFg8"
   },
   "source": [
    "This is especially useful when preparing data for machine learning, where only selected features are required."
   ]
  },
  {
   "cell_type": "markdown",
   "metadata": {
    "id": "3fCS_z3jfQAS"
   },
   "source": [
    "## Filtering Rows (using Boolean Indexing)\n",
    "\n",
    "Row filtering is usually done with Boolean indexing, where you apply a condition and return only the rows where that condition is true."
   ]
  },
  {
   "cell_type": "code",
   "execution_count": null,
   "metadata": {
    "id": "p72rSa8WfbRm"
   },
   "outputs": [],
   "source": [
    "# Filter rows where Age > 30\n",
    "df[df['Age'] > 30]"
   ]
  },
  {
   "cell_type": "markdown",
   "metadata": {
    "id": "yYU__Amtfl7D"
   },
   "source": [
    "# Combining Multiple Conditions\n",
    "You can combine conditions using & (and) or | (or)."
   ]
  },
  {
   "cell_type": "code",
   "execution_count": null,
   "metadata": {
    "id": "444QIjbcfpE9"
   },
   "outputs": [],
   "source": [
    "# Filter rows where Age > 30 AND Salary > 60000\n",
    "df[(df['Age'] > 30) & (df['Salary'] > 60000)]"
   ]
  },
  {
   "cell_type": "markdown",
   "metadata": {
    "id": "MKOpgKEBfy1_"
   },
   "source": [
    "\n",
    "> Remember to wrap each condition in parentheses."
   ]
  },
  {
   "cell_type": "markdown",
   "metadata": {
    "id": "35ZeG0GFfuK8"
   },
   "source": [
    "# Filtering Strings\n",
    "\n",
    "You can filter rows where a text column contains specific values"
   ]
  },
  {
   "cell_type": "code",
   "execution_count": null,
   "metadata": {
    "id": "iE-QQhCogNO-"
   },
   "outputs": [],
   "source": [
    "# Filter rows where City contains \"York\"\n",
    "df[df['City'].str.contains(\"York\")]"
   ]
  },
  {
   "cell_type": "markdown",
   "metadata": {
    "id": "1o6BqORKgTgt"
   },
   "source": [
    "## Unique Values and Counting\n",
    "\n",
    "Sometimes you want to check how many unique values a column has, or count how often each appears."
   ]
  },
  {
   "cell_type": "code",
   "execution_count": null,
   "metadata": {
    "id": "rCaQ4dI9fcH-"
   },
   "outputs": [],
   "source": [
    "# Unique cities\n",
    "print(df['City'].unique())\n",
    "\n",
    "# Count frequency of each city\n",
    "print(df['City'].value_counts())\n"
   ]
  }
 ],
 "metadata": {
  "colab": {
   "authorship_tag": "ABX9TyOKNNxcwtTRnE4nGM3xd5O6",
   "provenance": []
  },
  "kernelspec": {
   "display_name": "Python 3",
   "name": "python3"
  },
  "language_info": {
   "name": "python"
  }
 },
 "nbformat": 4,
 "nbformat_minor": 0
}
