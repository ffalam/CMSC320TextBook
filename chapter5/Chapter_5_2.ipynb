{
 "cells": [
  {
   "cell_type": "markdown",
   "metadata": {},
   "source": [
    "## Adding a new column to DataFrame\n",
    "\n",
    "A new column can be added to a pandas DataFrame by assigning a ***value, list, or Series*** to a new column name. If the assigned data is a list or Series, its length must match the number of rows in the DataFrame. You can also assign a single value, which will be applied to all rows."
   ]
  },
  {
   "cell_type": "code",
   "execution_count": 1,
   "metadata": {},
   "outputs": [
    {
     "name": "stdout",
     "output_type": "stream",
     "text": [
      "      Name  Math\n",
      "0    Alice    90\n",
      "1      Bob    85\n",
      "2  Charlie    95\n",
      "      Name  Math  English\n",
      "0    Alice    90       88\n",
      "1      Bob    85       92\n",
      "2  Charlie    95       80\n",
      "      Name  Math  English  Pass\n",
      "0    Alice    90       88  True\n",
      "1      Bob    85       92  True\n",
      "2  Charlie    95       80  True\n"
     ]
    }
   ],
   "source": [
    "import pandas as pd\n",
    "\n",
    "df = pd.DataFrame({\n",
    "    \"Name\": [\"Alice\", \"Bob\", \"Charlie\"],\n",
    "    \"Math\": [90, 85, 95]\n",
    "})\n",
    "print(df)\n",
    "\n",
    "# Add a new column with a list\n",
    "df[\"English\"] = [88, 92, 80]\n",
    "\n",
    "print(df)\n",
    "\n",
    "# Add a new column with a single value\n",
    "df[\"Pass\"] = True\n",
    "\n",
    "print(df)"
   ]
  },
  {
   "cell_type": "code",
   "execution_count": 2,
   "metadata": {
    "colab": {
     "base_uri": "https://localhost:8080/"
    },
    "id": "C8WDkGdlclFS",
    "outputId": "ea2391ac-348b-432f-e825-a5611987116a"
   },
   "outputs": [
    {
     "name": "stdout",
     "output_type": "stream",
     "text": [
      "      Name  Age  Salary\n",
      "0    Alice   24   50000\n",
      "1      Bob   30   60000\n",
      "2  Charlie   28   55000\n",
      "      Name  Age   Salary\n",
      "0    Alice   29  55000.0\n",
      "1      Bob   35  66000.0\n",
      "2  Charlie   33  60500.0\n"
     ]
    }
   ],
   "source": [
    "import pandas as pd\n",
    "\n",
    "data = {\n",
    "    'Name': ['Alice', 'Bob', 'Charlie'],\n",
    "    'Age': [24, 30, 28],\n",
    "    'Salary': [50000, 60000, 55000]\n",
    "}\n",
    "df = pd.DataFrame(data)\n",
    "print(df)\n",
    "\n",
    "# Increase all salaries by 10%\n",
    "df['Salary'] = df['Salary'] * 1.10\n",
    "\n",
    "# Add 5 years to everyone’s age\n",
    "df['Age'] = df['Age'] + 5\n",
    "print(df)"
   ]
  },
  {
   "cell_type": "markdown",
   "metadata": {
    "id": "uUXQ9Iodcx3U"
   },
   "source": [
    "## Arithmetic Between Columns\n",
    "You can also perform arithmetic between two or more columns to create new features."
   ]
  },
  {
   "cell_type": "code",
   "execution_count": 3,
   "metadata": {
    "colab": {
     "base_uri": "https://localhost:8080/"
    },
    "id": "fTt6nukjc2NT",
    "outputId": "0ded6da3-4587-4ee7-e47a-e947733868b0"
   },
   "outputs": [
    {
     "name": "stdout",
     "output_type": "stream",
     "text": [
      "      Name  Age   Salary  Income_per_Age\n",
      "0    Alice   29  55000.0     1896.551724\n",
      "1      Bob   35  66000.0     1885.714286\n",
      "2  Charlie   33  60500.0     1833.333333\n"
     ]
    }
   ],
   "source": [
    "# Create a new column 'Income_per_Age'\n",
    "df['Income_per_Age'] = df['Salary'] / df['Age']\n",
    "print(df)"
   ]
  },
  {
   "cell_type": "markdown",
   "metadata": {
    "id": "IxIFiA4ic7DW"
   },
   "source": [
    "# Applying Built-in Pandas/Numpy Functions\n",
    "\n",
    "Pandas integrates with NumPy functions, allowing you to apply common statistics directly.\n"
   ]
  },
  {
   "cell_type": "code",
   "execution_count": 4,
   "metadata": {
    "colab": {
     "base_uri": "https://localhost:8080/"
    },
    "id": "42HA1XToc_h8",
    "outputId": "64f3b3e3-dcac-4abc-d793-2e2ba56f6a83"
   },
   "outputs": [
    {
     "name": "stdout",
     "output_type": "stream",
     "text": [
      "60500.0\n",
      "3.0550504633038935\n",
      "0    5.385165\n",
      "1    5.916080\n",
      "2    5.744563\n",
      "Name: Age, dtype: float64\n"
     ]
    }
   ],
   "source": [
    "import numpy as np\n",
    "\n",
    "# Calculate average salary\n",
    "print(df['Salary'].mean())\n",
    "\n",
    "# Standard deviation of Age\n",
    "print(df['Age'].std())\n",
    "\n",
    "# Apply numpy square root\n",
    "print(np.sqrt(df['Age']))"
   ]
  },
  {
   "cell_type": "markdown",
   "metadata": {
    "id": "2kyj2xDbc-n7"
   },
   "source": [
    "### Applying Functions with **apply()**\n",
    "\n",
    "Sometimes you need custom transformations. The apply() method lets you apply a function to an entire column (Series) or to each row/column in a DataFrame.\n"
   ]
  },
  {
   "cell_type": "code",
   "execution_count": 5,
   "metadata": {
    "colab": {
     "base_uri": "https://localhost:8080/"
    },
    "id": "CI_UGGeidXH9",
    "outputId": "822ce9b0-816f-4e7d-e913-f7c1d4499b04"
   },
   "outputs": [
    {
     "name": "stdout",
     "output_type": "stream",
     "text": [
      "      Name  Age   Salary  Income_per_Age  Age_squared    Total\n",
      "0    Alice   29  55000.0     1896.551724          841  55029.0\n",
      "1      Bob   35  66000.0     1885.714286         1225  66035.0\n",
      "2  Charlie   33  60500.0     1833.333333         1089  60533.0\n"
     ]
    }
   ],
   "source": [
    "# Apply to a Series\n",
    "df['Age_squared'] = df['Age'].apply(lambda x: x**2)\n",
    "\n",
    "# Apply to DataFrame across rows\n",
    "df['Total'] = df[['Age','Salary']].apply(lambda row: row['Age'] + row['Salary'], axis=1)\n",
    "print(df)"
   ]
  },
  {
   "cell_type": "markdown",
   "metadata": {
    "id": "k5ZTacVnucQQ"
   },
   "source": [
    "Note that, we can also apply a Function Elementwise with applymap() and to a Single Column with map() but not covering in this course."
   ]
  },
  {
   "cell_type": "markdown",
   "metadata": {
    "id": "fyVTfiKTeI04"
   },
   "source": [
    "# Filtering Data in Pandas\n",
    "\n",
    "Once you know how to select columns and rows, the next step is learning how to filter data. Filtering helps you focus on only the relevant part of your dataset, whether that means removing unnecessary columns, isolating rows that meet certain conditions, or preparing features for modeling.\n",
    "\n",
    "## Filtering Columns\n",
    "\n",
    "Column filtering is about selecting only the columns you need or dropping the ones you don’t. This reduces memory usage and keeps your DataFrame manageable."
   ]
  },
  {
   "cell_type": "code",
   "execution_count": 6,
   "metadata": {
    "colab": {
     "base_uri": "https://localhost:8080/",
     "height": 143
    },
    "id": "c4v3yYEUeGOK",
    "outputId": "22c07675-6ac1-42d9-969d-b4adb206b4c7"
   },
   "outputs": [
    {
     "data": {
      "text/html": [
       "<div>\n",
       "<style scoped>\n",
       "    .dataframe tbody tr th:only-of-type {\n",
       "        vertical-align: middle;\n",
       "    }\n",
       "\n",
       "    .dataframe tbody tr th {\n",
       "        vertical-align: top;\n",
       "    }\n",
       "\n",
       "    .dataframe thead th {\n",
       "        text-align: right;\n",
       "    }\n",
       "</style>\n",
       "<table border=\"1\" class=\"dataframe\">\n",
       "  <thead>\n",
       "    <tr style=\"text-align: right;\">\n",
       "      <th></th>\n",
       "      <th>Name</th>\n",
       "      <th>Age</th>\n",
       "    </tr>\n",
       "  </thead>\n",
       "  <tbody>\n",
       "    <tr>\n",
       "      <th>0</th>\n",
       "      <td>Alice</td>\n",
       "      <td>29</td>\n",
       "    </tr>\n",
       "    <tr>\n",
       "      <th>1</th>\n",
       "      <td>Bob</td>\n",
       "      <td>35</td>\n",
       "    </tr>\n",
       "    <tr>\n",
       "      <th>2</th>\n",
       "      <td>Charlie</td>\n",
       "      <td>33</td>\n",
       "    </tr>\n",
       "  </tbody>\n",
       "</table>\n",
       "</div>"
      ],
      "text/plain": [
       "      Name  Age\n",
       "0    Alice   29\n",
       "1      Bob   35\n",
       "2  Charlie   33"
      ]
     },
     "execution_count": 6,
     "metadata": {},
     "output_type": "execute_result"
    }
   ],
   "source": [
    "# Select a single column\n",
    "df['Age']\n",
    "\n",
    "# Select multiple columns\n",
    "df[['Name', 'Age']]\n",
    "\n"
   ]
  },
  {
   "cell_type": "markdown",
   "metadata": {},
   "source": [
    "## Dropping Unused Columns"
   ]
  },
  {
   "cell_type": "code",
   "execution_count": null,
   "metadata": {},
   "outputs": [],
   "source": [
    "# Drop the 'Age_squared' column\n",
    "df = df.drop(columns=['Age_squared'])\n",
    "print(df)"
   ]
  },
  {
   "cell_type": "markdown",
   "metadata": {},
   "source": [
    "This is especially useful when preparing data for machine learning, where only selected features are required."
   ]
  },
  {
   "cell_type": "markdown",
   "metadata": {},
   "source": [
    "## Filtering Rows (using Boolean Indexing)\n",
    "\n",
    "Row filtering is usually done with Boolean indexing, where you apply a condition and return only the rows where that condition is true."
   ]
  },
  {
   "cell_type": "code",
   "execution_count": null,
   "metadata": {},
   "outputs": [],
   "source": [
    "# Filter rows where Age > 30\n",
    "df[df['Age'] > 30]"
   ]
  },
  {
   "cell_type": "markdown",
   "metadata": {},
   "source": [
    "## Combining Multiple Conditions\n",
    "You can combine conditions using & (and) or | (or)."
   ]
  },
  {
   "cell_type": "code",
   "execution_count": null,
   "metadata": {},
   "outputs": [],
   "source": [
    "# Filter rows where Age > 30 AND Salary > 60000\n",
    "df[(df['Age'] > 30) & (df['Salary'] > 60000)]"
   ]
  },
  {
   "cell_type": "markdown",
   "metadata": {},
   "source": [
    "> Remember to wrap each condition in parentheses."
   ]
  },
  {
   "cell_type": "markdown",
   "metadata": {},
   "source": [
    "## Filtering Strings\n",
    "\n",
    "You can filter rows where a text column contains specific values"
   ]
  },
  {
   "cell_type": "code",
   "execution_count": null,
   "metadata": {},
   "outputs": [],
   "source": [
    "# Filter rows where Name contains \"Bob\"\n",
    "df[df['Name'].str.contains(\"Bob\")]"
   ]
  },
  {
   "cell_type": "markdown",
   "metadata": {},
   "source": [
    "## Unique Values and Counting\n",
    "\n",
    "Sometimes you want to check how many unique values a column has, or count how often each appears."
   ]
  },
  {
   "cell_type": "code",
   "execution_count": null,
   "metadata": {},
   "outputs": [],
   "source": [
    "# Unique names\n",
    "print(df['Name'].unique())\n",
    "\n",
    "# Count frequency of each name\n",
    "print(df['Name'].value_counts())\n"
   ]
  }
 ],
 "metadata": {
  "colab": {
   "provenance": []
  },
  "kernelspec": {
   "display_name": "Python 3 (ipykernel)",
   "language": "python",
   "name": "python3"
  },
  "language_info": {
   "codemirror_mode": {
    "name": "ipython",
    "version": 3
   },
   "file_extension": ".py",
   "mimetype": "text/x-python",
   "name": "python",
   "nbconvert_exporter": "python",
   "pygments_lexer": "ipython3",
   "version": "3.9.12"
  }
 },
 "nbformat": 4,
 "nbformat_minor": 4
}
