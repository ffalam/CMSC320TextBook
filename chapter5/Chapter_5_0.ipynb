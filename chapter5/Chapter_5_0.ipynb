{
 "cells": [
  {
   "cell_type": "markdown",
   "source": [
    "# What is Pandas?\n",
    "\n",
    "Pandas is a powerful open-source Python library that provides high-performance, easy-to-use data structures and data analysis tools. The name \"pandas\" comes from \"panel data,\" a term used in econometrics to describe multi-dimensional data. Developed by Wes McKinney in 2008, pandas has become the cornerstone of data manipulation and analysis in the Python ecosystem.\n",
    "\n",
    "At its core, Pandas helps you:\n",
    "\n",
    "* Load, clean, and transform datasets.\n",
    "\n",
    "* Perform statistical operations efficiently.\n",
    "\n",
    "* Handle missing or inconsistent data.\n",
    "\n",
    "* Merge, reshape, and aggregate large datasets.\n",
    "\n",
    "If you have ever worked with spreadsheets in Excel, Pandas offers similar functionality\u2014but with far greater power, speed, and scalability."
   ],
   "metadata": {
    "id": "U2-w0-OAkBxi"
   }
  },
  {
   "cell_type": "markdown",
   "source": [
    "# Why Use Pandas?\n",
    "Before pandas, data analysis in Python was cumbersome and required jumping between different libraries. Python users relied heavily on lists, dictionaries, and NumPy arrays for handling structured data. While these tools are powerful, they lack built-in functionality for common tasks like handling missing values, grouping data, or joining tables. Pandas solved this by providing:\n",
    "\n",
    "* **Intuitive data structures:** DataFrames and Series that feel familiar to users from various backgrounds, useful for for working with tabular and one-dimensional data.\n",
    "\n",
    "* **Seamless integration:** Works beautifully with other Python data science libraries (NumPy, Matplotlib, etc).\n",
    "\n",
    "* **Powerful data manipulation:** Easy filtering, grouping, and transformation of data\n",
    "\n",
    "* **Performance:** Built on top of highly optimized C code for speed.\n",
    "\n",
    "* **Time series functionality:** Excellent support for working with time-based data\n",
    "\n",
    "* **Ease of Use:** Simplifies complex operations into a few lines of readable code."
   ],
   "metadata": {
    "id": "mV4MSckXks2l"
   }
  },
  {
   "cell_type": "markdown",
   "source": [
    "# Installing Pandas\n",
    "\n",
    "Before using Pandas, you need to install it. If you are using Anaconda, Pandas comes pre-installed. Otherwise, you can install it with:\n",
    "\n",
    "> pip install pandas\n",
    "\n",
    "Or if you're using Anaconda:\n",
    "\n",
    "\n",
    "> conda install pandas\n",
    "\n",
    "\n",
    "To confirm the installation, open a Python shell and type:\n",
    "\n",
    "> import pandas as pd\n",
    "> print(pd.__version__)"
   ],
   "metadata": {
    "id": "3BeHtdh2l1j3"
   }
  },
  {
   "cell_type": "markdown",
   "source": [
    "#Loading Data with Pandas\n",
    "\n",
    "One of Pandas\u2019 biggest strengths is its ability to easily import/export datasets from multiple formats:\n",
    "\n",
    "* **CSV:** pd.read_csv(\"file.csv\")\n",
    "\n",
    "* **Excel:** pd.read_excel(\"file.xlsx\")\n",
    "\n",
    "* **SQL Databases:** pd.read_sql(query, connection)\n",
    "\n",
    "* **JSON:** pd.read_json(\"file.json\")\n"
   ],
   "metadata": {
    "id": "cdPUUchKrIqj"
   }
  },
  {
   "cell_type": "code",
   "source": [
    "#Example:\n",
    "import pandas as pd\n",
    "\n",
    "df = pd.read_csv(\"students.csv\")\n",
    "print(df.head())   # Displays first 5 rows"
   ],
   "metadata": {
    "id": "n-NYVONnrjL7",
    "colab": {
     "base_uri": "https://localhost:8080/"
    },
    "outputId": "1999f678-9515-48f3-ae85-3c05435da7b7"
   },
   "execution_count": 2,
   "outputs": [
    {
     "output_type": "stream",
     "name": "stdout",
     "text": [
      "   Unnamed: 0 default student      balance        income\n",
      "0           1      No      No   729.526495  44361.625074\n",
      "1           2      No     Yes   817.180407  12106.134700\n",
      "2           3      No      No  1073.549164  31767.138947\n",
      "3           4      No      No   529.250605  35704.493935\n",
      "4           5      No      No   785.655883  38463.495879\n"
     ]
    }
   ]
  },
  {
   "cell_type": "markdown",
   "source": [
    "# Core Data Structures\n",
    "The strength of Pandas lies in two core objects:\n",
    "1.   **Series:** A one-dimensional labeled array\n",
    "2.   **Dataframe:** A two-dimensional labeled data structure\n",
    "\n",
    "<center>\n",
    "<img src=\"https://miro.medium.com/v2/resize:fit:1400/0*TB7RB0d21huRNGjI.png\" alt=\"Pandas Illustration\" width=\"600\">\n",
    "</center>\n",
    "\n",
    "\n",
    "\n",
    "\n",
    "\n",
    "\n"
   ],
   "metadata": {
    "id": "I5QjXvv_l9KZ"
   }
  },
  {
   "cell_type": "markdown",
   "source": [
    "## Series: The One-Dimensional Workhorse\n",
    "A Series is a one-dimensional labeled array that can hold any data type. Think of it as a single column in a spreadsheet.\n",
    "\n",
    "\n",
    "<center>\n",
    "<img src=\"https://www.w3resource.com/w3r_images/pandas-series-add-image-3.svg\" alt=\"Pandas Series\">\n",
    "</center>\n",
    "\n",
    "Unlike some arrays that require all elements to be the same type (homogeneous), a Series can store different types of values together, such as numbers, text, or dates. Each value has a label called an index, which can be numbers, words, or timestamps, and you can use it to quickly find or select values. Here are some examples:"
   ],
   "metadata": {
    "id": "VgO7nuQpnOxV"
   }
  },
  {
   "cell_type": "markdown",
   "source": [
    "### How to Create a Series\n",
    "\n",
    "A Series can be created directly from a ***Python list***, in which case pandas automatically assigns default numeric indexes (0, 1, 2, \u2026) to each element.\n",
    "\n",
    "You can also create a Series from a ***Python dictionary***, where the dictionary keys become the index labels and the dictionary values become the Series values. In Python 3.7 and later, the order of the keys is preserved, so the Series keeps the same order as the dictionary"
   ],
   "metadata": {
    "id": "P4uke3mlW93A"
   }
  },
  {
   "cell_type": "code",
   "source": [
    "import pandas as pd\n",
    "\n",
    "# Creating a Series from a list\n",
    "temperatures = pd.Series([22, 25, 18, 30, 27],\n",
    "                        index=['Mon', 'Tue', 'Wed', 'Thu', 'Fri'],\n",
    "                        name='Daily_Temps')\n",
    "print(temperatures)\n",
    "\n",
    "\n",
    "# Creating a Series from a Dictionary\n",
    "\n",
    "grades = {\"Math\": 90, \"English\": 85, \"Science\": 95}\n",
    "dict_series = pd.Series(grades)\n",
    "\n",
    "print(dict_series)"
   ],
   "metadata": {
    "id": "wCazvqBBnShP",
    "colab": {
     "base_uri": "https://localhost:8080/"
    },
    "outputId": "9175202a-6edf-4f94-9b7b-54d0734dba30"
   },
   "execution_count": 3,
   "outputs": [
    {
     "output_type": "stream",
     "name": "stdout",
     "text": [
      "Mon    22\n",
      "Tue    25\n",
      "Wed    18\n",
      "Thu    30\n",
      "Fri    27\n",
      "Name: Daily_Temps, dtype: int64\n",
      "Math       90\n",
      "English    85\n",
      "Science    95\n",
      "dtype: int64\n"
     ]
    }
   ]
  },
  {
   "cell_type": "code",
   "source": [
    "import pandas as pd\n",
    "\n",
    "# Homogeneous Series (all integers)\n",
    "print(\"Homogeneous Series \\n\")\n",
    "homo_series = pd.Series([10, 20, 30, 40], index=['A', 'B', 'C', 'D'])\n",
    "print(homo_series)\n",
    "print(f\"The data type is: {homo_series.dtype}\\n\")\n",
    "\n",
    "# Heterogeneous Series (mix of int, float, string, bool)\n",
    "print(\"Heterogeneous Series \\n\")\n",
    "hetero_series = pd.Series([10, 20.5, 'hello', True])\n",
    "print(hetero_series)\n",
    "print(f\"The data type is: {hetero_series.dtype}\")"
   ],
   "metadata": {
    "id": "wtdoPr2kncL9",
    "colab": {
     "base_uri": "https://localhost:8080/"
    },
    "outputId": "d524eaf5-35c7-436f-e4b1-4ae72d56f750"
   },
   "execution_count": 4,
   "outputs": [
    {
     "output_type": "stream",
     "name": "stdout",
     "text": [
      "Homogeneous Series \n",
      "\n",
      "A    10\n",
      "B    20\n",
      "C    30\n",
      "D    40\n",
      "dtype: int64\n",
      "The data type is: int64\n",
      "\n",
      "Heterogeneous Series \n",
      "\n",
      "0       10\n",
      "1     20.5\n",
      "2    hello\n",
      "3     True\n",
      "dtype: object\n",
      "The data type is: object\n"
     ]
    }
   ]
  }
 ],
 "metadata": {
  "colab": {
   "provenance": []
  },
  "kernelspec": {
   "name": "python3",
   "display_name": "Python 3"
  },
  "language_info": {
   "name": "python"
  }
 },
 "nbformat": 4,
 "nbformat_minor": 0
}