{
  "cells": [
    {
      "cell_type": "markdown",
      "metadata": {
        "id": "U2-w0-OAkBxi"
      },
      "source": [
        "# What is Pandas?\n",
        "\n",
        "Pandas is a powerful open-source Python library that provides high-performance, easy-to-use data structures and data analysis tools. The name \"pandas\" comes from \"panel data,\" a term used in econometrics to describe multi-dimensional data. Developed by Wes McKinney in 2008, pandas has become the cornerstone of data manipulation and analysis in the Python ecosystem.\n",
        "\n",
        "At its core, Pandas helps you:\n",
        "\n",
        "* Load, clean, and transform datasets.\n",
        "\n",
        "* Perform statistical operations efficiently.\n",
        "\n",
        "* Handle missing or inconsistent data.\n",
        "\n",
        "* Merge, reshape, and aggregate large datasets.\n",
        "\n",
        "If you have ever worked with spreadsheets in Excel, Pandas offers similar functionality—but with far greater power, speed, and scalability."
      ]
    },
    {
      "cell_type": "markdown",
      "metadata": {
        "id": "mV4MSckXks2l"
      },
      "source": [
        "#Why Use Pandas?\n",
        "Before pandas, data analysis in Python was cumbersome and required jumping between different libraries. Python users relied heavily on lists, dictionaries, and NumPy arrays for handling structured data. While these tools are powerful, they lack built-in functionality for common tasks like handling missing values, grouping data, or joining tables. Pandas solved this by providing:\n",
        "\n",
        "* **Intuitive data structures:** DataFrames and Series that feel familiar to users from various backgrounds, useful for for working with tabular and one-dimensional data.\n",
        "\n",
        "* **Seamless integration:** Works beautifully with other Python data science libraries (NumPy, Matplotlib, etc).\n",
        "\n",
        "* **Powerful data manipulation:** Easy filtering, grouping, and transformation of data\n",
        "\n",
        "* **Performance:** Built on top of highly optimized C code for speed.\n",
        "\n",
        "* **Time series functionality:** Excellent support for working with time-based data\n",
        "\n",
        "* **Ease of Use:** Simplifies complex operations into a few lines of readable code."
      ]
    },
    {
      "cell_type": "markdown",
      "metadata": {
        "id": "3BeHtdh2l1j3"
      },
      "source": [
        "# Installing Pandas\n",
        "\n",
        "Before using Pandas, you need to install it. If you are using Anaconda, Pandas comes pre-installed. Otherwise, you can install it with:\n",
        "\n",
        "> pip install pandas\n",
        "\n",
        "Or if you're using Anaconda:\n",
        "\n",
        "\n",
        "> conda install pandas\n",
        "\n",
        "\n",
        "To confirm the installation, open a Python shell and type:\n",
        "\n",
        "> import pandas as pd\n",
        "> print(pd.__version__)"
      ]
    },
    {
      "cell_type": "markdown",
      "metadata": {
        "id": "cdPUUchKrIqj"
      },
      "source": [
        "#Loading Data with Pandas\n",
        "\n",
        "One of Pandas’ biggest strengths is its ability to easily import/export datasets from multiple formats:\n",
        "\n",
        "* **CSV:** pd.read_csv(\"file.csv\")\n",
        "\n",
        "* **Excel:** pd.read_excel(\"file.xlsx\")\n",
        "\n",
        "* **SQL Databases:** pd.read_sql(query, connection)\n",
        "\n",
        "* **JSON:** pd.read_json(\"file.json\")\n"
      ]
    },
    {
      "cell_type": "code",
      "execution_count": null,
      "metadata": {
        "id": "n-NYVONnrjL7"
      },
      "outputs": [],
      "source": [
        "#Example:\n",
        "\n",
        "df = pd.read_csv(\"students.csv\")\n",
        "print(df.head())   # Displays first 5 rows"
      ]
    },
    {
      "cell_type": "markdown",
      "metadata": {
        "id": "I5QjXvv_l9KZ"
      },
      "source": [
        "# Core Data Structures\n",
        "The strength of Pandas lies in two core objects:\n",
        "1.   **Series:** A one-dimensional labeled array\n",
        "2.   **Dataframe:** A two-dimensional labeled data structure\n",
        "\n",
        "<center>\n",
        "<img src=\"https://miro.medium.com/v2/resize:fit:1400/0*TB7RB0d21huRNGjI.png\" alt=\"Pandas Illustration\" width=\"600\">\n",
        "</center>\n",
        "\n",
        "\n",
        "\n",
        "\n",
        "\n",
        "\n"
      ]
    },
    {
      "cell_type": "markdown",
      "metadata": {
        "id": "VgO7nuQpnOxV"
      },
      "source": [
        "## Series: The One-Dimensional Workhorse\n",
        "A Series is a one-dimensional labeled array that can hold any data type. Think of it as a single column in a spreadsheet.\n",
        "\n",
        "<center>\n",
        "<img src=\"https://www.w3resource.com/w3r_images/pandas-series-add-image-3.svg\" alt=\"Pandas Series\">\n",
        "</center>\n",
        "\n",
        "\n",
        "Here are some examples:"
      ]
    },
    {
      "cell_type": "code",
      "execution_count": null,
      "metadata": {
        "colab": {
          "base_uri": "https://localhost:8080/"
        },
        "id": "wtdoPr2kncL9",
        "outputId": "1b17ea8a-79fb-4dac-d922-7432e4a2aa0a"
      },
      "outputs": [
        {
          "name": "stdout",
          "output_type": "stream",
          "text": [
            "A    10\n",
            "B    20\n",
            "C    30\n",
            "D    40\n",
            "dtype: int64\n"
          ]
        }
      ],
      "source": [
        "import pandas as pd\n",
        "\n",
        "data = pd.Series([10, 20, 30, 40], index=['A', 'B', 'C', 'D'])\n",
        "print(data)"
      ]
    },
    {
      "cell_type": "code",
      "execution_count": null,
      "metadata": {
        "colab": {
          "base_uri": "https://localhost:8080/"
        },
        "id": "wCazvqBBnShP",
        "outputId": "79285864-5e35-4fba-e66e-f4fb856cb238"
      },
      "outputs": [
        {
          "name": "stdout",
          "output_type": "stream",
          "text": [
            "Mon    22\n",
            "Tue    25\n",
            "Wed    18\n",
            "Thu    30\n",
            "Fri    27\n",
            "Name: Daily_Temps, dtype: int64\n"
          ]
        }
      ],
      "source": [
        "import pandas as pd\n",
        "\n",
        "# Creating a Series from a list\n",
        "temperatures = pd.Series([22, 25, 18, 30, 27],\n",
        "                        index=['Mon', 'Tue', 'Wed', 'Thu', 'Fri'],\n",
        "                        name='Daily_Temps')\n",
        "print(temperatures)"
      ]
    },
    {
      "cell_type": "markdown",
      "metadata": {
        "id": "jFBCUx8cm8YG"
      },
      "source": []
    }
  ],
  "metadata": {
    "colab": {
      "provenance": []
    },
    "kernelspec": {
      "display_name": "Python 3",
      "name": "python3"
    },
    "language_info": {
      "name": "python"
    }
  },
  "nbformat": 4,
  "nbformat_minor": 0
}
