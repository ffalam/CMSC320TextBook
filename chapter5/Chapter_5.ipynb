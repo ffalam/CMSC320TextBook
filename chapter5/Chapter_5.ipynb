{
  "nbformat": 4,
  "nbformat_minor": 0,
  "metadata": {
    "colab": {
      "provenance": []
    },
    "kernelspec": {
      "name": "python3",
      "display_name": "Python 3"
    },
    "language_info": {
      "name": "python"
    }
  },
  "cells": [
    {
      "cell_type": "markdown",
      "source": [
        "# What is Pandas?\n",
        "\n",
        "Pandas is a powerful open-source Python library that provides high-performance, easy-to-use data structures and data analysis tools. The name \"pandas\" comes from \"panel data,\" a term used in econometrics to describe multi-dimensional data. Developed by Wes McKinney in 2008, pandas has become the cornerstone of data manipulation and analysis in the Python ecosystem.\n",
        "\n",
        "At its core, Pandas helps you:\n",
        "\n",
        "* Load, clean, and transform datasets.\n",
        "\n",
        "* Perform statistical operations efficiently.\n",
        "\n",
        "* Handle missing or inconsistent data.\n",
        "\n",
        "* Merge, reshape, and aggregate large datasets.\n",
        "\n",
        "If you have ever worked with spreadsheets in Excel, Pandas offers similar functionality—but with far greater power, speed, and scalability."
      ],
      "metadata": {
        "id": "U2-w0-OAkBxi"
      }
    },
    {
      "cell_type": "markdown",
      "source": [
        "# Why Use Pandas?\n",
        "Before pandas, data analysis in Python was cumbersome and required jumping between different libraries. Python users relied heavily on lists, dictionaries, and NumPy arrays for handling structured data. While these tools are powerful, they lack built-in functionality for common tasks like handling missing values, grouping data, or joining tables. Pandas solved this by providing:\n",
        "\n",
        "* **Intuitive data structures:** DataFrames and Series that feel familiar to users from various backgrounds, useful for for working with tabular and one-dimensional data.\n",
        "\n",
        "* **Seamless integration:** Works beautifully with other Python data science libraries (NumPy, Matplotlib, etc).\n",
        "\n",
        "* **Powerful data manipulation:** Easy filtering, grouping, and transformation of data\n",
        "\n",
        "* **Performance:** Built on top of highly optimized C code for speed.\n",
        "\n",
        "* **Time series functionality:** Excellent support for working with time-based data\n",
        "\n",
        "* **Ease of Use:** Simplifies complex operations into a few lines of readable code."
      ],
      "metadata": {
        "id": "mV4MSckXks2l"
      }
    },
    {
      "cell_type": "markdown",
      "source": [
        "# Installing Pandas\n",
        "\n",
        "Before using Pandas, you need to install it. If you are using Anaconda, Pandas comes pre-installed. Otherwise, you can install it with:\n",
        "\n",
        "> pip install pandas\n",
        "\n",
        "Or if you're using Anaconda:\n",
        "\n",
        "\n",
        "> conda install pandas\n",
        "\n",
        "\n",
        "To confirm the installation, open a Python shell and type:\n",
        "\n",
        "> import pandas as pd\n",
        "> print(pd.__version__)"
      ],
      "metadata": {
        "id": "3BeHtdh2l1j3"
      }
    },
    {
      "cell_type": "markdown",
      "source": [
        "#Loading Data with Pandas\n",
        "\n",
        "One of Pandas’ biggest strengths is its ability to easily import/export datasets from multiple formats:\n",
        "\n",
        "* **CSV:** pd.read_csv(\"file.csv\")\n",
        "\n",
        "* **Excel:** pd.read_excel(\"file.xlsx\")\n",
        "\n",
        "* **SQL Databases:** pd.read_sql(query, connection)\n",
        "\n",
        "* **JSON:** pd.read_json(\"file.json\")\n"
      ],
      "metadata": {
        "id": "cdPUUchKrIqj"
      }
    },
    {
      "cell_type": "code",
      "source": [
        "#Example:\n",
        "import pandas as pd\n",
        "\n",
        "df = pd.read_csv(\"students.csv\")\n",
        "print(df.head())   # Displays first 5 rows"
      ],
      "metadata": {
        "id": "n-NYVONnrjL7",
        "colab": {
          "base_uri": "https://localhost:8080/"
        },
        "outputId": "1999f678-9515-48f3-ae85-3c05435da7b7"
      },
      "execution_count": 2,
      "outputs": [
        {
          "output_type": "stream",
          "name": "stdout",
          "text": [
            "   Unnamed: 0 default student      balance        income\n",
            "0           1      No      No   729.526495  44361.625074\n",
            "1           2      No     Yes   817.180407  12106.134700\n",
            "2           3      No      No  1073.549164  31767.138947\n",
            "3           4      No      No   529.250605  35704.493935\n",
            "4           5      No      No   785.655883  38463.495879\n"
          ]
        }
      ]
    },
    {
      "cell_type": "markdown",
      "source": [
        "# Core Data Structures\n",
        "The strength of Pandas lies in two core objects:\n",
        "1.   **Series:** A one-dimensional labeled array\n",
        "2.   **Dataframe:** A two-dimensional labeled data structure\n",
        "\n",
        "<center>\n",
        "<img src=\"https://miro.medium.com/v2/resize:fit:1400/0*TB7RB0d21huRNGjI.png\" alt=\"Pandas Illustration\" width=\"600\">\n",
        "</center>\n",
        "\n",
        "\n",
        "\n",
        "\n",
        "\n",
        "\n"
      ],
      "metadata": {
        "id": "I5QjXvv_l9KZ"
      }
    },
    {
      "cell_type": "markdown",
      "source": [
        "## Series: The One-Dimensional Workhorse\n",
        "A Series is a one-dimensional labeled array that can hold any data type. Think of it as a single column in a spreadsheet.\n",
        "\n",
        "\n",
        "<center>\n",
        "<img src=\"https://www.w3resource.com/w3r_images/pandas-series-add-image-3.svg\" alt=\"Pandas Series\">\n",
        "</center>\n",
        "\n",
        "Unlike some arrays that require all elements to be the same type (homogeneous), a Series can store different types of values together, such as numbers, text, or dates. Each value has a label called an index, which can be numbers, words, or timestamps, and you can use it to quickly find or select values. Here are some examples:"
      ],
      "metadata": {
        "id": "VgO7nuQpnOxV"
      }
    },
    {
      "cell_type": "markdown",
      "source": [
        "### How to Create a Series\n",
        "\n",
        "A Series can be created directly from a ***Python list***, in which case pandas automatically assigns default numeric indexes (0, 1, 2, …) to each element.\n",
        "\n",
        "You can also create a Series from a ***Python dictionary***, where the dictionary keys become the index labels and the dictionary values become the Series values. In Python 3.7 and later, the order of the keys is preserved, so the Series keeps the same order as the dictionary"
      ],
      "metadata": {
        "id": "P4uke3mlW93A"
      }
    },
    {
      "cell_type": "code",
      "source": [
        "import pandas as pd\n",
        "\n",
        "# Creating a Series from a list\n",
        "temperatures = pd.Series([22, 25, 18, 30, 27],\n",
        "                        index=['Mon', 'Tue', 'Wed', 'Thu', 'Fri'],\n",
        "                        name='Daily_Temps')\n",
        "print(temperatures)\n",
        "\n",
        "\n",
        "# Creating a Series from a Dictionary\n",
        "\n",
        "grades = {\"Math\": 90, \"English\": 85, \"Science\": 95}\n",
        "dict_series = pd.Series(grades)\n",
        "\n",
        "print(dict_series)"
      ],
      "metadata": {
        "id": "wCazvqBBnShP",
        "colab": {
          "base_uri": "https://localhost:8080/"
        },
        "outputId": "9175202a-6edf-4f94-9b7b-54d0734dba30"
      },
      "execution_count": 3,
      "outputs": [
        {
          "output_type": "stream",
          "name": "stdout",
          "text": [
            "Mon    22\n",
            "Tue    25\n",
            "Wed    18\n",
            "Thu    30\n",
            "Fri    27\n",
            "Name: Daily_Temps, dtype: int64\n",
            "Math       90\n",
            "English    85\n",
            "Science    95\n",
            "dtype: int64\n"
          ]
        }
      ]
    },
    {
      "cell_type": "code",
      "source": [
        "import pandas as pd\n",
        "\n",
        "# Homogeneous Series (all integers)\n",
        "print(\"Homogeneous Series \\n\")\n",
        "homo_series = pd.Series([10, 20, 30, 40], index=['A', 'B', 'C', 'D'])\n",
        "print(homo_series)\n",
        "print(f\"The data type is: {homo_series.dtype}\\n\")\n",
        "\n",
        "# Heterogeneous Series (mix of int, float, string, bool)\n",
        "print(\"Heterogeneous Series \\n\")\n",
        "hetero_series = pd.Series([10, 20.5, 'hello', True])\n",
        "print(hetero_series)\n",
        "print(f\"The data type is: {hetero_series.dtype}\")"
      ],
      "metadata": {
        "id": "wtdoPr2kncL9",
        "colab": {
          "base_uri": "https://localhost:8080/"
        },
        "outputId": "d524eaf5-35c7-436f-e4b1-4ae72d56f750"
      },
      "execution_count": 4,
      "outputs": [
        {
          "output_type": "stream",
          "name": "stdout",
          "text": [
            "Homogeneous Series \n",
            "\n",
            "A    10\n",
            "B    20\n",
            "C    30\n",
            "D    40\n",
            "dtype: int64\n",
            "The data type is: int64\n",
            "\n",
            "Heterogeneous Series \n",
            "\n",
            "0       10\n",
            "1     20.5\n",
            "2    hello\n",
            "3     True\n",
            "dtype: object\n",
            "The data type is: object\n"
          ]
        }
      ]
    },
    {
      "cell_type": "markdown",
      "source": [
        "## DataFrame: The Two-Dimensional Powerhouse\n",
        "A DataFrame is a two-dimensional labeled data structure, similar to a table with rows and columns. It is the most commonly used object in Pandas.\n",
        "\n",
        "\n",
        "<center>\n",
        "<img src=\"https://pynative.com/wp-content/uploads/2021/02/dataframe.png\" alt=\"Pandas DF1\" width=\"500\">\n",
        "</center>\n",
        "\n",
        "\n",
        "<center>\n",
        "<img src=\"https://pynative.com/wp-content/uploads/2021/02/pandas-dataframe-from-dictionary.png\" alt=\"Pandas DF2\" width=\"500\">\n",
        "</center>\n",
        "\n",
        "Here are some examples:"
      ],
      "metadata": {
        "id": "S4xnJFzgnf4c"
      }
    },
    {
      "cell_type": "code",
      "source": [
        "# Creating a DataFrame from a dictionary\n",
        "data = {\n",
        "    'Name': ['Alice', 'Bob', 'Charlie', 'Diana'],\n",
        "    'Age': [25, 30, 35, 28],\n",
        "    'City': ['New York', 'London', 'Paris', 'Tokyo']\n",
        "}\n",
        "\n",
        "df = pd.DataFrame(data)\n",
        "print(df)"
      ],
      "metadata": {
        "id": "VtpO3KA-przT",
        "colab": {
          "base_uri": "https://localhost:8080/"
        },
        "outputId": "70059f12-2eb3-47fb-8aa6-f6838437f399"
      },
      "execution_count": 5,
      "outputs": [
        {
          "output_type": "stream",
          "name": "stdout",
          "text": [
            "      Name  Age      City\n",
            "0    Alice   25  New York\n",
            "1      Bob   30    London\n",
            "2  Charlie   35     Paris\n",
            "3    Diana   28     Tokyo\n"
          ]
        }
      ]
    },
    {
      "cell_type": "code",
      "source": [
        "import pandas as pd\n",
        "\n",
        "# Create a simple dataset\n",
        "data = {\n",
        "    'Product': ['Apple', 'Banana', 'Cherry', 'Date'],\n",
        "    'Price': [1.20, 0.50, 3.00, 2.50],\n",
        "    'Stock': [45, 120, 15, 80]\n",
        "}\n",
        "\n",
        "# Create DataFrame\n",
        "df = pd.DataFrame(data)\n",
        "\n",
        "# Display basic information\n",
        "print(\"Our DataFrame:\")\n",
        "print(df)\n",
        "print(\"\\nData types:\")\n",
        "print(df.dtypes)\n",
        "print(\"\\nBasic statistics:\")\n",
        "print(df.describe())"
      ],
      "metadata": {
        "id": "Cdf6__VHp2DD",
        "colab": {
          "base_uri": "https://localhost:8080/"
        },
        "outputId": "67ee796f-df48-4cee-81ae-cb25827d4a46"
      },
      "execution_count": 6,
      "outputs": [
        {
          "output_type": "stream",
          "name": "stdout",
          "text": [
            "Our DataFrame:\n",
            "  Product  Price  Stock\n",
            "0   Apple    1.2     45\n",
            "1  Banana    0.5    120\n",
            "2  Cherry    3.0     15\n",
            "3    Date    2.5     80\n",
            "\n",
            "Data types:\n",
            "Product     object\n",
            "Price      float64\n",
            "Stock        int64\n",
            "dtype: object\n",
            "\n",
            "Basic statistics:\n",
            "         Price       Stock\n",
            "count  4.00000    4.000000\n",
            "mean   1.80000   65.000000\n",
            "std    1.15181   45.276926\n",
            "min    0.50000   15.000000\n",
            "25%    1.02500   37.500000\n",
            "50%    1.85000   62.500000\n",
            "75%    2.62500   90.000000\n",
            "max    3.00000  120.000000\n"
          ]
        }
      ]
    },
    {
      "cell_type": "markdown",
      "source": [
        "# Pandas Basic Operations\n",
        "\n",
        "After reading tabular data as a DataFrame, you would need to have a glimpse of the data. Pandas makes it easy to explore and manipulate. A good first step is to inspect the dataset by previewing how many rows and columns it has, what the column names are, checking dimensions, or reviewing summary information such as data types and statistics. Pandas provides convenient methods for this.\n",
        "\n",
        "\n",
        "##Viewing/Exploring Data\n",
        "\n",
        "<!-- df.head()     # First 5 rows\n",
        "df.tail()     # Last 5 rows\n",
        "df.shape      # Number of rows and columns\n",
        "df.info()     # Data types and non-null values\n",
        "df.describe() # Summary statistics -->\n",
        "\n",
        "\n",
        "| Command         | Description                                                                                   | Default Behavior                    |\n",
        "| --------------- | --------------------------------------------------------------------------------------------- | ----------------------------------- |\n",
        "| `df.head()`     | Displays the **first rows** of the DataFrame. Useful for quickly previewing the dataset.      | Shows **5 rows**                    |\n",
        "| `df.tail()`     | Displays the **last rows** of the DataFrame. Handy for checking the dataset’s ending records. | Shows **5 rows**                    |\n",
        "| `df.shape`      | Returns a tuple `(rows, columns)` representing the **dimensions** of the DataFrame.           | N/A                                 |\n",
        "| `df.info()`     | Shows column names, **data types**, memory usage, and count of non-null values.               | N/A                                 |\n",
        "| `df.dtypes`     | Returns the **data type of each column** in the DataFrame.                                    | N/A                                 |\n",
        "| `df.describe()` | Provides **summary statistics** (mean, std, min, max, quartiles) for numeric columns.         | Includes numeric columns by default |\n",
        "\n",
        "\n",
        "\n",
        "<center>\n",
        "<img src=\"https://cdn.sanity.io/images/oaglaatp/production/b8add8dc0e1c0907a520e9cb2c8f511b0659726c-1200x600.png?w=1200&h=600&auto=format\" alt=\"Pandas DF3\" width=\"500\">\n",
        "</center>\n"
      ],
      "metadata": {
        "id": "J6cTd0FNsFs8"
      }
    },
    {
      "cell_type": "code",
      "source": [
        "import pandas as pd\n",
        "\n",
        "data = {\n",
        "    'Name': ['Alice', 'Bob', 'Charlie'],\n",
        "    'Age': [24, 30, 28],\n",
        "    'Salary': [50000, 60000, 55000]\n",
        "}\n",
        "df = pd.DataFrame(data)\n",
        "\n",
        "print(\"head\")\n",
        "print(df.head())\n",
        "print(\"shape\")\n",
        "print(df.shape)\n",
        "print(\"info\")\n",
        "print(df.info)\n"
      ],
      "metadata": {
        "id": "HT9PayZlbazn",
        "colab": {
          "base_uri": "https://localhost:8080/"
        },
        "outputId": "4a590093-972a-4d75-d7d2-67e78fbfe8bd"
      },
      "execution_count": 7,
      "outputs": [
        {
          "output_type": "stream",
          "name": "stdout",
          "text": [
            "head\n",
            "      Name  Age  Salary\n",
            "0    Alice   24   50000\n",
            "1      Bob   30   60000\n",
            "2  Charlie   28   55000\n",
            "shape\n",
            "(3, 3)\n",
            "info\n",
            "<bound method DataFrame.info of       Name  Age  Salary\n",
            "0    Alice   24   50000\n",
            "1      Bob   30   60000\n",
            "2  Charlie   28   55000>\n"
          ]
        }
      ]
    },
    {
      "cell_type": "markdown",
      "source": [
        "## Selecting and Indexing Data\n",
        "\n",
        "After inspecting the structure of a DataFrame, the next step is often to select specific rows and columns (specific parts of the data). Pandas provides several approaches depending on whether you want to select columns, rows, or filter data based on conditions. It lets you choose columns, rows, or both using labels (loc), integer positions (iloc), or conditions.\n",
        "\n",
        "###**1. Selecting Columns**\n",
        "\n",
        "| Command               | Description                                      |\n",
        "| --------------------- | ------------------------------------------------ |\n",
        "| `df['col']`           | Selects a **single column** as a Series.         |\n",
        "| `df[['col1','col2']]` | Selects **multiple columns** as a new DataFrame. |\n",
        "\n",
        "\n",
        "###**2. Selecting Rows**\n",
        "\n",
        "| Command              | Description                                  |\n",
        "| -------------------- | -------------------------------------------- |\n",
        "| `df.loc[row_label]`  | Select row(s) by **label** (index name).     |\n",
        "| `df.iloc[row_index]` | Select row(s) by **integer position**.       |\n",
        "| `df.loc[0, 'col']`   | Select a **specific value** by row & column. |\n",
        "\n",
        "\n",
        "\n",
        "###**3. Conditional Selection (Filtering)**\n",
        "\n",
        "| Command                                | Description                               |          |\n",
        "| -------------------------------------- | ----------------------------------------- | -------- |\n",
        "| `df[df['col'] > 50]`                   | Returns rows where condition is **True**. |          |\n",
        "| `df[(df['A'] > 50) & (df['B'] < 100)]` | Combine conditions with `&` (and), \\`     | \\` (or). |\n",
        "\n",
        "Follow is an example:"
      ],
      "metadata": {
        "id": "VtE3EapBt9FN"
      }
    },
    {
      "cell_type": "code",
      "source": [
        "\n",
        "import pandas as pd\n",
        "\n",
        "data = {\n",
        "    'Name': ['Alice', 'Bob', 'Charlie'],\n",
        "    'Age': [24, 30, 28],\n",
        "    'City': ['New York', 'Los Angeles', 'Chicago']\n",
        "}\n",
        "\n",
        "df = pd.DataFrame(data)\n",
        "print(df)\n",
        "\n",
        "# Now, to access the columns: Select columns\n",
        "df['Age']\n",
        "df[['Name', 'City']]\n",
        "\n",
        "# Select rows\n",
        "df.iloc[0]        # First row\n",
        "df.iloc[1:3]      # Rows 1–2\n",
        "df.loc[0, 'Name'] # Specific cell\n",
        "\n",
        "# Conditional selection\n",
        "df[df['Age'] > 30]\n",
        "df[(df['Age'] > 30) & (df['City'] == 'Chicago')]\n"
      ],
      "metadata": {
        "id": "tPmdaajLuY1B",
        "colab": {
          "base_uri": "https://localhost:8080/",
          "height": 124
        },
        "outputId": "95d3f7e0-a88a-48e8-9895-000debe62554"
      },
      "execution_count": 8,
      "outputs": [
        {
          "output_type": "stream",
          "name": "stdout",
          "text": [
            "      Name  Age         City\n",
            "0    Alice   24     New York\n",
            "1      Bob   30  Los Angeles\n",
            "2  Charlie   28      Chicago\n"
          ]
        },
        {
          "output_type": "execute_result",
          "data": {
            "text/plain": [
              "Empty DataFrame\n",
              "Columns: [Name, Age, City]\n",
              "Index: []"
            ],
            "text/html": [
              "\n",
              "  <div id=\"df-0b3d81b7-67d4-454a-97df-1389528eff1e\" class=\"colab-df-container\">\n",
              "    <div>\n",
              "<style scoped>\n",
              "    .dataframe tbody tr th:only-of-type {\n",
              "        vertical-align: middle;\n",
              "    }\n",
              "\n",
              "    .dataframe tbody tr th {\n",
              "        vertical-align: top;\n",
              "    }\n",
              "\n",
              "    .dataframe thead th {\n",
              "        text-align: right;\n",
              "    }\n",
              "</style>\n",
              "<table border=\"1\" class=\"dataframe\">\n",
              "  <thead>\n",
              "    <tr style=\"text-align: right;\">\n",
              "      <th></th>\n",
              "      <th>Name</th>\n",
              "      <th>Age</th>\n",
              "      <th>City</th>\n",
              "    </tr>\n",
              "  </thead>\n",
              "  <tbody>\n",
              "  </tbody>\n",
              "</table>\n",
              "</div>\n",
              "    <div class=\"colab-df-buttons\">\n",
              "\n",
              "  <div class=\"colab-df-container\">\n",
              "    <button class=\"colab-df-convert\" onclick=\"convertToInteractive('df-0b3d81b7-67d4-454a-97df-1389528eff1e')\"\n",
              "            title=\"Convert this dataframe to an interactive table.\"\n",
              "            style=\"display:none;\">\n",
              "\n",
              "  <svg xmlns=\"http://www.w3.org/2000/svg\" height=\"24px\" viewBox=\"0 -960 960 960\">\n",
              "    <path d=\"M120-120v-720h720v720H120Zm60-500h600v-160H180v160Zm220 220h160v-160H400v160Zm0 220h160v-160H400v160ZM180-400h160v-160H180v160Zm440 0h160v-160H620v160ZM180-180h160v-160H180v160Zm440 0h160v-160H620v160Z\"/>\n",
              "  </svg>\n",
              "    </button>\n",
              "\n",
              "  <style>\n",
              "    .colab-df-container {\n",
              "      display:flex;\n",
              "      gap: 12px;\n",
              "    }\n",
              "\n",
              "    .colab-df-convert {\n",
              "      background-color: #E8F0FE;\n",
              "      border: none;\n",
              "      border-radius: 50%;\n",
              "      cursor: pointer;\n",
              "      display: none;\n",
              "      fill: #1967D2;\n",
              "      height: 32px;\n",
              "      padding: 0 0 0 0;\n",
              "      width: 32px;\n",
              "    }\n",
              "\n",
              "    .colab-df-convert:hover {\n",
              "      background-color: #E2EBFA;\n",
              "      box-shadow: 0px 1px 2px rgba(60, 64, 67, 0.3), 0px 1px 3px 1px rgba(60, 64, 67, 0.15);\n",
              "      fill: #174EA6;\n",
              "    }\n",
              "\n",
              "    .colab-df-buttons div {\n",
              "      margin-bottom: 4px;\n",
              "    }\n",
              "\n",
              "    [theme=dark] .colab-df-convert {\n",
              "      background-color: #3B4455;\n",
              "      fill: #D2E3FC;\n",
              "    }\n",
              "\n",
              "    [theme=dark] .colab-df-convert:hover {\n",
              "      background-color: #434B5C;\n",
              "      box-shadow: 0px 1px 3px 1px rgba(0, 0, 0, 0.15);\n",
              "      filter: drop-shadow(0px 1px 2px rgba(0, 0, 0, 0.3));\n",
              "      fill: #FFFFFF;\n",
              "    }\n",
              "  </style>\n",
              "\n",
              "    <script>\n",
              "      const buttonEl =\n",
              "        document.querySelector('#df-0b3d81b7-67d4-454a-97df-1389528eff1e button.colab-df-convert');\n",
              "      buttonEl.style.display =\n",
              "        google.colab.kernel.accessAllowed ? 'block' : 'none';\n",
              "\n",
              "      async function convertToInteractive(key) {\n",
              "        const element = document.querySelector('#df-0b3d81b7-67d4-454a-97df-1389528eff1e');\n",
              "        const dataTable =\n",
              "          await google.colab.kernel.invokeFunction('convertToInteractive',\n",
              "                                                    [key], {});\n",
              "        if (!dataTable) return;\n",
              "\n",
              "        const docLinkHtml = 'Like what you see? Visit the ' +\n",
              "          '<a target=\"_blank\" href=https://colab.research.google.com/notebooks/data_table.ipynb>data table notebook</a>'\n",
              "          + ' to learn more about interactive tables.';\n",
              "        element.innerHTML = '';\n",
              "        dataTable['output_type'] = 'display_data';\n",
              "        await google.colab.output.renderOutput(dataTable, element);\n",
              "        const docLink = document.createElement('div');\n",
              "        docLink.innerHTML = docLinkHtml;\n",
              "        element.appendChild(docLink);\n",
              "      }\n",
              "    </script>\n",
              "  </div>\n",
              "\n",
              "\n",
              "    </div>\n",
              "  </div>\n"
            ],
            "application/vnd.google.colaboratory.intrinsic+json": {
              "type": "dataframe",
              "repr_error": "Out of range float values are not JSON compliant: nan"
            }
          },
          "metadata": {},
          "execution_count": 8
        }
      ]
    },
    {
      "cell_type": "markdown",
      "source": [
        "#Adding a new column to DataFrame\n",
        "\n",
        "A new column can be added to a pandas DataFrame by assigning a ***value, list, or Series*** to a new column name. If the assigned data is a list or Series, its length must match the number of rows in the DataFrame. You can also assign a single value, which will be applied to all rows."
      ],
      "metadata": {
        "id": "hezPNcslX1KI"
      }
    },
    {
      "cell_type": "code",
      "source": [
        "import pandas as pd\n",
        "\n",
        "df = pd.DataFrame({\n",
        "    \"Name\": [\"Alice\", \"Bob\", \"Charlie\"],\n",
        "    \"Math\": [90, 85, 95]\n",
        "})\n",
        "print(df)\n",
        "\n",
        "# Add a new column with a list\n",
        "df[\"English\"] = [88, 92, 80]\n",
        "\n",
        "print(df)\n",
        "\n",
        "# Add a new column with a single value\n",
        "df[\"Pass\"] = True\n",
        "\n",
        "print(df)"
      ],
      "metadata": {
        "id": "BEfE6Yd8Ybv8",
        "colab": {
          "base_uri": "https://localhost:8080/"
        },
        "outputId": "397d83ec-8962-48a8-fd25-d5325df8cb88"
      },
      "execution_count": 9,
      "outputs": [
        {
          "output_type": "stream",
          "name": "stdout",
          "text": [
            "      Name  Math\n",
            "0    Alice    90\n",
            "1      Bob    85\n",
            "2  Charlie    95\n",
            "      Name  Math  English\n",
            "0    Alice    90       88\n",
            "1      Bob    85       92\n",
            "2  Charlie    95       80\n",
            "      Name  Math  English  Pass\n",
            "0    Alice    90       88  True\n",
            "1      Bob    85       92  True\n",
            "2  Charlie    95       80  True\n"
          ]
        }
      ]
    },
    {
      "cell_type": "markdown",
      "source": [
        "# Arithmetic Operations and Functions in Pandas\n",
        "\n",
        "So far we explored how to inspect and select data in Pandas. Once you have access to the right rows and columns, the next step is to perform calculations and apply functions. Pandas makes this process very intuitive by allowing you to apply arithmetic directly to DataFrames or Series, and by offering tools like apply(), map(), and applymap() for more flexibility.\n",
        "\n",
        "## Arithmetic Operations on Columns\n",
        "\n",
        "You can directly apply mathematical operations to Pandas Series or DataFrame columns. Operations are vectorized, meaning they are applied element-wise across the column.\n",
        "\n",
        "In below example, you can notice how the operations are automatically applied to each row."
      ],
      "metadata": {
        "id": "NJpkkMwvcTbG"
      }
    },
    {
      "cell_type": "code",
      "source": [
        "import pandas as pd\n",
        "\n",
        "data = {\n",
        "    'Name': ['Alice', 'Bob', 'Charlie'],\n",
        "    'Age': [24, 30, 28],\n",
        "    'Salary': [50000, 60000, 55000]\n",
        "}\n",
        "df = pd.DataFrame(data)\n",
        "print(df)\n",
        "\n",
        "# Increase all salaries by 10%\n",
        "df['Salary'] = df['Salary'] * 1.10\n",
        "\n",
        "# Add 5 years to everyone’s age\n",
        "df['Age'] = df['Age'] + 5\n",
        "print(df)"
      ],
      "metadata": {
        "id": "C8WDkGdlclFS",
        "colab": {
          "base_uri": "https://localhost:8080/"
        },
        "outputId": "ea2391ac-348b-432f-e825-a5611987116a"
      },
      "execution_count": 10,
      "outputs": [
        {
          "output_type": "stream",
          "name": "stdout",
          "text": [
            "      Name  Age  Salary\n",
            "0    Alice   24   50000\n",
            "1      Bob   30   60000\n",
            "2  Charlie   28   55000\n",
            "      Name  Age   Salary\n",
            "0    Alice   29  55000.0\n",
            "1      Bob   35  66000.0\n",
            "2  Charlie   33  60500.0\n"
          ]
        }
      ]
    },
    {
      "cell_type": "markdown",
      "source": [
        "## Arithmetic Between Columns\n",
        "You can also perform arithmetic between two or more columns to create new features."
      ],
      "metadata": {
        "id": "uUXQ9Iodcx3U"
      }
    },
    {
      "cell_type": "code",
      "source": [
        "# Create a new column 'Income_per_Age'\n",
        "df['Income_per_Age'] = df['Salary'] / df['Age']\n",
        "print(df)"
      ],
      "metadata": {
        "id": "fTt6nukjc2NT",
        "colab": {
          "base_uri": "https://localhost:8080/"
        },
        "outputId": "0ded6da3-4587-4ee7-e47a-e947733868b0"
      },
      "execution_count": 11,
      "outputs": [
        {
          "output_type": "stream",
          "name": "stdout",
          "text": [
            "      Name  Age   Salary  Income_per_Age\n",
            "0    Alice   29  55000.0     1896.551724\n",
            "1      Bob   35  66000.0     1885.714286\n",
            "2  Charlie   33  60500.0     1833.333333\n"
          ]
        }
      ]
    },
    {
      "cell_type": "markdown",
      "source": [
        "# Applying Built-in Pandas/Numpy Functions\n",
        "\n",
        "Pandas integrates with NumPy functions, allowing you to apply common statistics directly.\n"
      ],
      "metadata": {
        "id": "IxIFiA4ic7DW"
      }
    },
    {
      "cell_type": "code",
      "source": [
        "import numpy as np\n",
        "\n",
        "# Calculate average salary\n",
        "print(df['Salary'].mean())\n",
        "\n",
        "# Standard deviation of Age\n",
        "print(df['Age'].std())\n",
        "\n",
        "# Apply numpy square root\n",
        "print(np.sqrt(df['Age']))"
      ],
      "metadata": {
        "id": "42HA1XToc_h8",
        "colab": {
          "base_uri": "https://localhost:8080/"
        },
        "outputId": "64f3b3e3-dcac-4abc-d793-2e2ba56f6a83"
      },
      "execution_count": 12,
      "outputs": [
        {
          "output_type": "stream",
          "name": "stdout",
          "text": [
            "60500.0\n",
            "3.0550504633038935\n",
            "0    5.385165\n",
            "1    5.916080\n",
            "2    5.744563\n",
            "Name: Age, dtype: float64\n"
          ]
        }
      ]
    },
    {
      "cell_type": "markdown",
      "source": [
        "### Applying Functions with **apply()**\n",
        "\n",
        "Sometimes you need custom transformations. The apply() method lets you apply a function to an entire column (Series) or to each row/column in a DataFrame.\n"
      ],
      "metadata": {
        "id": "2kyj2xDbc-n7"
      }
    },
    {
      "cell_type": "code",
      "source": [
        "# Apply to a Series\n",
        "df['Age_squared'] = df['Age'].apply(lambda x: x**2)\n",
        "\n",
        "# Apply to DataFrame across rows\n",
        "df['Total'] = df[['Age','Salary']].apply(lambda row: row['Age'] + row['Salary'], axis=1)\n",
        "print(df)"
      ],
      "metadata": {
        "id": "CI_UGGeidXH9",
        "colab": {
          "base_uri": "https://localhost:8080/"
        },
        "outputId": "822ce9b0-816f-4e7d-e913-f7c1d4499b04"
      },
      "execution_count": 13,
      "outputs": [
        {
          "output_type": "stream",
          "name": "stdout",
          "text": [
            "      Name  Age   Salary  Income_per_Age  Age_squared    Total\n",
            "0    Alice   29  55000.0     1896.551724          841  55029.0\n",
            "1      Bob   35  66000.0     1885.714286         1225  66035.0\n",
            "2  Charlie   33  60500.0     1833.333333         1089  60533.0\n"
          ]
        }
      ]
    },
    {
      "cell_type": "markdown",
      "source": [
        "Note that, we can also apply a Function Elementwise with applymap() and to a Single Column with map() but not covering in this course."
      ],
      "metadata": {
        "id": "k5ZTacVnucQQ"
      }
    },
    {
      "cell_type": "markdown",
      "source": [
        "# Filtering Data in Pandas\n",
        "\n",
        "Once you know how to select columns and rows, the next step is learning how to filter data. Filtering helps you focus on only the relevant part of your dataset, whether that means removing unnecessary columns, isolating rows that meet certain conditions, or preparing features for modeling.\n",
        "\n",
        "## Filtering Columns\n",
        "\n",
        "Column filtering is about selecting only the columns you need or dropping the ones you don’t. This reduces memory usage and keeps your DataFrame manageable."
      ],
      "metadata": {
        "id": "fyVTfiKTeI04"
      }
    },
    {
      "cell_type": "code",
      "source": [
        "# Select a single column\n",
        "df['Age']\n",
        "\n",
        "# Select multiple columns\n",
        "df[['Name', 'Age']]\n",
        "\n"
      ],
      "metadata": {
        "id": "c4v3yYEUeGOK",
        "colab": {
          "base_uri": "https://localhost:8080/",
          "height": 143
        },
        "outputId": "22c07675-6ac1-42d9-969d-b4adb206b4c7"
      },
      "execution_count": 14,
      "outputs": [
        {
          "output_type": "execute_result",
          "data": {
            "text/plain": [
              "      Name  Age\n",
              "0    Alice   29\n",
              "1      Bob   35\n",
              "2  Charlie   33"
            ],
            "text/html": [
              "\n",
              "  <div id=\"df-aaf42b87-a149-47f0-bba8-7ac30b25b7b8\" class=\"colab-df-container\">\n",
              "    <div>\n",
              "<style scoped>\n",
              "    .dataframe tbody tr th:only-of-type {\n",
              "        vertical-align: middle;\n",
              "    }\n",
              "\n",
              "    .dataframe tbody tr th {\n",
              "        vertical-align: top;\n",
              "    }\n",
              "\n",
              "    .dataframe thead th {\n",
              "        text-align: right;\n",
              "    }\n",
              "</style>\n",
              "<table border=\"1\" class=\"dataframe\">\n",
              "  <thead>\n",
              "    <tr style=\"text-align: right;\">\n",
              "      <th></th>\n",
              "      <th>Name</th>\n",
              "      <th>Age</th>\n",
              "    </tr>\n",
              "  </thead>\n",
              "  <tbody>\n",
              "    <tr>\n",
              "      <th>0</th>\n",
              "      <td>Alice</td>\n",
              "      <td>29</td>\n",
              "    </tr>\n",
              "    <tr>\n",
              "      <th>1</th>\n",
              "      <td>Bob</td>\n",
              "      <td>35</td>\n",
              "    </tr>\n",
              "    <tr>\n",
              "      <th>2</th>\n",
              "      <td>Charlie</td>\n",
              "      <td>33</td>\n",
              "    </tr>\n",
              "  </tbody>\n",
              "</table>\n",
              "</div>\n",
              "    <div class=\"colab-df-buttons\">\n",
              "\n",
              "  <div class=\"colab-df-container\">\n",
              "    <button class=\"colab-df-convert\" onclick=\"convertToInteractive('df-aaf42b87-a149-47f0-bba8-7ac30b25b7b8')\"\n",
              "            title=\"Convert this dataframe to an interactive table.\"\n",
              "            style=\"display:none;\">\n",
              "\n",
              "  <svg xmlns=\"http://www.w3.org/2000/svg\" height=\"24px\" viewBox=\"0 -960 960 960\">\n",
              "    <path d=\"M120-120v-720h720v720H120Zm60-500h600v-160H180v160Zm220 220h160v-160H400v160Zm0 220h160v-160H400v160ZM180-400h160v-160H180v160Zm440 0h160v-160H620v160ZM180-180h160v-160H180v160Zm440 0h160v-160H620v160Z\"/>\n",
              "  </svg>\n",
              "    </button>\n",
              "\n",
              "  <style>\n",
              "    .colab-df-container {\n",
              "      display:flex;\n",
              "      gap: 12px;\n",
              "    }\n",
              "\n",
              "    .colab-df-convert {\n",
              "      background-color: #E8F0FE;\n",
              "      border: none;\n",
              "      border-radius: 50%;\n",
              "      cursor: pointer;\n",
              "      display: none;\n",
              "      fill: #1967D2;\n",
              "      height: 32px;\n",
              "      padding: 0 0 0 0;\n",
              "      width: 32px;\n",
              "    }\n",
              "\n",
              "    .colab-df-convert:hover {\n",
              "      background-color: #E2EBFA;\n",
              "      box-shadow: 0px 1px 2px rgba(60, 64, 67, 0.3), 0px 1px 3px 1px rgba(60, 64, 67, 0.15);\n",
              "      fill: #174EA6;\n",
              "    }\n",
              "\n",
              "    .colab-df-buttons div {\n",
              "      margin-bottom: 4px;\n",
              "    }\n",
              "\n",
              "    [theme=dark] .colab-df-convert {\n",
              "      background-color: #3B4455;\n",
              "      fill: #D2E3FC;\n",
              "    }\n",
              "\n",
              "    [theme=dark] .colab-df-convert:hover {\n",
              "      background-color: #434B5C;\n",
              "      box-shadow: 0px 1px 3px 1px rgba(0, 0, 0, 0.15);\n",
              "      filter: drop-shadow(0px 1px 2px rgba(0, 0, 0, 0.3));\n",
              "      fill: #FFFFFF;\n",
              "    }\n",
              "  </style>\n",
              "\n",
              "    <script>\n",
              "      const buttonEl =\n",
              "        document.querySelector('#df-aaf42b87-a149-47f0-bba8-7ac30b25b7b8 button.colab-df-convert');\n",
              "      buttonEl.style.display =\n",
              "        google.colab.kernel.accessAllowed ? 'block' : 'none';\n",
              "\n",
              "      async function convertToInteractive(key) {\n",
              "        const element = document.querySelector('#df-aaf42b87-a149-47f0-bba8-7ac30b25b7b8');\n",
              "        const dataTable =\n",
              "          await google.colab.kernel.invokeFunction('convertToInteractive',\n",
              "                                                    [key], {});\n",
              "        if (!dataTable) return;\n",
              "\n",
              "        const docLinkHtml = 'Like what you see? Visit the ' +\n",
              "          '<a target=\"_blank\" href=https://colab.research.google.com/notebooks/data_table.ipynb>data table notebook</a>'\n",
              "          + ' to learn more about interactive tables.';\n",
              "        element.innerHTML = '';\n",
              "        dataTable['output_type'] = 'display_data';\n",
              "        await google.colab.output.renderOutput(dataTable, element);\n",
              "        const docLink = document.createElement('div');\n",
              "        docLink.innerHTML = docLinkHtml;\n",
              "        element.appendChild(docLink);\n",
              "      }\n",
              "    </script>\n",
              "  </div>\n",
              "\n",
              "\n",
              "    <div id=\"df-874d7fa5-4132-4383-b030-ee4690639db7\">\n",
              "      <button class=\"colab-df-quickchart\" onclick=\"quickchart('df-874d7fa5-4132-4383-b030-ee4690639db7')\"\n",
              "                title=\"Suggest charts\"\n",
              "                style=\"display:none;\">\n",
              "\n",
              "<svg xmlns=\"http://www.w3.org/2000/svg\" height=\"24px\"viewBox=\"0 0 24 24\"\n",
              "     width=\"24px\">\n",
              "    <g>\n",
              "        <path d=\"M19 3H5c-1.1 0-2 .9-2 2v14c0 1.1.9 2 2 2h14c1.1 0 2-.9 2-2V5c0-1.1-.9-2-2-2zM9 17H7v-7h2v7zm4 0h-2V7h2v10zm4 0h-2v-4h2v4z\"/>\n",
              "    </g>\n",
              "</svg>\n",
              "      </button>\n",
              "\n",
              "<style>\n",
              "  .colab-df-quickchart {\n",
              "      --bg-color: #E8F0FE;\n",
              "      --fill-color: #1967D2;\n",
              "      --hover-bg-color: #E2EBFA;\n",
              "      --hover-fill-color: #174EA6;\n",
              "      --disabled-fill-color: #AAA;\n",
              "      --disabled-bg-color: #DDD;\n",
              "  }\n",
              "\n",
              "  [theme=dark] .colab-df-quickchart {\n",
              "      --bg-color: #3B4455;\n",
              "      --fill-color: #D2E3FC;\n",
              "      --hover-bg-color: #434B5C;\n",
              "      --hover-fill-color: #FFFFFF;\n",
              "      --disabled-bg-color: #3B4455;\n",
              "      --disabled-fill-color: #666;\n",
              "  }\n",
              "\n",
              "  .colab-df-quickchart {\n",
              "    background-color: var(--bg-color);\n",
              "    border: none;\n",
              "    border-radius: 50%;\n",
              "    cursor: pointer;\n",
              "    display: none;\n",
              "    fill: var(--fill-color);\n",
              "    height: 32px;\n",
              "    padding: 0;\n",
              "    width: 32px;\n",
              "  }\n",
              "\n",
              "  .colab-df-quickchart:hover {\n",
              "    background-color: var(--hover-bg-color);\n",
              "    box-shadow: 0 1px 2px rgba(60, 64, 67, 0.3), 0 1px 3px 1px rgba(60, 64, 67, 0.15);\n",
              "    fill: var(--button-hover-fill-color);\n",
              "  }\n",
              "\n",
              "  .colab-df-quickchart-complete:disabled,\n",
              "  .colab-df-quickchart-complete:disabled:hover {\n",
              "    background-color: var(--disabled-bg-color);\n",
              "    fill: var(--disabled-fill-color);\n",
              "    box-shadow: none;\n",
              "  }\n",
              "\n",
              "  .colab-df-spinner {\n",
              "    border: 2px solid var(--fill-color);\n",
              "    border-color: transparent;\n",
              "    border-bottom-color: var(--fill-color);\n",
              "    animation:\n",
              "      spin 1s steps(1) infinite;\n",
              "  }\n",
              "\n",
              "  @keyframes spin {\n",
              "    0% {\n",
              "      border-color: transparent;\n",
              "      border-bottom-color: var(--fill-color);\n",
              "      border-left-color: var(--fill-color);\n",
              "    }\n",
              "    20% {\n",
              "      border-color: transparent;\n",
              "      border-left-color: var(--fill-color);\n",
              "      border-top-color: var(--fill-color);\n",
              "    }\n",
              "    30% {\n",
              "      border-color: transparent;\n",
              "      border-left-color: var(--fill-color);\n",
              "      border-top-color: var(--fill-color);\n",
              "      border-right-color: var(--fill-color);\n",
              "    }\n",
              "    40% {\n",
              "      border-color: transparent;\n",
              "      border-right-color: var(--fill-color);\n",
              "      border-top-color: var(--fill-color);\n",
              "    }\n",
              "    60% {\n",
              "      border-color: transparent;\n",
              "      border-right-color: var(--fill-color);\n",
              "    }\n",
              "    80% {\n",
              "      border-color: transparent;\n",
              "      border-right-color: var(--fill-color);\n",
              "      border-bottom-color: var(--fill-color);\n",
              "    }\n",
              "    90% {\n",
              "      border-color: transparent;\n",
              "      border-bottom-color: var(--fill-color);\n",
              "    }\n",
              "  }\n",
              "</style>\n",
              "\n",
              "      <script>\n",
              "        async function quickchart(key) {\n",
              "          const quickchartButtonEl =\n",
              "            document.querySelector('#' + key + ' button');\n",
              "          quickchartButtonEl.disabled = true;  // To prevent multiple clicks.\n",
              "          quickchartButtonEl.classList.add('colab-df-spinner');\n",
              "          try {\n",
              "            const charts = await google.colab.kernel.invokeFunction(\n",
              "                'suggestCharts', [key], {});\n",
              "          } catch (error) {\n",
              "            console.error('Error during call to suggestCharts:', error);\n",
              "          }\n",
              "          quickchartButtonEl.classList.remove('colab-df-spinner');\n",
              "          quickchartButtonEl.classList.add('colab-df-quickchart-complete');\n",
              "        }\n",
              "        (() => {\n",
              "          let quickchartButtonEl =\n",
              "            document.querySelector('#df-874d7fa5-4132-4383-b030-ee4690639db7 button');\n",
              "          quickchartButtonEl.style.display =\n",
              "            google.colab.kernel.accessAllowed ? 'block' : 'none';\n",
              "        })();\n",
              "      </script>\n",
              "    </div>\n",
              "\n",
              "    </div>\n",
              "  </div>\n"
            ],
            "application/vnd.google.colaboratory.intrinsic+json": {
              "type": "dataframe",
              "summary": "{\n  \"name\": \"df[['Name', 'Age']]\",\n  \"rows\": 3,\n  \"fields\": [\n    {\n      \"column\": \"Name\",\n      \"properties\": {\n        \"dtype\": \"string\",\n        \"num_unique_values\": 3,\n        \"samples\": [\n          \"Alice\",\n          \"Bob\",\n          \"Charlie\"\n        ],\n        \"semantic_type\": \"\",\n        \"description\": \"\"\n      }\n    },\n    {\n      \"column\": \"Age\",\n      \"properties\": {\n        \"dtype\": \"number\",\n        \"std\": 3,\n        \"min\": 29,\n        \"max\": 35,\n        \"num_unique_values\": 3,\n        \"samples\": [\n          29,\n          35,\n          33\n        ],\n        \"semantic_type\": \"\",\n        \"description\": \"\"\n      }\n    }\n  ]\n}"
            }
          },
          "metadata": {},
          "execution_count": 14
        }
      ]
    },
    {
      "cell_type": "markdown",
      "source": [
        "## Dropping Unused Columns"
      ],
      "metadata": {
        "id": "qR9sZFu5e-pV"
      }
    },
    {
      "cell_type": "code",
      "source": [
        "# Drop the 'Age_squared' column\n",
        "df = df.drop(columns=['Age_squared'])\n",
        "print(df)"
      ],
      "metadata": {
        "id": "Hso3cwY3fAVo",
        "colab": {
          "base_uri": "https://localhost:8080/"
        },
        "outputId": "4272962f-3906-439d-c5e5-6edf3b4f1bf4"
      },
      "execution_count": 15,
      "outputs": [
        {
          "output_type": "stream",
          "name": "stdout",
          "text": [
            "      Name  Age   Salary  Income_per_Age    Total\n",
            "0    Alice   29  55000.0     1896.551724  55029.0\n",
            "1      Bob   35  66000.0     1885.714286  66035.0\n",
            "2  Charlie   33  60500.0     1833.333333  60533.0\n"
          ]
        }
      ]
    },
    {
      "cell_type": "markdown",
      "source": [
        "This is especially useful when preparing data for machine learning, where only selected features are required."
      ],
      "metadata": {
        "id": "4Uxc9z7sfFg8"
      }
    },
    {
      "cell_type": "markdown",
      "source": [
        "## Filtering Rows (using Boolean Indexing)\n",
        "\n",
        "Row filtering is usually done with Boolean indexing, where you apply a condition and return only the rows where that condition is true."
      ],
      "metadata": {
        "id": "3fCS_z3jfQAS"
      }
    },
    {
      "cell_type": "code",
      "source": [
        "# Filter rows where Age > 30\n",
        "df[df['Age'] > 30]"
      ],
      "metadata": {
        "id": "p72rSa8WfbRm",
        "colab": {
          "base_uri": "https://localhost:8080/",
          "height": 112
        },
        "outputId": "d62b07d9-9b93-4869-ddcf-07d102e3d976"
      },
      "execution_count": 16,
      "outputs": [
        {
          "output_type": "execute_result",
          "data": {
            "text/plain": [
              "      Name  Age   Salary  Income_per_Age    Total\n",
              "1      Bob   35  66000.0     1885.714286  66035.0\n",
              "2  Charlie   33  60500.0     1833.333333  60533.0"
            ],
            "text/html": [
              "\n",
              "  <div id=\"df-55ee42a4-e9e0-44f3-9bb1-9636fbb4f196\" class=\"colab-df-container\">\n",
              "    <div>\n",
              "<style scoped>\n",
              "    .dataframe tbody tr th:only-of-type {\n",
              "        vertical-align: middle;\n",
              "    }\n",
              "\n",
              "    .dataframe tbody tr th {\n",
              "        vertical-align: top;\n",
              "    }\n",
              "\n",
              "    .dataframe thead th {\n",
              "        text-align: right;\n",
              "    }\n",
              "</style>\n",
              "<table border=\"1\" class=\"dataframe\">\n",
              "  <thead>\n",
              "    <tr style=\"text-align: right;\">\n",
              "      <th></th>\n",
              "      <th>Name</th>\n",
              "      <th>Age</th>\n",
              "      <th>Salary</th>\n",
              "      <th>Income_per_Age</th>\n",
              "      <th>Total</th>\n",
              "    </tr>\n",
              "  </thead>\n",
              "  <tbody>\n",
              "    <tr>\n",
              "      <th>1</th>\n",
              "      <td>Bob</td>\n",
              "      <td>35</td>\n",
              "      <td>66000.0</td>\n",
              "      <td>1885.714286</td>\n",
              "      <td>66035.0</td>\n",
              "    </tr>\n",
              "    <tr>\n",
              "      <th>2</th>\n",
              "      <td>Charlie</td>\n",
              "      <td>33</td>\n",
              "      <td>60500.0</td>\n",
              "      <td>1833.333333</td>\n",
              "      <td>60533.0</td>\n",
              "    </tr>\n",
              "  </tbody>\n",
              "</table>\n",
              "</div>\n",
              "    <div class=\"colab-df-buttons\">\n",
              "\n",
              "  <div class=\"colab-df-container\">\n",
              "    <button class=\"colab-df-convert\" onclick=\"convertToInteractive('df-55ee42a4-e9e0-44f3-9bb1-9636fbb4f196')\"\n",
              "            title=\"Convert this dataframe to an interactive table.\"\n",
              "            style=\"display:none;\">\n",
              "\n",
              "  <svg xmlns=\"http://www.w3.org/2000/svg\" height=\"24px\" viewBox=\"0 -960 960 960\">\n",
              "    <path d=\"M120-120v-720h720v720H120Zm60-500h600v-160H180v160Zm220 220h160v-160H400v160Zm0 220h160v-160H400v160ZM180-400h160v-160H180v160Zm440 0h160v-160H620v160ZM180-180h160v-160H180v160Zm440 0h160v-160H620v160Z\"/>\n",
              "  </svg>\n",
              "    </button>\n",
              "\n",
              "  <style>\n",
              "    .colab-df-container {\n",
              "      display:flex;\n",
              "      gap: 12px;\n",
              "    }\n",
              "\n",
              "    .colab-df-convert {\n",
              "      background-color: #E8F0FE;\n",
              "      border: none;\n",
              "      border-radius: 50%;\n",
              "      cursor: pointer;\n",
              "      display: none;\n",
              "      fill: #1967D2;\n",
              "      height: 32px;\n",
              "      padding: 0 0 0 0;\n",
              "      width: 32px;\n",
              "    }\n",
              "\n",
              "    .colab-df-convert:hover {\n",
              "      background-color: #E2EBFA;\n",
              "      box-shadow: 0px 1px 2px rgba(60, 64, 67, 0.3), 0px 1px 3px 1px rgba(60, 64, 67, 0.15);\n",
              "      fill: #174EA6;\n",
              "    }\n",
              "\n",
              "    .colab-df-buttons div {\n",
              "      margin-bottom: 4px;\n",
              "    }\n",
              "\n",
              "    [theme=dark] .colab-df-convert {\n",
              "      background-color: #3B4455;\n",
              "      fill: #D2E3FC;\n",
              "    }\n",
              "\n",
              "    [theme=dark] .colab-df-convert:hover {\n",
              "      background-color: #434B5C;\n",
              "      box-shadow: 0px 1px 3px 1px rgba(0, 0, 0, 0.15);\n",
              "      filter: drop-shadow(0px 1px 2px rgba(0, 0, 0, 0.3));\n",
              "      fill: #FFFFFF;\n",
              "    }\n",
              "  </style>\n",
              "\n",
              "    <script>\n",
              "      const buttonEl =\n",
              "        document.querySelector('#df-55ee42a4-e9e0-44f3-9bb1-9636fbb4f196 button.colab-df-convert');\n",
              "      buttonEl.style.display =\n",
              "        google.colab.kernel.accessAllowed ? 'block' : 'none';\n",
              "\n",
              "      async function convertToInteractive(key) {\n",
              "        const element = document.querySelector('#df-55ee42a4-e9e0-44f3-9bb1-9636fbb4f196');\n",
              "        const dataTable =\n",
              "          await google.colab.kernel.invokeFunction('convertToInteractive',\n",
              "                                                    [key], {});\n",
              "        if (!dataTable) return;\n",
              "\n",
              "        const docLinkHtml = 'Like what you see? Visit the ' +\n",
              "          '<a target=\"_blank\" href=https://colab.research.google.com/notebooks/data_table.ipynb>data table notebook</a>'\n",
              "          + ' to learn more about interactive tables.';\n",
              "        element.innerHTML = '';\n",
              "        dataTable['output_type'] = 'display_data';\n",
              "        await google.colab.output.renderOutput(dataTable, element);\n",
              "        const docLink = document.createElement('div');\n",
              "        docLink.innerHTML = docLinkHtml;\n",
              "        element.appendChild(docLink);\n",
              "      }\n",
              "    </script>\n",
              "  </div>\n",
              "\n",
              "\n",
              "    <div id=\"df-edb48abf-c5bc-40c5-8baf-6e450550e72c\">\n",
              "      <button class=\"colab-df-quickchart\" onclick=\"quickchart('df-edb48abf-c5bc-40c5-8baf-6e450550e72c')\"\n",
              "                title=\"Suggest charts\"\n",
              "                style=\"display:none;\">\n",
              "\n",
              "<svg xmlns=\"http://www.w3.org/2000/svg\" height=\"24px\"viewBox=\"0 0 24 24\"\n",
              "     width=\"24px\">\n",
              "    <g>\n",
              "        <path d=\"M19 3H5c-1.1 0-2 .9-2 2v14c0 1.1.9 2 2 2h14c1.1 0 2-.9 2-2V5c0-1.1-.9-2-2-2zM9 17H7v-7h2v7zm4 0h-2V7h2v10zm4 0h-2v-4h2v4z\"/>\n",
              "    </g>\n",
              "</svg>\n",
              "      </button>\n",
              "\n",
              "<style>\n",
              "  .colab-df-quickchart {\n",
              "      --bg-color: #E8F0FE;\n",
              "      --fill-color: #1967D2;\n",
              "      --hover-bg-color: #E2EBFA;\n",
              "      --hover-fill-color: #174EA6;\n",
              "      --disabled-fill-color: #AAA;\n",
              "      --disabled-bg-color: #DDD;\n",
              "  }\n",
              "\n",
              "  [theme=dark] .colab-df-quickchart {\n",
              "      --bg-color: #3B4455;\n",
              "      --fill-color: #D2E3FC;\n",
              "      --hover-bg-color: #434B5C;\n",
              "      --hover-fill-color: #FFFFFF;\n",
              "      --disabled-bg-color: #3B4455;\n",
              "      --disabled-fill-color: #666;\n",
              "  }\n",
              "\n",
              "  .colab-df-quickchart {\n",
              "    background-color: var(--bg-color);\n",
              "    border: none;\n",
              "    border-radius: 50%;\n",
              "    cursor: pointer;\n",
              "    display: none;\n",
              "    fill: var(--fill-color);\n",
              "    height: 32px;\n",
              "    padding: 0;\n",
              "    width: 32px;\n",
              "  }\n",
              "\n",
              "  .colab-df-quickchart:hover {\n",
              "    background-color: var(--hover-bg-color);\n",
              "    box-shadow: 0 1px 2px rgba(60, 64, 67, 0.3), 0 1px 3px 1px rgba(60, 64, 67, 0.15);\n",
              "    fill: var(--button-hover-fill-color);\n",
              "  }\n",
              "\n",
              "  .colab-df-quickchart-complete:disabled,\n",
              "  .colab-df-quickchart-complete:disabled:hover {\n",
              "    background-color: var(--disabled-bg-color);\n",
              "    fill: var(--disabled-fill-color);\n",
              "    box-shadow: none;\n",
              "  }\n",
              "\n",
              "  .colab-df-spinner {\n",
              "    border: 2px solid var(--fill-color);\n",
              "    border-color: transparent;\n",
              "    border-bottom-color: var(--fill-color);\n",
              "    animation:\n",
              "      spin 1s steps(1) infinite;\n",
              "  }\n",
              "\n",
              "  @keyframes spin {\n",
              "    0% {\n",
              "      border-color: transparent;\n",
              "      border-bottom-color: var(--fill-color);\n",
              "      border-left-color: var(--fill-color);\n",
              "    }\n",
              "    20% {\n",
              "      border-color: transparent;\n",
              "      border-left-color: var(--fill-color);\n",
              "      border-top-color: var(--fill-color);\n",
              "    }\n",
              "    30% {\n",
              "      border-color: transparent;\n",
              "      border-left-color: var(--fill-color);\n",
              "      border-top-color: var(--fill-color);\n",
              "      border-right-color: var(--fill-color);\n",
              "    }\n",
              "    40% {\n",
              "      border-color: transparent;\n",
              "      border-right-color: var(--fill-color);\n",
              "      border-top-color: var(--fill-color);\n",
              "    }\n",
              "    60% {\n",
              "      border-color: transparent;\n",
              "      border-right-color: var(--fill-color);\n",
              "    }\n",
              "    80% {\n",
              "      border-color: transparent;\n",
              "      border-right-color: var(--fill-color);\n",
              "      border-bottom-color: var(--fill-color);\n",
              "    }\n",
              "    90% {\n",
              "      border-color: transparent;\n",
              "      border-bottom-color: var(--fill-color);\n",
              "    }\n",
              "  }\n",
              "</style>\n",
              "\n",
              "      <script>\n",
              "        async function quickchart(key) {\n",
              "          const quickchartButtonEl =\n",
              "            document.querySelector('#' + key + ' button');\n",
              "          quickchartButtonEl.disabled = true;  // To prevent multiple clicks.\n",
              "          quickchartButtonEl.classList.add('colab-df-spinner');\n",
              "          try {\n",
              "            const charts = await google.colab.kernel.invokeFunction(\n",
              "                'suggestCharts', [key], {});\n",
              "          } catch (error) {\n",
              "            console.error('Error during call to suggestCharts:', error);\n",
              "          }\n",
              "          quickchartButtonEl.classList.remove('colab-df-spinner');\n",
              "          quickchartButtonEl.classList.add('colab-df-quickchart-complete');\n",
              "        }\n",
              "        (() => {\n",
              "          let quickchartButtonEl =\n",
              "            document.querySelector('#df-edb48abf-c5bc-40c5-8baf-6e450550e72c button');\n",
              "          quickchartButtonEl.style.display =\n",
              "            google.colab.kernel.accessAllowed ? 'block' : 'none';\n",
              "        })();\n",
              "      </script>\n",
              "    </div>\n",
              "\n",
              "    </div>\n",
              "  </div>\n"
            ],
            "application/vnd.google.colaboratory.intrinsic+json": {
              "type": "dataframe",
              "summary": "{\n  \"name\": \"df[df['Age'] > 30]\",\n  \"rows\": 2,\n  \"fields\": [\n    {\n      \"column\": \"Name\",\n      \"properties\": {\n        \"dtype\": \"string\",\n        \"num_unique_values\": 2,\n        \"samples\": [\n          \"Charlie\",\n          \"Bob\"\n        ],\n        \"semantic_type\": \"\",\n        \"description\": \"\"\n      }\n    },\n    {\n      \"column\": \"Age\",\n      \"properties\": {\n        \"dtype\": \"number\",\n        \"std\": 1,\n        \"min\": 33,\n        \"max\": 35,\n        \"num_unique_values\": 2,\n        \"samples\": [\n          33,\n          35\n        ],\n        \"semantic_type\": \"\",\n        \"description\": \"\"\n      }\n    },\n    {\n      \"column\": \"Salary\",\n      \"properties\": {\n        \"dtype\": \"number\",\n        \"std\": 3889.087296526006,\n        \"min\": 60500.00000000001,\n        \"max\": 66000.0,\n        \"num_unique_values\": 2,\n        \"samples\": [\n          60500.00000000001,\n          66000.0\n        ],\n        \"semantic_type\": \"\",\n        \"description\": \"\"\n      }\n    },\n    {\n      \"column\": \"Income_per_Age\",\n      \"properties\": {\n        \"dtype\": \"number\",\n        \"std\": 37.038926633581,\n        \"min\": 1833.3333333333335,\n        \"max\": 1885.7142857142858,\n        \"num_unique_values\": 2,\n        \"samples\": [\n          1833.3333333333335,\n          1885.7142857142858\n        ],\n        \"semantic_type\": \"\",\n        \"description\": \"\"\n      }\n    },\n    {\n      \"column\": \"Total\",\n      \"properties\": {\n        \"dtype\": \"number\",\n        \"std\": 3890.5015100883793,\n        \"min\": 60533.00000000001,\n        \"max\": 66035.0,\n        \"num_unique_values\": 2,\n        \"samples\": [\n          60533.00000000001,\n          66035.0\n        ],\n        \"semantic_type\": \"\",\n        \"description\": \"\"\n      }\n    }\n  ]\n}"
            }
          },
          "metadata": {},
          "execution_count": 16
        }
      ]
    },
    {
      "cell_type": "markdown",
      "source": [
        "# Combining Multiple Conditions\n",
        "You can combine conditions using & (and) or | (or)."
      ],
      "metadata": {
        "id": "yYU__Amtfl7D"
      }
    },
    {
      "cell_type": "code",
      "source": [
        "# Filter rows where Age > 30 AND Salary > 60000\n",
        "df[(df['Age'] > 30) & (df['Salary'] > 60000)]"
      ],
      "metadata": {
        "id": "444QIjbcfpE9",
        "colab": {
          "base_uri": "https://localhost:8080/",
          "height": 112
        },
        "outputId": "2cf19f12-939c-4285-813c-31b3bbcd1a60"
      },
      "execution_count": 17,
      "outputs": [
        {
          "output_type": "execute_result",
          "data": {
            "text/plain": [
              "      Name  Age   Salary  Income_per_Age    Total\n",
              "1      Bob   35  66000.0     1885.714286  66035.0\n",
              "2  Charlie   33  60500.0     1833.333333  60533.0"
            ],
            "text/html": [
              "\n",
              "  <div id=\"df-a71caaa5-de92-4142-803e-2e7173d0efbf\" class=\"colab-df-container\">\n",
              "    <div>\n",
              "<style scoped>\n",
              "    .dataframe tbody tr th:only-of-type {\n",
              "        vertical-align: middle;\n",
              "    }\n",
              "\n",
              "    .dataframe tbody tr th {\n",
              "        vertical-align: top;\n",
              "    }\n",
              "\n",
              "    .dataframe thead th {\n",
              "        text-align: right;\n",
              "    }\n",
              "</style>\n",
              "<table border=\"1\" class=\"dataframe\">\n",
              "  <thead>\n",
              "    <tr style=\"text-align: right;\">\n",
              "      <th></th>\n",
              "      <th>Name</th>\n",
              "      <th>Age</th>\n",
              "      <th>Salary</th>\n",
              "      <th>Income_per_Age</th>\n",
              "      <th>Total</th>\n",
              "    </tr>\n",
              "  </thead>\n",
              "  <tbody>\n",
              "    <tr>\n",
              "      <th>1</th>\n",
              "      <td>Bob</td>\n",
              "      <td>35</td>\n",
              "      <td>66000.0</td>\n",
              "      <td>1885.714286</td>\n",
              "      <td>66035.0</td>\n",
              "    </tr>\n",
              "    <tr>\n",
              "      <th>2</th>\n",
              "      <td>Charlie</td>\n",
              "      <td>33</td>\n",
              "      <td>60500.0</td>\n",
              "      <td>1833.333333</td>\n",
              "      <td>60533.0</td>\n",
              "    </tr>\n",
              "  </tbody>\n",
              "</table>\n",
              "</div>\n",
              "    <div class=\"colab-df-buttons\">\n",
              "\n",
              "  <div class=\"colab-df-container\">\n",
              "    <button class=\"colab-df-convert\" onclick=\"convertToInteractive('df-a71caaa5-de92-4142-803e-2e7173d0efbf')\"\n",
              "            title=\"Convert this dataframe to an interactive table.\"\n",
              "            style=\"display:none;\">\n",
              "\n",
              "  <svg xmlns=\"http://www.w3.org/2000/svg\" height=\"24px\" viewBox=\"0 -960 960 960\">\n",
              "    <path d=\"M120-120v-720h720v720H120Zm60-500h600v-160H180v160Zm220 220h160v-160H400v160Zm0 220h160v-160H400v160ZM180-400h160v-160H180v160Zm440 0h160v-160H620v160ZM180-180h160v-160H180v160Zm440 0h160v-160H620v160Z\"/>\n",
              "  </svg>\n",
              "    </button>\n",
              "\n",
              "  <style>\n",
              "    .colab-df-container {\n",
              "      display:flex;\n",
              "      gap: 12px;\n",
              "    }\n",
              "\n",
              "    .colab-df-convert {\n",
              "      background-color: #E8F0FE;\n",
              "      border: none;\n",
              "      border-radius: 50%;\n",
              "      cursor: pointer;\n",
              "      display: none;\n",
              "      fill: #1967D2;\n",
              "      height: 32px;\n",
              "      padding: 0 0 0 0;\n",
              "      width: 32px;\n",
              "    }\n",
              "\n",
              "    .colab-df-convert:hover {\n",
              "      background-color: #E2EBFA;\n",
              "      box-shadow: 0px 1px 2px rgba(60, 64, 67, 0.3), 0px 1px 3px 1px rgba(60, 64, 67, 0.15);\n",
              "      fill: #174EA6;\n",
              "    }\n",
              "\n",
              "    .colab-df-buttons div {\n",
              "      margin-bottom: 4px;\n",
              "    }\n",
              "\n",
              "    [theme=dark] .colab-df-convert {\n",
              "      background-color: #3B4455;\n",
              "      fill: #D2E3FC;\n",
              "    }\n",
              "\n",
              "    [theme=dark] .colab-df-convert:hover {\n",
              "      background-color: #434B5C;\n",
              "      box-shadow: 0px 1px 3px 1px rgba(0, 0, 0, 0.15);\n",
              "      filter: drop-shadow(0px 1px 2px rgba(0, 0, 0, 0.3));\n",
              "      fill: #FFFFFF;\n",
              "    }\n",
              "  </style>\n",
              "\n",
              "    <script>\n",
              "      const buttonEl =\n",
              "        document.querySelector('#df-a71caaa5-de92-4142-803e-2e7173d0efbf button.colab-df-convert');\n",
              "      buttonEl.style.display =\n",
              "        google.colab.kernel.accessAllowed ? 'block' : 'none';\n",
              "\n",
              "      async function convertToInteractive(key) {\n",
              "        const element = document.querySelector('#df-a71caaa5-de92-4142-803e-2e7173d0efbf');\n",
              "        const dataTable =\n",
              "          await google.colab.kernel.invokeFunction('convertToInteractive',\n",
              "                                                    [key], {});\n",
              "        if (!dataTable) return;\n",
              "\n",
              "        const docLinkHtml = 'Like what you see? Visit the ' +\n",
              "          '<a target=\"_blank\" href=https://colab.research.google.com/notebooks/data_table.ipynb>data table notebook</a>'\n",
              "          + ' to learn more about interactive tables.';\n",
              "        element.innerHTML = '';\n",
              "        dataTable['output_type'] = 'display_data';\n",
              "        await google.colab.output.renderOutput(dataTable, element);\n",
              "        const docLink = document.createElement('div');\n",
              "        docLink.innerHTML = docLinkHtml;\n",
              "        element.appendChild(docLink);\n",
              "      }\n",
              "    </script>\n",
              "  </div>\n",
              "\n",
              "\n",
              "    <div id=\"df-e2c4603b-8fa3-4d68-8c8a-fbd29f2a33a3\">\n",
              "      <button class=\"colab-df-quickchart\" onclick=\"quickchart('df-e2c4603b-8fa3-4d68-8c8a-fbd29f2a33a3')\"\n",
              "                title=\"Suggest charts\"\n",
              "                style=\"display:none;\">\n",
              "\n",
              "<svg xmlns=\"http://www.w3.org/2000/svg\" height=\"24px\"viewBox=\"0 0 24 24\"\n",
              "     width=\"24px\">\n",
              "    <g>\n",
              "        <path d=\"M19 3H5c-1.1 0-2 .9-2 2v14c0 1.1.9 2 2 2h14c1.1 0 2-.9 2-2V5c0-1.1-.9-2-2-2zM9 17H7v-7h2v7zm4 0h-2V7h2v10zm4 0h-2v-4h2v4z\"/>\n",
              "    </g>\n",
              "</svg>\n",
              "      </button>\n",
              "\n",
              "<style>\n",
              "  .colab-df-quickchart {\n",
              "      --bg-color: #E8F0FE;\n",
              "      --fill-color: #1967D2;\n",
              "      --hover-bg-color: #E2EBFA;\n",
              "      --hover-fill-color: #174EA6;\n",
              "      --disabled-fill-color: #AAA;\n",
              "      --disabled-bg-color: #DDD;\n",
              "  }\n",
              "\n",
              "  [theme=dark] .colab-df-quickchart {\n",
              "      --bg-color: #3B4455;\n",
              "      --fill-color: #D2E3FC;\n",
              "      --hover-bg-color: #434B5C;\n",
              "      --hover-fill-color: #FFFFFF;\n",
              "      --disabled-bg-color: #3B4455;\n",
              "      --disabled-fill-color: #666;\n",
              "  }\n",
              "\n",
              "  .colab-df-quickchart {\n",
              "    background-color: var(--bg-color);\n",
              "    border: none;\n",
              "    border-radius: 50%;\n",
              "    cursor: pointer;\n",
              "    display: none;\n",
              "    fill: var(--fill-color);\n",
              "    height: 32px;\n",
              "    padding: 0;\n",
              "    width: 32px;\n",
              "  }\n",
              "\n",
              "  .colab-df-quickchart:hover {\n",
              "    background-color: var(--hover-bg-color);\n",
              "    box-shadow: 0 1px 2px rgba(60, 64, 67, 0.3), 0 1px 3px 1px rgba(60, 64, 67, 0.15);\n",
              "    fill: var(--button-hover-fill-color);\n",
              "  }\n",
              "\n",
              "  .colab-df-quickchart-complete:disabled,\n",
              "  .colab-df-quickchart-complete:disabled:hover {\n",
              "    background-color: var(--disabled-bg-color);\n",
              "    fill: var(--disabled-fill-color);\n",
              "    box-shadow: none;\n",
              "  }\n",
              "\n",
              "  .colab-df-spinner {\n",
              "    border: 2px solid var(--fill-color);\n",
              "    border-color: transparent;\n",
              "    border-bottom-color: var(--fill-color);\n",
              "    animation:\n",
              "      spin 1s steps(1) infinite;\n",
              "  }\n",
              "\n",
              "  @keyframes spin {\n",
              "    0% {\n",
              "      border-color: transparent;\n",
              "      border-bottom-color: var(--fill-color);\n",
              "      border-left-color: var(--fill-color);\n",
              "    }\n",
              "    20% {\n",
              "      border-color: transparent;\n",
              "      border-left-color: var(--fill-color);\n",
              "      border-top-color: var(--fill-color);\n",
              "    }\n",
              "    30% {\n",
              "      border-color: transparent;\n",
              "      border-left-color: var(--fill-color);\n",
              "      border-top-color: var(--fill-color);\n",
              "      border-right-color: var(--fill-color);\n",
              "    }\n",
              "    40% {\n",
              "      border-color: transparent;\n",
              "      border-right-color: var(--fill-color);\n",
              "      border-top-color: var(--fill-color);\n",
              "    }\n",
              "    60% {\n",
              "      border-color: transparent;\n",
              "      border-right-color: var(--fill-color);\n",
              "    }\n",
              "    80% {\n",
              "      border-color: transparent;\n",
              "      border-right-color: var(--fill-color);\n",
              "      border-bottom-color: var(--fill-color);\n",
              "    }\n",
              "    90% {\n",
              "      border-color: transparent;\n",
              "      border-bottom-color: var(--fill-color);\n",
              "    }\n",
              "  }\n",
              "</style>\n",
              "\n",
              "      <script>\n",
              "        async function quickchart(key) {\n",
              "          const quickchartButtonEl =\n",
              "            document.querySelector('#' + key + ' button');\n",
              "          quickchartButtonEl.disabled = true;  // To prevent multiple clicks.\n",
              "          quickchartButtonEl.classList.add('colab-df-spinner');\n",
              "          try {\n",
              "            const charts = await google.colab.kernel.invokeFunction(\n",
              "                'suggestCharts', [key], {});\n",
              "          } catch (error) {\n",
              "            console.error('Error during call to suggestCharts:', error);\n",
              "          }\n",
              "          quickchartButtonEl.classList.remove('colab-df-spinner');\n",
              "          quickchartButtonEl.classList.add('colab-df-quickchart-complete');\n",
              "        }\n",
              "        (() => {\n",
              "          let quickchartButtonEl =\n",
              "            document.querySelector('#df-e2c4603b-8fa3-4d68-8c8a-fbd29f2a33a3 button');\n",
              "          quickchartButtonEl.style.display =\n",
              "            google.colab.kernel.accessAllowed ? 'block' : 'none';\n",
              "        })();\n",
              "      </script>\n",
              "    </div>\n",
              "\n",
              "    </div>\n",
              "  </div>\n"
            ],
            "application/vnd.google.colaboratory.intrinsic+json": {
              "type": "dataframe",
              "summary": "{\n  \"name\": \"df[(df['Age'] > 30) & (df['Salary'] > 60000)]\",\n  \"rows\": 2,\n  \"fields\": [\n    {\n      \"column\": \"Name\",\n      \"properties\": {\n        \"dtype\": \"string\",\n        \"num_unique_values\": 2,\n        \"samples\": [\n          \"Charlie\",\n          \"Bob\"\n        ],\n        \"semantic_type\": \"\",\n        \"description\": \"\"\n      }\n    },\n    {\n      \"column\": \"Age\",\n      \"properties\": {\n        \"dtype\": \"number\",\n        \"std\": 1,\n        \"min\": 33,\n        \"max\": 35,\n        \"num_unique_values\": 2,\n        \"samples\": [\n          33,\n          35\n        ],\n        \"semantic_type\": \"\",\n        \"description\": \"\"\n      }\n    },\n    {\n      \"column\": \"Salary\",\n      \"properties\": {\n        \"dtype\": \"number\",\n        \"std\": 3889.087296526006,\n        \"min\": 60500.00000000001,\n        \"max\": 66000.0,\n        \"num_unique_values\": 2,\n        \"samples\": [\n          60500.00000000001,\n          66000.0\n        ],\n        \"semantic_type\": \"\",\n        \"description\": \"\"\n      }\n    },\n    {\n      \"column\": \"Income_per_Age\",\n      \"properties\": {\n        \"dtype\": \"number\",\n        \"std\": 37.038926633581,\n        \"min\": 1833.3333333333335,\n        \"max\": 1885.7142857142858,\n        \"num_unique_values\": 2,\n        \"samples\": [\n          1833.3333333333335,\n          1885.7142857142858\n        ],\n        \"semantic_type\": \"\",\n        \"description\": \"\"\n      }\n    },\n    {\n      \"column\": \"Total\",\n      \"properties\": {\n        \"dtype\": \"number\",\n        \"std\": 3890.5015100883793,\n        \"min\": 60533.00000000001,\n        \"max\": 66035.0,\n        \"num_unique_values\": 2,\n        \"samples\": [\n          60533.00000000001,\n          66035.0\n        ],\n        \"semantic_type\": \"\",\n        \"description\": \"\"\n      }\n    }\n  ]\n}"
            }
          },
          "metadata": {},
          "execution_count": 17
        }
      ]
    },
    {
      "cell_type": "markdown",
      "source": [
        "\n",
        "> Remember to wrap each condition in parentheses."
      ],
      "metadata": {
        "id": "MKOpgKEBfy1_"
      }
    },
    {
      "cell_type": "markdown",
      "source": [
        "# Filtering Strings\n",
        "\n",
        "You can filter rows where a text column contains specific values"
      ],
      "metadata": {
        "id": "35ZeG0GFfuK8"
      }
    },
    {
      "cell_type": "code",
      "source": [
        "# Filter rows where Name contains \"Bob\"\n",
        "df[df['Name'].str.contains(\"Bob\")]"
      ],
      "metadata": {
        "id": "iE-QQhCogNO-",
        "colab": {
          "base_uri": "https://localhost:8080/",
          "height": 81
        },
        "outputId": "d30e5676-f1a0-4b72-cfb2-17bf06777c78"
      },
      "execution_count": 18,
      "outputs": [
        {
          "output_type": "execute_result",
          "data": {
            "text/plain": [
              "  Name  Age   Salary  Income_per_Age    Total\n",
              "1  Bob   35  66000.0     1885.714286  66035.0"
            ],
            "text/html": [
              "\n",
              "  <div id=\"df-4df682d9-425f-41f9-b717-bdf1bace0773\" class=\"colab-df-container\">\n",
              "    <div>\n",
              "<style scoped>\n",
              "    .dataframe tbody tr th:only-of-type {\n",
              "        vertical-align: middle;\n",
              "    }\n",
              "\n",
              "    .dataframe tbody tr th {\n",
              "        vertical-align: top;\n",
              "    }\n",
              "\n",
              "    .dataframe thead th {\n",
              "        text-align: right;\n",
              "    }\n",
              "</style>\n",
              "<table border=\"1\" class=\"dataframe\">\n",
              "  <thead>\n",
              "    <tr style=\"text-align: right;\">\n",
              "      <th></th>\n",
              "      <th>Name</th>\n",
              "      <th>Age</th>\n",
              "      <th>Salary</th>\n",
              "      <th>Income_per_Age</th>\n",
              "      <th>Total</th>\n",
              "    </tr>\n",
              "  </thead>\n",
              "  <tbody>\n",
              "    <tr>\n",
              "      <th>1</th>\n",
              "      <td>Bob</td>\n",
              "      <td>35</td>\n",
              "      <td>66000.0</td>\n",
              "      <td>1885.714286</td>\n",
              "      <td>66035.0</td>\n",
              "    </tr>\n",
              "  </tbody>\n",
              "</table>\n",
              "</div>\n",
              "    <div class=\"colab-df-buttons\">\n",
              "\n",
              "  <div class=\"colab-df-container\">\n",
              "    <button class=\"colab-df-convert\" onclick=\"convertToInteractive('df-4df682d9-425f-41f9-b717-bdf1bace0773')\"\n",
              "            title=\"Convert this dataframe to an interactive table.\"\n",
              "            style=\"display:none;\">\n",
              "\n",
              "  <svg xmlns=\"http://www.w3.org/2000/svg\" height=\"24px\" viewBox=\"0 -960 960 960\">\n",
              "    <path d=\"M120-120v-720h720v720H120Zm60-500h600v-160H180v160Zm220 220h160v-160H400v160Zm0 220h160v-160H400v160ZM180-400h160v-160H180v160Zm440 0h160v-160H620v160ZM180-180h160v-160H180v160Zm440 0h160v-160H620v160Z\"/>\n",
              "  </svg>\n",
              "    </button>\n",
              "\n",
              "  <style>\n",
              "    .colab-df-container {\n",
              "      display:flex;\n",
              "      gap: 12px;\n",
              "    }\n",
              "\n",
              "    .colab-df-convert {\n",
              "      background-color: #E8F0FE;\n",
              "      border: none;\n",
              "      border-radius: 50%;\n",
              "      cursor: pointer;\n",
              "      display: none;\n",
              "      fill: #1967D2;\n",
              "      height: 32px;\n",
              "      padding: 0 0 0 0;\n",
              "      width: 32px;\n",
              "    }\n",
              "\n",
              "    .colab-df-convert:hover {\n",
              "      background-color: #E2EBFA;\n",
              "      box-shadow: 0px 1px 2px rgba(60, 64, 67, 0.3), 0px 1px 3px 1px rgba(60, 64, 67, 0.15);\n",
              "      fill: #174EA6;\n",
              "    }\n",
              "\n",
              "    .colab-df-buttons div {\n",
              "      margin-bottom: 4px;\n",
              "    }\n",
              "\n",
              "    [theme=dark] .colab-df-convert {\n",
              "      background-color: #3B4455;\n",
              "      fill: #D2E3FC;\n",
              "    }\n",
              "\n",
              "    [theme=dark] .colab-df-convert:hover {\n",
              "      background-color: #434B5C;\n",
              "      box-shadow: 0px 1px 3px 1px rgba(0, 0, 0, 0.15);\n",
              "      filter: drop-shadow(0px 1px 2px rgba(0, 0, 0, 0.3));\n",
              "      fill: #FFFFFF;\n",
              "    }\n",
              "  </style>\n",
              "\n",
              "    <script>\n",
              "      const buttonEl =\n",
              "        document.querySelector('#df-4df682d9-425f-41f9-b717-bdf1bace0773 button.colab-df-convert');\n",
              "      buttonEl.style.display =\n",
              "        google.colab.kernel.accessAllowed ? 'block' : 'none';\n",
              "\n",
              "      async function convertToInteractive(key) {\n",
              "        const element = document.querySelector('#df-4df682d9-425f-41f9-b717-bdf1bace0773');\n",
              "        const dataTable =\n",
              "          await google.colab.kernel.invokeFunction('convertToInteractive',\n",
              "                                                    [key], {});\n",
              "        if (!dataTable) return;\n",
              "\n",
              "        const docLinkHtml = 'Like what you see? Visit the ' +\n",
              "          '<a target=\"_blank\" href=https://colab.research.google.com/notebooks/data_table.ipynb>data table notebook</a>'\n",
              "          + ' to learn more about interactive tables.';\n",
              "        element.innerHTML = '';\n",
              "        dataTable['output_type'] = 'display_data';\n",
              "        await google.colab.output.renderOutput(dataTable, element);\n",
              "        const docLink = document.createElement('div');\n",
              "        docLink.innerHTML = docLinkHtml;\n",
              "        element.appendChild(docLink);\n",
              "      }\n",
              "    </script>\n",
              "  </div>\n",
              "\n",
              "\n",
              "    </div>\n",
              "  </div>\n"
            ],
            "application/vnd.google.colaboratory.intrinsic+json": {
              "type": "dataframe",
              "summary": "{\n  \"name\": \"df[df['Name']\",\n  \"rows\": 1,\n  \"fields\": [\n    {\n      \"column\": \"Name\",\n      \"properties\": {\n        \"dtype\": \"string\",\n        \"num_unique_values\": 1,\n        \"samples\": [\n          \"Bob\"\n        ],\n        \"semantic_type\": \"\",\n        \"description\": \"\"\n      }\n    },\n    {\n      \"column\": \"Age\",\n      \"properties\": {\n        \"dtype\": \"number\",\n        \"std\": null,\n        \"min\": 35,\n        \"max\": 35,\n        \"num_unique_values\": 1,\n        \"samples\": [\n          35\n        ],\n        \"semantic_type\": \"\",\n        \"description\": \"\"\n      }\n    },\n    {\n      \"column\": \"Salary\",\n      \"properties\": {\n        \"dtype\": \"number\",\n        \"std\": null,\n        \"min\": 66000.0,\n        \"max\": 66000.0,\n        \"num_unique_values\": 1,\n        \"samples\": [\n          66000.0\n        ],\n        \"semantic_type\": \"\",\n        \"description\": \"\"\n      }\n    },\n    {\n      \"column\": \"Income_per_Age\",\n      \"properties\": {\n        \"dtype\": \"number\",\n        \"std\": null,\n        \"min\": 1885.7142857142858,\n        \"max\": 1885.7142857142858,\n        \"num_unique_values\": 1,\n        \"samples\": [\n          1885.7142857142858\n        ],\n        \"semantic_type\": \"\",\n        \"description\": \"\"\n      }\n    },\n    {\n      \"column\": \"Total\",\n      \"properties\": {\n        \"dtype\": \"number\",\n        \"std\": null,\n        \"min\": 66035.0,\n        \"max\": 66035.0,\n        \"num_unique_values\": 1,\n        \"samples\": [\n          66035.0\n        ],\n        \"semantic_type\": \"\",\n        \"description\": \"\"\n      }\n    }\n  ]\n}"
            }
          },
          "metadata": {},
          "execution_count": 18
        }
      ]
    },
    {
      "cell_type": "markdown",
      "source": [
        "##Unique Values and Counting\n",
        "\n",
        "Sometimes you want to check how many unique values a column has, or count how often each appears."
      ],
      "metadata": {
        "id": "1o6BqORKgTgt"
      }
    },
    {
      "cell_type": "code",
      "source": [
        "# Unique names\n",
        "print(df['Name'].unique())\n",
        "\n",
        "# Count frequency of each name\n",
        "print(df['Name'].value_counts())\n"
      ],
      "metadata": {
        "id": "rCaQ4dI9fcH-",
        "colab": {
          "base_uri": "https://localhost:8080/"
        },
        "outputId": "f704dac3-e3b4-41c7-bbfe-de072331031e"
      },
      "execution_count": 19,
      "outputs": [
        {
          "output_type": "stream",
          "name": "stdout",
          "text": [
            "['Alice' 'Bob' 'Charlie']\n",
            "Name\n",
            "Alice      1\n",
            "Bob        1\n",
            "Charlie    1\n",
            "Name: count, dtype: int64\n"
          ]
        }
      ]
    },
    {
      "cell_type": "markdown",
      "source": [
        "# Applying Aggregation Functions Directly to a DataFrame\n",
        "\n",
        "One of the strengths of Pandas is that you can apply statistical and aggregation methods directly to a DataFrame or Series. These methods summarize data and provide insights without needing extra loops or manual calculations.\n",
        "\n",
        "### Common Aggregation Methods\n",
        "\n",
        "Here are some of the most commonly used methods:\n",
        "\n",
        "| Method        | Description                                              | Works On           |\n",
        "|---------------|----------------------------------------------------------|--------------------|\n",
        "| `.sum()`      | Returns the **sum** of values                            | DataFrame / Series |\n",
        "| `.mean()`     | Returns the **average (mean)** value                     | DataFrame / Series |\n",
        "| `.count()`    | Counts **non-null values**                               | DataFrame / Series |\n",
        "| `.min()`      | Returns the **minimum** value                            | DataFrame / Series |\n",
        "| `.max()`      | Returns the **maximum** value                            | DataFrame / Series |\n",
        "| `.std()`      | Returns the **standard deviation**                       | DataFrame / Series |\n",
        "| `.var()`      | Returns the **variance**                                 | DataFrame / Series |\n",
        "| `.describe()` | Generates **summary statistics** (count, mean, std, min, quartiles, max) | DataFrame / Series |\n",
        "\n",
        "\n",
        "Example: Aggregating a Series\n"
      ],
      "metadata": {
        "id": "1R3Q7zkRhRwO"
      }
    },
    {
      "cell_type": "code",
      "source": [
        "import pandas as pd\n",
        "\n",
        "# Salary data\n",
        "salaries = pd.Series([50000, 60000, 55000, 65000, 70000])\n",
        "\n",
        "print(\"Sum:\", salaries.sum())\n",
        "print(\"Mean:\", salaries.mean())\n",
        "print(\"Max:\", salaries.max())\n",
        "print(\"Std Dev:\", salaries.std())"
      ],
      "metadata": {
        "id": "lnxZjp8KhtzD",
        "colab": {
          "base_uri": "https://localhost:8080/"
        },
        "outputId": "d0efb89a-571a-4bc3-dd60-689840a716fe"
      },
      "execution_count": 20,
      "outputs": [
        {
          "output_type": "stream",
          "name": "stdout",
          "text": [
            "Sum: 300000\n",
            "Mean: 60000.0\n",
            "Max: 70000\n",
            "Std Dev: 7905.694150420948\n"
          ]
        }
      ]
    },
    {
      "cell_type": "markdown",
      "source": [
        "Each method is applied directly to the Series, returning a single value."
      ],
      "metadata": {
        "id": "FVJA5pfThk24"
      }
    },
    {
      "cell_type": "markdown",
      "source": [
        "Example: Aggregating a DataFrame"
      ],
      "metadata": {
        "id": "O0Gf_RHNhsKb"
      }
    },
    {
      "cell_type": "code",
      "source": [
        "data = {\n",
        "    'Name': ['Alice', 'Bob', 'Charlie'],\n",
        "    'Age': [24, 30, 28],\n",
        "    'Salary': [50000, 60000, 55000]\n",
        "}\n",
        "df = pd.DataFrame(data)\n",
        "\n",
        "print(df.sum(numeric_only=True))   # Sum of numeric columns\n",
        "print(df.mean(numeric_only=True))  # Mean of numeric columns\n",
        "print(df.describe())"
      ],
      "metadata": {
        "id": "dkk1yAc2hyuk",
        "colab": {
          "base_uri": "https://localhost:8080/"
        },
        "outputId": "d9b91321-584e-4e66-e767-5a5fab69797c"
      },
      "execution_count": 21,
      "outputs": [
        {
          "output_type": "stream",
          "name": "stdout",
          "text": [
            "Age           82\n",
            "Salary    165000\n",
            "dtype: int64\n",
            "Age          27.333333\n",
            "Salary    55000.000000\n",
            "dtype: float64\n",
            "             Age   Salary\n",
            "count   3.000000      3.0\n",
            "mean   27.333333  55000.0\n",
            "std     3.055050   5000.0\n",
            "min    24.000000  50000.0\n",
            "25%    26.000000  52500.0\n",
            "50%    28.000000  55000.0\n",
            "75%    29.000000  57500.0\n",
            "max    30.000000  60000.0\n"
          ]
        }
      ]
    },
    {
      "cell_type": "markdown",
      "source": [
        "Notice how these functions automatically ignore non-numeric columns (like “Name”)."
      ],
      "metadata": {
        "id": "Tj7rAIVYh20H"
      }
    },
    {
      "cell_type": "markdown",
      "source": [
        "# More Advanced: Filtering Data & Apply Statistical Functions\n",
        "\n",
        "We can combine **row filtering** with **aggregation functions** to analyze subsets of a DataFrame.  \n",
        "\n",
        "The general syntax is:\n",
        "\n",
        "> **df[df['column_name'] <condition> value]['target_column'].function()**\n",
        "\n",
        "where:\n",
        "\n",
        "- df[...] → filters the rows that meet the condition\n",
        "\n",
        "- ['target_column'] → selects the column to aggregate\n",
        "\n",
        "- .function() → applies the aggregation function\n"
      ],
      "metadata": {
        "id": "eFHc6gW2hIS6"
      }
    },
    {
      "cell_type": "code",
      "source": [
        "import pandas as pd\n",
        "\n",
        "data = {\n",
        "    'Name': ['Alice', 'Bob', 'Charlie', 'David'],\n",
        "    'Age': [24, 35, 28, 40],\n",
        "    'Salary': [50000, 66000, 55000, 70000]\n",
        "}\n",
        "df = pd.DataFrame(data)\n",
        "\n",
        "# Average salary of employees older than 30\n",
        "avg_salary = df[df['Age'] > 30]['Salary'].mean()\n",
        "print(avg_salary)\n",
        "\n",
        "# Maximum salary for employees younger than 30\n",
        "df[df['Age'] < 30]['Salary'].max()\n",
        "\n",
        "# Count employees with salary above 60,000\n",
        "df[df['Salary'] > 60000]['Name'].count()\n",
        "\n",
        "# Standard deviation of salary for people aged 25–40\n",
        "df[(df['Age'] >= 25) & (df['Age'] <= 40)]['Salary'].std()"
      ],
      "metadata": {
        "id": "k2NT3sxaify4",
        "colab": {
          "base_uri": "https://localhost:8080/"
        },
        "outputId": "fb47fbac-a110-46bd-f948-914125efbdb2"
      },
      "execution_count": 22,
      "outputs": [
        {
          "output_type": "stream",
          "name": "stdout",
          "text": [
            "68000.0\n"
          ]
        },
        {
          "output_type": "execute_result",
          "data": {
            "text/plain": [
              "7767.45346515403"
            ]
          },
          "metadata": {},
          "execution_count": 22
        }
      ]
    },
    {
      "cell_type": "markdown",
      "source": [
        "So the syntax pattern is:\n",
        "\n",
        "df[ df['condition'] ]['column'].aggregation()\n",
        "\n",
        "| Expression                                                  | Meaning                                          |\n",
        "| ----------------------------------------------------------- | ------------------------------------------------ |\n",
        "| `df[df['Age'] > 30]['Salary'].mean()`                       | Mean of Salary where Age > 30                    |\n",
        "| `df[df['Salary'] > 60000]['Name'].count()`                  | Count of employees with Salary > 60k             |\n",
        "| `df[(df['Age'] >= 25) & (df['Age'] <= 40)]['Salary'].std()` | Standard deviation of Salary for 25–40 year olds |\n",
        "\n",
        "\n",
        "This pattern allows you to filter data first, then aggregate only on the rows that meet your condition."
      ],
      "metadata": {
        "id": "a09XGUk-im7D"
      }
    },
    {
      "cell_type": "markdown",
      "source": [
        "# Grouping Data with `groupby`\n",
        "\n",
        "While filtering + aggregation lets us summarize a **subset** of data, the `groupby()` method allows us to compute statistics **across categories**.  \n",
        "This is the classic **split–apply–combine** process:\n",
        "\n",
        "1. **Split** data into groups based on one or more columns.  \n",
        "2. **Apply** an aggregation function to each group.  \n",
        "3. **Combine** results into a new DataFrame or Series.  \n",
        "\n",
        "---\n",
        "\n",
        "## Basic Syntax\n",
        "\n",
        "> df.groupby('column_name')['target_column'].aggregation_function()\n",
        "where:\n",
        "- `groupby('column_name')` → splits the data into groups.  \n",
        "- `['target_column']` → selects the column to aggregate.  \n",
        "- `.aggregation_function()` → applies functions like `mean()`, `sum()`, `count()`.  \n"
      ],
      "metadata": {
        "id": "ikWl-Qt6jAaW"
      }
    },
    {
      "cell_type": "code",
      "source": [
        "## Example: Salary by Department\n",
        "\n",
        "import pandas as pd\n",
        "\n",
        "# Sample dataset\n",
        "data = {\n",
        "    'Department': ['HR','HR','IT','IT','Finance','Finance'],\n",
        "    'Employee': ['Alice','Bob','Charlie','David','Eva','Frank'],\n",
        "    'Salary': [50000, 52000, 60000, 62000, 58000, 60000]\n",
        "}\n",
        "df = pd.DataFrame(data)\n",
        "print(df)\n",
        "\n",
        "# Average salary per department\n",
        "df.groupby('Department')['Salary'].mean()\n",
        "\n"
      ],
      "metadata": {
        "id": "63Exf7BtjM84",
        "colab": {
          "base_uri": "https://localhost:8080/",
          "height": 335
        },
        "outputId": "6180bbbc-d3e5-40ee-d7d1-0bedc24da364"
      },
      "execution_count": 23,
      "outputs": [
        {
          "output_type": "stream",
          "name": "stdout",
          "text": [
            "  Department Employee  Salary\n",
            "0         HR    Alice   50000\n",
            "1         HR      Bob   52000\n",
            "2         IT  Charlie   60000\n",
            "3         IT    David   62000\n",
            "4    Finance      Eva   58000\n",
            "5    Finance    Frank   60000\n"
          ]
        },
        {
          "output_type": "execute_result",
          "data": {
            "text/plain": [
              "Department\n",
              "Finance    59000.0\n",
              "HR         51000.0\n",
              "IT         61000.0\n",
              "Name: Salary, dtype: float64"
            ],
            "text/html": [
              "<div>\n",
              "<style scoped>\n",
              "    .dataframe tbody tr th:only-of-type {\n",
              "        vertical-align: middle;\n",
              "    }\n",
              "\n",
              "    .dataframe tbody tr th {\n",
              "        vertical-align: top;\n",
              "    }\n",
              "\n",
              "    .dataframe thead th {\n",
              "        text-align: right;\n",
              "    }\n",
              "</style>\n",
              "<table border=\"1\" class=\"dataframe\">\n",
              "  <thead>\n",
              "    <tr style=\"text-align: right;\">\n",
              "      <th></th>\n",
              "      <th>Salary</th>\n",
              "    </tr>\n",
              "    <tr>\n",
              "      <th>Department</th>\n",
              "      <th></th>\n",
              "    </tr>\n",
              "  </thead>\n",
              "  <tbody>\n",
              "    <tr>\n",
              "      <th>Finance</th>\n",
              "      <td>59000.0</td>\n",
              "    </tr>\n",
              "    <tr>\n",
              "      <th>HR</th>\n",
              "      <td>51000.0</td>\n",
              "    </tr>\n",
              "    <tr>\n",
              "      <th>IT</th>\n",
              "      <td>61000.0</td>\n",
              "    </tr>\n",
              "  </tbody>\n",
              "</table>\n",
              "</div><br><label><b>dtype:</b> float64</label>"
            ]
          },
          "metadata": {},
          "execution_count": 23
        }
      ]
    },
    {
      "cell_type": "markdown",
      "source": [
        "### Grouping by Multiple Columns"
      ],
      "metadata": {
        "id": "QW7Ga5CFjV9p"
      }
    },
    {
      "cell_type": "code",
      "source": [
        "# Example dataset with Region added\n",
        "data2 = {\n",
        "    'Department': ['HR','HR','IT','IT','Finance','Finance'],\n",
        "    'Region': ['East','West','East','West','East','West'],\n",
        "    'Salary': [50000, 52000, 60000, 62000, 58000, 60000]\n",
        "}\n",
        "df2 = pd.DataFrame(data2)\n",
        "\n",
        "# Group by Department and Region\n",
        "df2.groupby(['Department','Region'])['Salary'].mean()"
      ],
      "metadata": {
        "id": "hoxt1cFIi2j2",
        "colab": {
          "base_uri": "https://localhost:8080/",
          "height": 304
        },
        "outputId": "420cb919-397f-44f7-ee31-a9cca7792c92"
      },
      "execution_count": 24,
      "outputs": [
        {
          "output_type": "execute_result",
          "data": {
            "text/plain": [
              "Department  Region\n",
              "Finance     East      58000.0\n",
              "            West      60000.0\n",
              "HR          East      50000.0\n",
              "            West      52000.0\n",
              "IT          East      60000.0\n",
              "            West      62000.0\n",
              "Name: Salary, dtype: float64"
            ],
            "text/html": [
              "<div>\n",
              "<style scoped>\n",
              "    .dataframe tbody tr th:only-of-type {\n",
              "        vertical-align: middle;\n",
              "    }\n",
              "\n",
              "    .dataframe tbody tr th {\n",
              "        vertical-align: top;\n",
              "    }\n",
              "\n",
              "    .dataframe thead th {\n",
              "        text-align: right;\n",
              "    }\n",
              "</style>\n",
              "<table border=\"1\" class=\"dataframe\">\n",
              "  <thead>\n",
              "    <tr style=\"text-align: right;\">\n",
              "      <th></th>\n",
              "      <th></th>\n",
              "      <th>Salary</th>\n",
              "    </tr>\n",
              "    <tr>\n",
              "      <th>Department</th>\n",
              "      <th>Region</th>\n",
              "      <th></th>\n",
              "    </tr>\n",
              "  </thead>\n",
              "  <tbody>\n",
              "    <tr>\n",
              "      <th rowspan=\"2\" valign=\"top\">Finance</th>\n",
              "      <th>East</th>\n",
              "      <td>58000.0</td>\n",
              "    </tr>\n",
              "    <tr>\n",
              "      <th>West</th>\n",
              "      <td>60000.0</td>\n",
              "    </tr>\n",
              "    <tr>\n",
              "      <th rowspan=\"2\" valign=\"top\">HR</th>\n",
              "      <th>East</th>\n",
              "      <td>50000.0</td>\n",
              "    </tr>\n",
              "    <tr>\n",
              "      <th>West</th>\n",
              "      <td>52000.0</td>\n",
              "    </tr>\n",
              "    <tr>\n",
              "      <th rowspan=\"2\" valign=\"top\">IT</th>\n",
              "      <th>East</th>\n",
              "      <td>60000.0</td>\n",
              "    </tr>\n",
              "    <tr>\n",
              "      <th>West</th>\n",
              "      <td>62000.0</td>\n",
              "    </tr>\n",
              "  </tbody>\n",
              "</table>\n",
              "</div><br><label><b>dtype:</b> float64</label>"
            ]
          },
          "metadata": {},
          "execution_count": 24
        }
      ]
    },
    {
      "cell_type": "markdown",
      "source": [
        "#Exporting Data in Pandas\n",
        "\n",
        "After processing your data in Pandas, you can save it to files in various formats:\n",
        "\n",
        "| Format      | Function                  | Key Parameters / Notes                                           | Example Usage |\n",
        "|------------|---------------------------|-----------------------------------------------------------------|---------------|\n",
        "| CSV        | `to_csv()`                | `index=False` to skip row numbers, `sep='\\t'` for tab-delimited | `df.to_csv('data.csv', index=False)` |\n",
        "| Excel      | `to_excel()`              | `sheet_name='Sheet1'`, requires `openpyxl`                     | `df.to_excel('data.xlsx', index=False)` |\n",
        "| JSON       | `to_json()`               | `orient='records'`, `lines=True` for line-delimited JSON       | `df.to_json('data.json', orient='records', lines=True)` |\n",
        "| Pickle     | `to_pickle()`             | Python-specific, fast binary format                             | `df.to_pickle('data.pkl')` |\n",
        "| HTML       | `to_html()`               | Saves as an HTML table                                         | `df.to_html('data.html', index=False)` |\n",
        "| Parquet    | `to_parquet()`            | Efficient columnar format, great for big data                  | `df.to_parquet('data.parquet', index=False)` |\n",
        "\n",
        "**Tip:** Always choose the format based on your use case:  \n",
        "- CSV → universal, easy sharing  \n",
        "- Excel → spreadsheets  \n",
        "- JSON → web APIs or NoSQL  \n",
        "- Parquet → large datasets, high performance\n"
      ],
      "metadata": {
        "id": "Wapl_huPEXBy"
      }
    },
    {
      "cell_type": "code",
      "source": [
        "# Save CSV\n",
        "df.to_csv('output.csv', index=False)\n",
        "print(\"CSV file 'output.csv' created successfully.\")\n",
        "\n",
        "# Save tab-separated CSV\n",
        "df2.to_csv('output_tab.csv', sep='\\t', index=False)\n",
        "print(\"Tab-separated CSV file 'output_tab.csv' created successfully.\")\n",
        "\n",
        "# Save Excel\n",
        "df.to_excel('output.xlsx', index=False, sheet_name='Sheet1')\n",
        "print(\"Excel file 'output.xlsx' created successfully.\")\n",
        "\n",
        "# Save JSON\n",
        "df2.to_json('output.json', orient='records', lines=True)\n",
        "print(\"JSON file 'output.json' created successfully.\")\n"
      ],
      "metadata": {
        "colab": {
          "base_uri": "https://localhost:8080/"
        },
        "id": "QZIsa-VbE1AU",
        "outputId": "fba4f107-0020-4e12-c990-f34058dfcc9d"
      },
      "execution_count": 25,
      "outputs": [
        {
          "output_type": "stream",
          "name": "stdout",
          "text": [
            "CSV file 'output.csv' created successfully.\n",
            "Tab-separated CSV file 'output_tab.csv' created successfully.\n",
            "Excel file 'output.xlsx' created successfully.\n",
            "JSON file 'output.json' created successfully.\n"
          ]
        }
      ]
    },
    {
      "cell_type": "markdown",
      "source": [
        "# Exporting Pandas Data in Google Colab\n",
        "\n",
        "In Colab, you can save files directly to Google Drive. First, mount your Drive:\n",
        "\n",
        "```python\n",
        "from google.colab import drive\n",
        "drive.mount('/content/drive')  # Follow the link and paste the authorization code"
      ],
      "metadata": {
        "id": "KnSw3TkhExSo"
      }
    },
    {
      "cell_type": "markdown",
      "source": [
        "# The pandas Ecosystem: How It Fits In\n",
        "\n",
        "Pandas does not exist in a vacuum. It is a central hub in the Python data science stack:\n",
        "\n",
        "* **NumPy:** Provides the foundational n-dimensional array object. Pandas DataFrames are built on top of NumPy arrays.\n",
        "\n",
        "* **Matplotlib/Seaborn:** Used for visualization. You can plot data directly from DataFrames and Series.\n",
        "\n",
        "* **Scikit-learn:** The premier machine learning library. It accepts DataFrames and Series as inputs for model training.\n",
        "\n",
        "* **Jupyter Notebooks:** The ideal interactive environment for exploratory data analysis with pandas."
      ],
      "metadata": {
        "id": "0bXTuPLTqgts"
      }
    },
    {
      "cell_type": "markdown",
      "source": [
        "# When to Use Pandas (And When Not To)\n",
        "\n",
        "##Use pandas when:\n",
        "\n",
        "* Working with tabular data (like spreadsheets or database tables)\n",
        "\n",
        "* Data cleaning and preprocessing\n",
        "\n",
        "* Exploratory data analysis\n",
        "\n",
        "* Medium-sized datasets (up to a few gigabytes)\n",
        "\n",
        "##Consider alternatives when:\n",
        "\n",
        "* Working with very large datasets that don't fit in memory.\n",
        "\n",
        "* Need extremely high performance for numerical computations (consider NumPy directly)\n",
        "\n",
        "* Working with unstructured data like images or text"
      ],
      "metadata": {
        "id": "t64_990fqNPO"
      }
    },
    {
      "cell_type": "markdown",
      "source": [
        "# Key Takeaways\n",
        "\n",
        "\n",
        "*   Filtering + Aggregation → summarize specific rows based on conditions.\n",
        "*   GroupBy + Aggregation → summarize categories (all groups at once).\n",
        "*   Grouping can be done on one or multiple columns."
      ],
      "metadata": {
        "id": "nGvPQctejcAR"
      }
    },
    {
      "cell_type": "markdown",
      "source": [
        "# Summary of Pandas: Key Features at a Glance\n",
        "\n",
        "* **Data Import/Export:** Read from and write to CSV, Excel, SQL, JSON, and many other formats\n",
        "\n",
        "* **Data Cleaning:** Handle missing values, remove duplicates, filter outliers\n",
        "\n",
        "* **Data Transformation:** Reshape, pivot, melt, and transform your data\n",
        "\n",
        "* **Data Aggregation:** Group by categories and compute summary statistics\n",
        "\n",
        "* **Time Series Analysis:** Work with dates and times effortlessly\n",
        "\n",
        "* **Visualization Integration:** Works seamlessly with Matplotlib and Seaborn"
      ],
      "metadata": {
        "id": "G_glPDb6p-1M"
      }
    },
    {
      "cell_type": "markdown",
      "source": [
        "## Knowledge Check\n",
        "\n",
        "<iframe\n",
        "src=\"https://docs.google.com/forms/d/e/1FAIpQLSdFEUF3np_FedX1B3jg6jXIRIqPvPMBCoiSSpQ6SPNGMTM3RA/viewform?embedded=true\"   width=\"100%\"\n",
        "  height=\"800px\"\n",
        "  frameborder=\"0\"\n",
        "  style=\"min-height: 800px; height: 100vh\"\n",
        ">Loading…</iframe>"
      ],
      "metadata": {
        "id": "iv_Qt4B0TXPG"
      }
    }
  ]
}