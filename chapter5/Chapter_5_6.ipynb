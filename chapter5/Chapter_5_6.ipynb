{
 "cells": [
  {
   "cell_type": "markdown",
   "source": [
    "# Key Takeaways\n",
    "\n",
    "\n",
    "*   Filtering + Aggregation \u2192 summarize specific rows based on conditions.\n",
    "*   GroupBy + Aggregation \u2192 summarize categories (all groups at once).\n",
    "*   Grouping can be done on one or multiple columns."
   ],
   "metadata": {
    "id": "nGvPQctejcAR"
   }
  },
  {
   "cell_type": "markdown",
   "source": [
    "# Summary of Pandas: Key Features at a Glance\n",
    "\n",
    "* **Data Import/Export:** Read from and write to CSV, Excel, SQL, JSON, and many other formats\n",
    "\n",
    "* **Data Cleaning:** Handle missing values, remove duplicates, filter outliers\n",
    "\n",
    "* **Data Transformation:** Reshape, pivot, melt, and transform your data\n",
    "\n",
    "* **Data Aggregation:** Group by categories and compute summary statistics\n",
    "\n",
    "* **Time Series Analysis:** Work with dates and times effortlessly\n",
    "\n",
    "* **Visualization Integration:** Works seamlessly with Matplotlib and Seaborn"
   ],
   "metadata": {
    "id": "G_glPDb6p-1M"
   }
  },
  {
   "cell_type": "markdown",
   "source": [
    "## Knowledge Check\n",
    "\n",
    "<iframe\n",
    "src=\"https://docs.google.com/forms/d/e/1FAIpQLSdFEUF3np_FedX1B3jg6jXIRIqPvPMBCoiSSpQ6SPNGMTM3RA/viewform?embedded=true\"   width=\"100%\"\n",
    "  height=\"800px\"\n",
    "  frameborder=\"0\"\n",
    "  style=\"min-height: 800px; height: 100vh\"\n",
    ">Loading\u2026</iframe>"
   ],
   "metadata": {
    "id": "iv_Qt4B0TXPG"
   }
  }
 ],
 "metadata": {
  "colab": {
   "provenance": []
  },
  "kernelspec": {
   "name": "python3",
   "display_name": "Python 3"
  },
  "language_info": {
   "name": "python"
  }
 },
 "nbformat": 4,
 "nbformat_minor": 0
}