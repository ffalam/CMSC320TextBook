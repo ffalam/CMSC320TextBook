{
 "cells": [
  {
   "cell_type": "markdown",
   "metadata": {
    "id": "1R3Q7zkRhRwO"
   },
   "source": [
    "# Applying Aggregation Functions Directly to a DataFrame\n",
    "\n",
    "One of the strengths of Pandas is that you can apply statistical and aggregation methods directly to a DataFrame or Series. These methods summarize data and provide insights without needing extra loops or manual calculations.\n",
    "\n",
    "### Common Aggregation Methods\n",
    "\n",
    "Here are some of the most commonly used methods:\n",
    "\n",
    "| Method        | Description                                              | Works On           |\n",
    "|---------------|----------------------------------------------------------|--------------------|\n",
    "| `.sum()`      | Returns the **sum** of values                            | DataFrame / Series |\n",
    "| `.mean()`     | Returns the **average (mean)** value                     | DataFrame / Series |\n",
    "| `.count()`    | Counts **non-null values**                               | DataFrame / Series |\n",
    "| `.min()`      | Returns the **minimum** value                            | DataFrame / Series |\n",
    "| `.max()`      | Returns the **maximum** value                            | DataFrame / Series |\n",
    "| `.std()`      | Returns the **standard deviation**                       | DataFrame / Series |\n",
    "| `.var()`      | Returns the **variance**                                 | DataFrame / Series |\n",
    "| `.describe()` | Generates **summary statistics** (count, mean, std, min, quartiles, max) | DataFrame / Series |\n",
    "\n",
    "\n",
    "Example: Aggregating a Series\n"
   ]
  },
  {
   "cell_type": "code",
   "execution_count": null,
   "metadata": {
    "id": "lnxZjp8KhtzD"
   },
   "outputs": [],
   "source": [
    "import pandas as pd\n",
    "\n",
    "# Salary data\n",
    "salaries = pd.Series([50000, 60000, 55000, 65000, 70000])\n",
    "\n",
    "print(\"Sum:\", salaries.sum())\n",
    "print(\"Mean:\", salaries.mean())\n",
    "print(\"Max:\", salaries.max())\n",
    "print(\"Std Dev:\", salaries.std())"
   ]
  },
  {
   "cell_type": "markdown",
   "metadata": {
    "id": "FVJA5pfThk24"
   },
   "source": [
    "Each method is applied directly to the Series, returning a single value."
   ]
  },
  {
   "cell_type": "markdown",
   "metadata": {
    "id": "O0Gf_RHNhsKb"
   },
   "source": [
    "Example: Aggregating a DataFrame"
   ]
  },
  {
   "cell_type": "code",
   "execution_count": null,
   "metadata": {
    "id": "dkk1yAc2hyuk"
   },
   "outputs": [],
   "source": [
    "data = {\n",
    "    'Name': ['Alice', 'Bob', 'Charlie'],\n",
    "    'Age': [24, 30, 28],\n",
    "    'Salary': [50000, 60000, 55000]\n",
    "}\n",
    "df = pd.DataFrame(data)\n",
    "\n",
    "print(df.sum(numeric_only=True))   # Sum of numeric columns\n",
    "print(df.mean(numeric_only=True))  # Mean of numeric columns\n",
    "print(df.describe())"
   ]
  },
  {
   "cell_type": "markdown",
   "metadata": {
    "id": "Tj7rAIVYh20H"
   },
   "source": [
    "Notice how these functions automatically ignore non-numeric columns (like “Name”)."
   ]
  },
  {
   "cell_type": "markdown",
   "metadata": {
    "id": "eFHc6gW2hIS6"
   },
   "source": [
    "# More Advanced: Filtering Data & Apply Statistical Functions\n",
    "\n",
    "We can combine **row filtering** with **aggregation functions** to analyze subsets of a DataFrame.  \n",
    "\n",
    "The general syntax is:\n",
    "\n",
    "> **df[df['column_name'] <condition> value]['target_column'].function()**\n",
    "\n",
    "where:\n",
    "\n",
    "- df[...] → filters the rows that meet the condition\n",
    "\n",
    "- ['target_column'] → selects the column to aggregate\n",
    "\n",
    "- .function() → applies the aggregation function\n"
   ]
  },
  {
   "cell_type": "code",
   "execution_count": null,
   "metadata": {
    "id": "k2NT3sxaify4"
   },
   "outputs": [],
   "source": [
    "import pandas as pd\n",
    "\n",
    "data = {\n",
    "    'Name': ['Alice', 'Bob', 'Charlie', 'David'],\n",
    "    'Age': [24, 35, 28, 40],\n",
    "    'Salary': [50000, 66000, 55000, 70000]\n",
    "}\n",
    "df = pd.DataFrame(data)\n",
    "\n",
    "# Average salary of employees older than 30\n",
    "avg_salary = df[df['Age'] > 30]['Salary'].mean()\n",
    "print(avg_salary)\n",
    "\n",
    "# Maximum salary for employees younger than 30\n",
    "df[df['Age'] < 30]['Salary'].max()\n",
    "\n",
    "# Count employees with salary above 60,000\n",
    "df[df['Salary'] > 60000]['Name'].count()\n",
    "\n",
    "# Standard deviation of salary for people aged 25–40\n",
    "df[(df['Age'] >= 25) & (df['Age'] <= 40)]['Salary'].std()"
   ]
  },
  {
   "cell_type": "markdown",
   "metadata": {
    "id": "a09XGUk-im7D"
   },
   "source": [
    "So the syntax pattern is:\n",
    "\n",
    "df[ df['condition'] ]['column'].aggregation()\n",
    "\n",
    "| Expression                                                  | Meaning                                          |\n",
    "| ----------------------------------------------------------- | ------------------------------------------------ |\n",
    "| `df[df['Age'] > 30]['Salary'].mean()`                       | Mean of Salary where Age > 30                    |\n",
    "| `df[df['Salary'] > 60000]['Name'].count()`                  | Count of employees with Salary > 60k             |\n",
    "| `df[(df['Age'] >= 25) & (df['Age'] <= 40)]['Salary'].std()` | Standard deviation of Salary for 25–40 year olds |\n",
    "\n",
    "\n",
    "This pattern allows you to filter data first, then aggregate only on the rows that meet your condition."
   ]
  },
  {
   "cell_type": "markdown",
   "metadata": {
    "id": "ikWl-Qt6jAaW"
   },
   "source": [
    "# Grouping Data with `groupby`\n",
    "\n",
    "While filtering + aggregation lets us summarize a **subset** of data, the `groupby()` method allows us to compute statistics **across categories**.  \n",
    "This is the classic **split–apply–combine** process:\n",
    "\n",
    "1. **Split** data into groups based on one or more columns.  \n",
    "2. **Apply** an aggregation function to each group.  \n",
    "3. **Combine** results into a new DataFrame or Series.  \n",
    "\n",
    "---\n",
    "\n",
    "## Basic Syntax\n",
    "\n",
    "> df.groupby('column_name')['target_column'].aggregation_function()\n",
    "where:\n",
    "- `groupby('column_name')` → splits the data into groups.  \n",
    "- `['target_column']` → selects the column to aggregate.  \n",
    "- `.aggregation_function()` → applies functions like `mean()`, `sum()`, `count()`.  \n"
   ]
  },
  {
   "cell_type": "code",
   "execution_count": null,
   "metadata": {
    "id": "63Exf7BtjM84"
   },
   "outputs": [],
   "source": [
    "## Example: Salary by Department\n",
    "\n",
    "import pandas as pd\n",
    "\n",
    "# Sample dataset\n",
    "data = {\n",
    "    'Department': ['HR','HR','IT','IT','Finance','Finance'],\n",
    "    'Employee': ['Alice','Bob','Charlie','David','Eva','Frank'],\n",
    "    'Salary': [50000, 52000, 60000, 62000, 58000, 60000]\n",
    "}\n",
    "df = pd.DataFrame(data)\n",
    "print(df)\n",
    "\n",
    "# Average salary per department\n",
    "df.groupby('Department')['Salary'].mean()\n",
    "\n"
   ]
  },
  {
   "cell_type": "markdown",
   "metadata": {
    "id": "QW7Ga5CFjV9p"
   },
   "source": [
    "### Grouping by Multiple Columns"
   ]
  },
  {
   "cell_type": "code",
   "execution_count": null,
   "metadata": {
    "id": "hoxt1cFIi2j2"
   },
   "outputs": [],
   "source": [
    "# Example dataset with Region added\n",
    "data2 = {\n",
    "    'Department': ['HR','HR','IT','IT','Finance','Finance'],\n",
    "    'Region': ['East','West','East','West','East','West'],\n",
    "    'Salary': [50000, 52000, 60000, 62000, 58000, 60000]\n",
    "}\n",
    "df2 = pd.DataFrame(data2)\n",
    "\n",
    "# Group by Department and Region\n",
    "df2.groupby(['Department','Region'])['Salary'].mean()"
   ]
  },
  {
   "cell_type": "markdown",
   "metadata": {
    "id": "c8GII8KsiyDC"
   },
   "source": []
  },
  {
   "cell_type": "markdown",
   "metadata": {
    "id": "0bXTuPLTqgts"
   },
   "source": [
    "# The pandas Ecosystem: How It Fits In\n",
    "\n",
    "Pandas does not exist in a vacuum. It is a central hub in the Python data science stack:\n",
    "\n",
    "* **NumPy:** Provides the foundational n-dimensional array object. Pandas DataFrames are built on top of NumPy arrays.\n",
    "\n",
    "* **Matplotlib/Seaborn:** Used for visualization. You can plot data directly from DataFrames and Series.\n",
    "\n",
    "* **Scikit-learn:** The premier machine learning library. It accepts DataFrames and Series as inputs for model training.\n",
    "\n",
    "* **Jupyter Notebooks:** The ideal interactive environment for exploratory data analysis with pandas."
   ]
  },
  {
   "cell_type": "markdown",
   "metadata": {
    "id": "t64_990fqNPO"
   },
   "source": [
    "# When to Use Pandas (And When Not To)\n",
    "\n",
    "##Use pandas when:\n",
    "\n",
    "* Working with tabular data (like spreadsheets or database tables)\n",
    "\n",
    "* Data cleaning and preprocessing\n",
    "\n",
    "* Exploratory data analysis\n",
    "\n",
    "* Medium-sized datasets (up to a few gigabytes)\n",
    "\n",
    "##Consider alternatives when:\n",
    "\n",
    "* Working with very large datasets that don't fit in memory.\n",
    "\n",
    "* Need extremely high performance for numerical computations (consider NumPy directly)\n",
    "\n",
    "* Working with unstructured data like images or text"
   ]
  }
 ],
 "metadata": {
  "colab": {
   "authorship_tag": "ABX9TyOKNNxcwtTRnE4nGM3xd5O6",
   "provenance": []
  },
  "kernelspec": {
   "display_name": "Python 3",
   "name": "python3"
  },
  "language_info": {
   "name": "python"
  }
 },
 "nbformat": 4,
 "nbformat_minor": 0
}
