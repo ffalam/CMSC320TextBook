{
 "cells": [
  {
   "cell_type": "markdown",
   "metadata": {
    "id": "ikWl-Qt6jAaW"
   },
   "source": [
    "# Grouping Data with `groupby`\n",
    "\n",
    "While filtering + aggregation lets us summarize a **subset** of data, the `groupby()` method allows us to compute statistics **across categories**.  \n",
    "This is the classic **split–apply–combine** process:\n",
    "\n",
    "1. **Split** data into groups based on one or more columns.  \n",
    "2. **Apply** an aggregation function to each group.  \n",
    "3. **Combine** results into a new DataFrame or Series.  \n",
    "\n",
    "---\n",
    "\n",
    "## Basic Syntax\n",
    "\n",
    "> df.groupby('column_name')['target_column'].aggregation_function()\n",
    "where:\n",
    "- `groupby('column_name')` → splits the data into groups.  \n",
    "- `['target_column']` → selects the column to aggregate.  \n",
    "- `.aggregation_function()` → applies functions like `mean()`, `sum()`, `count()`.  \n"
   ]
  },
  {
   "cell_type": "code",
   "execution_count": 23,
   "metadata": {
    "colab": {
     "base_uri": "https://localhost:8080/",
     "height": 335
    },
    "id": "63Exf7BtjM84",
    "outputId": "6180bbbc-d3e5-40ee-d7d1-0bedc24da364"
   },
   "outputs": [
    {
     "name": "stdout",
     "output_type": "stream",
     "text": [
      "  Department Employee  Salary\n",
      "0         HR    Alice   50000\n",
      "1         HR      Bob   52000\n",
      "2         IT  Charlie   60000\n",
      "3         IT    David   62000\n",
      "4    Finance      Eva   58000\n",
      "5    Finance    Frank   60000\n"
     ]
    },
    {
     "data": {
      "text/html": [
       "<div>\n",
       "<style scoped>\n",
       "    .dataframe tbody tr th:only-of-type {\n",
       "        vertical-align: middle;\n",
       "    }\n",
       "\n",
       "    .dataframe tbody tr th {\n",
       "        vertical-align: top;\n",
       "    }\n",
       "\n",
       "    .dataframe thead th {\n",
       "        text-align: right;\n",
       "    }\n",
       "</style>\n",
       "<table border=\"1\" class=\"dataframe\">\n",
       "  <thead>\n",
       "    <tr style=\"text-align: right;\">\n",
       "      <th></th>\n",
       "      <th>Salary</th>\n",
       "    </tr>\n",
       "    <tr>\n",
       "      <th>Department</th>\n",
       "      <th></th>\n",
       "    </tr>\n",
       "  </thead>\n",
       "  <tbody>\n",
       "    <tr>\n",
       "      <th>Finance</th>\n",
       "      <td>59000.0</td>\n",
       "    </tr>\n",
       "    <tr>\n",
       "      <th>HR</th>\n",
       "      <td>51000.0</td>\n",
       "    </tr>\n",
       "    <tr>\n",
       "      <th>IT</th>\n",
       "      <td>61000.0</td>\n",
       "    </tr>\n",
       "  </tbody>\n",
       "</table>\n",
       "</div><br><label><b>dtype:</b> float64</label>"
      ],
      "text/plain": [
       "Department\n",
       "Finance    59000.0\n",
       "HR         51000.0\n",
       "IT         61000.0\n",
       "Name: Salary, dtype: float64"
      ]
     },
     "execution_count": 23,
     "metadata": {},
     "output_type": "execute_result"
    }
   ],
   "source": [
    "## Example: Salary by Department\n",
    "\n",
    "import pandas as pd\n",
    "\n",
    "# Sample dataset\n",
    "data = {\n",
    "    'Department': ['HR','HR','IT','IT','Finance','Finance'],\n",
    "    'Employee': ['Alice','Bob','Charlie','David','Eva','Frank'],\n",
    "    'Salary': [50000, 52000, 60000, 62000, 58000, 60000]\n",
    "}\n",
    "df = pd.DataFrame(data)\n",
    "print(df)\n",
    "\n",
    "# Average salary per department\n",
    "df.groupby('Department')['Salary'].mean()\n",
    "\n"
   ]
  },
  {
   "cell_type": "markdown",
   "metadata": {
    "id": "QW7Ga5CFjV9p"
   },
   "source": [
    "### Grouping by Multiple Columns"
   ]
  },
  {
   "cell_type": "code",
   "execution_count": 24,
   "metadata": {
    "colab": {
     "base_uri": "https://localhost:8080/",
     "height": 304
    },
    "id": "hoxt1cFIi2j2",
    "outputId": "420cb919-397f-44f7-ee31-a9cca7792c92"
   },
   "outputs": [
    {
     "data": {
      "text/html": [
       "<div>\n",
       "<style scoped>\n",
       "    .dataframe tbody tr th:only-of-type {\n",
       "        vertical-align: middle;\n",
       "    }\n",
       "\n",
       "    .dataframe tbody tr th {\n",
       "        vertical-align: top;\n",
       "    }\n",
       "\n",
       "    .dataframe thead th {\n",
       "        text-align: right;\n",
       "    }\n",
       "</style>\n",
       "<table border=\"1\" class=\"dataframe\">\n",
       "  <thead>\n",
       "    <tr style=\"text-align: right;\">\n",
       "      <th></th>\n",
       "      <th></th>\n",
       "      <th>Salary</th>\n",
       "    </tr>\n",
       "    <tr>\n",
       "      <th>Department</th>\n",
       "      <th>Region</th>\n",
       "      <th></th>\n",
       "    </tr>\n",
       "  </thead>\n",
       "  <tbody>\n",
       "    <tr>\n",
       "      <th rowspan=\"2\" valign=\"top\">Finance</th>\n",
       "      <th>East</th>\n",
       "      <td>58000.0</td>\n",
       "    </tr>\n",
       "    <tr>\n",
       "      <th>West</th>\n",
       "      <td>60000.0</td>\n",
       "    </tr>\n",
       "    <tr>\n",
       "      <th rowspan=\"2\" valign=\"top\">HR</th>\n",
       "      <th>East</th>\n",
       "      <td>50000.0</td>\n",
       "    </tr>\n",
       "    <tr>\n",
       "      <th>West</th>\n",
       "      <td>52000.0</td>\n",
       "    </tr>\n",
       "    <tr>\n",
       "      <th rowspan=\"2\" valign=\"top\">IT</th>\n",
       "      <th>East</th>\n",
       "      <td>60000.0</td>\n",
       "    </tr>\n",
       "    <tr>\n",
       "      <th>West</th>\n",
       "      <td>62000.0</td>\n",
       "    </tr>\n",
       "  </tbody>\n",
       "</table>\n",
       "</div><br><label><b>dtype:</b> float64</label>"
      ],
      "text/plain": [
       "Department  Region\n",
       "Finance     East      58000.0\n",
       "            West      60000.0\n",
       "HR          East      50000.0\n",
       "            West      52000.0\n",
       "IT          East      60000.0\n",
       "            West      62000.0\n",
       "Name: Salary, dtype: float64"
      ]
     },
     "execution_count": 24,
     "metadata": {},
     "output_type": "execute_result"
    }
   ],
   "source": [
    "# Example dataset with Region added\n",
    "data2 = {\n",
    "    'Department': ['HR','HR','IT','IT','Finance','Finance'],\n",
    "    'Region': ['East','West','East','West','East','West'],\n",
    "    'Salary': [50000, 52000, 60000, 62000, 58000, 60000]\n",
    "}\n",
    "df2 = pd.DataFrame(data2)\n",
    "\n",
    "# Group by Department and Region\n",
    "df2.groupby(['Department','Region'])['Salary'].mean()"
   ]
  },
  {
   "cell_type": "markdown",
   "metadata": {
    "id": "Wapl_huPEXBy"
   },
   "source": [
    "#Exporting Data in Pandas\n",
    "\n",
    "After processing your data in Pandas, you can save it to files in various formats:\n",
    "\n",
    "| Format      | Function                  | Key Parameters / Notes                                           | Example Usage |\n",
    "|------------|---------------------------|-----------------------------------------------------------------|---------------|\n",
    "| CSV        | `to_csv()`                | `index=False` to skip row numbers, `sep='\\t'` for tab-delimited | `df.to_csv('data.csv', index=False)` |\n",
    "| Excel      | `to_excel()`              | `sheet_name='Sheet1'`, requires `openpyxl`                     | `df.to_excel('data.xlsx', index=False)` |\n",
    "| JSON       | `to_json()`               | `orient='records'`, `lines=True` for line-delimited JSON       | `df.to_json('data.json', orient='records', lines=True)` |\n",
    "| Pickle     | `to_pickle()`             | Python-specific, fast binary format                             | `df.to_pickle('data.pkl')` |\n",
    "| HTML       | `to_html()`               | Saves as an HTML table                                         | `df.to_html('data.html', index=False)` |\n",
    "| Parquet    | `to_parquet()`            | Efficient columnar format, great for big data                  | `df.to_parquet('data.parquet', index=False)` |\n",
    "\n",
    "**Tip:** Always choose the format based on your use case:  \n",
    "- CSV → universal, easy sharing  \n",
    "- Excel → spreadsheets  \n",
    "- JSON → web APIs or NoSQL  \n",
    "- Parquet → large datasets, high performance\n"
   ]
  },
  {
   "cell_type": "code",
   "execution_count": 25,
   "metadata": {
    "colab": {
     "base_uri": "https://localhost:8080/"
    },
    "id": "QZIsa-VbE1AU",
    "outputId": "fba4f107-0020-4e12-c990-f34058dfcc9d"
   },
   "outputs": [
    {
     "name": "stdout",
     "output_type": "stream",
     "text": [
      "CSV file 'output.csv' created successfully.\n",
      "Tab-separated CSV file 'output_tab.csv' created successfully.\n",
      "Excel file 'output.xlsx' created successfully.\n",
      "JSON file 'output.json' created successfully.\n"
     ]
    }
   ],
   "source": [
    "# Save CSV\n",
    "df.to_csv('output.csv', index=False)\n",
    "print(\"CSV file 'output.csv' created successfully.\")\n",
    "\n",
    "# Save tab-separated CSV\n",
    "df2.to_csv('output_tab.csv', sep='\\t', index=False)\n",
    "print(\"Tab-separated CSV file 'output_tab.csv' created successfully.\")\n",
    "\n",
    "# Save Excel\n",
    "df.to_excel('output.xlsx', index=False, sheet_name='Sheet1')\n",
    "print(\"Excel file 'output.xlsx' created successfully.\")\n",
    "\n",
    "# Save JSON\n",
    "df2.to_json('output.json', orient='records', lines=True)\n",
    "print(\"JSON file 'output.json' created successfully.\")\n"
   ]
  },
  {
   "cell_type": "markdown",
   "metadata": {
    "id": "KnSw3TkhExSo"
   },
   "source": [
    "# Exporting Pandas Data in Google Colab\n",
    "\n",
    "In Colab, you can save files directly to Google Drive. First, mount your Drive:\n",
    "\n",
    "```python\n",
    "from google.colab import drive\n",
    "drive.mount('/content/drive')  # Follow the link and paste the authorization code"
   ]
  },
  {
   "cell_type": "markdown",
   "metadata": {
    "id": "0bXTuPLTqgts"
   },
   "source": [
    "# The pandas Ecosystem: How It Fits In\n",
    "\n",
    "Pandas does not exist in a vacuum. It is a central hub in the Python data science stack:\n",
    "\n",
    "* **NumPy:** Provides the foundational n-dimensional array object. Pandas DataFrames are built on top of NumPy arrays.\n",
    "\n",
    "* **Matplotlib/Seaborn:** Used for visualization. You can plot data directly from DataFrames and Series.\n",
    "\n",
    "* **Scikit-learn:** The premier machine learning library. It accepts DataFrames and Series as inputs for model training.\n",
    "\n",
    "* **Jupyter Notebooks:** The ideal interactive environment for exploratory data analysis with pandas."
   ]
  },
  {
   "cell_type": "markdown",
   "metadata": {
    "id": "t64_990fqNPO"
   },
   "source": [
    "# When to Use Pandas (And When Not To)\n",
    "\n",
    "## Use pandas when:\n",
    "\n",
    "* Working with tabular data (like spreadsheets or database tables)\n",
    "\n",
    "* Data cleaning and preprocessing\n",
    "\n",
    "* Exploratory data analysis\n",
    "\n",
    "* Medium-sized datasets (up to a few gigabytes)\n",
    "\n",
    "## Consider alternatives when:\n",
    "\n",
    "* Working with very large datasets that don't fit in memory.\n",
    "\n",
    "* Need extremely high performance for numerical computations (consider NumPy directly)\n",
    "\n",
    "* Working with unstructured data like images or text"
   ]
  }
 ],
 "metadata": {
  "colab": {
   "provenance": []
  },
  "kernelspec": {
   "display_name": "Python 3 (ipykernel)",
   "language": "python",
   "name": "python3"
  },
  "language_info": {
   "codemirror_mode": {
    "name": "ipython",
    "version": 3
   },
   "file_extension": ".py",
   "mimetype": "text/x-python",
   "name": "python",
   "nbconvert_exporter": "python",
   "pygments_lexer": "ipython3",
   "version": "3.9.12"
  }
 },
 "nbformat": 4,
 "nbformat_minor": 4
}
