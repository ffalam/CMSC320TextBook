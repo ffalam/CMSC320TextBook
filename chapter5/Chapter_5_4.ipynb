{
 "cells": [
  {
   "cell_type": "markdown",
   "source": [
    "##Unique Values and Counting\n",
    "\n",
    "Sometimes you want to check how many unique values a column has, or count how often each appears."
   ],
   "metadata": {
    "id": "1o6BqORKgTgt"
   }
  },
  {
   "cell_type": "code",
   "source": [
    "# Unique names\n",
    "print(df['Name'].unique())\n",
    "\n",
    "# Count frequency of each name\n",
    "print(df['Name'].value_counts())\n"
   ],
   "metadata": {
    "id": "rCaQ4dI9fcH-",
    "colab": {
     "base_uri": "https://localhost:8080/"
    },
    "outputId": "f704dac3-e3b4-41c7-bbfe-de072331031e"
   },
   "execution_count": 19,
   "outputs": [
    {
     "output_type": "stream",
     "name": "stdout",
     "text": [
      "['Alice' 'Bob' 'Charlie']\n",
      "Name\n",
      "Alice      1\n",
      "Bob        1\n",
      "Charlie    1\n",
      "Name: count, dtype: int64\n"
     ]
    }
   ]
  },
  {
   "cell_type": "markdown",
   "source": [
    "# Applying Aggregation Functions Directly to a DataFrame\n",
    "\n",
    "One of the strengths of Pandas is that you can apply statistical and aggregation methods directly to a DataFrame or Series. These methods summarize data and provide insights without needing extra loops or manual calculations.\n",
    "\n",
    "### Common Aggregation Methods\n",
    "\n",
    "Here are some of the most commonly used methods:\n",
    "\n",
    "| Method        | Description                                              | Works On           |\n",
    "|---------------|----------------------------------------------------------|--------------------|\n",
    "| `.sum()`      | Returns the **sum** of values                            | DataFrame / Series |\n",
    "| `.mean()`     | Returns the **average (mean)** value                     | DataFrame / Series |\n",
    "| `.count()`    | Counts **non-null values**                               | DataFrame / Series |\n",
    "| `.min()`      | Returns the **minimum** value                            | DataFrame / Series |\n",
    "| `.max()`      | Returns the **maximum** value                            | DataFrame / Series |\n",
    "| `.std()`      | Returns the **standard deviation**                       | DataFrame / Series |\n",
    "| `.var()`      | Returns the **variance**                                 | DataFrame / Series |\n",
    "| `.describe()` | Generates **summary statistics** (count, mean, std, min, quartiles, max) | DataFrame / Series |\n",
    "\n",
    "\n",
    "Example: Aggregating a Series\n"
   ],
   "metadata": {
    "id": "1R3Q7zkRhRwO"
   }
  },
  {
   "cell_type": "code",
   "source": [
    "import pandas as pd\n",
    "\n",
    "# Salary data\n",
    "salaries = pd.Series([50000, 60000, 55000, 65000, 70000])\n",
    "\n",
    "print(\"Sum:\", salaries.sum())\n",
    "print(\"Mean:\", salaries.mean())\n",
    "print(\"Max:\", salaries.max())\n",
    "print(\"Std Dev:\", salaries.std())"
   ],
   "metadata": {
    "id": "lnxZjp8KhtzD",
    "colab": {
     "base_uri": "https://localhost:8080/"
    },
    "outputId": "d0efb89a-571a-4bc3-dd60-689840a716fe"
   },
   "execution_count": 20,
   "outputs": [
    {
     "output_type": "stream",
     "name": "stdout",
     "text": [
      "Sum: 300000\n",
      "Mean: 60000.0\n",
      "Max: 70000\n",
      "Std Dev: 7905.694150420948\n"
     ]
    }
   ]
  },
  {
   "cell_type": "markdown",
   "source": [
    "Each method is applied directly to the Series, returning a single value."
   ],
   "metadata": {
    "id": "FVJA5pfThk24"
   }
  },
  {
   "cell_type": "markdown",
   "source": [
    "Example: Aggregating a DataFrame"
   ],
   "metadata": {
    "id": "O0Gf_RHNhsKb"
   }
  },
  {
   "cell_type": "code",
   "source": [
    "data = {\n",
    "    'Name': ['Alice', 'Bob', 'Charlie'],\n",
    "    'Age': [24, 30, 28],\n",
    "    'Salary': [50000, 60000, 55000]\n",
    "}\n",
    "df = pd.DataFrame(data)\n",
    "\n",
    "print(df.sum(numeric_only=True))   # Sum of numeric columns\n",
    "print(df.mean(numeric_only=True))  # Mean of numeric columns\n",
    "print(df.describe())"
   ],
   "metadata": {
    "id": "dkk1yAc2hyuk",
    "colab": {
     "base_uri": "https://localhost:8080/"
    },
    "outputId": "d9b91321-584e-4e66-e767-5a5fab69797c"
   },
   "execution_count": 21,
   "outputs": [
    {
     "output_type": "stream",
     "name": "stdout",
     "text": [
      "Age           82\n",
      "Salary    165000\n",
      "dtype: int64\n",
      "Age          27.333333\n",
      "Salary    55000.000000\n",
      "dtype: float64\n",
      "             Age   Salary\n",
      "count   3.000000      3.0\n",
      "mean   27.333333  55000.0\n",
      "std     3.055050   5000.0\n",
      "min    24.000000  50000.0\n",
      "25%    26.000000  52500.0\n",
      "50%    28.000000  55000.0\n",
      "75%    29.000000  57500.0\n",
      "max    30.000000  60000.0\n"
     ]
    }
   ]
  },
  {
   "cell_type": "markdown",
   "source": [
    "Notice how these functions automatically ignore non-numeric columns (like \u201cName\u201d)."
   ],
   "metadata": {
    "id": "Tj7rAIVYh20H"
   }
  },
  {
   "cell_type": "markdown",
   "source": [
    "# More Advanced: Filtering Data & Apply Statistical Functions\n",
    "\n",
    "We can combine **row filtering** with **aggregation functions** to analyze subsets of a DataFrame.  \n",
    "\n",
    "The general syntax is:\n",
    "\n",
    "> **df[df['column_name'] <condition> value]['target_column'].function()**\n",
    "\n",
    "where:\n",
    "\n",
    "- df[...] \u2192 filters the rows that meet the condition\n",
    "\n",
    "- ['target_column'] \u2192 selects the column to aggregate\n",
    "\n",
    "- .function() \u2192 applies the aggregation function\n"
   ],
   "metadata": {
    "id": "eFHc6gW2hIS6"
   }
  },
  {
   "cell_type": "code",
   "source": [
    "import pandas as pd\n",
    "\n",
    "data = {\n",
    "    'Name': ['Alice', 'Bob', 'Charlie', 'David'],\n",
    "    'Age': [24, 35, 28, 40],\n",
    "    'Salary': [50000, 66000, 55000, 70000]\n",
    "}\n",
    "df = pd.DataFrame(data)\n",
    "\n",
    "# Average salary of employees older than 30\n",
    "avg_salary = df[df['Age'] > 30]['Salary'].mean()\n",
    "print(avg_salary)\n",
    "\n",
    "# Maximum salary for employees younger than 30\n",
    "df[df['Age'] < 30]['Salary'].max()\n",
    "\n",
    "# Count employees with salary above 60,000\n",
    "df[df['Salary'] > 60000]['Name'].count()\n",
    "\n",
    "# Standard deviation of salary for people aged 25\u201340\n",
    "df[(df['Age'] >= 25) & (df['Age'] <= 40)]['Salary'].std()"
   ],
   "metadata": {
    "id": "k2NT3sxaify4",
    "colab": {
     "base_uri": "https://localhost:8080/"
    },
    "outputId": "fb47fbac-a110-46bd-f948-914125efbdb2"
   },
   "execution_count": 22,
   "outputs": [
    {
     "output_type": "stream",
     "name": "stdout",
     "text": [
      "68000.0\n"
     ]
    },
    {
     "output_type": "execute_result",
     "data": {
      "text/plain": [
       "7767.45346515403"
      ]
     },
     "metadata": {},
     "execution_count": 22
    }
   ]
  }
 ],
 "metadata": {
  "colab": {
   "provenance": []
  },
  "kernelspec": {
   "name": "python3",
   "display_name": "Python 3"
  },
  "language_info": {
   "name": "python"
  }
 },
 "nbformat": 4,
 "nbformat_minor": 0
}