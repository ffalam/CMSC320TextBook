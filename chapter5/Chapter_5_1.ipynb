{
 "cells": [
  {
   "cell_type": "markdown",
   "source": [
    "## DataFrame: The Two-Dimensional Powerhouse\n",
    "A DataFrame is a two-dimensional labeled data structure, similar to a table with rows and columns. It is the most commonly used object in Pandas.\n",
    "\n",
    "\n",
    "<center>\n",
    "<img src=\"https://pynative.com/wp-content/uploads/2021/02/dataframe.png\" alt=\"Pandas DF1\" width=\"500\">\n",
    "</center>\n",
    "\n",
    "\n",
    "<center>\n",
    "<img src=\"https://pynative.com/wp-content/uploads/2021/02/pandas-dataframe-from-dictionary.png\" alt=\"Pandas DF2\" width=\"500\">\n",
    "</center>\n",
    "\n",
    "Here are some examples:"
   ],
   "metadata": {
    "id": "S4xnJFzgnf4c"
   }
  },
  {
   "cell_type": "code",
   "source": [
    "# Creating a DataFrame from a dictionary\n",
    "data = {\n",
    "    'Name': ['Alice', 'Bob', 'Charlie', 'Diana'],\n",
    "    'Age': [25, 30, 35, 28],\n",
    "    'City': ['New York', 'London', 'Paris', 'Tokyo']\n",
    "}\n",
    "\n",
    "df = pd.DataFrame(data)\n",
    "print(df)"
   ],
   "metadata": {
    "id": "VtpO3KA-przT",
    "colab": {
     "base_uri": "https://localhost:8080/"
    },
    "outputId": "70059f12-2eb3-47fb-8aa6-f6838437f399"
   },
   "execution_count": 5,
   "outputs": [
    {
     "output_type": "stream",
     "name": "stdout",
     "text": [
      "      Name  Age      City\n",
      "0    Alice   25  New York\n",
      "1      Bob   30    London\n",
      "2  Charlie   35     Paris\n",
      "3    Diana   28     Tokyo\n"
     ]
    }
   ]
  },
  {
   "cell_type": "code",
   "source": [
    "import pandas as pd\n",
    "\n",
    "# Create a simple dataset\n",
    "data = {\n",
    "    'Product': ['Apple', 'Banana', 'Cherry', 'Date'],\n",
    "    'Price': [1.20, 0.50, 3.00, 2.50],\n",
    "    'Stock': [45, 120, 15, 80]\n",
    "}\n",
    "\n",
    "# Create DataFrame\n",
    "df = pd.DataFrame(data)\n",
    "\n",
    "# Display basic information\n",
    "print(\"Our DataFrame:\")\n",
    "print(df)\n",
    "print(\"\\nData types:\")\n",
    "print(df.dtypes)\n",
    "print(\"\\nBasic statistics:\")\n",
    "print(df.describe())"
   ],
   "metadata": {
    "id": "Cdf6__VHp2DD",
    "colab": {
     "base_uri": "https://localhost:8080/"
    },
    "outputId": "67ee796f-df48-4cee-81ae-cb25827d4a46"
   },
   "execution_count": 6,
   "outputs": [
    {
     "output_type": "stream",
     "name": "stdout",
     "text": [
      "Our DataFrame:\n",
      "  Product  Price  Stock\n",
      "0   Apple    1.2     45\n",
      "1  Banana    0.5    120\n",
      "2  Cherry    3.0     15\n",
      "3    Date    2.5     80\n",
      "\n",
      "Data types:\n",
      "Product     object\n",
      "Price      float64\n",
      "Stock        int64\n",
      "dtype: object\n",
      "\n",
      "Basic statistics:\n",
      "         Price       Stock\n",
      "count  4.00000    4.000000\n",
      "mean   1.80000   65.000000\n",
      "std    1.15181   45.276926\n",
      "min    0.50000   15.000000\n",
      "25%    1.02500   37.500000\n",
      "50%    1.85000   62.500000\n",
      "75%    2.62500   90.000000\n",
      "max    3.00000  120.000000\n"
     ]
    }
   ]
  },
  {
   "cell_type": "markdown",
   "source": [
    "# Pandas Basic Operations\n",
    "\n",
    "After reading tabular data as a DataFrame, you would need to have a glimpse of the data. Pandas makes it easy to explore and manipulate. A good first step is to inspect the dataset by previewing how many rows and columns it has, what the column names are, checking dimensions, or reviewing summary information such as data types and statistics. Pandas provides convenient methods for this.\n",
    "\n",
    "\n",
    "##Viewing/Exploring Data\n",
    "\n",
    "<!-- df.head()     # First 5 rows\n",
    "df.tail()     # Last 5 rows\n",
    "df.shape      # Number of rows and columns\n",
    "df.info()     # Data types and non-null values\n",
    "df.describe() # Summary statistics -->\n",
    "\n",
    "\n",
    "| Command         | Description                                                                                   | Default Behavior                    |\n",
    "| --------------- | --------------------------------------------------------------------------------------------- | ----------------------------------- |\n",
    "| `df.head()`     | Displays the **first rows** of the DataFrame. Useful for quickly previewing the dataset.      | Shows **5 rows**                    |\n",
    "| `df.tail()`     | Displays the **last rows** of the DataFrame. Handy for checking the dataset\u2019s ending records. | Shows **5 rows**                    |\n",
    "| `df.shape`      | Returns a tuple `(rows, columns)` representing the **dimensions** of the DataFrame.           | N/A                                 |\n",
    "| `df.info()`     | Shows column names, **data types**, memory usage, and count of non-null values.               | N/A                                 |\n",
    "| `df.dtypes`     | Returns the **data type of each column** in the DataFrame.                                    | N/A                                 |\n",
    "| `df.describe()` | Provides **summary statistics** (mean, std, min, max, quartiles) for numeric columns.         | Includes numeric columns by default |\n",
    "\n",
    "\n",
    "\n",
    "<center>\n",
    "<img src=\"https://cdn.sanity.io/images/oaglaatp/production/b8add8dc0e1c0907a520e9cb2c8f511b0659726c-1200x600.png?w=1200&h=600&auto=format\" alt=\"Pandas DF3\" width=\"500\">\n",
    "</center>\n"
   ],
   "metadata": {
    "id": "J6cTd0FNsFs8"
   }
  },
  {
   "cell_type": "code",
   "source": [
    "import pandas as pd\n",
    "\n",
    "data = {\n",
    "    'Name': ['Alice', 'Bob', 'Charlie'],\n",
    "    'Age': [24, 30, 28],\n",
    "    'Salary': [50000, 60000, 55000]\n",
    "}\n",
    "df = pd.DataFrame(data)\n",
    "\n",
    "print(\"head\")\n",
    "print(df.head())\n",
    "print(\"shape\")\n",
    "print(df.shape)\n",
    "print(\"info\")\n",
    "print(df.info)\n"
   ],
   "metadata": {
    "id": "HT9PayZlbazn",
    "colab": {
     "base_uri": "https://localhost:8080/"
    },
    "outputId": "4a590093-972a-4d75-d7d2-67e78fbfe8bd"
   },
   "execution_count": 7,
   "outputs": [
    {
     "output_type": "stream",
     "name": "stdout",
     "text": [
      "head\n",
      "      Name  Age  Salary\n",
      "0    Alice   24   50000\n",
      "1      Bob   30   60000\n",
      "2  Charlie   28   55000\n",
      "shape\n",
      "(3, 3)\n",
      "info\n",
      "<bound method DataFrame.info of       Name  Age  Salary\n",
      "0    Alice   24   50000\n",
      "1      Bob   30   60000\n",
      "2  Charlie   28   55000>\n"
     ]
    }
   ]
  },
  {
   "cell_type": "markdown",
   "source": [
    "## Selecting and Indexing Data\n",
    "\n",
    "After inspecting the structure of a DataFrame, the next step is often to select specific rows and columns (specific parts of the data). Pandas provides several approaches depending on whether you want to select columns, rows, or filter data based on conditions. It lets you choose columns, rows, or both using labels (loc), integer positions (iloc), or conditions.\n",
    "\n",
    "###**1. Selecting Columns**\n",
    "\n",
    "| Command               | Description                                      |\n",
    "| --------------------- | ------------------------------------------------ |\n",
    "| `df['col']`           | Selects a **single column** as a Series.         |\n",
    "| `df[['col1','col2']]` | Selects **multiple columns** as a new DataFrame. |\n",
    "\n",
    "\n",
    "###**2. Selecting Rows**\n",
    "\n",
    "| Command              | Description                                  |\n",
    "| -------------------- | -------------------------------------------- |\n",
    "| `df.loc[row_label]`  | Select row(s) by **label** (index name).     |\n",
    "| `df.iloc[row_index]` | Select row(s) by **integer position**.       |\n",
    "| `df.loc[0, 'col']`   | Select a **specific value** by row & column. |\n",
    "\n",
    "\n",
    "\n",
    "###**3. Conditional Selection (Filtering)**\n",
    "\n",
    "| Command                                | Description                               |          |\n",
    "| -------------------------------------- | ----------------------------------------- | -------- |\n",
    "| `df[df['col'] > 50]`                   | Returns rows where condition is **True**. |          |\n",
    "| `df[(df['A'] > 50) & (df['B'] < 100)]` | Combine conditions with `&` (and), \\`     | \\` (or). |\n",
    "\n",
    "Follow is an example:"
   ],
   "metadata": {
    "id": "VtE3EapBt9FN"
   }
  },
  {
   "cell_type": "code",
   "source": [
    "\n",
    "import pandas as pd\n",
    "\n",
    "data = {\n",
    "    'Name': ['Alice', 'Bob', 'Charlie'],\n",
    "    'Age': [24, 30, 28],\n",
    "    'City': ['New York', 'Los Angeles', 'Chicago']\n",
    "}\n",
    "\n",
    "df = pd.DataFrame(data)\n",
    "print(df)\n",
    "\n",
    "# Now, to access the columns: Select columns\n",
    "df['Age']\n",
    "df[['Name', 'City']]\n",
    "\n",
    "# Select rows\n",
    "df.iloc[0]        # First row\n",
    "df.iloc[1:3]      # Rows 1\u20132\n",
    "df.loc[0, 'Name'] # Specific cell\n",
    "\n",
    "# Conditional selection\n",
    "df[df['Age'] > 30]\n",
    "df[(df['Age'] > 30) & (df['City'] == 'Chicago')]\n"
   ],
   "metadata": {
    "id": "tPmdaajLuY1B",
    "colab": {
     "base_uri": "https://localhost:8080/",
     "height": 124
    },
    "outputId": "95d3f7e0-a88a-48e8-9895-000debe62554"
   },
   "execution_count": 8,
   "outputs": [
    {
     "output_type": "stream",
     "name": "stdout",
     "text": [
      "      Name  Age         City\n",
      "0    Alice   24     New York\n",
      "1      Bob   30  Los Angeles\n",
      "2  Charlie   28      Chicago\n"
     ]
    },
    {
     "output_type": "execute_result",
     "data": {
      "text/plain": [
       "Empty DataFrame\n",
       "Columns: [Name, Age, City]\n",
       "Index: []"
      ],
      "text/html": [
       "\n",
       "  <div id=\"df-0b3d81b7-67d4-454a-97df-1389528eff1e\" class=\"colab-df-container\">\n",
       "    <div>\n",
       "<style scoped>\n",
       "    .dataframe tbody tr th:only-of-type {\n",
       "        vertical-align: middle;\n",
       "    }\n",
       "\n",
       "    .dataframe tbody tr th {\n",
       "        vertical-align: top;\n",
       "    }\n",
       "\n",
       "    .dataframe thead th {\n",
       "        text-align: right;\n",
       "    }\n",
       "</style>\n",
       "<table border=\"1\" class=\"dataframe\">\n",
       "  <thead>\n",
       "    <tr style=\"text-align: right;\">\n",
       "      <th></th>\n",
       "      <th>Name</th>\n",
       "      <th>Age</th>\n",
       "      <th>City</th>\n",
       "    </tr>\n",
       "  </thead>\n",
       "  <tbody>\n",
       "  </tbody>\n",
       "</table>\n",
       "</div>\n",
       "    <div class=\"colab-df-buttons\">\n",
       "\n",
       "  <div class=\"colab-df-container\">\n",
       "    <button class=\"colab-df-convert\" onclick=\"convertToInteractive('df-0b3d81b7-67d4-454a-97df-1389528eff1e')\"\n",
       "            title=\"Convert this dataframe to an interactive table.\"\n",
       "            style=\"display:none;\">\n",
       "\n",
       "  <svg xmlns=\"http://www.w3.org/2000/svg\" height=\"24px\" viewBox=\"0 -960 960 960\">\n",
       "    <path d=\"M120-120v-720h720v720H120Zm60-500h600v-160H180v160Zm220 220h160v-160H400v160Zm0 220h160v-160H400v160ZM180-400h160v-160H180v160Zm440 0h160v-160H620v160ZM180-180h160v-160H180v160Zm440 0h160v-160H620v160Z\"/>\n",
       "  </svg>\n",
       "    </button>\n",
       "\n",
       "  <style>\n",
       "    .colab-df-container {\n",
       "      display:flex;\n",
       "      gap: 12px;\n",
       "    }\n",
       "\n",
       "    .colab-df-convert {\n",
       "      background-color: #E8F0FE;\n",
       "      border: none;\n",
       "      border-radius: 50%;\n",
       "      cursor: pointer;\n",
       "      display: none;\n",
       "      fill: #1967D2;\n",
       "      height: 32px;\n",
       "      padding: 0 0 0 0;\n",
       "      width: 32px;\n",
       "    }\n",
       "\n",
       "    .colab-df-convert:hover {\n",
       "      background-color: #E2EBFA;\n",
       "      box-shadow: 0px 1px 2px rgba(60, 64, 67, 0.3), 0px 1px 3px 1px rgba(60, 64, 67, 0.15);\n",
       "      fill: #174EA6;\n",
       "    }\n",
       "\n",
       "    .colab-df-buttons div {\n",
       "      margin-bottom: 4px;\n",
       "    }\n",
       "\n",
       "    [theme=dark] .colab-df-convert {\n",
       "      background-color: #3B4455;\n",
       "      fill: #D2E3FC;\n",
       "    }\n",
       "\n",
       "    [theme=dark] .colab-df-convert:hover {\n",
       "      background-color: #434B5C;\n",
       "      box-shadow: 0px 1px 3px 1px rgba(0, 0, 0, 0.15);\n",
       "      filter: drop-shadow(0px 1px 2px rgba(0, 0, 0, 0.3));\n",
       "      fill: #FFFFFF;\n",
       "    }\n",
       "  </style>\n",
       "\n",
       "    <script>\n",
       "      const buttonEl =\n",
       "        document.querySelector('#df-0b3d81b7-67d4-454a-97df-1389528eff1e button.colab-df-convert');\n",
       "      buttonEl.style.display =\n",
       "        google.colab.kernel.accessAllowed ? 'block' : 'none';\n",
       "\n",
       "      async function convertToInteractive(key) {\n",
       "        const element = document.querySelector('#df-0b3d81b7-67d4-454a-97df-1389528eff1e');\n",
       "        const dataTable =\n",
       "          await google.colab.kernel.invokeFunction('convertToInteractive',\n",
       "                                                    [key], {});\n",
       "        if (!dataTable) return;\n",
       "\n",
       "        const docLinkHtml = 'Like what you see? Visit the ' +\n",
       "          '<a target=\"_blank\" href=https://colab.research.google.com/notebooks/data_table.ipynb>data table notebook</a>'\n",
       "          + ' to learn more about interactive tables.';\n",
       "        element.innerHTML = '';\n",
       "        dataTable['output_type'] = 'display_data';\n",
       "        await google.colab.output.renderOutput(dataTable, element);\n",
       "        const docLink = document.createElement('div');\n",
       "        docLink.innerHTML = docLinkHtml;\n",
       "        element.appendChild(docLink);\n",
       "      }\n",
       "    </script>\n",
       "  </div>\n",
       "\n",
       "\n",
       "    </div>\n",
       "  </div>\n"
      ],
      "application/vnd.google.colaboratory.intrinsic+json": {
       "type": "dataframe",
       "repr_error": "Out of range float values are not JSON compliant: nan"
      }
     },
     "metadata": {},
     "execution_count": 8
    }
   ]
  },
  {
   "cell_type": "markdown",
   "source": [
    "#Adding a new column to DataFrame\n",
    "\n",
    "A new column can be added to a pandas DataFrame by assigning a ***value, list, or Series*** to a new column name. If the assigned data is a list or Series, its length must match the number of rows in the DataFrame. You can also assign a single value, which will be applied to all rows."
   ],
   "metadata": {
    "id": "hezPNcslX1KI"
   }
  },
  {
   "cell_type": "code",
   "source": [
    "import pandas as pd\n",
    "\n",
    "df = pd.DataFrame({\n",
    "    \"Name\": [\"Alice\", \"Bob\", \"Charlie\"],\n",
    "    \"Math\": [90, 85, 95]\n",
    "})\n",
    "print(df)\n",
    "\n",
    "# Add a new column with a list\n",
    "df[\"English\"] = [88, 92, 80]\n",
    "\n",
    "print(df)\n",
    "\n",
    "# Add a new column with a single value\n",
    "df[\"Pass\"] = True\n",
    "\n",
    "print(df)"
   ],
   "metadata": {
    "id": "BEfE6Yd8Ybv8",
    "colab": {
     "base_uri": "https://localhost:8080/"
    },
    "outputId": "397d83ec-8962-48a8-fd25-d5325df8cb88"
   },
   "execution_count": 9,
   "outputs": [
    {
     "output_type": "stream",
     "name": "stdout",
     "text": [
      "      Name  Math\n",
      "0    Alice    90\n",
      "1      Bob    85\n",
      "2  Charlie    95\n",
      "      Name  Math  English\n",
      "0    Alice    90       88\n",
      "1      Bob    85       92\n",
      "2  Charlie    95       80\n",
      "      Name  Math  English  Pass\n",
      "0    Alice    90       88  True\n",
      "1      Bob    85       92  True\n",
      "2  Charlie    95       80  True\n"
     ]
    }
   ]
  },
  {
   "cell_type": "markdown",
   "source": [
    "# Arithmetic Operations and Functions in Pandas\n",
    "\n",
    "So far we explored how to inspect and select data in Pandas. Once you have access to the right rows and columns, the next step is to perform calculations and apply functions. Pandas makes this process very intuitive by allowing you to apply arithmetic directly to DataFrames or Series, and by offering tools like apply(), map(), and applymap() for more flexibility.\n",
    "\n",
    "## Arithmetic Operations on Columns\n",
    "\n",
    "You can directly apply mathematical operations to Pandas Series or DataFrame columns. Operations are vectorized, meaning they are applied element-wise across the column.\n",
    "\n",
    "In below example, you can notice how the operations are automatically applied to each row."
   ],
   "metadata": {
    "id": "NJpkkMwvcTbG"
   }
  }
 ],
 "metadata": {
  "colab": {
   "provenance": []
  },
  "kernelspec": {
   "name": "python3",
   "display_name": "Python 3"
  },
  "language_info": {
   "name": "python"
  }
 },
 "nbformat": 4,
 "nbformat_minor": 0
}