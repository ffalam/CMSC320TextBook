{
 "cells": [
  {
   "cell_type": "markdown",
   "metadata": {
    "id": "S4xnJFzgnf4c"
   },
   "source": [
    "## DataFrame: The Two-Dimensional Powerhouse\n",
    "A DataFrame is a two-dimensional labeled data structure, similar to a table with rows and columns. It is the most commonly used object in Pandas.\n",
    "\n",
    "\n",
    "<center>\n",
    "<img src=\"https://pynative.com/wp-content/uploads/2021/02/dataframe.png\" alt=\"Pandas DF1\" width=\"500\">\n",
    "</center>\n",
    "\n",
    "\n",
    "<center>\n",
    "<img src=\"https://pynative.com/wp-content/uploads/2021/02/pandas-dataframe-from-dictionary.png\" alt=\"Pandas DF2\" width=\"500\">\n",
    "</center>\n",
    "\n",
    "Here are some examples:"
   ]
  },
  {
   "cell_type": "code",
   "execution_count": null,
   "metadata": {
    "id": "VtpO3KA-przT"
   },
   "outputs": [],
   "source": [
    "# Creating a DataFrame from a dictionary\n",
    "data = {\n",
    "    'Name': ['Alice', 'Bob', 'Charlie', 'Diana'],\n",
    "    'Age': [25, 30, 35, 28],\n",
    "    'City': ['New York', 'London', 'Paris', 'Tokyo']\n",
    "}\n",
    "\n",
    "df = pd.DataFrame(data)\n",
    "print(df)"
   ]
  },
  {
   "cell_type": "code",
   "execution_count": null,
   "metadata": {
    "colab": {
     "base_uri": "https://localhost:8080/"
    },
    "executionInfo": {
     "elapsed": 86,
     "status": "ok",
     "timestamp": 1756484824378,
     "user": {
      "displayName": "Fardina Fathmiul Alam",
      "userId": "04610293070877011030"
     },
     "user_tz": 240
    },
    "id": "Cdf6__VHp2DD",
    "outputId": "e8ae2b21-ae31-4674-fb41-b927bdb7a8df"
   },
   "outputs": [
    {
     "name": "stdout",
     "output_type": "stream",
     "text": [
      "Our DataFrame:\n",
      "  Product  Price  Stock\n",
      "0   Apple    1.2     45\n",
      "1  Banana    0.5    120\n",
      "2  Cherry    3.0     15\n",
      "3    Date    2.5     80\n",
      "\n",
      "Data types:\n",
      "Product     object\n",
      "Price      float64\n",
      "Stock        int64\n",
      "dtype: object\n",
      "\n",
      "Basic statistics:\n",
      "         Price       Stock\n",
      "count  4.00000    4.000000\n",
      "mean   1.80000   65.000000\n",
      "std    1.15181   45.276926\n",
      "min    0.50000   15.000000\n",
      "25%    1.02500   37.500000\n",
      "50%    1.85000   62.500000\n",
      "75%    2.62500   90.000000\n",
      "max    3.00000  120.000000\n"
     ]
    }
   ],
   "source": [
    "import pandas as pd\n",
    "\n",
    "# Create a simple dataset\n",
    "data = {\n",
    "    'Product': ['Apple', 'Banana', 'Cherry', 'Date'],\n",
    "    'Price': [1.20, 0.50, 3.00, 2.50],\n",
    "    'Stock': [45, 120, 15, 80]\n",
    "}\n",
    "\n",
    "# Create DataFrame\n",
    "df = pd.DataFrame(data)\n",
    "\n",
    "# Display basic information\n",
    "print(\"Our DataFrame:\")\n",
    "print(df)\n",
    "print(\"\\nData types:\")\n",
    "print(df.dtypes)\n",
    "print(\"\\nBasic statistics:\")\n",
    "print(df.describe())"
   ]
  },
  {
   "cell_type": "markdown",
   "metadata": {
    "id": "J6cTd0FNsFs8"
   },
   "source": [
    "# Pandas Basic Operations\n",
    "\n",
    "After reading tabular data as a DataFrame, you would need to have a glimpse of the data. Pandas makes it easy to explore and manipulate. A good first step is to inspect the dataset by previewing how many rows and columns it has, what the column names are, checking dimensions, or reviewing summary information such as data types and statistics. Pandas provides convenient methods for this.\n",
    "\n",
    "\n",
    "##Viewing/Exploring Data\n",
    "\n",
    "<!-- df.head()     # First 5 rows\n",
    "df.tail()     # Last 5 rows\n",
    "df.shape      # Number of rows and columns\n",
    "df.info()     # Data types and non-null values\n",
    "df.describe() # Summary statistics -->\n",
    "\n",
    "\n",
    "| Command         | Description                                                                                   | Default Behavior                    |\n",
    "| --------------- | --------------------------------------------------------------------------------------------- | ----------------------------------- |\n",
    "| `df.head()`     | Displays the **first rows** of the DataFrame. Useful for quickly previewing the dataset.      | Shows **5 rows**                    |\n",
    "| `df.tail()`     | Displays the **last rows** of the DataFrame. Handy for checking the dataset’s ending records. | Shows **5 rows**                    |\n",
    "| `df.shape`      | Returns a tuple `(rows, columns)` representing the **dimensions** of the DataFrame.           | N/A                                 |\n",
    "| `df.info()`     | Shows column names, **data types**, memory usage, and count of non-null values.               | N/A                                 |\n",
    "| `df.dtypes`     | Returns the **data type of each column** in the DataFrame.                                    | N/A                                 |\n",
    "| `df.describe()` | Provides **summary statistics** (mean, std, min, max, quartiles) for numeric columns.         | Includes numeric columns by default |\n",
    "\n",
    "\n",
    "\n",
    "<center>\n",
    "<img src=\"https://cdn.sanity.io/images/oaglaatp/production/b8add8dc0e1c0907a520e9cb2c8f511b0659726c-1200x600.png?w=1200&h=600&auto=format\" alt=\"Pandas DF3\" width=\"500\">\n",
    "</center>\n"
   ]
  },
  {
   "cell_type": "code",
   "execution_count": 16,
   "metadata": {
    "colab": {
     "base_uri": "https://localhost:8080/"
    },
    "executionInfo": {
     "elapsed": 38,
     "status": "ok",
     "timestamp": 1758124233671,
     "user": {
      "displayName": "Fardina Fathmiul Alam",
      "userId": "04610293070877011030"
     },
     "user_tz": 240
    },
    "id": "HT9PayZlbazn",
    "outputId": "9ef1f228-1001-4cc2-8d81-fe7c7bbdb521"
   },
   "outputs": [
    {
     "name": "stdout",
     "output_type": "stream",
     "text": [
      "head\n",
      "      Name  Age  Salary\n",
      "0    Alice   24   50000\n",
      "1      Bob   30   60000\n",
      "2  Charlie   28   55000\n",
      "shape\n",
      "(3, 3)\n",
      "info\n",
      "<bound method DataFrame.info of       Name  Age  Salary\n",
      "0    Alice   24   50000\n",
      "1      Bob   30   60000\n",
      "2  Charlie   28   55000>\n"
     ]
    }
   ],
   "source": [
    "import pandas as pd\n",
    "\n",
    "data = {\n",
    "    'Name': ['Alice', 'Bob', 'Charlie'],\n",
    "    'Age': [24, 30, 28],\n",
    "    'Salary': [50000, 60000, 55000]\n",
    "}\n",
    "df = pd.DataFrame(data)\n",
    "\n",
    "print(\"head\")\n",
    "print(df.head())\n",
    "print(\"shape\")\n",
    "print(df.shape)\n",
    "print(\"info\")\n",
    "print(df.info)\n"
   ]
  },
  {
   "cell_type": "markdown",
   "metadata": {
    "id": "VtE3EapBt9FN"
   },
   "source": [
    "## Selecting and Indexing Data\n",
    "\n",
    "After inspecting the structure of a DataFrame, the next step is often to select specific rows and columns (specific parts of the data). Pandas provides several approaches depending on whether you want to select columns, rows, or filter data based on conditions. It lets you choose columns, rows, or both using labels (loc), integer positions (iloc), or conditions.\n",
    "\n",
    "###**1. Selecting Columns**\n",
    "\n",
    "| Command               | Description                                      |\n",
    "| --------------------- | ------------------------------------------------ |\n",
    "| `df['col']`           | Selects a **single column** as a Series.         |\n",
    "| `df[['col1','col2']]` | Selects **multiple columns** as a new DataFrame. |\n",
    "\n",
    "\n",
    "###**2. Selecting Rows**\n",
    "\n",
    "| Command              | Description                                  |\n",
    "| -------------------- | -------------------------------------------- |\n",
    "| `df.loc[row_label]`  | Select row(s) by **label** (index name).     |\n",
    "| `df.iloc[row_index]` | Select row(s) by **integer position**.       |\n",
    "| `df.loc[0, 'col']`   | Select a **specific value** by row & column. |\n",
    "\n",
    "\n",
    "\n",
    "###**3. Conditional Selection (Filtering)**\n",
    "\n",
    "| Command                                | Description                               |          |\n",
    "| -------------------------------------- | ----------------------------------------- | -------- |\n",
    "| `df[df['col'] > 50]`                   | Returns rows where condition is **True**. |          |\n",
    "| `df[(df['A'] > 50) & (df['B'] < 100)]` | Combine conditions with `&` (and), \\`     | \\` (or). |\n",
    "\n",
    "Follow is an example:"
   ]
  },
  {
   "cell_type": "code",
   "execution_count": 4,
   "metadata": {
    "colab": {
     "base_uri": "https://localhost:8080/",
     "height": 124
    },
    "executionInfo": {
     "elapsed": 153,
     "status": "ok",
     "timestamp": 1758123331269,
     "user": {
      "displayName": "Fardina Fathmiul Alam",
      "userId": "04610293070877011030"
     },
     "user_tz": 240
    },
    "id": "tPmdaajLuY1B",
    "outputId": "ca125bad-63fe-47df-8d51-b7a5609524e8"
   },
   "outputs": [
    {
     "name": "stdout",
     "output_type": "stream",
     "text": [
      "      Name  Age         City\n",
      "0    Alice   24     New York\n",
      "1      Bob   30  Los Angeles\n",
      "2  Charlie   28      Chicago\n"
     ]
    },
    {
     "data": {
      "application/vnd.google.colaboratory.intrinsic+json": {
       "repr_error": "Out of range float values are not JSON compliant: nan",
       "type": "dataframe"
      },
      "text/html": [
       "\n",
       "  <div id=\"df-fee79c51-1f53-4815-81f6-c2df67e290d9\" class=\"colab-df-container\">\n",
       "    <div>\n",
       "<style scoped>\n",
       "    .dataframe tbody tr th:only-of-type {\n",
       "        vertical-align: middle;\n",
       "    }\n",
       "\n",
       "    .dataframe tbody tr th {\n",
       "        vertical-align: top;\n",
       "    }\n",
       "\n",
       "    .dataframe thead th {\n",
       "        text-align: right;\n",
       "    }\n",
       "</style>\n",
       "<table border=\"1\" class=\"dataframe\">\n",
       "  <thead>\n",
       "    <tr style=\"text-align: right;\">\n",
       "      <th></th>\n",
       "      <th>Name</th>\n",
       "      <th>Age</th>\n",
       "      <th>City</th>\n",
       "    </tr>\n",
       "  </thead>\n",
       "  <tbody>\n",
       "  </tbody>\n",
       "</table>\n",
       "</div>\n",
       "    <div class=\"colab-df-buttons\">\n",
       "\n",
       "  <div class=\"colab-df-container\">\n",
       "    <button class=\"colab-df-convert\" onclick=\"convertToInteractive('df-fee79c51-1f53-4815-81f6-c2df67e290d9')\"\n",
       "            title=\"Convert this dataframe to an interactive table.\"\n",
       "            style=\"display:none;\">\n",
       "\n",
       "  <svg xmlns=\"http://www.w3.org/2000/svg\" height=\"24px\" viewBox=\"0 -960 960 960\">\n",
       "    <path d=\"M120-120v-720h720v720H120Zm60-500h600v-160H180v160Zm220 220h160v-160H400v160Zm0 220h160v-160H400v160ZM180-400h160v-160H180v160Zm440 0h160v-160H620v160ZM180-180h160v-160H180v160Zm440 0h160v-160H620v160Z\"/>\n",
       "  </svg>\n",
       "    </button>\n",
       "\n",
       "  <style>\n",
       "    .colab-df-container {\n",
       "      display:flex;\n",
       "      gap: 12px;\n",
       "    }\n",
       "\n",
       "    .colab-df-convert {\n",
       "      background-color: #E8F0FE;\n",
       "      border: none;\n",
       "      border-radius: 50%;\n",
       "      cursor: pointer;\n",
       "      display: none;\n",
       "      fill: #1967D2;\n",
       "      height: 32px;\n",
       "      padding: 0 0 0 0;\n",
       "      width: 32px;\n",
       "    }\n",
       "\n",
       "    .colab-df-convert:hover {\n",
       "      background-color: #E2EBFA;\n",
       "      box-shadow: 0px 1px 2px rgba(60, 64, 67, 0.3), 0px 1px 3px 1px rgba(60, 64, 67, 0.15);\n",
       "      fill: #174EA6;\n",
       "    }\n",
       "\n",
       "    .colab-df-buttons div {\n",
       "      margin-bottom: 4px;\n",
       "    }\n",
       "\n",
       "    [theme=dark] .colab-df-convert {\n",
       "      background-color: #3B4455;\n",
       "      fill: #D2E3FC;\n",
       "    }\n",
       "\n",
       "    [theme=dark] .colab-df-convert:hover {\n",
       "      background-color: #434B5C;\n",
       "      box-shadow: 0px 1px 3px 1px rgba(0, 0, 0, 0.15);\n",
       "      filter: drop-shadow(0px 1px 2px rgba(0, 0, 0, 0.3));\n",
       "      fill: #FFFFFF;\n",
       "    }\n",
       "  </style>\n",
       "\n",
       "    <script>\n",
       "      const buttonEl =\n",
       "        document.querySelector('#df-fee79c51-1f53-4815-81f6-c2df67e290d9 button.colab-df-convert');\n",
       "      buttonEl.style.display =\n",
       "        google.colab.kernel.accessAllowed ? 'block' : 'none';\n",
       "\n",
       "      async function convertToInteractive(key) {\n",
       "        const element = document.querySelector('#df-fee79c51-1f53-4815-81f6-c2df67e290d9');\n",
       "        const dataTable =\n",
       "          await google.colab.kernel.invokeFunction('convertToInteractive',\n",
       "                                                    [key], {});\n",
       "        if (!dataTable) return;\n",
       "\n",
       "        const docLinkHtml = 'Like what you see? Visit the ' +\n",
       "          '<a target=\"_blank\" href=https://colab.research.google.com/notebooks/data_table.ipynb>data table notebook</a>'\n",
       "          + ' to learn more about interactive tables.';\n",
       "        element.innerHTML = '';\n",
       "        dataTable['output_type'] = 'display_data';\n",
       "        await google.colab.output.renderOutput(dataTable, element);\n",
       "        const docLink = document.createElement('div');\n",
       "        docLink.innerHTML = docLinkHtml;\n",
       "        element.appendChild(docLink);\n",
       "      }\n",
       "    </script>\n",
       "  </div>\n",
       "\n",
       "\n",
       "    </div>\n",
       "  </div>\n"
      ],
      "text/plain": [
       "Empty DataFrame\n",
       "Columns: [Name, Age, City]\n",
       "Index: []"
      ]
     },
     "execution_count": 4,
     "metadata": {},
     "output_type": "execute_result"
    }
   ],
   "source": [
    "\n",
    "import pandas as pd\n",
    "\n",
    "data = {\n",
    "    'Name': ['Alice', 'Bob', 'Charlie'],\n",
    "    'Age': [24, 30, 28],\n",
    "    'City': ['New York', 'Los Angeles', 'Chicago']\n",
    "}\n",
    "\n",
    "df = pd.DataFrame(data)\n",
    "print(df)\n",
    "\n",
    "# Now, to access the columns: Select columns\n",
    "df['Age']\n",
    "df[['Name', 'City']]\n",
    "\n",
    "# Select rows\n",
    "df.iloc[0]        # First row\n",
    "df.iloc[1:3]      # Rows 1–2\n",
    "df.loc[0, 'Name'] # Specific cell\n",
    "\n",
    "# Conditional selection\n",
    "df[df['Age'] > 30]\n",
    "df[(df['Age'] > 30) & (df['City'] == 'Chicago')]\n"
   ]
  },
  {
   "cell_type": "markdown",
   "metadata": {
    "id": "jFBCUx8cm8YG"
   },
   "source": []
  }
 ],
 "metadata": {
  "colab": {
   "authorship_tag": "ABX9TyOKNNxcwtTRnE4nGM3xd5O6",
   "provenance": []
  },
  "kernelspec": {
   "display_name": "Python 3",
   "name": "python3"
  },
  "language_info": {
   "name": "python"
  }
 },
 "nbformat": 4,
 "nbformat_minor": 0
}
