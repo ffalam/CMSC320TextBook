{
 "cells": [
  {
   "cell_type": "markdown",
   "source": [
    "## Detailed Example 01: How Decision Trees Decide Which Feature to Split\n",
    "\n",
    "Consider an example where we are building a decision tree to predict whether a loan given to a person would result in a write-off or not. Our entire population consists of 30 instances. 16 belong to the write-off class and the other 14 belong to the non-write-off class. We have two features, namely \u201cBalance\u201d that can take on two values -> \u201c< 50K\u201d or \u201c>50K\u201d and \u201cResidence\u201d that can take on three values -> \u201cOWN\u201d, \u201cRENT\u201d or \u201cOTHER\u201d.\n"
   ],
   "metadata": {
    "id": "2rOCHM8aogyr"
   }
  },
  {
   "cell_type": "markdown",
   "source": [
    "# Overfitting and Pruning\n",
    "\n",
    "## Overfitting in Decision Tree\n",
    "Decision trees are prone to overfitting, meaning they become too complex and capture noise in the training data (**perfectly fitting the training data**), but performing poorly on unseen data (**poor generalization**). This often happens with very deep trees with many nodes that achieve perfect classification on the training set (pure leaf nodes).\n",
    "\n",
    "## Pruning Methods\n",
    "\n",
    "**Pruning** is the technique used to combat overfitting by reducing the size of the tree. There are two main strategies:\n",
    "\n",
    "\n",
    "1.   **Pre-pruning (Early Stopping)** : Stop growing the tree early before it becomes too complex. How? by setting parameters like:\n",
    "\n",
    "*  Maximum depth of the tree.\n",
    "*  Minimum number of samples required to split a node.\n",
    "*  Minimum number of samples required to be in a leaf node.\n",
    "\n",
    "2.  **Post-pruning:** Grow a full tree and then remove branches that do not improve accuracy on validation data. The most common technique is Reduced Error Pruning.\n"
   ],
   "metadata": {
    "id": "CYecJO6Igfou"
   }
  }
 ],
 "metadata": {
  "colab": {
   "provenance": []
  },
  "kernelspec": {
   "name": "python3",
   "display_name": "Python 3"
  },
  "language_info": {
   "name": "python"
  }
 },
 "nbformat": 4,
 "nbformat_minor": 0
}