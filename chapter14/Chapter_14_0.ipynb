{
 "cells": [
  {
   "cell_type": "markdown",
   "source": [
    "# Introduction: The Power of Simple Questions\n",
    "\n",
    "Imagine you are a doctor diagnosing a patient. You don't run every test simultaneously. Instead, you ask a sequence of questions: \"Does the patient have a fever?\" If yes, you ask, \"Is there a rash?\" If no, you might ask, \"Is the pain localized?\" This hierarchical process of asking questions to narrow down possibilities is the very essence of a Decision Tree.\n",
    "\n",
    "A Decision Tree is a **non-parametric** (**no** assumptions about data distribution or functional form, allowing them to learn patterns directly from the data), **supervised learning** algorithm used for both classification and regression tasks. Its model forms a tree-like structure, mimicking human decision-making processes.\n",
    "\n",
    "\n",
    "\n",
    "> **Parameteric vs Non-Parametric**: A Decision Tree (DT) is non-parametric, meaning it makes no assumptions about data distribution or functional form and has no fixed number of parameters\u2014its complexity (splits, depth, etc.) adapts to the data; unlike parametric models (e.g., linear or logistic regression) that assume a specific functional form and have fixed parameters.\n",
    "\n",
    "\n",
    "They **mimic human decision-making** by breaking down complex decisions into a series of simpler questions. A Decision Tree represents decisions in a flowchart-like, hierarchical structure that models possible consequences\u2014including outcomes, costs, and probabilities and is highly interpretable.\n",
    "\n",
    "<center>\n",
    "<img src=\"https://media.geeksforgeeks.org/wp-content/uploads/20221212133528/dcsion.png\" alt=\"Pandas Illustration\" width=\"600\">\n",
    "</center>\n",
    "\n",
    "They are especially popular because they require minimal data preprocessing, can handle both numerical and categorical data, and provide models that are easily interpretable.\n",
    "\n",
    "\n",
    "It has many strengths:\n",
    "\n",
    "* **Interpretability:** The resulting model is a white box. The rules for making a prediction can be easily understood and explained, even to non-experts.\n",
    "\n",
    "* **Few Data Preprocessing Requirements:** They require little data preparation (e.g., no need for feature scaling or normalization).\n",
    "\n",
    "* **Handles Mixed Data Types:** They can work with both numerical and categorical data.\n",
    "\n",
    "* **Non-Linearity:** They can capture complex non-linear relationships between features and the target variable.\n",
    "\n",
    "\n",
    "However, this simplicity can also be a weakness because it often leads to **overfitting**. When a tree grows too deep, it starts to learn the noise in the training data, not just the underlying pattern, which causes poor performance on new data.\n",
    "\n",
    "In this chapter, we will break down how the **Decision Tree algorithm works**, understand how to create **good splitting questions**, learn how to **prune** an overly complex tree, and see how Decision Trees serve as the foundation for advanced ensemble methods like Random Forests and Gradient Boosting Machines"
   ],
   "metadata": {
    "id": "RQccx7lY-02X"
   }
  },
  {
   "cell_type": "markdown",
   "source": [
    "# Section 1: Basic Concepts of Decision Tree\n",
    "\n",
    "Next, we will learn some basic concepts related to decision tree.\n",
    "\n",
    "## Structure of a Decision Tree and Terminology\n",
    "\n",
    "To understand how a tree is built, we must first understand its components. A Decision Tree is a graph composed of:\n",
    "\n",
    "<center>\n",
    "<img src=\"https://365datascience.com/resources/blog/rr6cuudl59r-decision-trees-image1.png\" alt=\"Pandas Illustration\" width=\"600\">\n",
    "</center>\n",
    "\n",
    "\n",
    "* **Root Node:** The topmost node, representing the entire dataset. It is the starting point for the splitting process.\n",
    "\n",
    "* **Internal Nodes (Decision Nodes):** Nodes that represent a decision point or a test on a specific feature. Each internal node splits the data into two or more branches.\n",
    "\n",
    "* **Branches (Edges):** The outcome of a decision node test, leading to the next node.\n",
    "\n",
    "* **Leaf Nodes (Terminal Nodes):** The final nodes in the tree that do not split further. Each leaf node represents a class label (in classification) or a continuous value (in regression) which is the final prediction.\n",
    "\n",
    "The path from the root to a leaf represents a series of conjunctions (AND operations) of the conditions at the internal nodes, forming a classification rule.\n",
    "\n",
    "### More Terminology\n",
    "\n",
    "* **Sub-Tree:** A portion of the main tree.\n",
    "\n",
    "* **Splitting:** The process of dividing a node into two or more sub-nodes.\n",
    "\n",
    "* **Pruning:** The process of removing branches to reduce the complexity of the tree and prevent overfitting (we will talk about it later in this chapter).\n",
    "\n",
    "\n",
    "### **Example**\n",
    "\n",
    "Consider the classic \u201cPlay Tennis\u201d dataset, where we want to predict whether to play tennis based on weather conditions (Outlook, Temperature, Humidity, Windy).\n",
    "\n",
    "A simplified decision tree might look like:\n",
    "\n",
    "\n",
    "<center>\n",
    "<img src=\"https://spotintelligence.com/wp-content/uploads/2024/05/decision-tree-example.jpg\" alt=\"Pandas Illustration\" width=\"600\">\n",
    "</center>\n",
    "\n",
    "\n"
   ],
   "metadata": {
    "id": "N3T8TkBjBdfv"
   }
  }
 ],
 "metadata": {
  "colab": {
   "provenance": []
  },
  "kernelspec": {
   "name": "python3",
   "display_name": "Python 3"
  },
  "language_info": {
   "name": "python"
  }
 },
 "nbformat": 4,
 "nbformat_minor": 0
}