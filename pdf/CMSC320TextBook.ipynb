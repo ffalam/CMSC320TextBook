{
 "cells": [
  {
   "cell_type": "markdown",
   "id": "f0bc4f2c",
   "metadata": {},
   "source": [
    "# Introduction\n",
    "\n",
    "by Dr. Fardina Alam and Gavin Hung"
   ]
  },
  {
   "cell_type": "markdown",
   "id": "5bdfe657",
   "metadata": {
    "id": "U2-w0-OAkBxi"
   },
   "source": [
    "# What is Pandas?\n",
    "\n",
    "Pandas is a powerful open-source Python library that provides high-performance, easy-to-use data structures and data analysis tools. The name \"pandas\" comes from \"panel data,\" a term used in econometrics to describe multi-dimensional data. Developed by Wes McKinney in 2008, pandas has become the cornerstone of data manipulation and analysis in the Python ecosystem.\n",
    "\n",
    "At its core, Pandas helps you:\n",
    "\n",
    "* Load, clean, and transform datasets.\n",
    "\n",
    "* Perform statistical operations efficiently.\n",
    "\n",
    "* Handle missing or inconsistent data.\n",
    "\n",
    "* Merge, reshape, and aggregate large datasets.\n",
    "\n",
    "If you have ever worked with spreadsheets in Excel, Pandas offers similar functionality—but with far greater power, speed, and scalability."
   ]
  },
  {
   "cell_type": "markdown",
   "id": "86864b7e",
   "metadata": {
    "id": "mV4MSckXks2l"
   },
   "source": [
    "# Why Use Pandas?\n",
    "Before pandas, data analysis in Python was cumbersome and required jumping between different libraries. Python users relied heavily on lists, dictionaries, and NumPy arrays for handling structured data. While these tools are powerful, they lack built-in functionality for common tasks like handling missing values, grouping data, or joining tables. Pandas solved this by providing:\n",
    "\n",
    "* **Intuitive data structures:** DataFrames and Series that feel familiar to users from various backgrounds, useful for for working with tabular and one-dimensional data.\n",
    "\n",
    "* **Seamless integration:** Works beautifully with other Python data science libraries (NumPy, Matplotlib, etc).\n",
    "\n",
    "* **Powerful data manipulation:** Easy filtering, grouping, and transformation of data\n",
    "\n",
    "* **Performance:** Built on top of highly optimized C code for speed.\n",
    "\n",
    "* **Time series functionality:** Excellent support for working with time-based data\n",
    "\n",
    "* **Ease of Use:** Simplifies complex operations into a few lines of readable code."
   ]
  },
  {
   "cell_type": "markdown",
   "id": "851469a5",
   "metadata": {
    "id": "3BeHtdh2l1j3"
   },
   "source": [
    "# Installing Pandas\n",
    "\n",
    "Before using Pandas, you need to install it. If you are using Anaconda, Pandas comes pre-installed. Otherwise, you can install it with:\n",
    "\n",
    "> pip install pandas\n",
    "\n",
    "Or if you're using Anaconda:\n",
    "\n",
    "\n",
    "> conda install pandas\n",
    "\n",
    "\n",
    "To confirm the installation, open a Python shell and type:\n",
    "\n",
    "> import pandas as pd\n",
    "> print(pd.__version__)"
   ]
  },
  {
   "cell_type": "markdown",
   "id": "7a1db687",
   "metadata": {
    "id": "cdPUUchKrIqj"
   },
   "source": [
    "#Loading Data with Pandas\n",
    "\n",
    "One of Pandas’ biggest strengths is its ability to easily import/export datasets from multiple formats:\n",
    "\n",
    "* **CSV:** pd.read_csv(\"file.csv\")\n",
    "\n",
    "* **Excel:** pd.read_excel(\"file.xlsx\")\n",
    "\n",
    "* **SQL Databases:** pd.read_sql(query, connection)\n",
    "\n",
    "* **JSON:** pd.read_json(\"file.json\")\n"
   ]
  },
  {
   "cell_type": "code",
   "execution_count": 2,
   "id": "6a482ae6",
   "metadata": {
    "colab": {
     "base_uri": "https://localhost:8080/"
    },
    "id": "n-NYVONnrjL7",
    "outputId": "1999f678-9515-48f3-ae85-3c05435da7b7"
   },
   "outputs": [
    {
     "name": "stdout",
     "output_type": "stream",
     "text": [
      "   Unnamed: 0 default student      balance        income\n",
      "0           1      No      No   729.526495  44361.625074\n",
      "1           2      No     Yes   817.180407  12106.134700\n",
      "2           3      No      No  1073.549164  31767.138947\n",
      "3           4      No      No   529.250605  35704.493935\n",
      "4           5      No      No   785.655883  38463.495879\n"
     ]
    }
   ],
   "source": [
    "#Example:\n",
    "import pandas as pd\n",
    "\n",
    "df = pd.read_csv(\"students.csv\")\n",
    "print(df.head())   # Displays first 5 rows"
   ]
  },
  {
   "cell_type": "markdown",
   "id": "f7bc2a4e",
   "metadata": {
    "id": "I5QjXvv_l9KZ"
   },
   "source": [
    "# Core Data Structures\n",
    "The strength of Pandas lies in two core objects:\n",
    "1.   **Series:** A one-dimensional labeled array\n",
    "2.   **Dataframe:** A two-dimensional labeled data structure\n",
    "\n",
    "<center>\n",
    "<img src=\"https://miro.medium.com/v2/resize:fit:1400/0*TB7RB0d21huRNGjI.png\" alt=\"Pandas Illustration\" width=\"600\">\n",
    "</center>\n",
    "\n",
    "\n",
    "\n",
    "\n",
    "\n",
    "\n"
   ]
  },
  {
   "cell_type": "markdown",
   "id": "225229a3",
   "metadata": {
    "id": "VgO7nuQpnOxV"
   },
   "source": [
    "## Series: The One-Dimensional Workhorse\n",
    "A Series is a one-dimensional labeled array that can hold any data type. Think of it as a single column in a spreadsheet.\n",
    "\n",
    "\n",
    "<center>\n",
    "<img src=\"https://www.w3resource.com/w3r_images/pandas-series-add-image-3.svg\" alt=\"Pandas Series\">\n",
    "</center>\n",
    "\n",
    "Unlike some arrays that require all elements to be the same type (homogeneous), a Series can store different types of values together, such as numbers, text, or dates. Each value has a label called an index, which can be numbers, words, or timestamps, and you can use it to quickly find or select values. Here are some examples:"
   ]
  },
  {
   "cell_type": "markdown",
   "id": "0c385f38",
   "metadata": {
    "id": "P4uke3mlW93A"
   },
   "source": [
    "### How to Create a Series\n",
    "\n",
    "A Series can be created directly from a ***Python list***, in which case pandas automatically assigns default numeric indexes (0, 1, 2, …) to each element.\n",
    "\n",
    "You can also create a Series from a ***Python dictionary***, where the dictionary keys become the index labels and the dictionary values become the Series values. In Python 3.7 and later, the order of the keys is preserved, so the Series keeps the same order as the dictionary"
   ]
  },
  {
   "cell_type": "code",
   "execution_count": 3,
   "id": "c1008772",
   "metadata": {
    "colab": {
     "base_uri": "https://localhost:8080/"
    },
    "id": "wCazvqBBnShP",
    "outputId": "9175202a-6edf-4f94-9b7b-54d0734dba30"
   },
   "outputs": [
    {
     "name": "stdout",
     "output_type": "stream",
     "text": [
      "Mon    22\n",
      "Tue    25\n",
      "Wed    18\n",
      "Thu    30\n",
      "Fri    27\n",
      "Name: Daily_Temps, dtype: int64\n",
      "Math       90\n",
      "English    85\n",
      "Science    95\n",
      "dtype: int64\n"
     ]
    }
   ],
   "source": [
    "import pandas as pd\n",
    "\n",
    "# Creating a Series from a list\n",
    "temperatures = pd.Series([22, 25, 18, 30, 27],\n",
    "                        index=['Mon', 'Tue', 'Wed', 'Thu', 'Fri'],\n",
    "                        name='Daily_Temps')\n",
    "print(temperatures)\n",
    "\n",
    "\n",
    "# Creating a Series from a Dictionary\n",
    "\n",
    "grades = {\"Math\": 90, \"English\": 85, \"Science\": 95}\n",
    "dict_series = pd.Series(grades)\n",
    "\n",
    "print(dict_series)"
   ]
  },
  {
   "cell_type": "code",
   "execution_count": 4,
   "id": "f4fcfb8d",
   "metadata": {
    "colab": {
     "base_uri": "https://localhost:8080/"
    },
    "id": "wtdoPr2kncL9",
    "outputId": "d524eaf5-35c7-436f-e4b1-4ae72d56f750"
   },
   "outputs": [
    {
     "name": "stdout",
     "output_type": "stream",
     "text": [
      "Homogeneous Series \n",
      "\n",
      "A    10\n",
      "B    20\n",
      "C    30\n",
      "D    40\n",
      "dtype: int64\n",
      "The data type is: int64\n",
      "\n",
      "Heterogeneous Series \n",
      "\n",
      "0       10\n",
      "1     20.5\n",
      "2    hello\n",
      "3     True\n",
      "dtype: object\n",
      "The data type is: object\n"
     ]
    }
   ],
   "source": [
    "import pandas as pd\n",
    "\n",
    "# Homogeneous Series (all integers)\n",
    "print(\"Homogeneous Series \\n\")\n",
    "homo_series = pd.Series([10, 20, 30, 40], index=['A', 'B', 'C', 'D'])\n",
    "print(homo_series)\n",
    "print(f\"The data type is: {homo_series.dtype}\\n\")\n",
    "\n",
    "# Heterogeneous Series (mix of int, float, string, bool)\n",
    "print(\"Heterogeneous Series \\n\")\n",
    "hetero_series = pd.Series([10, 20.5, 'hello', True])\n",
    "print(hetero_series)\n",
    "print(f\"The data type is: {hetero_series.dtype}\")"
   ]
  },
  {
   "cell_type": "markdown",
   "id": "5c592cbe",
   "metadata": {
    "id": "S4xnJFzgnf4c"
   },
   "source": [
    "## DataFrame: The Two-Dimensional Powerhouse\n",
    "A DataFrame is a two-dimensional labeled data structure, similar to a table with rows and columns. It is the most commonly used object in Pandas.\n",
    "\n",
    "\n",
    "<center>\n",
    "<img src=\"https://pynative.com/wp-content/uploads/2021/02/dataframe.png\" alt=\"Pandas DF1\" width=\"500\">\n",
    "</center>\n",
    "\n",
    "\n",
    "<center>\n",
    "<img src=\"https://pynative.com/wp-content/uploads/2021/02/pandas-dataframe-from-dictionary.png\" alt=\"Pandas DF2\" width=\"500\">\n",
    "</center>\n",
    "\n",
    "Here are some examples:"
   ]
  },
  {
   "cell_type": "code",
   "execution_count": 5,
   "id": "067243c8",
   "metadata": {
    "colab": {
     "base_uri": "https://localhost:8080/"
    },
    "id": "VtpO3KA-przT",
    "outputId": "70059f12-2eb3-47fb-8aa6-f6838437f399"
   },
   "outputs": [
    {
     "name": "stdout",
     "output_type": "stream",
     "text": [
      "      Name  Age      City\n",
      "0    Alice   25  New York\n",
      "1      Bob   30    London\n",
      "2  Charlie   35     Paris\n",
      "3    Diana   28     Tokyo\n"
     ]
    }
   ],
   "source": [
    "# Creating a DataFrame from a dictionary\n",
    "data = {\n",
    "    'Name': ['Alice', 'Bob', 'Charlie', 'Diana'],\n",
    "    'Age': [25, 30, 35, 28],\n",
    "    'City': ['New York', 'London', 'Paris', 'Tokyo']\n",
    "}\n",
    "\n",
    "df = pd.DataFrame(data)\n",
    "print(df)"
   ]
  },
  {
   "cell_type": "code",
   "execution_count": 6,
   "id": "82964c9e",
   "metadata": {
    "colab": {
     "base_uri": "https://localhost:8080/"
    },
    "id": "Cdf6__VHp2DD",
    "outputId": "67ee796f-df48-4cee-81ae-cb25827d4a46"
   },
   "outputs": [
    {
     "name": "stdout",
     "output_type": "stream",
     "text": [
      "Our DataFrame:\n",
      "  Product  Price  Stock\n",
      "0   Apple    1.2     45\n",
      "1  Banana    0.5    120\n",
      "2  Cherry    3.0     15\n",
      "3    Date    2.5     80\n",
      "\n",
      "Data types:\n",
      "Product     object\n",
      "Price      float64\n",
      "Stock        int64\n",
      "dtype: object\n",
      "\n",
      "Basic statistics:\n",
      "         Price       Stock\n",
      "count  4.00000    4.000000\n",
      "mean   1.80000   65.000000\n",
      "std    1.15181   45.276926\n",
      "min    0.50000   15.000000\n",
      "25%    1.02500   37.500000\n",
      "50%    1.85000   62.500000\n",
      "75%    2.62500   90.000000\n",
      "max    3.00000  120.000000\n"
     ]
    }
   ],
   "source": [
    "import pandas as pd\n",
    "\n",
    "# Create a simple dataset\n",
    "data = {\n",
    "    'Product': ['Apple', 'Banana', 'Cherry', 'Date'],\n",
    "    'Price': [1.20, 0.50, 3.00, 2.50],\n",
    "    'Stock': [45, 120, 15, 80]\n",
    "}\n",
    "\n",
    "# Create DataFrame\n",
    "df = pd.DataFrame(data)\n",
    "\n",
    "# Display basic information\n",
    "print(\"Our DataFrame:\")\n",
    "print(df)\n",
    "print(\"\\nData types:\")\n",
    "print(df.dtypes)\n",
    "print(\"\\nBasic statistics:\")\n",
    "print(df.describe())"
   ]
  },
  {
   "cell_type": "markdown",
   "id": "b3faf32d",
   "metadata": {
    "id": "J6cTd0FNsFs8"
   },
   "source": [
    "# Pandas Basic Operations\n",
    "\n",
    "After reading tabular data as a DataFrame, you would need to have a glimpse of the data. Pandas makes it easy to explore and manipulate. A good first step is to inspect the dataset by previewing how many rows and columns it has, what the column names are, checking dimensions, or reviewing summary information such as data types and statistics. Pandas provides convenient methods for this.\n",
    "\n",
    "\n",
    "##Viewing/Exploring Data\n",
    "\n",
    "<!-- df.head()     # First 5 rows\n",
    "df.tail()     # Last 5 rows\n",
    "df.shape      # Number of rows and columns\n",
    "df.info()     # Data types and non-null values\n",
    "df.describe() # Summary statistics -->\n",
    "\n",
    "\n",
    "| Command         | Description                                                                                   | Default Behavior                    |\n",
    "| --------------- | --------------------------------------------------------------------------------------------- | ----------------------------------- |\n",
    "| `df.head()`     | Displays the **first rows** of the DataFrame. Useful for quickly previewing the dataset.      | Shows **5 rows**                    |\n",
    "| `df.tail()`     | Displays the **last rows** of the DataFrame. Handy for checking the dataset’s ending records. | Shows **5 rows**                    |\n",
    "| `df.shape`      | Returns a tuple `(rows, columns)` representing the **dimensions** of the DataFrame.           | N/A                                 |\n",
    "| `df.info()`     | Shows column names, **data types**, memory usage, and count of non-null values.               | N/A                                 |\n",
    "| `df.dtypes`     | Returns the **data type of each column** in the DataFrame.                                    | N/A                                 |\n",
    "| `df.describe()` | Provides **summary statistics** (mean, std, min, max, quartiles) for numeric columns.         | Includes numeric columns by default |\n",
    "\n",
    "\n",
    "\n",
    "<center>\n",
    "<img src=\"https://cdn.sanity.io/images/oaglaatp/production/b8add8dc0e1c0907a520e9cb2c8f511b0659726c-1200x600.png?w=1200&h=600&auto=format\" alt=\"Pandas DF3\" width=\"500\">\n",
    "</center>\n"
   ]
  },
  {
   "cell_type": "code",
   "execution_count": 7,
   "id": "7d1b054e",
   "metadata": {
    "colab": {
     "base_uri": "https://localhost:8080/"
    },
    "id": "HT9PayZlbazn",
    "outputId": "4a590093-972a-4d75-d7d2-67e78fbfe8bd"
   },
   "outputs": [
    {
     "name": "stdout",
     "output_type": "stream",
     "text": [
      "head\n",
      "      Name  Age  Salary\n",
      "0    Alice   24   50000\n",
      "1      Bob   30   60000\n",
      "2  Charlie   28   55000\n",
      "shape\n",
      "(3, 3)\n",
      "info\n",
      "<bound method DataFrame.info of       Name  Age  Salary\n",
      "0    Alice   24   50000\n",
      "1      Bob   30   60000\n",
      "2  Charlie   28   55000>\n"
     ]
    }
   ],
   "source": [
    "import pandas as pd\n",
    "\n",
    "data = {\n",
    "    'Name': ['Alice', 'Bob', 'Charlie'],\n",
    "    'Age': [24, 30, 28],\n",
    "    'Salary': [50000, 60000, 55000]\n",
    "}\n",
    "df = pd.DataFrame(data)\n",
    "\n",
    "print(\"head\")\n",
    "print(df.head())\n",
    "print(\"shape\")\n",
    "print(df.shape)\n",
    "print(\"info\")\n",
    "print(df.info)\n"
   ]
  },
  {
   "cell_type": "markdown",
   "id": "33b4e033",
   "metadata": {
    "id": "VtE3EapBt9FN"
   },
   "source": [
    "## Selecting and Indexing Data\n",
    "\n",
    "After inspecting the structure of a DataFrame, the next step is often to select specific rows and columns (specific parts of the data). Pandas provides several approaches depending on whether you want to select columns, rows, or filter data based on conditions. It lets you choose columns, rows, or both using labels (loc), integer positions (iloc), or conditions.\n",
    "\n",
    "###**1. Selecting Columns**\n",
    "\n",
    "| Command               | Description                                      |\n",
    "| --------------------- | ------------------------------------------------ |\n",
    "| `df['col']`           | Selects a **single column** as a Series.         |\n",
    "| `df[['col1','col2']]` | Selects **multiple columns** as a new DataFrame. |\n",
    "\n",
    "\n",
    "###**2. Selecting Rows**\n",
    "\n",
    "| Command              | Description                                  |\n",
    "| -------------------- | -------------------------------------------- |\n",
    "| `df.loc[row_label]`  | Select row(s) by **label** (index name).     |\n",
    "| `df.iloc[row_index]` | Select row(s) by **integer position**.       |\n",
    "| `df.loc[0, 'col']`   | Select a **specific value** by row & column. |\n",
    "\n",
    "\n",
    "\n",
    "###**3. Conditional Selection (Filtering)**\n",
    "\n",
    "| Command                                | Description                               |          |\n",
    "| -------------------------------------- | ----------------------------------------- | -------- |\n",
    "| `df[df['col'] > 50]`                   | Returns rows where condition is **True**. |          |\n",
    "| `df[(df['A'] > 50) & (df['B'] < 100)]` | Combine conditions with `&` (and), \\`     | \\` (or). |\n",
    "\n",
    "Follow is an example:"
   ]
  },
  {
   "cell_type": "code",
   "execution_count": 8,
   "id": "2f7fdb4c",
   "metadata": {
    "colab": {
     "base_uri": "https://localhost:8080/",
     "height": 124
    },
    "id": "tPmdaajLuY1B",
    "outputId": "95d3f7e0-a88a-48e8-9895-000debe62554"
   },
   "outputs": [
    {
     "name": "stdout",
     "output_type": "stream",
     "text": [
      "      Name  Age         City\n",
      "0    Alice   24     New York\n",
      "1      Bob   30  Los Angeles\n",
      "2  Charlie   28      Chicago\n"
     ]
    },
    {
     "data": {
      "application/vnd.google.colaboratory.intrinsic+json": {
       "repr_error": "Out of range float values are not JSON compliant: nan",
       "type": "dataframe"
      },
      "text/html": [
       "\n",
       "  <div id=\"df-0b3d81b7-67d4-454a-97df-1389528eff1e\" class=\"colab-df-container\">\n",
       "    <div>\n",
       "<style scoped>\n",
       "    .dataframe tbody tr th:only-of-type {\n",
       "        vertical-align: middle;\n",
       "    }\n",
       "\n",
       "    .dataframe tbody tr th {\n",
       "        vertical-align: top;\n",
       "    }\n",
       "\n",
       "    .dataframe thead th {\n",
       "        text-align: right;\n",
       "    }\n",
       "</style>\n",
       "<table border=\"1\" class=\"dataframe\">\n",
       "  <thead>\n",
       "    <tr style=\"text-align: right;\">\n",
       "      <th></th>\n",
       "      <th>Name</th>\n",
       "      <th>Age</th>\n",
       "      <th>City</th>\n",
       "    </tr>\n",
       "  </thead>\n",
       "  <tbody>\n",
       "  </tbody>\n",
       "</table>\n",
       "</div>\n",
       "    <div class=\"colab-df-buttons\">\n",
       "\n",
       "  <div class=\"colab-df-container\">\n",
       "    <button class=\"colab-df-convert\" onclick=\"convertToInteractive('df-0b3d81b7-67d4-454a-97df-1389528eff1e')\"\n",
       "            title=\"Convert this dataframe to an interactive table.\"\n",
       "            style=\"display:none;\">\n",
       "\n",
       "  <svg xmlns=\"http://www.w3.org/2000/svg\" height=\"24px\" viewBox=\"0 -960 960 960\">\n",
       "    <path d=\"M120-120v-720h720v720H120Zm60-500h600v-160H180v160Zm220 220h160v-160H400v160Zm0 220h160v-160H400v160ZM180-400h160v-160H180v160Zm440 0h160v-160H620v160ZM180-180h160v-160H180v160Zm440 0h160v-160H620v160Z\"/>\n",
       "  </svg>\n",
       "    </button>\n",
       "\n",
       "  <style>\n",
       "    .colab-df-container {\n",
       "      display:flex;\n",
       "      gap: 12px;\n",
       "    }\n",
       "\n",
       "    .colab-df-convert {\n",
       "      background-color: #E8F0FE;\n",
       "      border: none;\n",
       "      border-radius: 50%;\n",
       "      cursor: pointer;\n",
       "      display: none;\n",
       "      fill: #1967D2;\n",
       "      height: 32px;\n",
       "      padding: 0 0 0 0;\n",
       "      width: 32px;\n",
       "    }\n",
       "\n",
       "    .colab-df-convert:hover {\n",
       "      background-color: #E2EBFA;\n",
       "      box-shadow: 0px 1px 2px rgba(60, 64, 67, 0.3), 0px 1px 3px 1px rgba(60, 64, 67, 0.15);\n",
       "      fill: #174EA6;\n",
       "    }\n",
       "\n",
       "    .colab-df-buttons div {\n",
       "      margin-bottom: 4px;\n",
       "    }\n",
       "\n",
       "    [theme=dark] .colab-df-convert {\n",
       "      background-color: #3B4455;\n",
       "      fill: #D2E3FC;\n",
       "    }\n",
       "\n",
       "    [theme=dark] .colab-df-convert:hover {\n",
       "      background-color: #434B5C;\n",
       "      box-shadow: 0px 1px 3px 1px rgba(0, 0, 0, 0.15);\n",
       "      filter: drop-shadow(0px 1px 2px rgba(0, 0, 0, 0.3));\n",
       "      fill: #FFFFFF;\n",
       "    }\n",
       "  </style>\n",
       "\n",
       "    <script>\n",
       "      const buttonEl =\n",
       "        document.querySelector('#df-0b3d81b7-67d4-454a-97df-1389528eff1e button.colab-df-convert');\n",
       "      buttonEl.style.display =\n",
       "        google.colab.kernel.accessAllowed ? 'block' : 'none';\n",
       "\n",
       "      async function convertToInteractive(key) {\n",
       "        const element = document.querySelector('#df-0b3d81b7-67d4-454a-97df-1389528eff1e');\n",
       "        const dataTable =\n",
       "          await google.colab.kernel.invokeFunction('convertToInteractive',\n",
       "                                                    [key], {});\n",
       "        if (!dataTable) return;\n",
       "\n",
       "        const docLinkHtml = 'Like what you see? Visit the ' +\n",
       "          '<a target=\"_blank\" href=https://colab.research.google.com/notebooks/data_table.ipynb>data table notebook</a>'\n",
       "          + ' to learn more about interactive tables.';\n",
       "        element.innerHTML = '';\n",
       "        dataTable['output_type'] = 'display_data';\n",
       "        await google.colab.output.renderOutput(dataTable, element);\n",
       "        const docLink = document.createElement('div');\n",
       "        docLink.innerHTML = docLinkHtml;\n",
       "        element.appendChild(docLink);\n",
       "      }\n",
       "    </script>\n",
       "  </div>\n",
       "\n",
       "\n",
       "    </div>\n",
       "  </div>\n"
      ],
      "text/plain": [
       "Empty DataFrame\n",
       "Columns: [Name, Age, City]\n",
       "Index: []"
      ]
     },
     "execution_count": 8,
     "metadata": {},
     "output_type": "execute_result"
    }
   ],
   "source": [
    "\n",
    "import pandas as pd\n",
    "\n",
    "data = {\n",
    "    'Name': ['Alice', 'Bob', 'Charlie'],\n",
    "    'Age': [24, 30, 28],\n",
    "    'City': ['New York', 'Los Angeles', 'Chicago']\n",
    "}\n",
    "\n",
    "df = pd.DataFrame(data)\n",
    "print(df)\n",
    "\n",
    "# Now, to access the columns: Select columns\n",
    "df['Age']\n",
    "df[['Name', 'City']]\n",
    "\n",
    "# Select rows\n",
    "df.iloc[0]        # First row\n",
    "df.iloc[1:3]      # Rows 1–2\n",
    "df.loc[0, 'Name'] # Specific cell\n",
    "\n",
    "# Conditional selection\n",
    "df[df['Age'] > 30]\n",
    "df[(df['Age'] > 30) & (df['City'] == 'Chicago')]\n"
   ]
  },
  {
   "cell_type": "markdown",
   "id": "80b40eaa",
   "metadata": {
    "id": "hezPNcslX1KI"
   },
   "source": [
    "#Adding a new column to DataFrame\n",
    "\n",
    "A new column can be added to a pandas DataFrame by assigning a ***value, list, or Series*** to a new column name. If the assigned data is a list or Series, its length must match the number of rows in the DataFrame. You can also assign a single value, which will be applied to all rows."
   ]
  },
  {
   "cell_type": "code",
   "execution_count": 9,
   "id": "e32af026",
   "metadata": {
    "colab": {
     "base_uri": "https://localhost:8080/"
    },
    "id": "BEfE6Yd8Ybv8",
    "outputId": "397d83ec-8962-48a8-fd25-d5325df8cb88"
   },
   "outputs": [
    {
     "name": "stdout",
     "output_type": "stream",
     "text": [
      "      Name  Math\n",
      "0    Alice    90\n",
      "1      Bob    85\n",
      "2  Charlie    95\n",
      "      Name  Math  English\n",
      "0    Alice    90       88\n",
      "1      Bob    85       92\n",
      "2  Charlie    95       80\n",
      "      Name  Math  English  Pass\n",
      "0    Alice    90       88  True\n",
      "1      Bob    85       92  True\n",
      "2  Charlie    95       80  True\n"
     ]
    }
   ],
   "source": [
    "import pandas as pd\n",
    "\n",
    "df = pd.DataFrame({\n",
    "    \"Name\": [\"Alice\", \"Bob\", \"Charlie\"],\n",
    "    \"Math\": [90, 85, 95]\n",
    "})\n",
    "print(df)\n",
    "\n",
    "# Add a new column with a list\n",
    "df[\"English\"] = [88, 92, 80]\n",
    "\n",
    "print(df)\n",
    "\n",
    "# Add a new column with a single value\n",
    "df[\"Pass\"] = True\n",
    "\n",
    "print(df)"
   ]
  },
  {
   "cell_type": "markdown",
   "id": "9c27d8a2",
   "metadata": {
    "id": "NJpkkMwvcTbG"
   },
   "source": [
    "# Arithmetic Operations and Functions in Pandas\n",
    "\n",
    "So far we explored how to inspect and select data in Pandas. Once you have access to the right rows and columns, the next step is to perform calculations and apply functions. Pandas makes this process very intuitive by allowing you to apply arithmetic directly to DataFrames or Series, and by offering tools like apply(), map(), and applymap() for more flexibility.\n",
    "\n",
    "## Arithmetic Operations on Columns\n",
    "\n",
    "You can directly apply mathematical operations to Pandas Series or DataFrame columns. Operations are vectorized, meaning they are applied element-wise across the column.\n",
    "\n",
    "In below example, you can notice how the operations are automatically applied to each row."
   ]
  },
  {
   "cell_type": "code",
   "execution_count": 10,
   "id": "edbd98ea",
   "metadata": {
    "colab": {
     "base_uri": "https://localhost:8080/"
    },
    "id": "C8WDkGdlclFS",
    "outputId": "ea2391ac-348b-432f-e825-a5611987116a"
   },
   "outputs": [
    {
     "name": "stdout",
     "output_type": "stream",
     "text": [
      "      Name  Age  Salary\n",
      "0    Alice   24   50000\n",
      "1      Bob   30   60000\n",
      "2  Charlie   28   55000\n",
      "      Name  Age   Salary\n",
      "0    Alice   29  55000.0\n",
      "1      Bob   35  66000.0\n",
      "2  Charlie   33  60500.0\n"
     ]
    }
   ],
   "source": [
    "import pandas as pd\n",
    "\n",
    "data = {\n",
    "    'Name': ['Alice', 'Bob', 'Charlie'],\n",
    "    'Age': [24, 30, 28],\n",
    "    'Salary': [50000, 60000, 55000]\n",
    "}\n",
    "df = pd.DataFrame(data)\n",
    "print(df)\n",
    "\n",
    "# Increase all salaries by 10%\n",
    "df['Salary'] = df['Salary'] * 1.10\n",
    "\n",
    "# Add 5 years to everyone’s age\n",
    "df['Age'] = df['Age'] + 5\n",
    "print(df)"
   ]
  },
  {
   "cell_type": "markdown",
   "id": "f723abd7",
   "metadata": {
    "id": "uUXQ9Iodcx3U"
   },
   "source": [
    "## Arithmetic Between Columns\n",
    "You can also perform arithmetic between two or more columns to create new features."
   ]
  },
  {
   "cell_type": "code",
   "execution_count": 11,
   "id": "b7aaeda8",
   "metadata": {
    "colab": {
     "base_uri": "https://localhost:8080/"
    },
    "id": "fTt6nukjc2NT",
    "outputId": "0ded6da3-4587-4ee7-e47a-e947733868b0"
   },
   "outputs": [
    {
     "name": "stdout",
     "output_type": "stream",
     "text": [
      "      Name  Age   Salary  Income_per_Age\n",
      "0    Alice   29  55000.0     1896.551724\n",
      "1      Bob   35  66000.0     1885.714286\n",
      "2  Charlie   33  60500.0     1833.333333\n"
     ]
    }
   ],
   "source": [
    "# Create a new column 'Income_per_Age'\n",
    "df['Income_per_Age'] = df['Salary'] / df['Age']\n",
    "print(df)"
   ]
  },
  {
   "cell_type": "markdown",
   "id": "037c25d5",
   "metadata": {
    "id": "IxIFiA4ic7DW"
   },
   "source": [
    "# Applying Built-in Pandas/Numpy Functions\n",
    "\n",
    "Pandas integrates with NumPy functions, allowing you to apply common statistics directly.\n"
   ]
  },
  {
   "cell_type": "code",
   "execution_count": 12,
   "id": "07360897",
   "metadata": {
    "colab": {
     "base_uri": "https://localhost:8080/"
    },
    "id": "42HA1XToc_h8",
    "outputId": "64f3b3e3-dcac-4abc-d793-2e2ba56f6a83"
   },
   "outputs": [
    {
     "name": "stdout",
     "output_type": "stream",
     "text": [
      "60500.0\n",
      "3.0550504633038935\n",
      "0    5.385165\n",
      "1    5.916080\n",
      "2    5.744563\n",
      "Name: Age, dtype: float64\n"
     ]
    }
   ],
   "source": [
    "import numpy as np\n",
    "\n",
    "# Calculate average salary\n",
    "print(df['Salary'].mean())\n",
    "\n",
    "# Standard deviation of Age\n",
    "print(df['Age'].std())\n",
    "\n",
    "# Apply numpy square root\n",
    "print(np.sqrt(df['Age']))"
   ]
  },
  {
   "cell_type": "markdown",
   "id": "67c17ce6",
   "metadata": {
    "id": "2kyj2xDbc-n7"
   },
   "source": [
    "### Applying Functions with **apply()**\n",
    "\n",
    "Sometimes you need custom transformations. The apply() method lets you apply a function to an entire column (Series) or to each row/column in a DataFrame.\n"
   ]
  },
  {
   "cell_type": "code",
   "execution_count": 13,
   "id": "276693c0",
   "metadata": {
    "colab": {
     "base_uri": "https://localhost:8080/"
    },
    "id": "CI_UGGeidXH9",
    "outputId": "822ce9b0-816f-4e7d-e913-f7c1d4499b04"
   },
   "outputs": [
    {
     "name": "stdout",
     "output_type": "stream",
     "text": [
      "      Name  Age   Salary  Income_per_Age  Age_squared    Total\n",
      "0    Alice   29  55000.0     1896.551724          841  55029.0\n",
      "1      Bob   35  66000.0     1885.714286         1225  66035.0\n",
      "2  Charlie   33  60500.0     1833.333333         1089  60533.0\n"
     ]
    }
   ],
   "source": [
    "# Apply to a Series\n",
    "df['Age_squared'] = df['Age'].apply(lambda x: x**2)\n",
    "\n",
    "# Apply to DataFrame across rows\n",
    "df['Total'] = df[['Age','Salary']].apply(lambda row: row['Age'] + row['Salary'], axis=1)\n",
    "print(df)"
   ]
  },
  {
   "cell_type": "markdown",
   "id": "9bef883a",
   "metadata": {
    "id": "k5ZTacVnucQQ"
   },
   "source": [
    "Note that, we can also apply a Function Elementwise with applymap() and to a Single Column with map() but not covering in this course."
   ]
  },
  {
   "cell_type": "markdown",
   "id": "2d899f33",
   "metadata": {
    "id": "fyVTfiKTeI04"
   },
   "source": [
    "# Filtering Data in Pandas\n",
    "\n",
    "Once you know how to select columns and rows, the next step is learning how to filter data. Filtering helps you focus on only the relevant part of your dataset, whether that means removing unnecessary columns, isolating rows that meet certain conditions, or preparing features for modeling.\n",
    "\n",
    "## Filtering Columns\n",
    "\n",
    "Column filtering is about selecting only the columns you need or dropping the ones you don’t. This reduces memory usage and keeps your DataFrame manageable."
   ]
  },
  {
   "cell_type": "code",
   "execution_count": 14,
   "id": "415b8f5b",
   "metadata": {
    "colab": {
     "base_uri": "https://localhost:8080/",
     "height": 143
    },
    "id": "c4v3yYEUeGOK",
    "outputId": "22c07675-6ac1-42d9-969d-b4adb206b4c7"
   },
   "outputs": [
    {
     "data": {
      "application/vnd.google.colaboratory.intrinsic+json": {
       "summary": "{\n  \"name\": \"df[['Name', 'Age']]\",\n  \"rows\": 3,\n  \"fields\": [\n    {\n      \"column\": \"Name\",\n      \"properties\": {\n        \"dtype\": \"string\",\n        \"num_unique_values\": 3,\n        \"samples\": [\n          \"Alice\",\n          \"Bob\",\n          \"Charlie\"\n        ],\n        \"semantic_type\": \"\",\n        \"description\": \"\"\n      }\n    },\n    {\n      \"column\": \"Age\",\n      \"properties\": {\n        \"dtype\": \"number\",\n        \"std\": 3,\n        \"min\": 29,\n        \"max\": 35,\n        \"num_unique_values\": 3,\n        \"samples\": [\n          29,\n          35,\n          33\n        ],\n        \"semantic_type\": \"\",\n        \"description\": \"\"\n      }\n    }\n  ]\n}",
       "type": "dataframe"
      },
      "text/html": [
       "\n",
       "  <div id=\"df-aaf42b87-a149-47f0-bba8-7ac30b25b7b8\" class=\"colab-df-container\">\n",
       "    <div>\n",
       "<style scoped>\n",
       "    .dataframe tbody tr th:only-of-type {\n",
       "        vertical-align: middle;\n",
       "    }\n",
       "\n",
       "    .dataframe tbody tr th {\n",
       "        vertical-align: top;\n",
       "    }\n",
       "\n",
       "    .dataframe thead th {\n",
       "        text-align: right;\n",
       "    }\n",
       "</style>\n",
       "<table border=\"1\" class=\"dataframe\">\n",
       "  <thead>\n",
       "    <tr style=\"text-align: right;\">\n",
       "      <th></th>\n",
       "      <th>Name</th>\n",
       "      <th>Age</th>\n",
       "    </tr>\n",
       "  </thead>\n",
       "  <tbody>\n",
       "    <tr>\n",
       "      <th>0</th>\n",
       "      <td>Alice</td>\n",
       "      <td>29</td>\n",
       "    </tr>\n",
       "    <tr>\n",
       "      <th>1</th>\n",
       "      <td>Bob</td>\n",
       "      <td>35</td>\n",
       "    </tr>\n",
       "    <tr>\n",
       "      <th>2</th>\n",
       "      <td>Charlie</td>\n",
       "      <td>33</td>\n",
       "    </tr>\n",
       "  </tbody>\n",
       "</table>\n",
       "</div>\n",
       "    <div class=\"colab-df-buttons\">\n",
       "\n",
       "  <div class=\"colab-df-container\">\n",
       "    <button class=\"colab-df-convert\" onclick=\"convertToInteractive('df-aaf42b87-a149-47f0-bba8-7ac30b25b7b8')\"\n",
       "            title=\"Convert this dataframe to an interactive table.\"\n",
       "            style=\"display:none;\">\n",
       "\n",
       "  <svg xmlns=\"http://www.w3.org/2000/svg\" height=\"24px\" viewBox=\"0 -960 960 960\">\n",
       "    <path d=\"M120-120v-720h720v720H120Zm60-500h600v-160H180v160Zm220 220h160v-160H400v160Zm0 220h160v-160H400v160ZM180-400h160v-160H180v160Zm440 0h160v-160H620v160ZM180-180h160v-160H180v160Zm440 0h160v-160H620v160Z\"/>\n",
       "  </svg>\n",
       "    </button>\n",
       "\n",
       "  <style>\n",
       "    .colab-df-container {\n",
       "      display:flex;\n",
       "      gap: 12px;\n",
       "    }\n",
       "\n",
       "    .colab-df-convert {\n",
       "      background-color: #E8F0FE;\n",
       "      border: none;\n",
       "      border-radius: 50%;\n",
       "      cursor: pointer;\n",
       "      display: none;\n",
       "      fill: #1967D2;\n",
       "      height: 32px;\n",
       "      padding: 0 0 0 0;\n",
       "      width: 32px;\n",
       "    }\n",
       "\n",
       "    .colab-df-convert:hover {\n",
       "      background-color: #E2EBFA;\n",
       "      box-shadow: 0px 1px 2px rgba(60, 64, 67, 0.3), 0px 1px 3px 1px rgba(60, 64, 67, 0.15);\n",
       "      fill: #174EA6;\n",
       "    }\n",
       "\n",
       "    .colab-df-buttons div {\n",
       "      margin-bottom: 4px;\n",
       "    }\n",
       "\n",
       "    [theme=dark] .colab-df-convert {\n",
       "      background-color: #3B4455;\n",
       "      fill: #D2E3FC;\n",
       "    }\n",
       "\n",
       "    [theme=dark] .colab-df-convert:hover {\n",
       "      background-color: #434B5C;\n",
       "      box-shadow: 0px 1px 3px 1px rgba(0, 0, 0, 0.15);\n",
       "      filter: drop-shadow(0px 1px 2px rgba(0, 0, 0, 0.3));\n",
       "      fill: #FFFFFF;\n",
       "    }\n",
       "  </style>\n",
       "\n",
       "    <script>\n",
       "      const buttonEl =\n",
       "        document.querySelector('#df-aaf42b87-a149-47f0-bba8-7ac30b25b7b8 button.colab-df-convert');\n",
       "      buttonEl.style.display =\n",
       "        google.colab.kernel.accessAllowed ? 'block' : 'none';\n",
       "\n",
       "      async function convertToInteractive(key) {\n",
       "        const element = document.querySelector('#df-aaf42b87-a149-47f0-bba8-7ac30b25b7b8');\n",
       "        const dataTable =\n",
       "          await google.colab.kernel.invokeFunction('convertToInteractive',\n",
       "                                                    [key], {});\n",
       "        if (!dataTable) return;\n",
       "\n",
       "        const docLinkHtml = 'Like what you see? Visit the ' +\n",
       "          '<a target=\"_blank\" href=https://colab.research.google.com/notebooks/data_table.ipynb>data table notebook</a>'\n",
       "          + ' to learn more about interactive tables.';\n",
       "        element.innerHTML = '';\n",
       "        dataTable['output_type'] = 'display_data';\n",
       "        await google.colab.output.renderOutput(dataTable, element);\n",
       "        const docLink = document.createElement('div');\n",
       "        docLink.innerHTML = docLinkHtml;\n",
       "        element.appendChild(docLink);\n",
       "      }\n",
       "    </script>\n",
       "  </div>\n",
       "\n",
       "\n",
       "    <div id=\"df-874d7fa5-4132-4383-b030-ee4690639db7\">\n",
       "      <button class=\"colab-df-quickchart\" onclick=\"quickchart('df-874d7fa5-4132-4383-b030-ee4690639db7')\"\n",
       "                title=\"Suggest charts\"\n",
       "                style=\"display:none;\">\n",
       "\n",
       "<svg xmlns=\"http://www.w3.org/2000/svg\" height=\"24px\"viewBox=\"0 0 24 24\"\n",
       "     width=\"24px\">\n",
       "    <g>\n",
       "        <path d=\"M19 3H5c-1.1 0-2 .9-2 2v14c0 1.1.9 2 2 2h14c1.1 0 2-.9 2-2V5c0-1.1-.9-2-2-2zM9 17H7v-7h2v7zm4 0h-2V7h2v10zm4 0h-2v-4h2v4z\"/>\n",
       "    </g>\n",
       "</svg>\n",
       "      </button>\n",
       "\n",
       "<style>\n",
       "  .colab-df-quickchart {\n",
       "      --bg-color: #E8F0FE;\n",
       "      --fill-color: #1967D2;\n",
       "      --hover-bg-color: #E2EBFA;\n",
       "      --hover-fill-color: #174EA6;\n",
       "      --disabled-fill-color: #AAA;\n",
       "      --disabled-bg-color: #DDD;\n",
       "  }\n",
       "\n",
       "  [theme=dark] .colab-df-quickchart {\n",
       "      --bg-color: #3B4455;\n",
       "      --fill-color: #D2E3FC;\n",
       "      --hover-bg-color: #434B5C;\n",
       "      --hover-fill-color: #FFFFFF;\n",
       "      --disabled-bg-color: #3B4455;\n",
       "      --disabled-fill-color: #666;\n",
       "  }\n",
       "\n",
       "  .colab-df-quickchart {\n",
       "    background-color: var(--bg-color);\n",
       "    border: none;\n",
       "    border-radius: 50%;\n",
       "    cursor: pointer;\n",
       "    display: none;\n",
       "    fill: var(--fill-color);\n",
       "    height: 32px;\n",
       "    padding: 0;\n",
       "    width: 32px;\n",
       "  }\n",
       "\n",
       "  .colab-df-quickchart:hover {\n",
       "    background-color: var(--hover-bg-color);\n",
       "    box-shadow: 0 1px 2px rgba(60, 64, 67, 0.3), 0 1px 3px 1px rgba(60, 64, 67, 0.15);\n",
       "    fill: var(--button-hover-fill-color);\n",
       "  }\n",
       "\n",
       "  .colab-df-quickchart-complete:disabled,\n",
       "  .colab-df-quickchart-complete:disabled:hover {\n",
       "    background-color: var(--disabled-bg-color);\n",
       "    fill: var(--disabled-fill-color);\n",
       "    box-shadow: none;\n",
       "  }\n",
       "\n",
       "  .colab-df-spinner {\n",
       "    border: 2px solid var(--fill-color);\n",
       "    border-color: transparent;\n",
       "    border-bottom-color: var(--fill-color);\n",
       "    animation:\n",
       "      spin 1s steps(1) infinite;\n",
       "  }\n",
       "\n",
       "  @keyframes spin {\n",
       "    0% {\n",
       "      border-color: transparent;\n",
       "      border-bottom-color: var(--fill-color);\n",
       "      border-left-color: var(--fill-color);\n",
       "    }\n",
       "    20% {\n",
       "      border-color: transparent;\n",
       "      border-left-color: var(--fill-color);\n",
       "      border-top-color: var(--fill-color);\n",
       "    }\n",
       "    30% {\n",
       "      border-color: transparent;\n",
       "      border-left-color: var(--fill-color);\n",
       "      border-top-color: var(--fill-color);\n",
       "      border-right-color: var(--fill-color);\n",
       "    }\n",
       "    40% {\n",
       "      border-color: transparent;\n",
       "      border-right-color: var(--fill-color);\n",
       "      border-top-color: var(--fill-color);\n",
       "    }\n",
       "    60% {\n",
       "      border-color: transparent;\n",
       "      border-right-color: var(--fill-color);\n",
       "    }\n",
       "    80% {\n",
       "      border-color: transparent;\n",
       "      border-right-color: var(--fill-color);\n",
       "      border-bottom-color: var(--fill-color);\n",
       "    }\n",
       "    90% {\n",
       "      border-color: transparent;\n",
       "      border-bottom-color: var(--fill-color);\n",
       "    }\n",
       "  }\n",
       "</style>\n",
       "\n",
       "      <script>\n",
       "        async function quickchart(key) {\n",
       "          const quickchartButtonEl =\n",
       "            document.querySelector('#' + key + ' button');\n",
       "          quickchartButtonEl.disabled = true;  // To prevent multiple clicks.\n",
       "          quickchartButtonEl.classList.add('colab-df-spinner');\n",
       "          try {\n",
       "            const charts = await google.colab.kernel.invokeFunction(\n",
       "                'suggestCharts', [key], {});\n",
       "          } catch (error) {\n",
       "            console.error('Error during call to suggestCharts:', error);\n",
       "          }\n",
       "          quickchartButtonEl.classList.remove('colab-df-spinner');\n",
       "          quickchartButtonEl.classList.add('colab-df-quickchart-complete');\n",
       "        }\n",
       "        (() => {\n",
       "          let quickchartButtonEl =\n",
       "            document.querySelector('#df-874d7fa5-4132-4383-b030-ee4690639db7 button');\n",
       "          quickchartButtonEl.style.display =\n",
       "            google.colab.kernel.accessAllowed ? 'block' : 'none';\n",
       "        })();\n",
       "      </script>\n",
       "    </div>\n",
       "\n",
       "    </div>\n",
       "  </div>\n"
      ],
      "text/plain": [
       "      Name  Age\n",
       "0    Alice   29\n",
       "1      Bob   35\n",
       "2  Charlie   33"
      ]
     },
     "execution_count": 14,
     "metadata": {},
     "output_type": "execute_result"
    }
   ],
   "source": [
    "# Select a single column\n",
    "df['Age']\n",
    "\n",
    "# Select multiple columns\n",
    "df[['Name', 'Age']]\n",
    "\n"
   ]
  },
  {
   "cell_type": "markdown",
   "id": "430db91f",
   "metadata": {
    "id": "qR9sZFu5e-pV"
   },
   "source": [
    "## Dropping Unused Columns"
   ]
  },
  {
   "cell_type": "code",
   "execution_count": 15,
   "id": "45b2b626",
   "metadata": {
    "colab": {
     "base_uri": "https://localhost:8080/"
    },
    "id": "Hso3cwY3fAVo",
    "outputId": "4272962f-3906-439d-c5e5-6edf3b4f1bf4"
   },
   "outputs": [
    {
     "name": "stdout",
     "output_type": "stream",
     "text": [
      "      Name  Age   Salary  Income_per_Age    Total\n",
      "0    Alice   29  55000.0     1896.551724  55029.0\n",
      "1      Bob   35  66000.0     1885.714286  66035.0\n",
      "2  Charlie   33  60500.0     1833.333333  60533.0\n"
     ]
    }
   ],
   "source": [
    "# Drop the 'Age_squared' column\n",
    "df = df.drop(columns=['Age_squared'])\n",
    "print(df)"
   ]
  },
  {
   "cell_type": "markdown",
   "id": "646327bd",
   "metadata": {
    "id": "4Uxc9z7sfFg8"
   },
   "source": [
    "This is especially useful when preparing data for machine learning, where only selected features are required."
   ]
  },
  {
   "cell_type": "markdown",
   "id": "7632d3ef",
   "metadata": {
    "id": "3fCS_z3jfQAS"
   },
   "source": [
    "## Filtering Rows (using Boolean Indexing)\n",
    "\n",
    "Row filtering is usually done with Boolean indexing, where you apply a condition and return only the rows where that condition is true."
   ]
  },
  {
   "cell_type": "code",
   "execution_count": 16,
   "id": "5941ee8c",
   "metadata": {
    "colab": {
     "base_uri": "https://localhost:8080/",
     "height": 112
    },
    "id": "p72rSa8WfbRm",
    "outputId": "d62b07d9-9b93-4869-ddcf-07d102e3d976"
   },
   "outputs": [
    {
     "data": {
      "application/vnd.google.colaboratory.intrinsic+json": {
       "summary": "{\n  \"name\": \"df[df['Age'] > 30]\",\n  \"rows\": 2,\n  \"fields\": [\n    {\n      \"column\": \"Name\",\n      \"properties\": {\n        \"dtype\": \"string\",\n        \"num_unique_values\": 2,\n        \"samples\": [\n          \"Charlie\",\n          \"Bob\"\n        ],\n        \"semantic_type\": \"\",\n        \"description\": \"\"\n      }\n    },\n    {\n      \"column\": \"Age\",\n      \"properties\": {\n        \"dtype\": \"number\",\n        \"std\": 1,\n        \"min\": 33,\n        \"max\": 35,\n        \"num_unique_values\": 2,\n        \"samples\": [\n          33,\n          35\n        ],\n        \"semantic_type\": \"\",\n        \"description\": \"\"\n      }\n    },\n    {\n      \"column\": \"Salary\",\n      \"properties\": {\n        \"dtype\": \"number\",\n        \"std\": 3889.087296526006,\n        \"min\": 60500.00000000001,\n        \"max\": 66000.0,\n        \"num_unique_values\": 2,\n        \"samples\": [\n          60500.00000000001,\n          66000.0\n        ],\n        \"semantic_type\": \"\",\n        \"description\": \"\"\n      }\n    },\n    {\n      \"column\": \"Income_per_Age\",\n      \"properties\": {\n        \"dtype\": \"number\",\n        \"std\": 37.038926633581,\n        \"min\": 1833.3333333333335,\n        \"max\": 1885.7142857142858,\n        \"num_unique_values\": 2,\n        \"samples\": [\n          1833.3333333333335,\n          1885.7142857142858\n        ],\n        \"semantic_type\": \"\",\n        \"description\": \"\"\n      }\n    },\n    {\n      \"column\": \"Total\",\n      \"properties\": {\n        \"dtype\": \"number\",\n        \"std\": 3890.5015100883793,\n        \"min\": 60533.00000000001,\n        \"max\": 66035.0,\n        \"num_unique_values\": 2,\n        \"samples\": [\n          60533.00000000001,\n          66035.0\n        ],\n        \"semantic_type\": \"\",\n        \"description\": \"\"\n      }\n    }\n  ]\n}",
       "type": "dataframe"
      },
      "text/html": [
       "\n",
       "  <div id=\"df-55ee42a4-e9e0-44f3-9bb1-9636fbb4f196\" class=\"colab-df-container\">\n",
       "    <div>\n",
       "<style scoped>\n",
       "    .dataframe tbody tr th:only-of-type {\n",
       "        vertical-align: middle;\n",
       "    }\n",
       "\n",
       "    .dataframe tbody tr th {\n",
       "        vertical-align: top;\n",
       "    }\n",
       "\n",
       "    .dataframe thead th {\n",
       "        text-align: right;\n",
       "    }\n",
       "</style>\n",
       "<table border=\"1\" class=\"dataframe\">\n",
       "  <thead>\n",
       "    <tr style=\"text-align: right;\">\n",
       "      <th></th>\n",
       "      <th>Name</th>\n",
       "      <th>Age</th>\n",
       "      <th>Salary</th>\n",
       "      <th>Income_per_Age</th>\n",
       "      <th>Total</th>\n",
       "    </tr>\n",
       "  </thead>\n",
       "  <tbody>\n",
       "    <tr>\n",
       "      <th>1</th>\n",
       "      <td>Bob</td>\n",
       "      <td>35</td>\n",
       "      <td>66000.0</td>\n",
       "      <td>1885.714286</td>\n",
       "      <td>66035.0</td>\n",
       "    </tr>\n",
       "    <tr>\n",
       "      <th>2</th>\n",
       "      <td>Charlie</td>\n",
       "      <td>33</td>\n",
       "      <td>60500.0</td>\n",
       "      <td>1833.333333</td>\n",
       "      <td>60533.0</td>\n",
       "    </tr>\n",
       "  </tbody>\n",
       "</table>\n",
       "</div>\n",
       "    <div class=\"colab-df-buttons\">\n",
       "\n",
       "  <div class=\"colab-df-container\">\n",
       "    <button class=\"colab-df-convert\" onclick=\"convertToInteractive('df-55ee42a4-e9e0-44f3-9bb1-9636fbb4f196')\"\n",
       "            title=\"Convert this dataframe to an interactive table.\"\n",
       "            style=\"display:none;\">\n",
       "\n",
       "  <svg xmlns=\"http://www.w3.org/2000/svg\" height=\"24px\" viewBox=\"0 -960 960 960\">\n",
       "    <path d=\"M120-120v-720h720v720H120Zm60-500h600v-160H180v160Zm220 220h160v-160H400v160Zm0 220h160v-160H400v160ZM180-400h160v-160H180v160Zm440 0h160v-160H620v160ZM180-180h160v-160H180v160Zm440 0h160v-160H620v160Z\"/>\n",
       "  </svg>\n",
       "    </button>\n",
       "\n",
       "  <style>\n",
       "    .colab-df-container {\n",
       "      display:flex;\n",
       "      gap: 12px;\n",
       "    }\n",
       "\n",
       "    .colab-df-convert {\n",
       "      background-color: #E8F0FE;\n",
       "      border: none;\n",
       "      border-radius: 50%;\n",
       "      cursor: pointer;\n",
       "      display: none;\n",
       "      fill: #1967D2;\n",
       "      height: 32px;\n",
       "      padding: 0 0 0 0;\n",
       "      width: 32px;\n",
       "    }\n",
       "\n",
       "    .colab-df-convert:hover {\n",
       "      background-color: #E2EBFA;\n",
       "      box-shadow: 0px 1px 2px rgba(60, 64, 67, 0.3), 0px 1px 3px 1px rgba(60, 64, 67, 0.15);\n",
       "      fill: #174EA6;\n",
       "    }\n",
       "\n",
       "    .colab-df-buttons div {\n",
       "      margin-bottom: 4px;\n",
       "    }\n",
       "\n",
       "    [theme=dark] .colab-df-convert {\n",
       "      background-color: #3B4455;\n",
       "      fill: #D2E3FC;\n",
       "    }\n",
       "\n",
       "    [theme=dark] .colab-df-convert:hover {\n",
       "      background-color: #434B5C;\n",
       "      box-shadow: 0px 1px 3px 1px rgba(0, 0, 0, 0.15);\n",
       "      filter: drop-shadow(0px 1px 2px rgba(0, 0, 0, 0.3));\n",
       "      fill: #FFFFFF;\n",
       "    }\n",
       "  </style>\n",
       "\n",
       "    <script>\n",
       "      const buttonEl =\n",
       "        document.querySelector('#df-55ee42a4-e9e0-44f3-9bb1-9636fbb4f196 button.colab-df-convert');\n",
       "      buttonEl.style.display =\n",
       "        google.colab.kernel.accessAllowed ? 'block' : 'none';\n",
       "\n",
       "      async function convertToInteractive(key) {\n",
       "        const element = document.querySelector('#df-55ee42a4-e9e0-44f3-9bb1-9636fbb4f196');\n",
       "        const dataTable =\n",
       "          await google.colab.kernel.invokeFunction('convertToInteractive',\n",
       "                                                    [key], {});\n",
       "        if (!dataTable) return;\n",
       "\n",
       "        const docLinkHtml = 'Like what you see? Visit the ' +\n",
       "          '<a target=\"_blank\" href=https://colab.research.google.com/notebooks/data_table.ipynb>data table notebook</a>'\n",
       "          + ' to learn more about interactive tables.';\n",
       "        element.innerHTML = '';\n",
       "        dataTable['output_type'] = 'display_data';\n",
       "        await google.colab.output.renderOutput(dataTable, element);\n",
       "        const docLink = document.createElement('div');\n",
       "        docLink.innerHTML = docLinkHtml;\n",
       "        element.appendChild(docLink);\n",
       "      }\n",
       "    </script>\n",
       "  </div>\n",
       "\n",
       "\n",
       "    <div id=\"df-edb48abf-c5bc-40c5-8baf-6e450550e72c\">\n",
       "      <button class=\"colab-df-quickchart\" onclick=\"quickchart('df-edb48abf-c5bc-40c5-8baf-6e450550e72c')\"\n",
       "                title=\"Suggest charts\"\n",
       "                style=\"display:none;\">\n",
       "\n",
       "<svg xmlns=\"http://www.w3.org/2000/svg\" height=\"24px\"viewBox=\"0 0 24 24\"\n",
       "     width=\"24px\">\n",
       "    <g>\n",
       "        <path d=\"M19 3H5c-1.1 0-2 .9-2 2v14c0 1.1.9 2 2 2h14c1.1 0 2-.9 2-2V5c0-1.1-.9-2-2-2zM9 17H7v-7h2v7zm4 0h-2V7h2v10zm4 0h-2v-4h2v4z\"/>\n",
       "    </g>\n",
       "</svg>\n",
       "      </button>\n",
       "\n",
       "<style>\n",
       "  .colab-df-quickchart {\n",
       "      --bg-color: #E8F0FE;\n",
       "      --fill-color: #1967D2;\n",
       "      --hover-bg-color: #E2EBFA;\n",
       "      --hover-fill-color: #174EA6;\n",
       "      --disabled-fill-color: #AAA;\n",
       "      --disabled-bg-color: #DDD;\n",
       "  }\n",
       "\n",
       "  [theme=dark] .colab-df-quickchart {\n",
       "      --bg-color: #3B4455;\n",
       "      --fill-color: #D2E3FC;\n",
       "      --hover-bg-color: #434B5C;\n",
       "      --hover-fill-color: #FFFFFF;\n",
       "      --disabled-bg-color: #3B4455;\n",
       "      --disabled-fill-color: #666;\n",
       "  }\n",
       "\n",
       "  .colab-df-quickchart {\n",
       "    background-color: var(--bg-color);\n",
       "    border: none;\n",
       "    border-radius: 50%;\n",
       "    cursor: pointer;\n",
       "    display: none;\n",
       "    fill: var(--fill-color);\n",
       "    height: 32px;\n",
       "    padding: 0;\n",
       "    width: 32px;\n",
       "  }\n",
       "\n",
       "  .colab-df-quickchart:hover {\n",
       "    background-color: var(--hover-bg-color);\n",
       "    box-shadow: 0 1px 2px rgba(60, 64, 67, 0.3), 0 1px 3px 1px rgba(60, 64, 67, 0.15);\n",
       "    fill: var(--button-hover-fill-color);\n",
       "  }\n",
       "\n",
       "  .colab-df-quickchart-complete:disabled,\n",
       "  .colab-df-quickchart-complete:disabled:hover {\n",
       "    background-color: var(--disabled-bg-color);\n",
       "    fill: var(--disabled-fill-color);\n",
       "    box-shadow: none;\n",
       "  }\n",
       "\n",
       "  .colab-df-spinner {\n",
       "    border: 2px solid var(--fill-color);\n",
       "    border-color: transparent;\n",
       "    border-bottom-color: var(--fill-color);\n",
       "    animation:\n",
       "      spin 1s steps(1) infinite;\n",
       "  }\n",
       "\n",
       "  @keyframes spin {\n",
       "    0% {\n",
       "      border-color: transparent;\n",
       "      border-bottom-color: var(--fill-color);\n",
       "      border-left-color: var(--fill-color);\n",
       "    }\n",
       "    20% {\n",
       "      border-color: transparent;\n",
       "      border-left-color: var(--fill-color);\n",
       "      border-top-color: var(--fill-color);\n",
       "    }\n",
       "    30% {\n",
       "      border-color: transparent;\n",
       "      border-left-color: var(--fill-color);\n",
       "      border-top-color: var(--fill-color);\n",
       "      border-right-color: var(--fill-color);\n",
       "    }\n",
       "    40% {\n",
       "      border-color: transparent;\n",
       "      border-right-color: var(--fill-color);\n",
       "      border-top-color: var(--fill-color);\n",
       "    }\n",
       "    60% {\n",
       "      border-color: transparent;\n",
       "      border-right-color: var(--fill-color);\n",
       "    }\n",
       "    80% {\n",
       "      border-color: transparent;\n",
       "      border-right-color: var(--fill-color);\n",
       "      border-bottom-color: var(--fill-color);\n",
       "    }\n",
       "    90% {\n",
       "      border-color: transparent;\n",
       "      border-bottom-color: var(--fill-color);\n",
       "    }\n",
       "  }\n",
       "</style>\n",
       "\n",
       "      <script>\n",
       "        async function quickchart(key) {\n",
       "          const quickchartButtonEl =\n",
       "            document.querySelector('#' + key + ' button');\n",
       "          quickchartButtonEl.disabled = true;  // To prevent multiple clicks.\n",
       "          quickchartButtonEl.classList.add('colab-df-spinner');\n",
       "          try {\n",
       "            const charts = await google.colab.kernel.invokeFunction(\n",
       "                'suggestCharts', [key], {});\n",
       "          } catch (error) {\n",
       "            console.error('Error during call to suggestCharts:', error);\n",
       "          }\n",
       "          quickchartButtonEl.classList.remove('colab-df-spinner');\n",
       "          quickchartButtonEl.classList.add('colab-df-quickchart-complete');\n",
       "        }\n",
       "        (() => {\n",
       "          let quickchartButtonEl =\n",
       "            document.querySelector('#df-edb48abf-c5bc-40c5-8baf-6e450550e72c button');\n",
       "          quickchartButtonEl.style.display =\n",
       "            google.colab.kernel.accessAllowed ? 'block' : 'none';\n",
       "        })();\n",
       "      </script>\n",
       "    </div>\n",
       "\n",
       "    </div>\n",
       "  </div>\n"
      ],
      "text/plain": [
       "      Name  Age   Salary  Income_per_Age    Total\n",
       "1      Bob   35  66000.0     1885.714286  66035.0\n",
       "2  Charlie   33  60500.0     1833.333333  60533.0"
      ]
     },
     "execution_count": 16,
     "metadata": {},
     "output_type": "execute_result"
    }
   ],
   "source": [
    "# Filter rows where Age > 30\n",
    "df[df['Age'] > 30]"
   ]
  },
  {
   "cell_type": "markdown",
   "id": "77f4d0b7",
   "metadata": {
    "id": "yYU__Amtfl7D"
   },
   "source": [
    "# Combining Multiple Conditions\n",
    "You can combine conditions using & (and) or | (or)."
   ]
  },
  {
   "cell_type": "code",
   "execution_count": 17,
   "id": "747f2fe3",
   "metadata": {
    "colab": {
     "base_uri": "https://localhost:8080/",
     "height": 112
    },
    "id": "444QIjbcfpE9",
    "outputId": "2cf19f12-939c-4285-813c-31b3bbcd1a60"
   },
   "outputs": [
    {
     "data": {
      "application/vnd.google.colaboratory.intrinsic+json": {
       "summary": "{\n  \"name\": \"df[(df['Age'] > 30) & (df['Salary'] > 60000)]\",\n  \"rows\": 2,\n  \"fields\": [\n    {\n      \"column\": \"Name\",\n      \"properties\": {\n        \"dtype\": \"string\",\n        \"num_unique_values\": 2,\n        \"samples\": [\n          \"Charlie\",\n          \"Bob\"\n        ],\n        \"semantic_type\": \"\",\n        \"description\": \"\"\n      }\n    },\n    {\n      \"column\": \"Age\",\n      \"properties\": {\n        \"dtype\": \"number\",\n        \"std\": 1,\n        \"min\": 33,\n        \"max\": 35,\n        \"num_unique_values\": 2,\n        \"samples\": [\n          33,\n          35\n        ],\n        \"semantic_type\": \"\",\n        \"description\": \"\"\n      }\n    },\n    {\n      \"column\": \"Salary\",\n      \"properties\": {\n        \"dtype\": \"number\",\n        \"std\": 3889.087296526006,\n        \"min\": 60500.00000000001,\n        \"max\": 66000.0,\n        \"num_unique_values\": 2,\n        \"samples\": [\n          60500.00000000001,\n          66000.0\n        ],\n        \"semantic_type\": \"\",\n        \"description\": \"\"\n      }\n    },\n    {\n      \"column\": \"Income_per_Age\",\n      \"properties\": {\n        \"dtype\": \"number\",\n        \"std\": 37.038926633581,\n        \"min\": 1833.3333333333335,\n        \"max\": 1885.7142857142858,\n        \"num_unique_values\": 2,\n        \"samples\": [\n          1833.3333333333335,\n          1885.7142857142858\n        ],\n        \"semantic_type\": \"\",\n        \"description\": \"\"\n      }\n    },\n    {\n      \"column\": \"Total\",\n      \"properties\": {\n        \"dtype\": \"number\",\n        \"std\": 3890.5015100883793,\n        \"min\": 60533.00000000001,\n        \"max\": 66035.0,\n        \"num_unique_values\": 2,\n        \"samples\": [\n          60533.00000000001,\n          66035.0\n        ],\n        \"semantic_type\": \"\",\n        \"description\": \"\"\n      }\n    }\n  ]\n}",
       "type": "dataframe"
      },
      "text/html": [
       "\n",
       "  <div id=\"df-a71caaa5-de92-4142-803e-2e7173d0efbf\" class=\"colab-df-container\">\n",
       "    <div>\n",
       "<style scoped>\n",
       "    .dataframe tbody tr th:only-of-type {\n",
       "        vertical-align: middle;\n",
       "    }\n",
       "\n",
       "    .dataframe tbody tr th {\n",
       "        vertical-align: top;\n",
       "    }\n",
       "\n",
       "    .dataframe thead th {\n",
       "        text-align: right;\n",
       "    }\n",
       "</style>\n",
       "<table border=\"1\" class=\"dataframe\">\n",
       "  <thead>\n",
       "    <tr style=\"text-align: right;\">\n",
       "      <th></th>\n",
       "      <th>Name</th>\n",
       "      <th>Age</th>\n",
       "      <th>Salary</th>\n",
       "      <th>Income_per_Age</th>\n",
       "      <th>Total</th>\n",
       "    </tr>\n",
       "  </thead>\n",
       "  <tbody>\n",
       "    <tr>\n",
       "      <th>1</th>\n",
       "      <td>Bob</td>\n",
       "      <td>35</td>\n",
       "      <td>66000.0</td>\n",
       "      <td>1885.714286</td>\n",
       "      <td>66035.0</td>\n",
       "    </tr>\n",
       "    <tr>\n",
       "      <th>2</th>\n",
       "      <td>Charlie</td>\n",
       "      <td>33</td>\n",
       "      <td>60500.0</td>\n",
       "      <td>1833.333333</td>\n",
       "      <td>60533.0</td>\n",
       "    </tr>\n",
       "  </tbody>\n",
       "</table>\n",
       "</div>\n",
       "    <div class=\"colab-df-buttons\">\n",
       "\n",
       "  <div class=\"colab-df-container\">\n",
       "    <button class=\"colab-df-convert\" onclick=\"convertToInteractive('df-a71caaa5-de92-4142-803e-2e7173d0efbf')\"\n",
       "            title=\"Convert this dataframe to an interactive table.\"\n",
       "            style=\"display:none;\">\n",
       "\n",
       "  <svg xmlns=\"http://www.w3.org/2000/svg\" height=\"24px\" viewBox=\"0 -960 960 960\">\n",
       "    <path d=\"M120-120v-720h720v720H120Zm60-500h600v-160H180v160Zm220 220h160v-160H400v160Zm0 220h160v-160H400v160ZM180-400h160v-160H180v160Zm440 0h160v-160H620v160ZM180-180h160v-160H180v160Zm440 0h160v-160H620v160Z\"/>\n",
       "  </svg>\n",
       "    </button>\n",
       "\n",
       "  <style>\n",
       "    .colab-df-container {\n",
       "      display:flex;\n",
       "      gap: 12px;\n",
       "    }\n",
       "\n",
       "    .colab-df-convert {\n",
       "      background-color: #E8F0FE;\n",
       "      border: none;\n",
       "      border-radius: 50%;\n",
       "      cursor: pointer;\n",
       "      display: none;\n",
       "      fill: #1967D2;\n",
       "      height: 32px;\n",
       "      padding: 0 0 0 0;\n",
       "      width: 32px;\n",
       "    }\n",
       "\n",
       "    .colab-df-convert:hover {\n",
       "      background-color: #E2EBFA;\n",
       "      box-shadow: 0px 1px 2px rgba(60, 64, 67, 0.3), 0px 1px 3px 1px rgba(60, 64, 67, 0.15);\n",
       "      fill: #174EA6;\n",
       "    }\n",
       "\n",
       "    .colab-df-buttons div {\n",
       "      margin-bottom: 4px;\n",
       "    }\n",
       "\n",
       "    [theme=dark] .colab-df-convert {\n",
       "      background-color: #3B4455;\n",
       "      fill: #D2E3FC;\n",
       "    }\n",
       "\n",
       "    [theme=dark] .colab-df-convert:hover {\n",
       "      background-color: #434B5C;\n",
       "      box-shadow: 0px 1px 3px 1px rgba(0, 0, 0, 0.15);\n",
       "      filter: drop-shadow(0px 1px 2px rgba(0, 0, 0, 0.3));\n",
       "      fill: #FFFFFF;\n",
       "    }\n",
       "  </style>\n",
       "\n",
       "    <script>\n",
       "      const buttonEl =\n",
       "        document.querySelector('#df-a71caaa5-de92-4142-803e-2e7173d0efbf button.colab-df-convert');\n",
       "      buttonEl.style.display =\n",
       "        google.colab.kernel.accessAllowed ? 'block' : 'none';\n",
       "\n",
       "      async function convertToInteractive(key) {\n",
       "        const element = document.querySelector('#df-a71caaa5-de92-4142-803e-2e7173d0efbf');\n",
       "        const dataTable =\n",
       "          await google.colab.kernel.invokeFunction('convertToInteractive',\n",
       "                                                    [key], {});\n",
       "        if (!dataTable) return;\n",
       "\n",
       "        const docLinkHtml = 'Like what you see? Visit the ' +\n",
       "          '<a target=\"_blank\" href=https://colab.research.google.com/notebooks/data_table.ipynb>data table notebook</a>'\n",
       "          + ' to learn more about interactive tables.';\n",
       "        element.innerHTML = '';\n",
       "        dataTable['output_type'] = 'display_data';\n",
       "        await google.colab.output.renderOutput(dataTable, element);\n",
       "        const docLink = document.createElement('div');\n",
       "        docLink.innerHTML = docLinkHtml;\n",
       "        element.appendChild(docLink);\n",
       "      }\n",
       "    </script>\n",
       "  </div>\n",
       "\n",
       "\n",
       "    <div id=\"df-e2c4603b-8fa3-4d68-8c8a-fbd29f2a33a3\">\n",
       "      <button class=\"colab-df-quickchart\" onclick=\"quickchart('df-e2c4603b-8fa3-4d68-8c8a-fbd29f2a33a3')\"\n",
       "                title=\"Suggest charts\"\n",
       "                style=\"display:none;\">\n",
       "\n",
       "<svg xmlns=\"http://www.w3.org/2000/svg\" height=\"24px\"viewBox=\"0 0 24 24\"\n",
       "     width=\"24px\">\n",
       "    <g>\n",
       "        <path d=\"M19 3H5c-1.1 0-2 .9-2 2v14c0 1.1.9 2 2 2h14c1.1 0 2-.9 2-2V5c0-1.1-.9-2-2-2zM9 17H7v-7h2v7zm4 0h-2V7h2v10zm4 0h-2v-4h2v4z\"/>\n",
       "    </g>\n",
       "</svg>\n",
       "      </button>\n",
       "\n",
       "<style>\n",
       "  .colab-df-quickchart {\n",
       "      --bg-color: #E8F0FE;\n",
       "      --fill-color: #1967D2;\n",
       "      --hover-bg-color: #E2EBFA;\n",
       "      --hover-fill-color: #174EA6;\n",
       "      --disabled-fill-color: #AAA;\n",
       "      --disabled-bg-color: #DDD;\n",
       "  }\n",
       "\n",
       "  [theme=dark] .colab-df-quickchart {\n",
       "      --bg-color: #3B4455;\n",
       "      --fill-color: #D2E3FC;\n",
       "      --hover-bg-color: #434B5C;\n",
       "      --hover-fill-color: #FFFFFF;\n",
       "      --disabled-bg-color: #3B4455;\n",
       "      --disabled-fill-color: #666;\n",
       "  }\n",
       "\n",
       "  .colab-df-quickchart {\n",
       "    background-color: var(--bg-color);\n",
       "    border: none;\n",
       "    border-radius: 50%;\n",
       "    cursor: pointer;\n",
       "    display: none;\n",
       "    fill: var(--fill-color);\n",
       "    height: 32px;\n",
       "    padding: 0;\n",
       "    width: 32px;\n",
       "  }\n",
       "\n",
       "  .colab-df-quickchart:hover {\n",
       "    background-color: var(--hover-bg-color);\n",
       "    box-shadow: 0 1px 2px rgba(60, 64, 67, 0.3), 0 1px 3px 1px rgba(60, 64, 67, 0.15);\n",
       "    fill: var(--button-hover-fill-color);\n",
       "  }\n",
       "\n",
       "  .colab-df-quickchart-complete:disabled,\n",
       "  .colab-df-quickchart-complete:disabled:hover {\n",
       "    background-color: var(--disabled-bg-color);\n",
       "    fill: var(--disabled-fill-color);\n",
       "    box-shadow: none;\n",
       "  }\n",
       "\n",
       "  .colab-df-spinner {\n",
       "    border: 2px solid var(--fill-color);\n",
       "    border-color: transparent;\n",
       "    border-bottom-color: var(--fill-color);\n",
       "    animation:\n",
       "      spin 1s steps(1) infinite;\n",
       "  }\n",
       "\n",
       "  @keyframes spin {\n",
       "    0% {\n",
       "      border-color: transparent;\n",
       "      border-bottom-color: var(--fill-color);\n",
       "      border-left-color: var(--fill-color);\n",
       "    }\n",
       "    20% {\n",
       "      border-color: transparent;\n",
       "      border-left-color: var(--fill-color);\n",
       "      border-top-color: var(--fill-color);\n",
       "    }\n",
       "    30% {\n",
       "      border-color: transparent;\n",
       "      border-left-color: var(--fill-color);\n",
       "      border-top-color: var(--fill-color);\n",
       "      border-right-color: var(--fill-color);\n",
       "    }\n",
       "    40% {\n",
       "      border-color: transparent;\n",
       "      border-right-color: var(--fill-color);\n",
       "      border-top-color: var(--fill-color);\n",
       "    }\n",
       "    60% {\n",
       "      border-color: transparent;\n",
       "      border-right-color: var(--fill-color);\n",
       "    }\n",
       "    80% {\n",
       "      border-color: transparent;\n",
       "      border-right-color: var(--fill-color);\n",
       "      border-bottom-color: var(--fill-color);\n",
       "    }\n",
       "    90% {\n",
       "      border-color: transparent;\n",
       "      border-bottom-color: var(--fill-color);\n",
       "    }\n",
       "  }\n",
       "</style>\n",
       "\n",
       "      <script>\n",
       "        async function quickchart(key) {\n",
       "          const quickchartButtonEl =\n",
       "            document.querySelector('#' + key + ' button');\n",
       "          quickchartButtonEl.disabled = true;  // To prevent multiple clicks.\n",
       "          quickchartButtonEl.classList.add('colab-df-spinner');\n",
       "          try {\n",
       "            const charts = await google.colab.kernel.invokeFunction(\n",
       "                'suggestCharts', [key], {});\n",
       "          } catch (error) {\n",
       "            console.error('Error during call to suggestCharts:', error);\n",
       "          }\n",
       "          quickchartButtonEl.classList.remove('colab-df-spinner');\n",
       "          quickchartButtonEl.classList.add('colab-df-quickchart-complete');\n",
       "        }\n",
       "        (() => {\n",
       "          let quickchartButtonEl =\n",
       "            document.querySelector('#df-e2c4603b-8fa3-4d68-8c8a-fbd29f2a33a3 button');\n",
       "          quickchartButtonEl.style.display =\n",
       "            google.colab.kernel.accessAllowed ? 'block' : 'none';\n",
       "        })();\n",
       "      </script>\n",
       "    </div>\n",
       "\n",
       "    </div>\n",
       "  </div>\n"
      ],
      "text/plain": [
       "      Name  Age   Salary  Income_per_Age    Total\n",
       "1      Bob   35  66000.0     1885.714286  66035.0\n",
       "2  Charlie   33  60500.0     1833.333333  60533.0"
      ]
     },
     "execution_count": 17,
     "metadata": {},
     "output_type": "execute_result"
    }
   ],
   "source": [
    "# Filter rows where Age > 30 AND Salary > 60000\n",
    "df[(df['Age'] > 30) & (df['Salary'] > 60000)]"
   ]
  },
  {
   "cell_type": "markdown",
   "id": "181da2ce",
   "metadata": {
    "id": "MKOpgKEBfy1_"
   },
   "source": [
    "\n",
    "> Remember to wrap each condition in parentheses."
   ]
  },
  {
   "cell_type": "markdown",
   "id": "3d42d0c8",
   "metadata": {
    "id": "35ZeG0GFfuK8"
   },
   "source": [
    "# Filtering Strings\n",
    "\n",
    "You can filter rows where a text column contains specific values"
   ]
  },
  {
   "cell_type": "code",
   "execution_count": 18,
   "id": "300f8e86",
   "metadata": {
    "colab": {
     "base_uri": "https://localhost:8080/",
     "height": 81
    },
    "id": "iE-QQhCogNO-",
    "outputId": "d30e5676-f1a0-4b72-cfb2-17bf06777c78"
   },
   "outputs": [
    {
     "data": {
      "application/vnd.google.colaboratory.intrinsic+json": {
       "summary": "{\n  \"name\": \"df[df['Name']\",\n  \"rows\": 1,\n  \"fields\": [\n    {\n      \"column\": \"Name\",\n      \"properties\": {\n        \"dtype\": \"string\",\n        \"num_unique_values\": 1,\n        \"samples\": [\n          \"Bob\"\n        ],\n        \"semantic_type\": \"\",\n        \"description\": \"\"\n      }\n    },\n    {\n      \"column\": \"Age\",\n      \"properties\": {\n        \"dtype\": \"number\",\n        \"std\": null,\n        \"min\": 35,\n        \"max\": 35,\n        \"num_unique_values\": 1,\n        \"samples\": [\n          35\n        ],\n        \"semantic_type\": \"\",\n        \"description\": \"\"\n      }\n    },\n    {\n      \"column\": \"Salary\",\n      \"properties\": {\n        \"dtype\": \"number\",\n        \"std\": null,\n        \"min\": 66000.0,\n        \"max\": 66000.0,\n        \"num_unique_values\": 1,\n        \"samples\": [\n          66000.0\n        ],\n        \"semantic_type\": \"\",\n        \"description\": \"\"\n      }\n    },\n    {\n      \"column\": \"Income_per_Age\",\n      \"properties\": {\n        \"dtype\": \"number\",\n        \"std\": null,\n        \"min\": 1885.7142857142858,\n        \"max\": 1885.7142857142858,\n        \"num_unique_values\": 1,\n        \"samples\": [\n          1885.7142857142858\n        ],\n        \"semantic_type\": \"\",\n        \"description\": \"\"\n      }\n    },\n    {\n      \"column\": \"Total\",\n      \"properties\": {\n        \"dtype\": \"number\",\n        \"std\": null,\n        \"min\": 66035.0,\n        \"max\": 66035.0,\n        \"num_unique_values\": 1,\n        \"samples\": [\n          66035.0\n        ],\n        \"semantic_type\": \"\",\n        \"description\": \"\"\n      }\n    }\n  ]\n}",
       "type": "dataframe"
      },
      "text/html": [
       "\n",
       "  <div id=\"df-4df682d9-425f-41f9-b717-bdf1bace0773\" class=\"colab-df-container\">\n",
       "    <div>\n",
       "<style scoped>\n",
       "    .dataframe tbody tr th:only-of-type {\n",
       "        vertical-align: middle;\n",
       "    }\n",
       "\n",
       "    .dataframe tbody tr th {\n",
       "        vertical-align: top;\n",
       "    }\n",
       "\n",
       "    .dataframe thead th {\n",
       "        text-align: right;\n",
       "    }\n",
       "</style>\n",
       "<table border=\"1\" class=\"dataframe\">\n",
       "  <thead>\n",
       "    <tr style=\"text-align: right;\">\n",
       "      <th></th>\n",
       "      <th>Name</th>\n",
       "      <th>Age</th>\n",
       "      <th>Salary</th>\n",
       "      <th>Income_per_Age</th>\n",
       "      <th>Total</th>\n",
       "    </tr>\n",
       "  </thead>\n",
       "  <tbody>\n",
       "    <tr>\n",
       "      <th>1</th>\n",
       "      <td>Bob</td>\n",
       "      <td>35</td>\n",
       "      <td>66000.0</td>\n",
       "      <td>1885.714286</td>\n",
       "      <td>66035.0</td>\n",
       "    </tr>\n",
       "  </tbody>\n",
       "</table>\n",
       "</div>\n",
       "    <div class=\"colab-df-buttons\">\n",
       "\n",
       "  <div class=\"colab-df-container\">\n",
       "    <button class=\"colab-df-convert\" onclick=\"convertToInteractive('df-4df682d9-425f-41f9-b717-bdf1bace0773')\"\n",
       "            title=\"Convert this dataframe to an interactive table.\"\n",
       "            style=\"display:none;\">\n",
       "\n",
       "  <svg xmlns=\"http://www.w3.org/2000/svg\" height=\"24px\" viewBox=\"0 -960 960 960\">\n",
       "    <path d=\"M120-120v-720h720v720H120Zm60-500h600v-160H180v160Zm220 220h160v-160H400v160Zm0 220h160v-160H400v160ZM180-400h160v-160H180v160Zm440 0h160v-160H620v160ZM180-180h160v-160H180v160Zm440 0h160v-160H620v160Z\"/>\n",
       "  </svg>\n",
       "    </button>\n",
       "\n",
       "  <style>\n",
       "    .colab-df-container {\n",
       "      display:flex;\n",
       "      gap: 12px;\n",
       "    }\n",
       "\n",
       "    .colab-df-convert {\n",
       "      background-color: #E8F0FE;\n",
       "      border: none;\n",
       "      border-radius: 50%;\n",
       "      cursor: pointer;\n",
       "      display: none;\n",
       "      fill: #1967D2;\n",
       "      height: 32px;\n",
       "      padding: 0 0 0 0;\n",
       "      width: 32px;\n",
       "    }\n",
       "\n",
       "    .colab-df-convert:hover {\n",
       "      background-color: #E2EBFA;\n",
       "      box-shadow: 0px 1px 2px rgba(60, 64, 67, 0.3), 0px 1px 3px 1px rgba(60, 64, 67, 0.15);\n",
       "      fill: #174EA6;\n",
       "    }\n",
       "\n",
       "    .colab-df-buttons div {\n",
       "      margin-bottom: 4px;\n",
       "    }\n",
       "\n",
       "    [theme=dark] .colab-df-convert {\n",
       "      background-color: #3B4455;\n",
       "      fill: #D2E3FC;\n",
       "    }\n",
       "\n",
       "    [theme=dark] .colab-df-convert:hover {\n",
       "      background-color: #434B5C;\n",
       "      box-shadow: 0px 1px 3px 1px rgba(0, 0, 0, 0.15);\n",
       "      filter: drop-shadow(0px 1px 2px rgba(0, 0, 0, 0.3));\n",
       "      fill: #FFFFFF;\n",
       "    }\n",
       "  </style>\n",
       "\n",
       "    <script>\n",
       "      const buttonEl =\n",
       "        document.querySelector('#df-4df682d9-425f-41f9-b717-bdf1bace0773 button.colab-df-convert');\n",
       "      buttonEl.style.display =\n",
       "        google.colab.kernel.accessAllowed ? 'block' : 'none';\n",
       "\n",
       "      async function convertToInteractive(key) {\n",
       "        const element = document.querySelector('#df-4df682d9-425f-41f9-b717-bdf1bace0773');\n",
       "        const dataTable =\n",
       "          await google.colab.kernel.invokeFunction('convertToInteractive',\n",
       "                                                    [key], {});\n",
       "        if (!dataTable) return;\n",
       "\n",
       "        const docLinkHtml = 'Like what you see? Visit the ' +\n",
       "          '<a target=\"_blank\" href=https://colab.research.google.com/notebooks/data_table.ipynb>data table notebook</a>'\n",
       "          + ' to learn more about interactive tables.';\n",
       "        element.innerHTML = '';\n",
       "        dataTable['output_type'] = 'display_data';\n",
       "        await google.colab.output.renderOutput(dataTable, element);\n",
       "        const docLink = document.createElement('div');\n",
       "        docLink.innerHTML = docLinkHtml;\n",
       "        element.appendChild(docLink);\n",
       "      }\n",
       "    </script>\n",
       "  </div>\n",
       "\n",
       "\n",
       "    </div>\n",
       "  </div>\n"
      ],
      "text/plain": [
       "  Name  Age   Salary  Income_per_Age    Total\n",
       "1  Bob   35  66000.0     1885.714286  66035.0"
      ]
     },
     "execution_count": 18,
     "metadata": {},
     "output_type": "execute_result"
    }
   ],
   "source": [
    "# Filter rows where Name contains \"Bob\"\n",
    "df[df['Name'].str.contains(\"Bob\")]"
   ]
  },
  {
   "cell_type": "markdown",
   "id": "0d01f7cb",
   "metadata": {
    "id": "1o6BqORKgTgt"
   },
   "source": [
    "##Unique Values and Counting\n",
    "\n",
    "Sometimes you want to check how many unique values a column has, or count how often each appears."
   ]
  },
  {
   "cell_type": "code",
   "execution_count": 19,
   "id": "23e67a4f",
   "metadata": {
    "colab": {
     "base_uri": "https://localhost:8080/"
    },
    "id": "rCaQ4dI9fcH-",
    "outputId": "f704dac3-e3b4-41c7-bbfe-de072331031e"
   },
   "outputs": [
    {
     "name": "stdout",
     "output_type": "stream",
     "text": [
      "['Alice' 'Bob' 'Charlie']\n",
      "Name\n",
      "Alice      1\n",
      "Bob        1\n",
      "Charlie    1\n",
      "Name: count, dtype: int64\n"
     ]
    }
   ],
   "source": [
    "# Unique names\n",
    "print(df['Name'].unique())\n",
    "\n",
    "# Count frequency of each name\n",
    "print(df['Name'].value_counts())\n"
   ]
  },
  {
   "cell_type": "markdown",
   "id": "46e97f89",
   "metadata": {
    "id": "1R3Q7zkRhRwO"
   },
   "source": [
    "# Applying Aggregation Functions Directly to a DataFrame\n",
    "\n",
    "One of the strengths of Pandas is that you can apply statistical and aggregation methods directly to a DataFrame or Series. These methods summarize data and provide insights without needing extra loops or manual calculations.\n",
    "\n",
    "### Common Aggregation Methods\n",
    "\n",
    "Here are some of the most commonly used methods:\n",
    "\n",
    "| Method        | Description                                              | Works On           |\n",
    "|---------------|----------------------------------------------------------|--------------------|\n",
    "| `.sum()`      | Returns the **sum** of values                            | DataFrame / Series |\n",
    "| `.mean()`     | Returns the **average (mean)** value                     | DataFrame / Series |\n",
    "| `.count()`    | Counts **non-null values**                               | DataFrame / Series |\n",
    "| `.min()`      | Returns the **minimum** value                            | DataFrame / Series |\n",
    "| `.max()`      | Returns the **maximum** value                            | DataFrame / Series |\n",
    "| `.std()`      | Returns the **standard deviation**                       | DataFrame / Series |\n",
    "| `.var()`      | Returns the **variance**                                 | DataFrame / Series |\n",
    "| `.describe()` | Generates **summary statistics** (count, mean, std, min, quartiles, max) | DataFrame / Series |\n",
    "\n",
    "\n",
    "Example: Aggregating a Series\n"
   ]
  },
  {
   "cell_type": "code",
   "execution_count": 20,
   "id": "a994405f",
   "metadata": {
    "colab": {
     "base_uri": "https://localhost:8080/"
    },
    "id": "lnxZjp8KhtzD",
    "outputId": "d0efb89a-571a-4bc3-dd60-689840a716fe"
   },
   "outputs": [
    {
     "name": "stdout",
     "output_type": "stream",
     "text": [
      "Sum: 300000\n",
      "Mean: 60000.0\n",
      "Max: 70000\n",
      "Std Dev: 7905.694150420948\n"
     ]
    }
   ],
   "source": [
    "import pandas as pd\n",
    "\n",
    "# Salary data\n",
    "salaries = pd.Series([50000, 60000, 55000, 65000, 70000])\n",
    "\n",
    "print(\"Sum:\", salaries.sum())\n",
    "print(\"Mean:\", salaries.mean())\n",
    "print(\"Max:\", salaries.max())\n",
    "print(\"Std Dev:\", salaries.std())"
   ]
  },
  {
   "cell_type": "markdown",
   "id": "d74dd556",
   "metadata": {
    "id": "FVJA5pfThk24"
   },
   "source": [
    "Each method is applied directly to the Series, returning a single value."
   ]
  },
  {
   "cell_type": "markdown",
   "id": "77d7e741",
   "metadata": {
    "id": "O0Gf_RHNhsKb"
   },
   "source": [
    "Example: Aggregating a DataFrame"
   ]
  },
  {
   "cell_type": "code",
   "execution_count": 21,
   "id": "d35ae3b2",
   "metadata": {
    "colab": {
     "base_uri": "https://localhost:8080/"
    },
    "id": "dkk1yAc2hyuk",
    "outputId": "d9b91321-584e-4e66-e767-5a5fab69797c"
   },
   "outputs": [
    {
     "name": "stdout",
     "output_type": "stream",
     "text": [
      "Age           82\n",
      "Salary    165000\n",
      "dtype: int64\n",
      "Age          27.333333\n",
      "Salary    55000.000000\n",
      "dtype: float64\n",
      "             Age   Salary\n",
      "count   3.000000      3.0\n",
      "mean   27.333333  55000.0\n",
      "std     3.055050   5000.0\n",
      "min    24.000000  50000.0\n",
      "25%    26.000000  52500.0\n",
      "50%    28.000000  55000.0\n",
      "75%    29.000000  57500.0\n",
      "max    30.000000  60000.0\n"
     ]
    }
   ],
   "source": [
    "data = {\n",
    "    'Name': ['Alice', 'Bob', 'Charlie'],\n",
    "    'Age': [24, 30, 28],\n",
    "    'Salary': [50000, 60000, 55000]\n",
    "}\n",
    "df = pd.DataFrame(data)\n",
    "\n",
    "print(df.sum(numeric_only=True))   # Sum of numeric columns\n",
    "print(df.mean(numeric_only=True))  # Mean of numeric columns\n",
    "print(df.describe())"
   ]
  },
  {
   "cell_type": "markdown",
   "id": "b7414b7b",
   "metadata": {
    "id": "Tj7rAIVYh20H"
   },
   "source": [
    "Notice how these functions automatically ignore non-numeric columns (like “Name”)."
   ]
  },
  {
   "cell_type": "markdown",
   "id": "da865457",
   "metadata": {
    "id": "eFHc6gW2hIS6"
   },
   "source": [
    "# More Advanced: Filtering Data & Apply Statistical Functions\n",
    "\n",
    "We can combine **row filtering** with **aggregation functions** to analyze subsets of a DataFrame.  \n",
    "\n",
    "The general syntax is:\n",
    "\n",
    "> **df[df['column_name'] <condition> value]['target_column'].function()**\n",
    "\n",
    "where:\n",
    "\n",
    "- df[...] → filters the rows that meet the condition\n",
    "\n",
    "- ['target_column'] → selects the column to aggregate\n",
    "\n",
    "- .function() → applies the aggregation function\n"
   ]
  },
  {
   "cell_type": "code",
   "execution_count": 22,
   "id": "3013b947",
   "metadata": {
    "colab": {
     "base_uri": "https://localhost:8080/"
    },
    "id": "k2NT3sxaify4",
    "outputId": "fb47fbac-a110-46bd-f948-914125efbdb2"
   },
   "outputs": [
    {
     "name": "stdout",
     "output_type": "stream",
     "text": [
      "68000.0\n"
     ]
    },
    {
     "data": {
      "text/plain": [
       "7767.45346515403"
      ]
     },
     "execution_count": 22,
     "metadata": {},
     "output_type": "execute_result"
    }
   ],
   "source": [
    "import pandas as pd\n",
    "\n",
    "data = {\n",
    "    'Name': ['Alice', 'Bob', 'Charlie', 'David'],\n",
    "    'Age': [24, 35, 28, 40],\n",
    "    'Salary': [50000, 66000, 55000, 70000]\n",
    "}\n",
    "df = pd.DataFrame(data)\n",
    "\n",
    "# Average salary of employees older than 30\n",
    "avg_salary = df[df['Age'] > 30]['Salary'].mean()\n",
    "print(avg_salary)\n",
    "\n",
    "# Maximum salary for employees younger than 30\n",
    "df[df['Age'] < 30]['Salary'].max()\n",
    "\n",
    "# Count employees with salary above 60,000\n",
    "df[df['Salary'] > 60000]['Name'].count()\n",
    "\n",
    "# Standard deviation of salary for people aged 25–40\n",
    "df[(df['Age'] >= 25) & (df['Age'] <= 40)]['Salary'].std()"
   ]
  },
  {
   "cell_type": "markdown",
   "id": "90fb2c72",
   "metadata": {
    "id": "a09XGUk-im7D"
   },
   "source": [
    "So the syntax pattern is:\n",
    "\n",
    "df[ df['condition'] ]['column'].aggregation()\n",
    "\n",
    "| Expression                                                  | Meaning                                          |\n",
    "| ----------------------------------------------------------- | ------------------------------------------------ |\n",
    "| `df[df['Age'] > 30]['Salary'].mean()`                       | Mean of Salary where Age > 30                    |\n",
    "| `df[df['Salary'] > 60000]['Name'].count()`                  | Count of employees with Salary > 60k             |\n",
    "| `df[(df['Age'] >= 25) & (df['Age'] <= 40)]['Salary'].std()` | Standard deviation of Salary for 25–40 year olds |\n",
    "\n",
    "\n",
    "This pattern allows you to filter data first, then aggregate only on the rows that meet your condition."
   ]
  },
  {
   "cell_type": "markdown",
   "id": "2629d77f",
   "metadata": {
    "id": "ikWl-Qt6jAaW"
   },
   "source": [
    "# Grouping Data with `groupby`\n",
    "\n",
    "While filtering + aggregation lets us summarize a **subset** of data, the `groupby()` method allows us to compute statistics **across categories**.  \n",
    "This is the classic **split–apply–combine** process:\n",
    "\n",
    "1. **Split** data into groups based on one or more columns.  \n",
    "2. **Apply** an aggregation function to each group.  \n",
    "3. **Combine** results into a new DataFrame or Series.  \n",
    "\n",
    "---\n",
    "\n",
    "## Basic Syntax\n",
    "\n",
    "> df.groupby('column_name')['target_column'].aggregation_function()\n",
    "where:\n",
    "- `groupby('column_name')` → splits the data into groups.  \n",
    "- `['target_column']` → selects the column to aggregate.  \n",
    "- `.aggregation_function()` → applies functions like `mean()`, `sum()`, `count()`.  \n"
   ]
  },
  {
   "cell_type": "code",
   "execution_count": 23,
   "id": "77c746cf",
   "metadata": {
    "colab": {
     "base_uri": "https://localhost:8080/",
     "height": 335
    },
    "id": "63Exf7BtjM84",
    "outputId": "6180bbbc-d3e5-40ee-d7d1-0bedc24da364"
   },
   "outputs": [
    {
     "name": "stdout",
     "output_type": "stream",
     "text": [
      "  Department Employee  Salary\n",
      "0         HR    Alice   50000\n",
      "1         HR      Bob   52000\n",
      "2         IT  Charlie   60000\n",
      "3         IT    David   62000\n",
      "4    Finance      Eva   58000\n",
      "5    Finance    Frank   60000\n"
     ]
    },
    {
     "data": {
      "text/html": [
       "<div>\n",
       "<style scoped>\n",
       "    .dataframe tbody tr th:only-of-type {\n",
       "        vertical-align: middle;\n",
       "    }\n",
       "\n",
       "    .dataframe tbody tr th {\n",
       "        vertical-align: top;\n",
       "    }\n",
       "\n",
       "    .dataframe thead th {\n",
       "        text-align: right;\n",
       "    }\n",
       "</style>\n",
       "<table border=\"1\" class=\"dataframe\">\n",
       "  <thead>\n",
       "    <tr style=\"text-align: right;\">\n",
       "      <th></th>\n",
       "      <th>Salary</th>\n",
       "    </tr>\n",
       "    <tr>\n",
       "      <th>Department</th>\n",
       "      <th></th>\n",
       "    </tr>\n",
       "  </thead>\n",
       "  <tbody>\n",
       "    <tr>\n",
       "      <th>Finance</th>\n",
       "      <td>59000.0</td>\n",
       "    </tr>\n",
       "    <tr>\n",
       "      <th>HR</th>\n",
       "      <td>51000.0</td>\n",
       "    </tr>\n",
       "    <tr>\n",
       "      <th>IT</th>\n",
       "      <td>61000.0</td>\n",
       "    </tr>\n",
       "  </tbody>\n",
       "</table>\n",
       "</div><br><label><b>dtype:</b> float64</label>"
      ],
      "text/plain": [
       "Department\n",
       "Finance    59000.0\n",
       "HR         51000.0\n",
       "IT         61000.0\n",
       "Name: Salary, dtype: float64"
      ]
     },
     "execution_count": 23,
     "metadata": {},
     "output_type": "execute_result"
    }
   ],
   "source": [
    "## Example: Salary by Department\n",
    "\n",
    "import pandas as pd\n",
    "\n",
    "# Sample dataset\n",
    "data = {\n",
    "    'Department': ['HR','HR','IT','IT','Finance','Finance'],\n",
    "    'Employee': ['Alice','Bob','Charlie','David','Eva','Frank'],\n",
    "    'Salary': [50000, 52000, 60000, 62000, 58000, 60000]\n",
    "}\n",
    "df = pd.DataFrame(data)\n",
    "print(df)\n",
    "\n",
    "# Average salary per department\n",
    "df.groupby('Department')['Salary'].mean()\n",
    "\n"
   ]
  },
  {
   "cell_type": "markdown",
   "id": "11360531",
   "metadata": {
    "id": "QW7Ga5CFjV9p"
   },
   "source": [
    "### Grouping by Multiple Columns"
   ]
  },
  {
   "cell_type": "code",
   "execution_count": 24,
   "id": "793753e7",
   "metadata": {
    "colab": {
     "base_uri": "https://localhost:8080/",
     "height": 304
    },
    "id": "hoxt1cFIi2j2",
    "outputId": "420cb919-397f-44f7-ee31-a9cca7792c92"
   },
   "outputs": [
    {
     "data": {
      "text/html": [
       "<div>\n",
       "<style scoped>\n",
       "    .dataframe tbody tr th:only-of-type {\n",
       "        vertical-align: middle;\n",
       "    }\n",
       "\n",
       "    .dataframe tbody tr th {\n",
       "        vertical-align: top;\n",
       "    }\n",
       "\n",
       "    .dataframe thead th {\n",
       "        text-align: right;\n",
       "    }\n",
       "</style>\n",
       "<table border=\"1\" class=\"dataframe\">\n",
       "  <thead>\n",
       "    <tr style=\"text-align: right;\">\n",
       "      <th></th>\n",
       "      <th></th>\n",
       "      <th>Salary</th>\n",
       "    </tr>\n",
       "    <tr>\n",
       "      <th>Department</th>\n",
       "      <th>Region</th>\n",
       "      <th></th>\n",
       "    </tr>\n",
       "  </thead>\n",
       "  <tbody>\n",
       "    <tr>\n",
       "      <th rowspan=\"2\" valign=\"top\">Finance</th>\n",
       "      <th>East</th>\n",
       "      <td>58000.0</td>\n",
       "    </tr>\n",
       "    <tr>\n",
       "      <th>West</th>\n",
       "      <td>60000.0</td>\n",
       "    </tr>\n",
       "    <tr>\n",
       "      <th rowspan=\"2\" valign=\"top\">HR</th>\n",
       "      <th>East</th>\n",
       "      <td>50000.0</td>\n",
       "    </tr>\n",
       "    <tr>\n",
       "      <th>West</th>\n",
       "      <td>52000.0</td>\n",
       "    </tr>\n",
       "    <tr>\n",
       "      <th rowspan=\"2\" valign=\"top\">IT</th>\n",
       "      <th>East</th>\n",
       "      <td>60000.0</td>\n",
       "    </tr>\n",
       "    <tr>\n",
       "      <th>West</th>\n",
       "      <td>62000.0</td>\n",
       "    </tr>\n",
       "  </tbody>\n",
       "</table>\n",
       "</div><br><label><b>dtype:</b> float64</label>"
      ],
      "text/plain": [
       "Department  Region\n",
       "Finance     East      58000.0\n",
       "            West      60000.0\n",
       "HR          East      50000.0\n",
       "            West      52000.0\n",
       "IT          East      60000.0\n",
       "            West      62000.0\n",
       "Name: Salary, dtype: float64"
      ]
     },
     "execution_count": 24,
     "metadata": {},
     "output_type": "execute_result"
    }
   ],
   "source": [
    "# Example dataset with Region added\n",
    "data2 = {\n",
    "    'Department': ['HR','HR','IT','IT','Finance','Finance'],\n",
    "    'Region': ['East','West','East','West','East','West'],\n",
    "    'Salary': [50000, 52000, 60000, 62000, 58000, 60000]\n",
    "}\n",
    "df2 = pd.DataFrame(data2)\n",
    "\n",
    "# Group by Department and Region\n",
    "df2.groupby(['Department','Region'])['Salary'].mean()"
   ]
  },
  {
   "cell_type": "markdown",
   "id": "4424144a",
   "metadata": {
    "id": "Wapl_huPEXBy"
   },
   "source": [
    "#Exporting Data in Pandas\n",
    "\n",
    "After processing your data in Pandas, you can save it to files in various formats:\n",
    "\n",
    "| Format      | Function                  | Key Parameters / Notes                                           | Example Usage |\n",
    "|------------|---------------------------|-----------------------------------------------------------------|---------------|\n",
    "| CSV        | `to_csv()`                | `index=False` to skip row numbers, `sep='\\t'` for tab-delimited | `df.to_csv('data.csv', index=False)` |\n",
    "| Excel      | `to_excel()`              | `sheet_name='Sheet1'`, requires `openpyxl`                     | `df.to_excel('data.xlsx', index=False)` |\n",
    "| JSON       | `to_json()`               | `orient='records'`, `lines=True` for line-delimited JSON       | `df.to_json('data.json', orient='records', lines=True)` |\n",
    "| Pickle     | `to_pickle()`             | Python-specific, fast binary format                             | `df.to_pickle('data.pkl')` |\n",
    "| HTML       | `to_html()`               | Saves as an HTML table                                         | `df.to_html('data.html', index=False)` |\n",
    "| Parquet    | `to_parquet()`            | Efficient columnar format, great for big data                  | `df.to_parquet('data.parquet', index=False)` |\n",
    "\n",
    "**Tip:** Always choose the format based on your use case:  \n",
    "- CSV → universal, easy sharing  \n",
    "- Excel → spreadsheets  \n",
    "- JSON → web APIs or NoSQL  \n",
    "- Parquet → large datasets, high performance\n"
   ]
  },
  {
   "cell_type": "code",
   "execution_count": 25,
   "id": "26aa5144",
   "metadata": {
    "colab": {
     "base_uri": "https://localhost:8080/"
    },
    "id": "QZIsa-VbE1AU",
    "outputId": "fba4f107-0020-4e12-c990-f34058dfcc9d"
   },
   "outputs": [
    {
     "name": "stdout",
     "output_type": "stream",
     "text": [
      "CSV file 'output.csv' created successfully.\n",
      "Tab-separated CSV file 'output_tab.csv' created successfully.\n",
      "Excel file 'output.xlsx' created successfully.\n",
      "JSON file 'output.json' created successfully.\n"
     ]
    }
   ],
   "source": [
    "# Save CSV\n",
    "df.to_csv('output.csv', index=False)\n",
    "print(\"CSV file 'output.csv' created successfully.\")\n",
    "\n",
    "# Save tab-separated CSV\n",
    "df2.to_csv('output_tab.csv', sep='\\t', index=False)\n",
    "print(\"Tab-separated CSV file 'output_tab.csv' created successfully.\")\n",
    "\n",
    "# Save Excel\n",
    "df.to_excel('output.xlsx', index=False, sheet_name='Sheet1')\n",
    "print(\"Excel file 'output.xlsx' created successfully.\")\n",
    "\n",
    "# Save JSON\n",
    "df2.to_json('output.json', orient='records', lines=True)\n",
    "print(\"JSON file 'output.json' created successfully.\")\n"
   ]
  },
  {
   "cell_type": "markdown",
   "id": "fadc29e3",
   "metadata": {
    "id": "KnSw3TkhExSo"
   },
   "source": [
    "# Exporting Pandas Data in Google Colab\n",
    "\n",
    "In Colab, you can save files directly to Google Drive. First, mount your Drive:\n",
    "\n",
    "```python\n",
    "from google.colab import drive\n",
    "drive.mount('/content/drive')  # Follow the link and paste the authorization code"
   ]
  },
  {
   "cell_type": "markdown",
   "id": "a03676de",
   "metadata": {
    "id": "0bXTuPLTqgts"
   },
   "source": [
    "# The pandas Ecosystem: How It Fits In\n",
    "\n",
    "Pandas does not exist in a vacuum. It is a central hub in the Python data science stack:\n",
    "\n",
    "* **NumPy:** Provides the foundational n-dimensional array object. Pandas DataFrames are built on top of NumPy arrays.\n",
    "\n",
    "* **Matplotlib/Seaborn:** Used for visualization. You can plot data directly from DataFrames and Series.\n",
    "\n",
    "* **Scikit-learn:** The premier machine learning library. It accepts DataFrames and Series as inputs for model training.\n",
    "\n",
    "* **Jupyter Notebooks:** The ideal interactive environment for exploratory data analysis with pandas."
   ]
  },
  {
   "cell_type": "markdown",
   "id": "e1b6408a",
   "metadata": {
    "id": "t64_990fqNPO"
   },
   "source": [
    "# When to Use Pandas (And When Not To)\n",
    "\n",
    "##Use pandas when:\n",
    "\n",
    "* Working with tabular data (like spreadsheets or database tables)\n",
    "\n",
    "* Data cleaning and preprocessing\n",
    "\n",
    "* Exploratory data analysis\n",
    "\n",
    "* Medium-sized datasets (up to a few gigabytes)\n",
    "\n",
    "##Consider alternatives when:\n",
    "\n",
    "* Working with very large datasets that don't fit in memory.\n",
    "\n",
    "* Need extremely high performance for numerical computations (consider NumPy directly)\n",
    "\n",
    "* Working with unstructured data like images or text"
   ]
  },
  {
   "cell_type": "markdown",
   "id": "11ddf2fc",
   "metadata": {
    "id": "nGvPQctejcAR"
   },
   "source": [
    "# Key Takeaways\n",
    "\n",
    "\n",
    "*   Filtering + Aggregation → summarize specific rows based on conditions.\n",
    "*   GroupBy + Aggregation → summarize categories (all groups at once).\n",
    "*   Grouping can be done on one or multiple columns."
   ]
  },
  {
   "cell_type": "markdown",
   "id": "358e209c",
   "metadata": {
    "id": "G_glPDb6p-1M"
   },
   "source": [
    "# Summary of Pandas: Key Features at a Glance\n",
    "\n",
    "* **Data Import/Export:** Read from and write to CSV, Excel, SQL, JSON, and many other formats\n",
    "\n",
    "* **Data Cleaning:** Handle missing values, remove duplicates, filter outliers\n",
    "\n",
    "* **Data Transformation:** Reshape, pivot, melt, and transform your data\n",
    "\n",
    "* **Data Aggregation:** Group by categories and compute summary statistics\n",
    "\n",
    "* **Time Series Analysis:** Work with dates and times effortlessly\n",
    "\n",
    "* **Visualization Integration:** Works seamlessly with Matplotlib and Seaborn"
   ]
  },
  {
   "cell_type": "markdown",
   "id": "583a0c63",
   "metadata": {
    "id": "iv_Qt4B0TXPG"
   },
   "source": [
    "## Knowledge Check\n",
    "\n",
    "<iframe\n",
    "src=\"https://docs.google.com/forms/d/e/1FAIpQLSdFEUF3np_FedX1B3jg6jXIRIqPvPMBCoiSSpQ6SPNGMTM3RA/viewform?embedded=true\"   width=\"100%\"\n",
    "  height=\"800px\"\n",
    "  frameborder=\"0\"\n",
    "  style=\"min-height: 800px; height: 100vh\"\n",
    ">Loading…</iframe>"
   ]
  },
  {
   "cell_type": "markdown",
   "id": "8921df29",
   "metadata": {
    "id": "9Z9QAbqHkMgD"
   },
   "source": [
    "# Chapter 6: Mastering SQL for Data Science with Python\n",
    "The chapter introduces Structured Query Language (SQL), a powerful and essential tool for data professionals. SQL is the standard language used to communicate with and manage relational databases. This chapter focuses on its application in data science, demonstrating how to use SQL for data retrieval, manipulation, and analysis. It also covers the integration of SQL with Python, a crucial skill for any data scientist.\n",
    "\n",
    "\n",
    "\n"
   ]
  },
  {
   "cell_type": "markdown",
   "id": "6d49407e",
   "metadata": {
    "id": "9B19H1Bgk_iQ"
   },
   "source": [
    "## Introduction to SQL for Data Science\n",
    "\n",
    "Data has become the foundation of decision-making in modern organizations. From social media platforms storing billions of user interactions to hospitals managing electronic health records, most of this information is stored in **databases**. Among different types of databases, **relational databases** are the most widely used.\n",
    "\n",
    "Relational databases organize data into tables, which consist of **rows (records)** and **columns (attributes)**. This design reflects the way data naturally relates to entities in the real world. For example:\n",
    "\n",
    "*A retail store has customers (with IDs, names, and ages).\n",
    "* Each customer places orders (with product details, dates, and amounts).\n",
    "* The relationship between customers and orders can be represented through keys.\n",
    "\n",
    "To interact with these databases, we use a language called **Structured Query Language (SQL)**.\n",
    "\n"
   ]
  },
  {
   "cell_type": "markdown",
   "id": "c1a9f20b",
   "metadata": {
    "id": "dDzs1oLge3Go"
   },
   "source": [
    "### Structured Query Language (SQL).\n",
    "\n",
    "SQL provides a standardized way to create, read, update, and delete data (commonly referred to as CRUD operations). Unlike programming languages such as Python or Java, SQL is declarative: you specify what you want, and the database figures out how to get it.\n",
    "\n",
    "This makes it highly efficient for managing large datasets. For data science, SQL is invaluable for:\n",
    "\n",
    "* **Data Retrieval:** Extracting specific subsets of data from large databases.\n",
    "\n",
    "* **Data Cleaning and Transformation:**  Handling missing values, standardizing formats, and creating new features.\n",
    "\n",
    "* **Exploratory Data Analysis (EDA):**  Performing quick summaries, aggregations, and data profiling.\n",
    "\n",
    "* **Feature Engineering:**  Creating new variables from existing ones before feeding them into machine learning models.\n",
    "\n",
    "\n"
   ]
  },
  {
   "cell_type": "markdown",
   "id": "9f14cde3",
   "metadata": {
    "id": "LAq9HQzNfLdo"
   },
   "source": [
    "# The Evolution of Databases and SQL\n",
    "\n",
    "* **Early data management:** Before databases, organizations stored information in files. This approach led to redundancy, inconsistency, and inefficiency.\n",
    "\n",
    "* **Birth of the relational model:** In 1970, Edgar F. Codd introduced the relational model, a mathematical foundation for organizing data in tables with well-defined relationships.\n",
    "\n",
    "* **Development of SQL:** By the late 1970s, IBM developed SEQUEL (Structured English Query Language), which evolved into SQL. It became the ANSI standard in 1986.\n",
    "\n",
    "* **SQL today:** Almost every relational database system (MySQL, PostgreSQL, Oracle, SQL Server, SQLite) supports SQL, with minor dialect differences.\n",
    "\n",
    "* **Takeaway:** SQL is not just a programming tool—it is the backbone of modern data storage and analytics."
   ]
  },
  {
   "cell_type": "markdown",
   "id": "82669c50",
   "metadata": {
    "id": "vEDlzTyofgDV"
   },
   "source": [
    "# Relational Databases: Core Concepts\n",
    "Relational databases are the backbone of structured data storage. They organize information in a way that ensures consistency, integrity, and efficient retrieval. The fundamental ideas of tables, keys, and relationships help us understand how real-world data is modeled.\n",
    "\n",
    "### Tables, Rows, and Columns\n",
    "\n",
    "A table is like a spreadsheet.\n",
    "\n",
    "* **Rows (records/tuples):** Each row corresponds to a single entity or instance of data. For example, one row might represent a single customer.\n",
    "\n",
    "* **Columns (fields/attributes):** Each column stores one specific type of information about the entity, such as name, age, or gender.\n",
    "\n",
    "* **Schema:** The structure of the table, which defines what columns exist and their data types (e.g., integer, string, date).\n",
    "\n",
    "**Example:**\n",
    "A Customers table may contain columns such as Customer_ID, Name, Age, Gender, and Email. Each row represents one customer.\n",
    "\n",
    "### Keys\n",
    "\n",
    "Keys in Relational Databases are crucial for ensuring that data remains **unique** and **consistent** across tables.\n",
    "\n",
    "\n",
    "## 1. Primary Key (PK)\n",
    "The primary key uniquely identifies each row. It contain UNIQUE values in column, and does not allows  NULL values.\n",
    "\n",
    "\n",
    "<center>\n",
    "<img src=\"https://powerbidocs.com/wp-content/uploads/2019/12/PrimaryKey.png\" alt=\"SQL Candidate key\" width=\"100\">\n",
    "</center>\n",
    "Here, Empid is a Primary Key.\n",
    "Example:\n",
    "**Customers Table**\n",
    "\n",
    "| Customer_ID | Name     | Age | Gender |\n",
    "|-------------|----------|-----|--------|\n",
    "| 101         | Alice    | 25  | F      |\n",
    "| 102         | Bob      | 30  | M      |\n",
    "| 103         | Charlie  | 28  | M      |\n",
    "\n",
    "- **Primary Key:** `Customer_ID`\n",
    "- Ensures each customer is uniquely identifiable.\n",
    "\n",
    "---\n",
    "\n",
    "## 2. Foreign Key (FK)\n",
    "A foreign key links one table to another. It creates a relationship between two or more tables, a primary key of one table is referred as a foreign key in another table. It can also accept multiple null values and duplicate values.\n",
    "\n",
    "\n",
    "<center>\n",
    "<img src=\"https://powerbidocs.com/wp-content/uploads/2019/12/Foreign-Key.png\" alt=\"SQL Candidate key\" width=\"600\">\n",
    "</center>\n",
    "\n",
    "\n",
    "**Orders Table**\n",
    "\n",
    "| Order_ID | Customer_ID | Product   | Quantity |\n",
    "|----------|-------------|-----------|----------|\n",
    "| 5001     | 101         | Laptop    | 1        |\n",
    "| 5002     | 102         | Keyboard  | 2        |\n",
    "| 5003     | 101         | Mouse     | 1        |\n",
    "\n",
    "- `Customer_ID` here is a **foreign key** connecting each order to the **Customers** table.\n",
    "- Prevents creating an order for a non-existent customer.\n",
    "\n",
    "\n",
    "---\n",
    "\n",
    "## 3. Composite Key\n",
    "Sometimes, no single column uniquely identifies a row. Composite Key is a combination of more than one columns of a table. It can be a Candidate key and Primary key.\n",
    "\n",
    "\n",
    "\n",
    "<center>\n",
    "<img src=\"https://www.devx.com/wp-content/uploads/composite-key-in-dbms.png\" alt=\"SQL Candidate key\" width=\"600\">\n",
    "</center>\n",
    "\n",
    "**Enrollments Table**\n",
    "\n",
    "| Student_ID | Course_ID | Grade |\n",
    "|------------|-----------|-------|\n",
    "| S001       | CSE101    | A     |\n",
    "| S001       | MTH201    | B+    |\n",
    "| S002       | CSE101    | A-    |\n",
    "| S002       | PHY110    | B     |\n",
    "\n",
    "- Neither `Student_ID` nor `Course_ID` alone is unique.\n",
    "- Together `(Student_ID, Course_ID)` form a **composite key**.\n",
    "- Ensures a student cannot enroll in the same course twice.\n",
    "\n",
    "---\n",
    "\n",
    "## 4. Candidate Key\n",
    "A candidate key is any column (or set of columns) that could serve as a primary key. Candidate Key(s) an identify a record uniquely in a table and which can be selected as a primary key of the table.\n",
    "\n",
    "It contains UNIQUE values in column, and does not allows  NULL values.\n",
    "\n",
    "<center>\n",
    "<img src=\"https://powerbidocs.com/wp-content/uploads/2019/12/Candidate-Keys.png\" alt=\"SQL Candidate key\" width=\"500\">\n",
    "</center>\n",
    "\n",
    "Here, Empid, EmpLicence and EmpPassport are candidate keys.\n",
    "\n",
    "Example:\n",
    "**Employees Table**\n",
    "\n",
    "| Employee_ID | Email               | SSN        | Name   |\n",
    "|-------------|--------------------|------------|--------|\n",
    "| E001        | alice@company.com   | 123-45-6789| Alice  |\n",
    "| E002        | bob@company.com     | 987-65-4321| Bob    |\n",
    "| E003        | charlie@company.com | 111-22-3333| Charlie|\n",
    "\n",
    "- Possible unique identifiers:\n",
    "  - `Employee_ID`\n",
    "  - `Email`\n",
    "  - `SSN`\n",
    "- Each is a **candidate key**.\n",
    "- One (e.g., `Employee_ID`) is chosen as the **primary key**.\n",
    "\n",
    "Remember, Each table can have only **one Primary** key and **multiple Candidate** keys\n",
    "\n"
   ]
  },
  {
   "cell_type": "markdown",
   "id": "05cfc20b",
   "metadata": {
    "id": "4c38u9ou0Ak2"
   },
   "source": [
    "# PK-FK Relationships\n",
    "\n",
    "Relational databases use **primary keys (PK)** and **foreign keys (FK)** to maintain data integrity and model relationships.\n",
    "\n",
    "---\n",
    "\n",
    "## Types of Relationships\n",
    "\n",
    "* **One-to-One (1:1):** Each person has one passport; each passport belongs to one person.\n",
    "\n",
    "<center>\n",
    "<img src=\"https://afteracademy.com/images/what-are-the-different-types-of-relationships-in-dbms-one-to-one-relationship-example-e89f4cf71cbaee76.jpg\" alt=\"SQL Candidate key\" width=\"600\">\n",
    "</center>\n",
    "\n",
    "* **One-to-Many (1:N):** A customer can have many orders; each order belongs to one customer.\n",
    "\n",
    "<center>\n",
    "<img src=\"https://afteracademy.com/images/what-are-the-different-types-of-relationships-in-dbms-one-to-many-relationship-example-0d5c065e28b4f23a.jpg\" alt=\"SQL Candidate key\" width=\"600\">\n",
    "</center>\n",
    "In this figure, a customer can have many accounts; each account belongs to one customer.\n",
    "\n",
    "* **Many-to-Many (M:N):** Students enroll in many courses; courses have many students.\n",
    "\n",
    "\n",
    "<center>\n",
    "<img src=\"https://afteracademy.com/images/what-are-the-different-types-of-relationships-in-dbms-many-to-many-relationship-example-bd4be3b525b7bdcd.jpg\" alt=\"SQL Candidate key\" width=\"600\">\n",
    "</center>\n",
    "\n",
    "In this figure, each customer can buy more than one product and a product can be bought by many different customers.\n",
    "\n",
    "---\n",
    "\n",
    "## Customers Table\n",
    "\n",
    "| Customer_ID (PK) | Name     | Age | Gender |\n",
    "|-----------------|----------|-----|--------|\n",
    "| 101             | Alice    | 25  | F      |\n",
    "| 102             | Bob      | 30  | M      |\n",
    "| 103             | Charlie  | 28  | M      |\n",
    "\n",
    "---\n",
    "\n",
    "## Orders Table\n",
    "\n",
    "| Order_ID (PK) | Customer_ID (FK) | Product_ID (FK) | Quantity |\n",
    "|---------------|-----------------|----------------|----------|\n",
    "| 5001          | 101             | P100           | 1        |\n",
    "| 5002          | 102             | P101           | 2        |\n",
    "| 5003          | 101             | P102           | 1        |\n",
    "\n",
    "- `Customer_ID` is a **foreign key** referencing `Customers.Customer_ID`.\n",
    "- `Product_ID` is a **foreign key** referencing `Products.Product_ID`.\n",
    "\n",
    "---\n",
    "\n",
    "## Products Table\n",
    "\n",
    "| Product_ID (PK) | Product_Name | Price |\n",
    "|-----------------|--------------|-------|\n",
    "| P100            | Laptop       | 1000  |\n",
    "| P101            | Keyboard     | 50    |\n",
    "| P102            | Mouse        | 30    |\n",
    "\n",
    "---\n",
    "\n",
    "## Passports Table (One-to-One Example)\n",
    "\n",
    "| Passport_ID (PK) | Customer_ID (FK) | Expiration_Date |\n",
    "|-----------------|-----------------|----------------|\n",
    "| P001            | 101             | 2030-12-31     |\n",
    "| P002            | 102             | 2031-06-30     |\n",
    "| P003            | 103             | 2030-09-15     |\n",
    "\n",
    "- `Customer_ID` is a **foreign key** referencing `Customers.Customer_ID`.\n",
    "- Each customer has exactly **one passport**.\n",
    "\n",
    "---\n",
    "\n",
    "## Enrollments Table (Many-to-Many Example)\n",
    "\n",
    "| Student_ID | Course_ID | Grade |\n",
    "|------------|-----------|-------|\n",
    "| S001       | CSE101    | A     |\n",
    "| S001       | MTH201    | B+    |\n",
    "| S002       | CSE101    | A-    |\n",
    "| S002       | PHY110    | B     |\n",
    "\n",
    "- Neither `Student_ID` nor `Course_ID` alone is unique.\n",
    "- The combination `(Student_ID, Course_ID)` forms a **composite key**.\n",
    "- Students can enroll in **many courses**, and courses can have **many students**.\n",
    "\n",
    "---\n",
    "\n",
    "## Relationships Overview\n",
    "\n",
    "| From Table  | To Table     | Type       | Notes |\n",
    "|------------|-------------|------------|-------|\n",
    "| Customers  | Orders      | 1:N        | One customer → many orders |\n",
    "| Products   | Orders      | 1:N        | One product → many orders |\n",
    "| Customers  | Passports   | 1:1        | One customer → one passport |\n",
    "| Students   | Courses     | M:N        | Implemented via Enrollments table |\n",
    "\n",
    "---\n",
    "\n",
    "## Key Points\n",
    "\n",
    "* **Primary Key (PK):** Unique identifier for each record. Cannot be NULL.\n",
    "* **Foreign Key (FK):** Links a table to another table’s primary key. Maintains referential integrity.\n",
    "* **Composite Key:** Combination of columns used when a single column is not unique.\n",
    "* **Candidate Key:** Any column or combination of columns that could serve as a primary key.\n",
    "* **Constraints:** Rules to maintain data validity (e.g., NOT NULL, UNIQUE, CHECK, FOREIGN KEY).\n",
    "\n",
    "---\n"
   ]
  },
  {
   "cell_type": "markdown",
   "id": "64e60288",
   "metadata": {
    "id": "16nOOT1IlNdT"
   },
   "source": [
    "## The Role of SQL in Data Science\n",
    "\n",
    "Think of SQL as your conversation partner with the data. It's a declarative language, which means you simply state your desired outcome, and the database handles the complex task of finding and organizing the data for you. This makes it incredibly efficient for handling massive datasets. A typical data science workflow using SQL might look like this:\n",
    "\n",
    "* **Data Extraction**: You use a SELECT query to pull a specific subset of data relevant to your project.\n",
    "\n",
    "* **Data Wrangling**: You perform initial cleaning, filtering (WHERE), and aggregation (GROUP BY) directly in the database.\n",
    "\n",
    "* **Analysis**: The prepared data is loaded into Python (often as a Pandas DataFrame) for more sophisticated analysis, modeling, and visualization.\n",
    "\n"
   ]
  },
  {
   "cell_type": "markdown",
   "id": "a472ba23",
   "metadata": {
    "id": "CYeCus00k-g8"
   },
   "source": [
    "## Core SQL Commands: Your Essential Toolkit\n",
    "\n",
    "We have already learned that SQL is the standard language for managing and querying **relational databases**.  \n",
    "\n",
    "These core commands allow you to **create tables, insert data, retrieve information, update records, and maintain data integrity**.  \n",
    "\n",
    "Whether you are analyzing sales data, customer information, or product inventories, mastering these commands is essential for data-driven tasks.\n",
    "\n",
    "| Command        | Purpose                                           | Example                                                                                  |\n",
    "|----------------|---------------------------------------------------|------------------------------------------------------------------------------------------|\n",
    "| CREATE TABLE   | Create a new table in the database               | ```sql CREATE TABLE Customers (CustomerID INT PRIMARY KEY AUTO_INCREMENT, Name VARCHAR(50), Email VARCHAR(100));``` |\n",
    "| INSERT INTO    | Adds new rows of data to a table                 | ```sql INSERT INTO Customers (CustomerID, Name, Email) VALUES (1, 'John Doe', 'john.doe@example.com');``` |\n",
    "| SELECT         | Retrieves data from one or more tables           | ```sql SELECT Name, Email FROM Customers;```                                             |\n",
    "| WHERE          | Filters records based on a condition            | ```sql SELECT Name, Email FROM Customers WHERE CustomerID = 1;```                        |\n",
    "| UPDATE         | Modifies existing data in a table               | ```sql UPDATE Customers SET Email = 'john.doe@newdomain.com' WHERE CustomerID = 1;```     |\n",
    "| DELETE         | Removes rows from a table                        | ```sql DELETE FROM Customers WHERE CustomerID = 1;```                                     |\n",
    "| DROP TABLE     | Deletes the entire table and all its data       | ```sql DROP TABLE Customers;```                                                          |\n",
    "\n",
    "**Notes:**  \n",
    "- `CustomerID` is the **primary key** and uses `AUTO_INCREMENT` to generate unique IDs automatically.  \n",
    "- Always use `WHERE` in `UPDATE` and `DELETE` to avoid modifying all rows by mistake.  \n",
    "- `DROP TABLE` permanently deletes the table and its data, so use with caution.\n",
    "\n",
    "---\n",
    "\n"
   ]
  },
  {
   "cell_type": "markdown",
   "id": "950cdea2",
   "metadata": {
    "id": "U-uLKOT2775_"
   },
   "source": [
    "# The “Big 6” Elements of a SQL Select Statement\n",
    "\n",
    "\n",
    "* **SELECT:** Specifies which columns you want to retrieve.  \n",
    "  * Example: `SELECT customer_id, amount FROM sales;`\n",
    "* **FROM:** Specifies the table you are querying.  \n",
    "* **WHERE:** Filters rows based on conditions.  \n",
    "  * Example: `SELECT * FROM sales WHERE amount > 100 AND sale_date >= '2023-01-01';`  \n",
    "  * Example: `SELECT product_id, amount FROM sales ORDER BY amount DESC;`\n",
    "* **GROUP BY:** Aggregates rows with the same values into summary rows. Useful for metrics like total sales per customer.  \n",
    "* **HAVING:** Filters results of a `GROUP BY` clause, similar to `WHERE` but for aggregated data.  \n",
    "* **ORDER BY:** Sorts the result set. Use `DESC` for descending and `ASC` for ascending.\n",
    "* ** LIMIT:**\n",
    "\n",
    "\n",
    "\n",
    "<!-- * **JOIN:** Combines data from multiple tables.  \n",
    "  * Example (INNER JOIN): `SELECT s.order_id, p.product_name FROM sales s JOIN products p ON s.product_id = p.product_id;` -->"
   ]
  },
  {
   "cell_type": "markdown",
   "id": "ee8d5b1c",
   "metadata": {
    "id": "X91HaCdE8ZNz"
   },
   "source": [
    "# The “Big 6” Elements of a SQL SELECT Statement\n",
    "\n",
    "When querying data in SQL, the `SELECT` statement is the foundation. It allows you to **specify what data to retrieve, from where, and how to organize it**. The six key elements (plus `LIMIT`) are essential to writing powerful queries.\n",
    "\n",
    "\n",
    "<center>\n",
    "<img src=\"https://sqlmct.com/wp-content/uploads/2020/02/SELECTprocessing.png\" alt=\"SQL Candidate key\" width=\"600\">\n",
    "</center>\n",
    "\n",
    "Remember that, although these six key elements (SELECT, FROM, WHERE, GROUP BY, HAVING, ORDER BY) plus `LIMIT` are essential to writing powerful queries; however, **WHERE, GROUP BY, HAVING, ORDER BY, and LIMIT are optional**  depending on the query’s purpose.\n",
    "\n",
    "\n"
   ]
  },
  {
   "cell_type": "markdown",
   "id": "7939f1ed",
   "metadata": {
    "id": "yJAa4UnnFwp0"
   },
   "source": [
    "Example: Let’s create the Customers, Products, and Orders tables and insert sample data into each."
   ]
  },
  {
   "cell_type": "code",
   "execution_count": null,
   "id": "615b9390",
   "metadata": {
    "colab": {
     "base_uri": "https://localhost:8080/"
    },
    "id": "MXov0-ljF23K",
    "outputId": "745882ca-fac2-4032-8b6e-4eb899b37de3"
   },
   "outputs": [
    {
     "name": "stdout",
     "output_type": "stream",
     "text": [
      "Tables created and sample data inserted successfully!\n"
     ]
    }
   ],
   "source": [
    "# Step 1: Import libraries\n",
    "import sqlite3\n",
    "import pandas as pd\n",
    "\n",
    "# Step 2: Connect to SQLite database\n",
    "conn = sqlite3.connect('shop_data.db')\n",
    "cursor = conn.cursor()\n",
    "\n",
    "# Step 3: Create tables\n",
    "cursor.execute('''\n",
    "CREATE TABLE IF NOT EXISTS Customers (\n",
    "    CustomerID INTEGER PRIMARY KEY,\n",
    "    Name TEXT,\n",
    "    Age INTEGER,\n",
    "    Gender TEXT\n",
    ");\n",
    "''')\n",
    "\n",
    "cursor.execute('''\n",
    "CREATE TABLE IF NOT EXISTS Products (\n",
    "    ProductID INTEGER PRIMARY KEY,\n",
    "    Product_Name TEXT,\n",
    "    Price REAL\n",
    ");\n",
    "''')\n",
    "\n",
    "cursor.execute('''\n",
    "CREATE TABLE IF NOT EXISTS Orders (\n",
    "    OrderID INTEGER PRIMARY KEY,\n",
    "    CustomerID INTEGER,\n",
    "    ProductID INTEGER,\n",
    "    Quantity INTEGER,\n",
    "    FOREIGN KEY(CustomerID) REFERENCES Customers(CustomerID),\n",
    "    FOREIGN KEY(ProductID) REFERENCES Products(ProductID)\n",
    ");\n",
    "''')\n",
    "cursor.execute('''\n",
    "CREATE TABLE IF NOT EXISTS sales (\n",
    "    order_id INTEGER PRIMARY KEY,\n",
    "    customer_id INTEGER,\n",
    "    sale_date TEXT,\n",
    "    product_id INTEGER,\n",
    "    amount REAL\n",
    ");\n",
    "''')\n",
    "\n",
    "\n",
    "\n",
    "# Step 4: Insert sample data\n",
    "\n",
    "sales_data = [\n",
    "    (1, 101, '2023-01-01', 1, 150.00),\n",
    "    (2, 102, '2023-01-02', 2, 200.50),\n",
    "    (3, 101, '2023-01-03', 3, 75.25),\n",
    "    (4, 103, '2023-01-04', 1, 150.00),\n",
    "    (5, 102, '2023-01-05', 2, 200.50)\n",
    "]\n",
    "\n",
    "cursor.executemany(\"INSERT OR IGNORE INTO sales VALUES (?, ?, ?, ?, ?)\", sales_data)\n",
    "\n",
    "\n",
    "customers_data = [\n",
    "    (101, 'Alice', 25, 'F'),\n",
    "    (102, 'Bob', 30, 'M'),\n",
    "    (103, 'Charlie', 28, 'M'),\n",
    "    (104, 'Diana', 22, 'F')\n",
    "]\n",
    "cursor.executemany(\"INSERT OR IGNORE INTO Customers VALUES (?, ?, ?, ?)\", customers_data)\n",
    "\n",
    "products_data = [\n",
    "    (1, 'Laptop', 1000),\n",
    "    (2, 'Monitor', 200),\n",
    "    (3, 'Mouse', 30)\n",
    "]\n",
    "cursor.executemany(\"INSERT OR IGNORE INTO Products VALUES (?, ?, ?)\", products_data)\n",
    "\n",
    "orders_data = [\n",
    "    (5001, 101, 1, 1),\n",
    "    (5002, 102, 2, 2),\n",
    "    (5003, 101, 3, 1),\n",
    "    (5004, 103, 1, 1),\n",
    "    (5005, 104, 2, 1)\n",
    "]\n",
    "cursor.executemany(\"INSERT OR IGNORE INTO Orders VALUES (?, ?, ?, ?)\", orders_data)\n",
    "\n",
    "conn.commit()\n",
    "print(\"Tables created and sample data inserted successfully!\")"
   ]
  },
  {
   "cell_type": "markdown",
   "id": "3f41ab59",
   "metadata": {
    "id": "oz7EZdokF52e"
   },
   "source": [
    "---\n",
    "\n",
    "## 1. SELECT\n",
    "Specifies which **columns** you want to retrieve from a table.\n",
    "*Example:*  \n",
    "```sql\n",
    "SELECT customer_id, amount\n",
    "FROM sales;"
   ]
  },
  {
   "cell_type": "code",
   "execution_count": null,
   "id": "b61876cb",
   "metadata": {
    "colab": {
     "base_uri": "https://localhost:8080/"
    },
    "id": "j_DinD5AM7Nu",
    "outputId": "5a077429-3851-4036-f5ff-00c3a1f1c340"
   },
   "outputs": [
    {
     "name": "stdout",
     "output_type": "stream",
     "text": [
      "   order_id  customer_id   sale_date  product_id  amount\n",
      "0         1          101  2023-01-01           1  150.00\n",
      "1         2          102  2023-01-02           2  200.50\n",
      "2         3          101  2023-01-03           3   75.25\n",
      "3         4          103  2023-01-04           1  150.00\n",
      "4         5          102  2023-01-05           2  200.50\n"
     ]
    }
   ],
   "source": [
    "query_select = \"SELECT * FROM sales;\"\n",
    "df_select = pd.read_sql_query(query_select, conn)\n",
    "print(df_select)"
   ]
  },
  {
   "cell_type": "markdown",
   "id": "b4506597",
   "metadata": {
    "id": "5V_VNFb9853o"
   },
   "source": [
    "## 2. FROM\n",
    "Specifies the table(s) you are querying.\n",
    "\n",
    "```sql\n",
    "SELECT customer_id, amount\n",
    "FROM sales;"
   ]
  },
  {
   "cell_type": "code",
   "execution_count": null,
   "id": "1b0cc948",
   "metadata": {
    "colab": {
     "base_uri": "https://localhost:8080/"
    },
    "id": "5XhJqt7YGHPh",
    "outputId": "fca800d3-dba7-43fd-8705-efd1500922d7"
   },
   "outputs": [
    {
     "name": "stdout",
     "output_type": "stream",
     "text": [
      "   customer_id  amount\n",
      "0          101  150.00\n",
      "1          102  200.50\n",
      "2          101   75.25\n",
      "3          103  150.00\n",
      "4          102  200.50\n"
     ]
    }
   ],
   "source": [
    "query_select = \"SELECT customer_id, amount FROM sales;\"\n",
    "df_select = pd.read_sql_query(query_select, conn)\n",
    "print(df_select)"
   ]
  },
  {
   "cell_type": "markdown",
   "id": "3c07e248",
   "metadata": {
    "id": "qgGo_fKI8_Oy"
   },
   "source": [
    "## 3. WHERE\n",
    "Filters rows based on conditions. Only rows that satisfy the condition are returned.\n",
    "\n",
    "```sql\n",
    "SELECT *\n",
    "FROM sales\n",
    "WHERE amount > 100 AND sale_date >= '2023-01-01';\n"
   ]
  },
  {
   "cell_type": "code",
   "execution_count": null,
   "id": "573aa9a6",
   "metadata": {
    "colab": {
     "base_uri": "https://localhost:8080/"
    },
    "id": "QjCuKGlIMCUJ",
    "outputId": "33e7c38a-71c5-469c-bf86-bc67d7371d59"
   },
   "outputs": [
    {
     "name": "stdout",
     "output_type": "stream",
     "text": [
      "   order_id  customer_id   sale_date  product_id  amount\n",
      "0         1          101  2023-01-01           1   150.0\n",
      "1         2          102  2023-01-02           2   200.5\n",
      "2         4          103  2023-01-04           1   150.0\n",
      "3         5          102  2023-01-05           2   200.5\n"
     ]
    }
   ],
   "source": [
    "query_select = \"SELECT * FROM sales WHERE amount > 100 AND sale_date >= '2023-01-01'\"\n",
    "df_select = pd.read_sql_query(query_select, conn)\n",
    "print(df_select)"
   ]
  },
  {
   "cell_type": "markdown",
   "id": "6175dd0a",
   "metadata": {
    "id": "veG--sUs9GiX"
   },
   "source": [
    "## 4. GROUPBY\n",
    "Aggregates rows with the same values into summary rows, such as totals, averages, or counts.\n",
    "\n",
    "```sql\n",
    "SELECT customer_id, SUM(amount) AS total_sales\n",
    "FROM sales\n",
    "GROUP BY customer_id;\n"
   ]
  },
  {
   "cell_type": "code",
   "execution_count": null,
   "id": "a7997159",
   "metadata": {
    "colab": {
     "base_uri": "https://localhost:8080/"
    },
    "id": "2ujqDajwMEjB",
    "outputId": "e1126ba2-e093-4c05-903b-98c58d2dc785"
   },
   "outputs": [
    {
     "name": "stdout",
     "output_type": "stream",
     "text": [
      "   customer_id  total_sales\n",
      "0          101       225.25\n",
      "1          102       401.00\n",
      "2          103       150.00\n"
     ]
    }
   ],
   "source": [
    "query_select = \"\"\"\n",
    "SELECT customer_id, SUM(amount) AS total_sales\n",
    "FROM sales\n",
    "GROUP BY customer_id;\n",
    "\"\"\"\n",
    "df_select = pd.read_sql_query(query_select, conn)\n",
    "print(df_select)\n"
   ]
  },
  {
   "cell_type": "markdown",
   "id": "d3879999",
   "metadata": {
    "id": "saazlmyZ9MS7"
   },
   "source": [
    "## 5. HAVING\n",
    "Filters results after aggregation. Similar to WHERE, but operates on aggregated data.\n",
    "\n",
    "Remember, while `WHERE` filters **raw rows before aggregation**, `HAVING` filters **groups created by `GROUP BY`**.  \n",
    "\n",
    "**Connection to GROUP BY:**  \n",
    "- `GROUP BY` creates aggregated groups (e.g., total sales per customer).  \n",
    "- `HAVING` applies conditions on these aggregated values. Without `GROUP BY`, `HAVING` can still work on aggregate functions applied to the entire table.  \n",
    "\n",
    "\n",
    "```sql\n",
    "SELECT customer_id, SUM(amount) AS total_sales\n",
    "FROM sales\n",
    "GROUP BY customer_id\n",
    "HAVING SUM(amount) > 100;\n"
   ]
  },
  {
   "cell_type": "code",
   "execution_count": null,
   "id": "67d2968c",
   "metadata": {
    "colab": {
     "base_uri": "https://localhost:8080/"
    },
    "id": "jmPU_aCLMdGC",
    "outputId": "1a880222-f5c6-4a6f-f9a3-51eefe3d163a"
   },
   "outputs": [
    {
     "name": "stdout",
     "output_type": "stream",
     "text": [
      "   customer_id  total_sales\n",
      "0          101       225.25\n",
      "1          102       401.00\n",
      "2          103       150.00\n"
     ]
    }
   ],
   "source": [
    "query_select = \"\"\"\n",
    "SELECT customer_id, SUM(amount) AS total_sales\n",
    "FROM sales\n",
    "GROUP BY customer_id\n",
    "HAVING SUM(amount) > 100;\n",
    "\"\"\"\n",
    "df_select = pd.read_sql_query(query_select, conn)\n",
    "print(df_select)"
   ]
  },
  {
   "cell_type": "markdown",
   "id": "8132e538",
   "metadata": {
    "id": "BNFSO6S-9Rds"
   },
   "source": [
    "## 6. ORDERBY\n",
    "Sorts the result set by one or more columns.\n",
    "\n",
    "```sql\n",
    "SELECT product_id, amount\n",
    "FROM sales\n",
    "ORDER BY amount DESC; -- DESC for descending, ASC for ascending\n"
   ]
  },
  {
   "cell_type": "code",
   "execution_count": null,
   "id": "5cb7d613",
   "metadata": {
    "colab": {
     "base_uri": "https://localhost:8080/"
    },
    "id": "NASsq9WzMmoD",
    "outputId": "8d960685-ab1c-4333-b0f0-370a273d73b3"
   },
   "outputs": [
    {
     "name": "stdout",
     "output_type": "stream",
     "text": [
      "   product_id  amount\n",
      "0           2  200.50\n",
      "1           2  200.50\n",
      "2           1  150.00\n",
      "3           1  150.00\n",
      "4           3   75.25\n"
     ]
    }
   ],
   "source": [
    "query_select = \"\"\"\n",
    "SELECT product_id, amount\n",
    "FROM sales\n",
    "ORDER BY amount DESC;\n",
    "\"\"\"\n",
    "df_select = pd.read_sql_query(query_select, conn)\n",
    "print(df_select)"
   ]
  },
  {
   "cell_type": "markdown",
   "id": "5276bf06",
   "metadata": {
    "id": "s2rRDJa09XiG"
   },
   "source": [
    "## Some More SQL Essentials\n",
    "\n",
    "### DISTINCT\n",
    "Returns **unique values** from a column, removing duplicates.\n",
    "\n",
    "```sql\n",
    "-- Get unique customer IDs\n",
    "SELECT DISTINCT customer_id\n",
    "FROM sales;\n"
   ]
  },
  {
   "cell_type": "code",
   "execution_count": null,
   "id": "b9ed0b65",
   "metadata": {
    "colab": {
     "base_uri": "https://localhost:8080/"
    },
    "id": "BAUmOkQsMpmK",
    "outputId": "562d0d6f-2d1c-4b84-c414-fde88e22a168"
   },
   "outputs": [
    {
     "name": "stdout",
     "output_type": "stream",
     "text": [
      "   customer_id\n",
      "0          101\n",
      "1          102\n",
      "2          103\n"
     ]
    }
   ],
   "source": [
    "query_select = \"\"\"\n",
    "SELECT DISTINCT customer_id\n",
    "FROM sales;\n",
    "\"\"\"\n",
    "df_select = pd.read_sql_query(query_select, conn)\n",
    "print(df_select)"
   ]
  },
  {
   "cell_type": "markdown",
   "id": "21749be5",
   "metadata": {
    "id": "PW03aU2j-Lne"
   },
   "source": [
    "### COUNT\n",
    "Counts the number of rows that satisfy a condition.\n",
    "\n",
    "```sql\n",
    "-- Count total sales\n",
    "SELECT COUNT(*) AS total_sales\n",
    "FROM sales;\n",
    "\n",
    "-- Count number of unique customers\n",
    "SELECT COUNT(DISTINCT customer_id) AS unique_customers\n",
    "FROM sales;"
   ]
  },
  {
   "cell_type": "code",
   "execution_count": null,
   "id": "65cbcf29",
   "metadata": {
    "colab": {
     "base_uri": "https://localhost:8080/"
    },
    "id": "mkn_GGE7MuCx",
    "outputId": "f4153fd8-9d91-490d-b592-082291462231"
   },
   "outputs": [
    {
     "name": "stdout",
     "output_type": "stream",
     "text": [
      "   unique_customers\n",
      "0                 3\n"
     ]
    }
   ],
   "source": [
    "query_select = \"\"\"\n",
    "SELECT COUNT(DISTINCT customer_id) AS unique_customers\n",
    "FROM sales;\n",
    "\"\"\"\n",
    "df_select = pd.read_sql_query(query_select, conn)\n",
    "print(df_select)"
   ]
  },
  {
   "cell_type": "markdown",
   "id": "f370e24f",
   "metadata": {
    "id": "FlLXsk-y-Rq9"
   },
   "source": [
    "### LIMIT\n",
    "Restricts the number of rows returned, useful for sampling or previewing data.\n",
    "```sql\n",
    "-- Get the 10 most recent sales\n",
    "SELECT *\n",
    "FROM sales\n",
    "ORDER BY sale_date DESC\n",
    "LIMIT 10;\n",
    "\n",
    "```sql\n",
    "-- Count unique customers but only show the first 5 results\n",
    "SELECT customer_id, COUNT(*) AS num_sales\n",
    "FROM sales\n",
    "GROUP BY customer_id\n",
    "ORDER BY num_sales DESC\n",
    "LIMIT 5;"
   ]
  },
  {
   "cell_type": "code",
   "execution_count": null,
   "id": "1b11a2f4",
   "metadata": {
    "colab": {
     "base_uri": "https://localhost:8080/"
    },
    "id": "4f5TZeqYMxDj",
    "outputId": "39407df9-b780-4c48-fa43-3753e00592af"
   },
   "outputs": [
    {
     "name": "stdout",
     "output_type": "stream",
     "text": [
      "   customer_id  num_sales\n",
      "0          102          2\n",
      "1          101          2\n",
      "2          103          1\n"
     ]
    }
   ],
   "source": [
    "query_select = \"\"\"\n",
    "SELECT customer_id, COUNT(*) AS num_sales\n",
    "FROM sales\n",
    "GROUP BY customer_id\n",
    "ORDER BY num_sales DESC\n",
    "LIMIT 5;\n",
    "\"\"\"\n",
    "df_select = pd.read_sql_query(query_select, conn)\n",
    "print(df_select)"
   ]
  },
  {
   "cell_type": "markdown",
   "id": "95bc5e00",
   "metadata": {
    "id": "fdUEnIIUCFWI"
   },
   "source": [
    "**Aggregations and Filtering**\n",
    "   - Use aggregation functions like `SUM()`, `COUNT()`, `AVG()`, `MIN()`, `MAX()` to summarize data.  \n",
    "   - `GROUP BY` allows you to compute metrics per category (e.g., total sales per customer).  \n",
    "   - `HAVING` filters aggregated results (useful when you want to filter groups, unlike `WHERE` which filters raw rows).  \n",
    "\n",
    "```sql\n",
    "-- Find total sales per customer\n",
    "SELECT customer_id, SUM(amount) AS total_sales\n",
    "FROM sales\n",
    "GROUP BY customer_id;\n",
    "\n",
    "-- Find customers with total sales greater than 200\n",
    "SELECT customer_id, SUM(amount) AS total_sales\n",
    "FROM sales\n",
    "GROUP BY customer_id\n",
    "HAVING SUM(amount) > 200;"
   ]
  },
  {
   "cell_type": "code",
   "execution_count": null,
   "id": "94b592ae",
   "metadata": {
    "colab": {
     "base_uri": "https://localhost:8080/"
    },
    "id": "zhgNCvCrM1gd",
    "outputId": "b7a6cc2b-bcea-43d6-de91-213bbac4cc78"
   },
   "outputs": [
    {
     "name": "stdout",
     "output_type": "stream",
     "text": [
      "   customer_id  total_sales\n",
      "0          101       225.25\n",
      "1          102       401.00\n"
     ]
    }
   ],
   "source": [
    "query_select = \"\"\"\n",
    "SELECT customer_id, SUM(amount) AS total_sales\n",
    "FROM sales\n",
    "GROUP BY customer_id\n",
    "HAVING SUM(amount) > 200;\n",
    "\"\"\"\n",
    "df_select = pd.read_sql_query(query_select, conn)\n",
    "print(df_select)"
   ]
  },
  {
   "cell_type": "markdown",
   "id": "23ee6555",
   "metadata": {
    "id": "o1hQloh--oQp"
   },
   "source": [
    "# SQL JOINs: Combining Data from Multiple Tables\n",
    "\n",
    "In relational databases, data is often split across multiple tables. **JOINs** allow you to combine rows from two or more tables based on related columns (usually keys).\n",
    "\n",
    "---\n",
    "\n",
    "## 1. INNER JOIN\n",
    "Returns only the rows where there is a **match in both tables**.\n",
    "\n",
    "\n",
    "<center>\n",
    "<img src=\"https://www.pragimtech.com/blog/contribute/article_images/1220210728013442/sql-inner-join-example.jpg\" alt=\"SQL Candidate key\" width=\"600\">\n",
    "</center>\n",
    "\n",
    "```sql\n",
    "SELECT o.Order_ID, c.Name, p.Product_Name\n",
    "FROM Orders o\n",
    "INNER JOIN Customers c\n",
    "    ON o.Customer_ID = c.CustomerID\n",
    "INNER JOIN Products p\n",
    "    ON o.Product_ID = p.ProductID;\n"
   ]
  },
  {
   "cell_type": "markdown",
   "id": "c1df2442",
   "metadata": {
    "id": "WNDgmq4--qzC"
   },
   "source": [
    "---\n",
    "\n",
    "## 2. LEFT JOIN (or LEFT OUTER JOIN)\n",
    "\n",
    "Returns **all rows from the left table**, and **matched rows from the right table**. If there is no match, the right table columns return NULL.\n",
    "\n",
    "<center>\n",
    "<img src=\"https://www.pragimtech.com/blog/contribute/article_images/1220210728013442/sql-left-join-example.jpg\" alt=\"SQL Candidate key\" width=\"600\">\n",
    "</center>\n",
    "\n",
    "```sql\n",
    "SELECT o.Order_ID, c.Name, p.Product_Name\n",
    "FROM Orders o\n",
    "INNER JOIN Customers c\n",
    "    ON o.Customer_ID = c.CustomerID\n",
    "INNER JOIN Products p\n",
    "    ON o.Product_ID = p.ProductID;"
   ]
  },
  {
   "cell_type": "markdown",
   "id": "6bc3933b",
   "metadata": {
    "id": "mhXcMa4U-2kC"
   },
   "source": [
    "Here:\n",
    "\n",
    "* All customers are shown, even if they haven’t placed any orders.\n",
    "\n",
    "* Orders columns for customers with no orders will be NULL."
   ]
  },
  {
   "cell_type": "markdown",
   "id": "d774d15d",
   "metadata": {
    "id": "rWzn-bbT-zeu"
   },
   "source": [
    "---\n",
    "\n",
    "## 3. RIGHT JOIN (or RIGHT OUTER JOIN)\n",
    "\n",
    "Returns all **rows from the right table, and matched rows from the left table**.\n",
    "If there is no match, the left table columns return NULL.\n",
    "\n",
    "<center>\n",
    "<img src=\"https://www.pragimtech.com/blog/contribute/article_images/1220210728013442/sql-right-join-example.jpg\" alt=\"SQL Candidate key\" width=\"600\">\n",
    "</center>\n",
    "\n",
    "```sql\n",
    "SELECT o.Order_ID, c.CustomerID, c.Name\n",
    "FROM Orders o\n",
    "RIGHT JOIN Customers c\n",
    "    ON o.Customer_ID = c.CustomerID;\n",
    "\n"
   ]
  },
  {
   "cell_type": "markdown",
   "id": "2be6c298",
   "metadata": {
    "id": "XZCqdBsS_ItG"
   },
   "source": [
    "Here, All customers appear, even if they have no orders (similar to LEFT JOIN but reversed table order)."
   ]
  },
  {
   "cell_type": "markdown",
   "id": "daf46c45",
   "metadata": {
    "id": "2_PDI8uD_Rg5"
   },
   "source": [
    "---\n",
    "\n",
    "## 4. FULL OUTER JOIN\n",
    "\n",
    "Returns **all rows from both tables**, with NULL for missing matches on either side.\n",
    "\n",
    "<center>\n",
    "<img src=\"https://www.thedataschool.co.uk/content/images/2024/07/image-22.png\" alt=\"SQL Candidate key\" width=\"600\">\n",
    "</center>\n",
    "\n",
    "```sql\n",
    "SELECT c.CustomerID, c.Name, o.Order_ID\n",
    "FROM Customers c\n",
    "FULL OUTER JOIN Orders o\n",
    "    ON c.CustomerID = o.Customer_ID;\n",
    "\n",
    "\n"
   ]
  },
  {
   "cell_type": "markdown",
   "id": "b12e25d7",
   "metadata": {
    "id": "-QMkBVgw_a9s"
   },
   "source": [
    "Here, we combines the effect of LEFT and RIGHT JOIN. Customers without orders and orders without customers are included with NULL in the missing columns."
   ]
  },
  {
   "cell_type": "markdown",
   "id": "dd65fe8c",
   "metadata": {
    "id": "YKZjzEsi6u5h"
   },
   "source": [
    "Below is a full example of creating and manipulating a table in SQL.\n"
   ]
  },
  {
   "cell_type": "markdown",
   "id": "5c9bd747",
   "metadata": {
    "id": "wBUL0OuFKrcs"
   },
   "source": [
    "###EXAMPLE:"
   ]
  },
  {
   "cell_type": "code",
   "execution_count": null,
   "id": "a958cb0c",
   "metadata": {
    "colab": {
     "base_uri": "https://localhost:8080/"
    },
    "id": "U_c_gEEmBk6v",
    "outputId": "d6db4718-d84c-4cd3-9b56-4262ffa64dca"
   },
   "outputs": [
    {
     "name": "stdout",
     "output_type": "stream",
     "text": [
      "Database populated successfully!\n",
      "\n",
      "--- Sales with Amount > $150 ---\n",
      "   order_id  customer_id  product_id   sale_date  amount\n",
      "0         2          102           2  2023-01-02   200.5\n",
      "1         5          102           2  2023-01-05   200.5\n",
      "\n",
      "--- Sales with Product Names ---\n",
      "   order_id   sale_date  amount product_name\n",
      "0         1  2023-01-01  150.00       Laptop\n",
      "1         2  2023-01-02  200.50      Monitor\n",
      "2         3  2023-01-03   75.25        Mouse\n",
      "3         4  2023-01-04  150.00       Laptop\n",
      "4         5  2023-01-05  200.50      Monitor\n",
      "\n",
      "--- Total Sales per Customer ---\n",
      "   customer_id  total_amount\n",
      "0          102        401.00\n",
      "1          101        225.25\n",
      "2          103        150.00\n",
      "\n",
      "--- Customers with Total Sales > $200 ---\n",
      "   customer_id  total_amount\n",
      "0          102        401.00\n",
      "1          101        225.25\n",
      "\n",
      "Connection to database closed.\n"
     ]
    }
   ],
   "source": [
    "# Step 1: Import necessary libraries\n",
    "import sqlite3\n",
    "import pandas as pd\n",
    "\n",
    "# Step 2: Connect to a SQLite database\n",
    "conn = sqlite3.connect('sales_data.db')\n",
    "cursor = conn.cursor()\n",
    "\n",
    "# Step 3: Create tables\n",
    "cursor.execute('''\n",
    "CREATE TABLE IF NOT EXISTS sales (\n",
    "    order_id INTEGER PRIMARY KEY,\n",
    "    customer_id INTEGER,\n",
    "    product_id INTEGER,\n",
    "    sale_date TEXT,\n",
    "    amount REAL\n",
    ");\n",
    "''')\n",
    "\n",
    "cursor.execute('''\n",
    "CREATE TABLE IF NOT EXISTS products (\n",
    "    product_id INTEGER PRIMARY KEY,\n",
    "    product_name TEXT\n",
    ");\n",
    "''')\n",
    "\n",
    "# Step 4: Insert data\n",
    "sales_data = [\n",
    "    (1, 101, 1, '2023-01-01', 150.00),\n",
    "    (2, 102, 2, '2023-01-02', 200.50),\n",
    "    (3, 101, 3, '2023-01-03', 75.25),\n",
    "    (4, 103, 1, '2023-01-04', 150.00),\n",
    "    (5, 102, 2, '2023-01-05', 200.50)\n",
    "]\n",
    "cursor.executemany(\"INSERT OR IGNORE INTO sales VALUES (?, ?, ?, ?, ?)\", sales_data)\n",
    "\n",
    "products_data = [\n",
    "    (1, 'Laptop'),\n",
    "    (2, 'Monitor'),\n",
    "    (3, 'Mouse')\n",
    "]\n",
    "cursor.executemany(\"INSERT OR IGNORE INTO products VALUES (?, ?)\", products_data)\n",
    "\n",
    "conn.commit()\n",
    "print(\"Database populated successfully!\")\n",
    "\n",
    "# Step 5: Simple SQL query\n",
    "query_1 = \"SELECT * FROM sales WHERE amount > 150;\"\n",
    "df_high_sales = pd.read_sql_query(query_1, conn)\n",
    "print(\"\\n--- Sales with Amount > $150 ---\")\n",
    "print(df_high_sales)\n",
    "\n",
    "# Step 6: JOIN query\n",
    "query_2 = \"\"\"\n",
    "SELECT s.order_id, s.sale_date, s.amount, p.product_name\n",
    "FROM sales AS s\n",
    "JOIN products AS p\n",
    "ON s.product_id = p.product_id;\n",
    "\"\"\"\n",
    "df_sales = pd.read_sql_query(query_2, conn)\n",
    "print(\"\\n--- Sales with Product Names ---\")\n",
    "print(df_sales)\n",
    "\n",
    "# Step 7: GROUP BY query\n",
    "query_3 = \"\"\"\n",
    "SELECT customer_id, SUM(amount) AS total_amount\n",
    "FROM sales\n",
    "GROUP BY customer_id\n",
    "ORDER BY total_amount DESC;\n",
    "\"\"\"\n",
    "df_summary = pd.read_sql_query(query_3, conn)\n",
    "print(\"\\n--- Total Sales per Customer ---\")\n",
    "print(df_summary)\n",
    "\n",
    "# Step 8: HAVING query (filter aggregated results)\n",
    "query_4 = \"\"\"\n",
    "SELECT customer_id, SUM(amount) AS total_amount\n",
    "FROM sales\n",
    "GROUP BY customer_id\n",
    "HAVING SUM(amount) > 200\n",
    "ORDER BY total_amount DESC;\n",
    "\"\"\"\n",
    "df_having = pd.read_sql_query(query_4, conn)\n",
    "print(\"\\n--- Customers with Total Sales > $200 ---\")\n",
    "print(df_having)\n",
    "\n",
    "# Step 9: Close connection\n",
    "conn.close()\n",
    "print(\"\\nConnection to database closed.\")\n"
   ]
  },
  {
   "cell_type": "markdown",
   "id": "b70b1cab",
   "metadata": {
    "id": "V0P5_H60kiZL"
   },
   "source": [
    "# Key Takeaways: SQL\n",
    "\n",
    "1. **Relational Databases Structure**\n",
    "   - Data is organized into **tables**, consisting of **rows** (records) and **columns** (attributes).  \n",
    "   - **Primary Keys (PK)** uniquely identify rows, and **Foreign Keys (FK)** link tables to maintain **referential integrity**.\n",
    "\n",
    "2. **Core SQL Commands**\n",
    "   - `CREATE TABLE` – define a new table.  \n",
    "   - `INSERT INTO` – add rows of data.  \n",
    "   - `SELECT` – retrieve data.  \n",
    "   - `WHERE` – filter rows.  \n",
    "   - `UPDATE` / `DELETE` – modify or remove data.  \n",
    "   - `DROP TABLE` – remove a table permanently.  \n",
    "\n",
    "3. **The “Big 6” Elements of a SELECT Statement**\n",
    "   - **SELECT:** Choose columns.  \n",
    "   - **FROM:** Specify tables.  \n",
    "   - **WHERE:** Filter rows.  \n",
    "   - **GROUP BY:** Aggregate rows.  \n",
    "   - **HAVING:** Filter aggregated results.  \n",
    "   - **ORDER BY:** Sort results.  \n",
    "   - **LIMIT:** Restrict the number of rows returned.\n",
    "\n",
    "4. **JOINs for Combining Tables**\n",
    "   - **INNER JOIN:** Only matching rows.  \n",
    "   - **LEFT JOIN:** All left table rows, matched right table rows.  \n",
    "   - **RIGHT JOIN:** All right table rows, matched left table rows.  \n",
    "   - **FULL OUTER JOIN:** All rows from both tables, NULL for missing matches.\n",
    "\n",
    "5. **Aggregations and Filtering**\n",
    "   - Use `SUM()`, `COUNT()`, `AVG()`, `MIN()`, `MAX()` for aggregation.  \n",
    "   - Use `GROUP BY` to summarize data per category.  \n",
    "   - Use `HAVING` to filter **after aggregation** (cannot use WHERE for aggregated results).\n",
    "\n",
    "6. **SQL in Python with Pandas**\n",
    "   - `sqlite3` allows creating a **lightweight database** in Colab.  \n",
    "   - Use `pd.read_sql_query()` to **load SQL query results directly into a DataFrame** for analysis.  \n",
    "   - Combining SQL + Pandas enables **powerful data workflows** in Python.\n",
    "\n",
    "7. **Best Practices**\n",
    "   - Always use **WHERE** when updating or deleting rows.  \n",
    "   - Use **table aliases** for readability in JOINs.  \n",
    "   - Use **LIMIT** when exploring large datasets to preview data efficiently.  \n",
    "   - Test queries on **sample data** before running on full datasets.  \n",
    "\n",
    "---\n",
    "\n",
    "**Conclusion:**  \n",
    "By mastering table creation, data insertion, SELECT statements, JOINs, aggregation, and integration with Pandas, you can perform **complex data analysis** efficiently in SQL and Python. This chapter lays the foundation for building **real-world data pipelines and analytical workflows**.\n"
   ]
  },
  {
   "cell_type": "markdown",
   "id": "69ac77b7",
   "metadata": {
    "id": "T0CJnhS1Ud8q"
   },
   "source": [
    "## Knowledge Check\n",
    "\n",
    "<iframe src=\"https://docs.google.com/forms/d/e/1FAIpQLSduyV-41gyQSCvhPZVweI7VZjrayWSMa2OFB-ra-BsTnRPgeQ/viewform?embedded=true\" width=\"100%\" height=\"800px\" frameborder=\"0\" style=\"min-height: 800px; height: 100vh\">Loading…</iframe>"
   ]
  },
  {
   "cell_type": "markdown",
   "id": "7f8ef84d",
   "metadata": {
    "id": "Dx9AOruBke1z"
   },
   "source": [
    "<iframe src=\"https://docs.google.com/forms/d/e/1FAIpQLSduyV-41gyQSCvhPZVweI7VZjrayWSMa2OFB-ra-BsTnRPgeQ/viewform?embedded=true\" width=\"100%\" height=\"800px\" frameborder=\"0\" style=\"min-height: 800px; height: 100vh\">Loading…</iframe>\n",
    "\n"
   ]
  }
 ],
 "metadata": {
  "colab": {
   "provenance": []
  },
  "kernelspec": {
   "display_name": "Python 3",
   "name": "python3"
  },
  "language_info": {
   "name": "python"
  }
 },
 "nbformat": 4,
 "nbformat_minor": 5
}
