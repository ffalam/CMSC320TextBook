{
 "cells": [
  {
   "cell_type": "markdown",
   "metadata": {
    "id": "9Z9QAbqHkMgD"
   },
   "source": [
    "### Chapter: Mastering SQL for Data Science with Python\n",
    "\n",
    "The chapter introduces Structured Query Language (SQL), a powerful and essential tool for data professionals. SQL is the standard language used to communicate with and manage relational databases. This chapter focuses on its application in data science, demonstrating how to use SQL for data retrieval, manipulation, and analysis. It also covers the integration of SQL with Python, a crucial skill for any data scientist."
   ]
  },
  {
   "cell_type": "markdown",
   "metadata": {
    "id": "9B19H1Bgk_iQ"
   },
   "source": [
    "### Introduction to SQL for Data Science\n",
    "SQL is a declarative language, meaning you tell the database what you want, not how to get it. This makes it highly efficient for managing large datasets. For data science, SQL is invaluable for:\n",
    "\n",
    "* **Data Retrieval:** Extracting specific subsets of data from large databases.\n",
    "\n",
    "* **Data Cleaning and Transformation:**  Handling missing values, standardizing formats, and creating new features.\n",
    "\n",
    "* **Exploratory Data Analysis (EDA):**  Performing quick summaries, aggregations, and data profiling.\n",
    "\n",
    "* **Feature Engineering:**  Creating new variables from existing ones before feeding them into machine learning models."
   ]
  },
  {
   "cell_type": "markdown",
   "metadata": {
    "id": "16nOOT1IlNdT"
   },
   "source": []
  },
  {
   "cell_type": "markdown",
   "metadata": {
    "id": "CYeCus00k-g8"
   },
   "source": [
    "\n",
    "A typical data science workflow using SQL might look like this:Data Extraction: You use a SELECT query to pull a specific subset of data relevant to your project.Data Wrangling: You perform initial cleaning, filtering (WHERE), and aggregation (GROUP BY) directly in the database.Analysis: The prepared data is loaded into Python (often as a Pandas DataFrame) for more sophisticated analysis, modeling, and visualization.Core SQL Commands: Your Essential ToolkitLet's begin with the building blocks of SQL. We'll use a hypothetical sales table with columns like order_id, customer_id, product_id, sale_date, and amount.SELECT: The most fundamental command. It specifies which columns you want to see.SELECT customer_id, amount FROM sales;FROM: Specifies the table you're querying.WHERE: Filters rows based on one or more conditions.SELECT * FROM sales WHERE amount > 100 AND sale_date >= '2023-01-01';ORDER BY: Sorts the result set. DESC is for descending order, ASC for ascending.SELECT product_id, amount FROM sales ORDER BY amount DESC;GROUP BY: Aggregates rows that have the same values into summary rows. This is perfect for calculating metrics like total sales per customer.HAVING: Filters the results of a GROUP BY clause. This is similar to WHERE but operates on the aggregated data.JOIN: This is how you combine data from multiple tables. The most common type is INNER JOIN.SELECT s.order_id, p.product_name FROM sales s JOIN products p ON s.product_id = p.product_id;The diagram above illustrates how a JOIN connects records from two tables based on a common key.SQL and Python: The Colab WorkflowGoogle Colab comes with the sqlite3 library pre-installed, making it the perfect sandbox for practicing SQL with Python. We will create a simple, file-based database in Colab's temporary storage, allowing you to run everything in a single notebook cell. We will also use the popular pandas library, which has excellent support for SQL.Let's walk through a complete example. You can copy and paste the code below directly into a Colab cell.#\n",
    "\n",
    "Step 1: Import necessary libraries"
   ]
  },
  {
   "cell_type": "code",
   "execution_count": null,
   "metadata": {
    "id": "YUkjK0l7keD3"
   },
   "outputs": [],
   "source": [
    "import sqlite3\n",
    "import pandas as pd\n",
    "\n",
    "# Step 2: Connect to a SQLite database.\n",
    "# The database file 'sales_data.db' will be created in the Colab environment.\n",
    "conn = sqlite3.connect('sales_data.db')\n",
    "cursor = conn.cursor()\n",
    "\n",
    "# Step 3: Create tables and insert data using SQL queries\n",
    "# We'll create two tables: 'sales' and 'products'\n",
    "print(\"Creating and populating tables...\")\n",
    "\n",
    "# Create the sales table\n",
    "cursor.execute('''\n",
    "CREATE TABLE IF NOT EXISTS sales (\n",
    "    order_id INTEGER PRIMARY KEY,\n",
    "    customer_id INTEGER,\n",
    "    product_id INTEGER,\n",
    "    sale_date TEXT,\n",
    "    amount REAL\n",
    ");\n",
    "''')\n",
    "\n",
    "# Create the products table\n",
    "cursor.execute('''\n",
    "CREATE TABLE IF NOT EXISTS products (\n",
    "    product_id INTEGER PRIMARY KEY,\n",
    "    product_name TEXT\n",
    ");\n",
    "''')\n",
    "\n",
    "# Insert data into the sales table\n",
    "sales_data = [\n",
    "    (1, 101, 1, '2023-01-01', 150.00),\n",
    "    (2, 102, 2, '2023-01-02', 200.50),\n",
    "    (3, 101, 3, '2023-01-03', 75.25),\n",
    "    (4, 103, 1, '2023-01-04', 150.00),\n",
    "    (5, 102, 2, '2023-01-05', 200.50)\n",
    "]\n",
    "cursor.executemany(\"INSERT OR IGNORE INTO sales VALUES (?, ?, ?, ?, ?)\", sales_data)\n",
    "\n",
    "# Insert data into the products table\n",
    "products_data = [\n",
    "    (1, 'Laptop'),\n",
    "    (2, 'Monitor'),\n",
    "    (3, 'Mouse')\n",
    "]\n",
    "cursor.executemany(\"INSERT OR IGNORE INTO products VALUES (?, ?)\", products_data)\n",
    "\n",
    "# Commit the changes to the database\n",
    "conn.commit()\n",
    "print(\"Database populated successfully!\")\n",
    "\n",
    "# Step 4: Execute SQL queries and fetch results\n",
    "# Query 1: Find all sales with an amount greater than $150\n",
    "query_1 = \"SELECT * FROM sales WHERE amount > 150;\"\n",
    "cursor.execute(query_1)\n",
    "results_1 = cursor.fetchall()\n",
    "\n",
    "print(\"\\n--- Sales with Amount > $150 ---\")\n",
    "for row in results_1:\n",
    "    print(row)\n",
    "\n",
    "# Step 5: Integrating SQL with Pandas\n",
    "# This is a key data science workflow in Colab.\n",
    "# We'll run a JOIN query and load the results directly into a DataFrame.\n",
    "\n",
    "# Query 2: Get a list of all sales with product names\n",
    "query_2 = \"\"\"\n",
    "SELECT\n",
    "    s.order_id,\n",
    "    s.sale_date,\n",
    "    s.amount,\n",
    "    p.product_name\n",
    "FROM\n",
    "    sales AS s\n",
    "JOIN\n",
    "    products AS p\n",
    "ON\n",
    "    s.product_id = p.product_id;\n",
    "\"\"\"\n",
    "\n",
    "print(\"\\n--- Sales data loaded into a Pandas DataFrame ---\")\n",
    "df_sales = pd.read_sql_query(query_2, conn)\n",
    "print(df_sales)\n",
    "\n",
    "# Query 3: Find the total sales per customer using GROUP BY\n",
    "query_3 = \"\"\"\n",
    "SELECT\n",
    "    customer_id,\n",
    "    SUM(amount) AS total_amount\n",
    "FROM\n",
    "    sales\n",
    "GROUP BY\n",
    "    customer_id\n",
    "ORDER BY\n",
    "    total_amount DESC;\n",
    "\"\"\"\n",
    "\n",
    "print(\"\\n--- Total sales per customer ---\")\n",
    "df_summary = pd.read_sql_query(query_3, conn)\n",
    "print(df_summary)\n",
    "\n",
    "# Step 6: Close the database connection\n",
    "conn.close()\n",
    "print(\"\\nConnection to database closed.\")"
   ]
  },
  {
   "cell_type": "code",
   "execution_count": null,
   "metadata": {},
   "outputs": [],
   "source": []
  },
  {
   "cell_type": "markdown",
   "metadata": {
    "id": "V0P5_H60kiZL"
   },
   "source": [
    "Next Steps: Beyond the BasicsThis chapter provides a solid foundation. In a production environment, you would typically connect to a more robust database like PostgreSQL, MySQL, or a cloud-based service like BigQuery. The syntax remains largely the same, but you would use a different Python library, such as psycopg2 for PostgreSQL. The workflow of connecting, querying, and loading into Pandas remains consistent.Remember to experiment with different queries and clauses. The best way to learn is by doing!\n",
    "\n",
    "## Knowledge Check\n",
    "\n",
    "<iframe src=\"https://docs.google.com/forms/d/e/1FAIpQLSduyV-41gyQSCvhPZVweI7VZjrayWSMa2OFB-ra-BsTnRPgeQ/viewform?embedded=true\" width=\"100%\" height=\"800px\" frameborder=\"0\" style=\"min-height: 800px; height: 100vh\">Loading…</iframe>\n",
    "\n"
   ]
  },
  {
   "cell_type": "markdown",
   "metadata": {
    "id": "14rVQvIjkhc9"
   },
   "source": [
    "<iframe src=\"https://docs.google.com/forms/d/e/1FAIpQLSduyV-41gyQSCvhPZVweI7VZjrayWSMa2OFB-ra-BsTnRPgeQ/viewform?embedded=true\" width=\"100%\" height=\"800px\" frameborder=\"0\" style=\"min-height: 800px; height: 100vh\">Loading…</iframe>"
   ]
  }
 ],
 "metadata": {
  "colab": {
   "authorship_tag": "ABX9TyOvvlN7usB/Hzrwi34GC3Gs",
   "provenance": []
  },
  "kernelspec": {
   "display_name": "Python 3",
   "name": "python3"
  },
  "language_info": {
   "name": "python"
  }
 },
 "nbformat": 4,
 "nbformat_minor": 0
}
