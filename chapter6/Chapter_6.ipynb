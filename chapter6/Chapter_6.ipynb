{
  "nbformat": 4,
  "nbformat_minor": 0,
  "metadata": {
    "colab": {
      "provenance": [],
      "toc_visible": true
    },
    "kernelspec": {
      "name": "python3",
      "display_name": "Python 3"
    },
    "language_info": {
      "name": "python"
    }
  },
  "cells": [
    {
      "cell_type": "markdown",
      "source": [
        "# Chapter 6: Mastering SQL for Data Science with Python\n",
        "The chapter introduces Structured Query Language (SQL), a powerful and essential tool for data professionals. SQL is the standard language used to communicate with and manage relational databases. This chapter focuses on its application in data science, demonstrating how to use SQL for data retrieval, manipulation, and analysis. It also covers the integration of SQL with Python, a crucial skill for any data scientist.\n",
        "\n",
        "\n",
        "\n"
      ],
      "metadata": {
        "id": "9Z9QAbqHkMgD"
      }
    },
    {
      "cell_type": "markdown",
      "source": [
        "## Introduction to SQL for Data Science\n",
        "\n",
        "Data has become the foundation of decision-making in modern organizations. From social media platforms storing billions of user interactions to hospitals managing electronic health records, most of this information is stored in **databases**. Among different types of databases, **relational databases** are the most widely used.\n",
        "\n",
        "Relational databases organize data into tables, which consist of **rows (records)** and **columns (attributes)**. This design reflects the way data naturally relates to entities in the real world. For example:\n",
        "\n",
        "*A retail store has customers (with IDs, names, and ages).\n",
        "* Each customer places orders (with product details, dates, and amounts).\n",
        "* The relationship between customers and orders can be represented through keys.\n",
        "\n",
        "To interact with these databases, we use a language called **Structured Query Language (SQL)**.\n",
        "\n"
      ],
      "metadata": {
        "id": "9B19H1Bgk_iQ"
      }
    },
    {
      "cell_type": "markdown",
      "source": [
        "### Structured Query Language (SQL).\n",
        "\n",
        "SQL provides a standardized way to create, read, update, and delete data (commonly referred to as CRUD operations). Unlike programming languages such as Python or Java, SQL is declarative: you specify what you want, and the database figures out how to get it.\n",
        "\n",
        "This makes it highly efficient for managing large datasets. For data science, SQL is invaluable for:\n",
        "\n",
        "* **Data Retrieval:** Extracting specific subsets of data from large databases.\n",
        "\n",
        "* **Data Cleaning and Transformation:**  Handling missing values, standardizing formats, and creating new features.\n",
        "\n",
        "* **Exploratory Data Analysis (EDA):**  Performing quick summaries, aggregations, and data profiling.\n",
        "\n",
        "* **Feature Engineering:**  Creating new variables from existing ones before feeding them into machine learning models.\n",
        "\n",
        "\n"
      ],
      "metadata": {
        "id": "dDzs1oLge3Go"
      }
    },
    {
      "cell_type": "markdown",
      "source": [
        "# The Evolution of Databases and SQL\n",
        "\n",
        "* **Early data management:** Before databases, organizations stored information in files. This approach led to redundancy, inconsistency, and inefficiency.\n",
        "\n",
        "* **Birth of the relational model:** In 1970, Edgar F. Codd introduced the relational model, a mathematical foundation for organizing data in tables with well-defined relationships.\n",
        "\n",
        "* **Development of SQL:** By the late 1970s, IBM developed SEQUEL (Structured English Query Language), which evolved into SQL. It became the ANSI standard in 1986.\n",
        "\n",
        "* **SQL today:** Almost every relational database system (MySQL, PostgreSQL, Oracle, SQL Server, SQLite) supports SQL, with minor dialect differences.\n",
        "\n",
        "* **Takeaway:** SQL is not just a programming tool—it is the backbone of modern data storage and analytics."
      ],
      "metadata": {
        "id": "LAq9HQzNfLdo"
      }
    },
    {
      "cell_type": "markdown",
      "source": [
        "# Relational Databases: Core Concepts\n",
        "Relational databases are the backbone of structured data storage. They organize information in a way that ensures consistency, integrity, and efficient retrieval. The fundamental ideas of tables, keys, and relationships help us understand how real-world data is modeled.\n",
        "\n",
        "### Tables, Rows, and Columns\n",
        "\n",
        "A table is like a spreadsheet.\n",
        "\n",
        "* **Rows (records/tuples):** Each row corresponds to a single entity or instance of data. For example, one row might represent a single customer.\n",
        "\n",
        "* **Columns (fields/attributes):** Each column stores one specific type of information about the entity, such as name, age, or gender.\n",
        "\n",
        "* **Schema:** The structure of the table, which defines what columns exist and their data types (e.g., integer, string, date).\n",
        "\n",
        "**Example:**\n",
        "A Customers table may contain columns such as Customer_ID, Name, Age, Gender, and Email. Each row represents one customer.\n",
        "\n",
        "### Keys\n",
        "\n",
        "Keys in Relational Databases are crucial for ensuring that data remains **unique** and **consistent** across tables.\n",
        "\n",
        "\n",
        "## 1. Primary Key (PK)\n",
        "The primary key uniquely identifies each row. It contain UNIQUE values in column, and does not allows  NULL values.\n",
        "\n",
        "\n",
        "<center>\n",
        "<img src=\"https://powerbidocs.com/wp-content/uploads/2019/12/PrimaryKey.png\" alt=\"SQL Candidate key\" width=\"100\">\n",
        "</center>\n",
        "Here, Empid is a Primary Key.\n",
        "Example:\n",
        "**Customers Table**\n",
        "\n",
        "| Customer_ID | Name     | Age | Gender |\n",
        "|-------------|----------|-----|--------|\n",
        "| 101         | Alice    | 25  | F      |\n",
        "| 102         | Bob      | 30  | M      |\n",
        "| 103         | Charlie  | 28  | M      |\n",
        "\n",
        "- **Primary Key:** `Customer_ID`\n",
        "- Ensures each customer is uniquely identifiable.\n",
        "\n",
        "---\n",
        "\n",
        "## 2. Foreign Key (FK)\n",
        "A foreign key links one table to another. It creates a relationship between two or more tables, a primary key of one table is referred as a foreign key in another table. It can also accept multiple null values and duplicate values.\n",
        "\n",
        "\n",
        "<center>\n",
        "<img src=\"https://powerbidocs.com/wp-content/uploads/2019/12/Foreign-Key.png\" alt=\"SQL Candidate key\" width=\"600\">\n",
        "</center>\n",
        "\n",
        "\n",
        "**Orders Table**\n",
        "\n",
        "| Order_ID | Customer_ID | Product   | Quantity |\n",
        "|----------|-------------|-----------|----------|\n",
        "| 5001     | 101         | Laptop    | 1        |\n",
        "| 5002     | 102         | Keyboard  | 2        |\n",
        "| 5003     | 101         | Mouse     | 1        |\n",
        "\n",
        "- `Customer_ID` here is a **foreign key** connecting each order to the **Customers** table.\n",
        "- Prevents creating an order for a non-existent customer.\n",
        "\n",
        "\n",
        "---\n",
        "\n",
        "## 3. Composite Key\n",
        "Sometimes, no single column uniquely identifies a row. Composite Key is a combination of more than one columns of a table. It can be a Candidate key and Primary key.\n",
        "\n",
        "\n",
        "\n",
        "<center>\n",
        "<img src=\"https://www.devx.com/wp-content/uploads/composite-key-in-dbms.png\" alt=\"SQL Candidate key\" width=\"600\">\n",
        "</center>\n",
        "\n",
        "**Enrollments Table**\n",
        "\n",
        "| Student_ID | Course_ID | Grade |\n",
        "|------------|-----------|-------|\n",
        "| S001       | CSE101    | A     |\n",
        "| S001       | MTH201    | B+    |\n",
        "| S002       | CSE101    | A-    |\n",
        "| S002       | PHY110    | B     |\n",
        "\n",
        "- Neither `Student_ID` nor `Course_ID` alone is unique.\n",
        "- Together `(Student_ID, Course_ID)` form a **composite key**.\n",
        "- Ensures a student cannot enroll in the same course twice.\n",
        "\n",
        "---\n",
        "\n",
        "## 4. Candidate Key\n",
        "A candidate key is any column (or set of columns) that could serve as a primary key. Candidate Key(s) an identify a record uniquely in a table and which can be selected as a primary key of the table.\n",
        "\n",
        "It contains UNIQUE values in column, and does not allows  NULL values.\n",
        "\n",
        "<center>\n",
        "<img src=\"https://powerbidocs.com/wp-content/uploads/2019/12/Candidate-Keys.png\" alt=\"SQL Candidate key\" width=\"500\">\n",
        "</center>\n",
        "\n",
        "Here, Empid, EmpLicence and EmpPassport are candidate keys.\n",
        "\n",
        "Example:\n",
        "**Employees Table**\n",
        "\n",
        "| Employee_ID | Email               | SSN        | Name   |\n",
        "|-------------|--------------------|------------|--------|\n",
        "| E001        | alice@company.com   | 123-45-6789| Alice  |\n",
        "| E002        | bob@company.com     | 987-65-4321| Bob    |\n",
        "| E003        | charlie@company.com | 111-22-3333| Charlie|\n",
        "\n",
        "- Possible unique identifiers:\n",
        "  - `Employee_ID`\n",
        "  - `Email`\n",
        "  - `SSN`\n",
        "- Each is a **candidate key**.\n",
        "- One (e.g., `Employee_ID`) is chosen as the **primary key**.\n",
        "\n",
        "Remember, Each table can have only **one Primary** key and **multiple Candidate** keys\n",
        "\n"
      ],
      "metadata": {
        "id": "vEDlzTyofgDV"
      }
    },
    {
      "cell_type": "markdown",
      "source": [
        "# PK-FK Relationships\n",
        "\n",
        "Relational databases use **primary keys (PK)** and **foreign keys (FK)** to maintain data integrity and model relationships.\n",
        "\n",
        "---\n",
        "\n",
        "## Types of Relationships\n",
        "\n",
        "* **One-to-One (1:1):** Each person has one passport; each passport belongs to one person.\n",
        "\n",
        "<center>\n",
        "<img src=\"https://afteracademy.com/images/what-are-the-different-types-of-relationships-in-dbms-one-to-one-relationship-example-e89f4cf71cbaee76.jpg\" alt=\"SQL Candidate key\" width=\"600\">\n",
        "</center>\n",
        "\n",
        "* **One-to-Many (1:N):** A customer can have many orders; each order belongs to one customer.\n",
        "\n",
        "<center>\n",
        "<img src=\"https://afteracademy.com/images/what-are-the-different-types-of-relationships-in-dbms-one-to-many-relationship-example-0d5c065e28b4f23a.jpg\" alt=\"SQL Candidate key\" width=\"600\">\n",
        "</center>\n",
        "In this figure, a customer can have many accounts; each account belongs to one customer.\n",
        "\n",
        "* **Many-to-Many (M:N):** Students enroll in many courses; courses have many students.\n",
        "\n",
        "\n",
        "<center>\n",
        "<img src=\"https://afteracademy.com/images/what-are-the-different-types-of-relationships-in-dbms-many-to-many-relationship-example-bd4be3b525b7bdcd.jpg\" alt=\"SQL Candidate key\" width=\"600\">\n",
        "</center>\n",
        "\n",
        "In this figure, each customer can buy more than one product and a product can be bought by many different customers.\n",
        "\n",
        "---\n",
        "\n",
        "## Customers Table\n",
        "\n",
        "| Customer_ID (PK) | Name     | Age | Gender |\n",
        "|-----------------|----------|-----|--------|\n",
        "| 101             | Alice    | 25  | F      |\n",
        "| 102             | Bob      | 30  | M      |\n",
        "| 103             | Charlie  | 28  | M      |\n",
        "\n",
        "---\n",
        "\n",
        "## Orders Table\n",
        "\n",
        "| Order_ID (PK) | Customer_ID (FK) | Product_ID (FK) | Quantity |\n",
        "|---------------|-----------------|----------------|----------|\n",
        "| 5001          | 101             | P100           | 1        |\n",
        "| 5002          | 102             | P101           | 2        |\n",
        "| 5003          | 101             | P102           | 1        |\n",
        "\n",
        "- `Customer_ID` is a **foreign key** referencing `Customers.Customer_ID`.\n",
        "- `Product_ID` is a **foreign key** referencing `Products.Product_ID`.\n",
        "\n",
        "---\n",
        "\n",
        "## Products Table\n",
        "\n",
        "| Product_ID (PK) | Product_Name | Price |\n",
        "|-----------------|--------------|-------|\n",
        "| P100            | Laptop       | 1000  |\n",
        "| P101            | Keyboard     | 50    |\n",
        "| P102            | Mouse        | 30    |\n",
        "\n",
        "---\n",
        "\n",
        "## Passports Table (One-to-One Example)\n",
        "\n",
        "| Passport_ID (PK) | Customer_ID (FK) | Expiration_Date |\n",
        "|-----------------|-----------------|----------------|\n",
        "| P001            | 101             | 2030-12-31     |\n",
        "| P002            | 102             | 2031-06-30     |\n",
        "| P003            | 103             | 2030-09-15     |\n",
        "\n",
        "- `Customer_ID` is a **foreign key** referencing `Customers.Customer_ID`.\n",
        "- Each customer has exactly **one passport**.\n",
        "\n",
        "---\n",
        "\n",
        "## Enrollments Table (Many-to-Many Example)\n",
        "\n",
        "| Student_ID | Course_ID | Grade |\n",
        "|------------|-----------|-------|\n",
        "| S001       | CSE101    | A     |\n",
        "| S001       | MTH201    | B+    |\n",
        "| S002       | CSE101    | A-    |\n",
        "| S002       | PHY110    | B     |\n",
        "\n",
        "- Neither `Student_ID` nor `Course_ID` alone is unique.\n",
        "- The combination `(Student_ID, Course_ID)` forms a **composite key**.\n",
        "- Students can enroll in **many courses**, and courses can have **many students**.\n",
        "\n",
        "---\n",
        "\n",
        "## Relationships Overview\n",
        "\n",
        "| From Table  | To Table     | Type       | Notes |\n",
        "|------------|-------------|------------|-------|\n",
        "| Customers  | Orders      | 1:N        | One customer → many orders |\n",
        "| Products   | Orders      | 1:N        | One product → many orders |\n",
        "| Customers  | Passports   | 1:1        | One customer → one passport |\n",
        "| Students   | Courses     | M:N        | Implemented via Enrollments table |\n",
        "\n",
        "---\n",
        "\n",
        "## Key Points\n",
        "\n",
        "* **Primary Key (PK):** Unique identifier for each record. Cannot be NULL.\n",
        "* **Foreign Key (FK):** Links a table to another table’s primary key. Maintains referential integrity.\n",
        "* **Composite Key:** Combination of columns used when a single column is not unique.\n",
        "* **Candidate Key:** Any column or combination of columns that could serve as a primary key.\n",
        "* **Constraints:** Rules to maintain data validity (e.g., NOT NULL, UNIQUE, CHECK, FOREIGN KEY).\n",
        "\n",
        "---\n"
      ],
      "metadata": {
        "id": "4c38u9ou0Ak2"
      }
    },
    {
      "cell_type": "markdown",
      "source": [
        "## The Role of SQL in Data Science\n",
        "\n",
        "Think of SQL as your conversation partner with the data. It's a declarative language, which means you simply state your desired outcome, and the database handles the complex task of finding and organizing the data for you. This makes it incredibly efficient for handling massive datasets. A typical data science workflow using SQL might look like this:\n",
        "\n",
        "* **Data Extraction**: You use a SELECT query to pull a specific subset of data relevant to your project.\n",
        "\n",
        "* **Data Wrangling**: You perform initial cleaning, filtering (WHERE), and aggregation (GROUP BY) directly in the database.\n",
        "\n",
        "* **Analysis**: The prepared data is loaded into Python (often as a Pandas DataFrame) for more sophisticated analysis, modeling, and visualization.\n",
        "\n"
      ],
      "metadata": {
        "id": "16nOOT1IlNdT"
      }
    },
    {
      "cell_type": "markdown",
      "source": [
        "## Core SQL Commands: Your Essential Toolkit\n",
        "\n",
        "We have already learned that SQL is the standard language for managing and querying **relational databases**.  \n",
        "\n",
        "These core commands allow you to **create tables, insert data, retrieve information, update records, and maintain data integrity**.  \n",
        "\n",
        "Whether you are analyzing sales data, customer information, or product inventories, mastering these commands is essential for data-driven tasks.\n",
        "\n",
        "| Command        | Purpose                                           | Example                                                                                  |\n",
        "|----------------|---------------------------------------------------|------------------------------------------------------------------------------------------|\n",
        "| CREATE TABLE   | Create a new table in the database               | ```sql CREATE TABLE Customers (CustomerID INT PRIMARY KEY AUTO_INCREMENT, Name VARCHAR(50), Email VARCHAR(100));``` |\n",
        "| INSERT INTO    | Adds new rows of data to a table                 | ```sql INSERT INTO Customers (CustomerID, Name, Email) VALUES (1, 'John Doe', 'john.doe@example.com');``` |\n",
        "| SELECT         | Retrieves data from one or more tables           | ```sql SELECT Name, Email FROM Customers;```                                             |\n",
        "| WHERE          | Filters records based on a condition            | ```sql SELECT Name, Email FROM Customers WHERE CustomerID = 1;```                        |\n",
        "| UPDATE         | Modifies existing data in a table               | ```sql UPDATE Customers SET Email = 'john.doe@newdomain.com' WHERE CustomerID = 1;```     |\n",
        "| DELETE         | Removes rows from a table                        | ```sql DELETE FROM Customers WHERE CustomerID = 1;```                                     |\n",
        "| DROP TABLE     | Deletes the entire table and all its data       | ```sql DROP TABLE Customers;```                                                          |\n",
        "\n",
        "**Notes:**  \n",
        "- `CustomerID` is the **primary key** and uses `AUTO_INCREMENT` to generate unique IDs automatically.  \n",
        "- Always use `WHERE` in `UPDATE` and `DELETE` to avoid modifying all rows by mistake.  \n",
        "- `DROP TABLE` permanently deletes the table and its data, so use with caution.\n",
        "\n",
        "---\n",
        "\n"
      ],
      "metadata": {
        "id": "CYeCus00k-g8"
      }
    },
    {
      "cell_type": "markdown",
      "source": [
        "# The “Big 6” Elements of a SQL Select Statement\n",
        "\n",
        "\n",
        "* **SELECT:** Specifies which columns you want to retrieve.  \n",
        "  * Example: `SELECT customer_id, amount FROM sales;`\n",
        "* **FROM:** Specifies the table you are querying.  \n",
        "* **WHERE:** Filters rows based on conditions.  \n",
        "  * Example: `SELECT * FROM sales WHERE amount > 100 AND sale_date >= '2023-01-01';`  \n",
        "  * Example: `SELECT product_id, amount FROM sales ORDER BY amount DESC;`\n",
        "* **GROUP BY:** Aggregates rows with the same values into summary rows. Useful for metrics like total sales per customer.  \n",
        "* **HAVING:** Filters results of a `GROUP BY` clause, similar to `WHERE` but for aggregated data.  \n",
        "* **ORDER BY:** Sorts the result set. Use `DESC` for descending and `ASC` for ascending.\n",
        "* ** LIMIT:**\n",
        "\n",
        "\n",
        "\n",
        "<!-- * **JOIN:** Combines data from multiple tables.  \n",
        "  * Example (INNER JOIN): `SELECT s.order_id, p.product_name FROM sales s JOIN products p ON s.product_id = p.product_id;` -->"
      ],
      "metadata": {
        "id": "U-uLKOT2775_"
      }
    },
    {
      "cell_type": "markdown",
      "source": [
        "# The “Big 6” Elements of a SQL SELECT Statement\n",
        "\n",
        "When querying data in SQL, the `SELECT` statement is the foundation. It allows you to **specify what data to retrieve, from where, and how to organize it**. The six key elements (plus `LIMIT`) are essential to writing powerful queries.\n",
        "\n",
        "\n",
        "<center>\n",
        "<img src=\"https://sqlmct.com/wp-content/uploads/2020/02/SELECTprocessing.png\" alt=\"SQL Candidate key\" width=\"600\">\n",
        "</center>\n",
        "\n",
        "Remember that, although these six key elements (SELECT, FROM, WHERE, GROUP BY, HAVING, ORDER BY) plus `LIMIT` are essential to writing powerful queries; however, **WHERE, GROUP BY, HAVING, ORDER BY, and LIMIT are optional**  depending on the query’s purpose.\n",
        "\n",
        "\n"
      ],
      "metadata": {
        "id": "X91HaCdE8ZNz"
      }
    },
    {
      "cell_type": "markdown",
      "source": [
        "Example: Let’s create the Customers, Products, and Orders tables and insert sample data into each."
      ],
      "metadata": {
        "id": "yJAa4UnnFwp0"
      }
    },
    {
      "cell_type": "code",
      "source": [
        "# Step 1: Import libraries\n",
        "import sqlite3\n",
        "import pandas as pd\n",
        "\n",
        "# Step 2: Connect to SQLite database\n",
        "conn = sqlite3.connect('shop_data.db')\n",
        "cursor = conn.cursor()\n",
        "\n",
        "# Step 3: Create tables\n",
        "cursor.execute('''\n",
        "CREATE TABLE IF NOT EXISTS Customers (\n",
        "    CustomerID INTEGER PRIMARY KEY,\n",
        "    Name TEXT,\n",
        "    Age INTEGER,\n",
        "    Gender TEXT\n",
        ");\n",
        "''')\n",
        "\n",
        "cursor.execute('''\n",
        "CREATE TABLE IF NOT EXISTS Products (\n",
        "    ProductID INTEGER PRIMARY KEY,\n",
        "    Product_Name TEXT,\n",
        "    Price REAL\n",
        ");\n",
        "''')\n",
        "\n",
        "cursor.execute('''\n",
        "CREATE TABLE IF NOT EXISTS Orders (\n",
        "    OrderID INTEGER PRIMARY KEY,\n",
        "    CustomerID INTEGER,\n",
        "    ProductID INTEGER,\n",
        "    Quantity INTEGER,\n",
        "    FOREIGN KEY(CustomerID) REFERENCES Customers(CustomerID),\n",
        "    FOREIGN KEY(ProductID) REFERENCES Products(ProductID)\n",
        ");\n",
        "''')\n",
        "cursor.execute('''\n",
        "CREATE TABLE IF NOT EXISTS sales (\n",
        "    order_id INTEGER PRIMARY KEY,\n",
        "    customer_id INTEGER,\n",
        "    sale_date TEXT,\n",
        "    product_id INTEGER,\n",
        "    amount REAL\n",
        ");\n",
        "''')\n",
        "\n",
        "\n",
        "\n",
        "# Step 4: Insert sample data\n",
        "\n",
        "sales_data = [\n",
        "    (1, 101, '2023-01-01', 1, 150.00),\n",
        "    (2, 102, '2023-01-02', 2, 200.50),\n",
        "    (3, 101, '2023-01-03', 3, 75.25),\n",
        "    (4, 103, '2023-01-04', 1, 150.00),\n",
        "    (5, 102, '2023-01-05', 2, 200.50)\n",
        "]\n",
        "\n",
        "cursor.executemany(\"INSERT OR IGNORE INTO sales VALUES (?, ?, ?, ?, ?)\", sales_data)\n",
        "\n",
        "\n",
        "customers_data = [\n",
        "    (101, 'Alice', 25, 'F'),\n",
        "    (102, 'Bob', 30, 'M'),\n",
        "    (103, 'Charlie', 28, 'M'),\n",
        "    (104, 'Diana', 22, 'F')\n",
        "]\n",
        "cursor.executemany(\"INSERT OR IGNORE INTO Customers VALUES (?, ?, ?, ?)\", customers_data)\n",
        "\n",
        "products_data = [\n",
        "    (1, 'Laptop', 1000),\n",
        "    (2, 'Monitor', 200),\n",
        "    (3, 'Mouse', 30)\n",
        "]\n",
        "cursor.executemany(\"INSERT OR IGNORE INTO Products VALUES (?, ?, ?)\", products_data)\n",
        "\n",
        "orders_data = [\n",
        "    (5001, 101, 1, 1),\n",
        "    (5002, 102, 2, 2),\n",
        "    (5003, 101, 3, 1),\n",
        "    (5004, 103, 1, 1),\n",
        "    (5005, 104, 2, 1)\n",
        "]\n",
        "cursor.executemany(\"INSERT OR IGNORE INTO Orders VALUES (?, ?, ?, ?)\", orders_data)\n",
        "\n",
        "conn.commit()\n",
        "print(\"Tables created and sample data inserted successfully!\")"
      ],
      "metadata": {
        "colab": {
          "base_uri": "https://localhost:8080/"
        },
        "id": "MXov0-ljF23K",
        "outputId": "745882ca-fac2-4032-8b6e-4eb899b37de3"
      },
      "execution_count": null,
      "outputs": [
        {
          "output_type": "stream",
          "name": "stdout",
          "text": [
            "Tables created and sample data inserted successfully!\n"
          ]
        }
      ]
    },
    {
      "cell_type": "markdown",
      "source": [
        "---\n",
        "\n",
        "## 1. SELECT\n",
        "Specifies which **columns** you want to retrieve from a table.\n",
        "*Example:*  \n",
        "```sql\n",
        "SELECT customer_id, amount\n",
        "FROM sales;"
      ],
      "metadata": {
        "id": "oz7EZdokF52e"
      }
    },
    {
      "cell_type": "code",
      "source": [
        "query_select = \"SELECT * FROM sales;\"\n",
        "df_select = pd.read_sql_query(query_select, conn)\n",
        "print(df_select)"
      ],
      "metadata": {
        "colab": {
          "base_uri": "https://localhost:8080/"
        },
        "id": "j_DinD5AM7Nu",
        "outputId": "5a077429-3851-4036-f5ff-00c3a1f1c340"
      },
      "execution_count": null,
      "outputs": [
        {
          "output_type": "stream",
          "name": "stdout",
          "text": [
            "   order_id  customer_id   sale_date  product_id  amount\n",
            "0         1          101  2023-01-01           1  150.00\n",
            "1         2          102  2023-01-02           2  200.50\n",
            "2         3          101  2023-01-03           3   75.25\n",
            "3         4          103  2023-01-04           1  150.00\n",
            "4         5          102  2023-01-05           2  200.50\n"
          ]
        }
      ]
    },
    {
      "cell_type": "markdown",
      "source": [
        "## 2. FROM\n",
        "Specifies the table(s) you are querying.\n",
        "\n",
        "```sql\n",
        "SELECT customer_id, amount\n",
        "FROM sales;"
      ],
      "metadata": {
        "id": "5V_VNFb9853o"
      }
    },
    {
      "cell_type": "code",
      "source": [
        "query_select = \"SELECT customer_id, amount FROM sales;\"\n",
        "df_select = pd.read_sql_query(query_select, conn)\n",
        "print(df_select)"
      ],
      "metadata": {
        "colab": {
          "base_uri": "https://localhost:8080/"
        },
        "id": "5XhJqt7YGHPh",
        "outputId": "fca800d3-dba7-43fd-8705-efd1500922d7"
      },
      "execution_count": null,
      "outputs": [
        {
          "output_type": "stream",
          "name": "stdout",
          "text": [
            "   customer_id  amount\n",
            "0          101  150.00\n",
            "1          102  200.50\n",
            "2          101   75.25\n",
            "3          103  150.00\n",
            "4          102  200.50\n"
          ]
        }
      ]
    },
    {
      "cell_type": "markdown",
      "source": [
        "## 3. WHERE\n",
        "Filters rows based on conditions. Only rows that satisfy the condition are returned.\n",
        "\n",
        "```sql\n",
        "SELECT *\n",
        "FROM sales\n",
        "WHERE amount > 100 AND sale_date >= '2023-01-01';\n"
      ],
      "metadata": {
        "id": "qgGo_fKI8_Oy"
      }
    },
    {
      "cell_type": "code",
      "source": [
        "query_select = \"SELECT * FROM sales WHERE amount > 100 AND sale_date >= '2023-01-01'\"\n",
        "df_select = pd.read_sql_query(query_select, conn)\n",
        "print(df_select)"
      ],
      "metadata": {
        "colab": {
          "base_uri": "https://localhost:8080/"
        },
        "id": "QjCuKGlIMCUJ",
        "outputId": "33e7c38a-71c5-469c-bf86-bc67d7371d59"
      },
      "execution_count": null,
      "outputs": [
        {
          "output_type": "stream",
          "name": "stdout",
          "text": [
            "   order_id  customer_id   sale_date  product_id  amount\n",
            "0         1          101  2023-01-01           1   150.0\n",
            "1         2          102  2023-01-02           2   200.5\n",
            "2         4          103  2023-01-04           1   150.0\n",
            "3         5          102  2023-01-05           2   200.5\n"
          ]
        }
      ]
    },
    {
      "cell_type": "markdown",
      "source": [
        "## 4. GROUPBY\n",
        "Aggregates rows with the same values into summary rows, such as totals, averages, or counts.\n",
        "\n",
        "```sql\n",
        "SELECT customer_id, SUM(amount) AS total_sales\n",
        "FROM sales\n",
        "GROUP BY customer_id;\n"
      ],
      "metadata": {
        "id": "veG--sUs9GiX"
      }
    },
    {
      "cell_type": "code",
      "source": [
        "query_select = \"\"\"\n",
        "SELECT customer_id, SUM(amount) AS total_sales\n",
        "FROM sales\n",
        "GROUP BY customer_id;\n",
        "\"\"\"\n",
        "df_select = pd.read_sql_query(query_select, conn)\n",
        "print(df_select)\n"
      ],
      "metadata": {
        "colab": {
          "base_uri": "https://localhost:8080/"
        },
        "id": "2ujqDajwMEjB",
        "outputId": "e1126ba2-e093-4c05-903b-98c58d2dc785"
      },
      "execution_count": null,
      "outputs": [
        {
          "output_type": "stream",
          "name": "stdout",
          "text": [
            "   customer_id  total_sales\n",
            "0          101       225.25\n",
            "1          102       401.00\n",
            "2          103       150.00\n"
          ]
        }
      ]
    },
    {
      "cell_type": "markdown",
      "source": [
        "## 5. HAVING\n",
        "Filters results after aggregation. Similar to WHERE, but operates on aggregated data.\n",
        "\n",
        "Remember, while `WHERE` filters **raw rows before aggregation**, `HAVING` filters **groups created by `GROUP BY`**.  \n",
        "\n",
        "**Connection to GROUP BY:**  \n",
        "- `GROUP BY` creates aggregated groups (e.g., total sales per customer).  \n",
        "- `HAVING` applies conditions on these aggregated values. Without `GROUP BY`, `HAVING` can still work on aggregate functions applied to the entire table.  \n",
        "\n",
        "\n",
        "```sql\n",
        "SELECT customer_id, SUM(amount) AS total_sales\n",
        "FROM sales\n",
        "GROUP BY customer_id\n",
        "HAVING SUM(amount) > 100;\n"
      ],
      "metadata": {
        "id": "saazlmyZ9MS7"
      }
    },
    {
      "cell_type": "code",
      "source": [
        "query_select = \"\"\"\n",
        "SELECT customer_id, SUM(amount) AS total_sales\n",
        "FROM sales\n",
        "GROUP BY customer_id\n",
        "HAVING SUM(amount) > 100;\n",
        "\"\"\"\n",
        "df_select = pd.read_sql_query(query_select, conn)\n",
        "print(df_select)"
      ],
      "metadata": {
        "colab": {
          "base_uri": "https://localhost:8080/"
        },
        "id": "jmPU_aCLMdGC",
        "outputId": "1a880222-f5c6-4a6f-f9a3-51eefe3d163a"
      },
      "execution_count": null,
      "outputs": [
        {
          "output_type": "stream",
          "name": "stdout",
          "text": [
            "   customer_id  total_sales\n",
            "0          101       225.25\n",
            "1          102       401.00\n",
            "2          103       150.00\n"
          ]
        }
      ]
    },
    {
      "cell_type": "markdown",
      "source": [
        "## 6. ORDERBY\n",
        "Sorts the result set by one or more columns.\n",
        "\n",
        "```sql\n",
        "SELECT product_id, amount\n",
        "FROM sales\n",
        "ORDER BY amount DESC; -- DESC for descending, ASC for ascending\n"
      ],
      "metadata": {
        "id": "BNFSO6S-9Rds"
      }
    },
    {
      "cell_type": "code",
      "source": [
        "query_select = \"\"\"\n",
        "SELECT product_id, amount\n",
        "FROM sales\n",
        "ORDER BY amount DESC;\n",
        "\"\"\"\n",
        "df_select = pd.read_sql_query(query_select, conn)\n",
        "print(df_select)"
      ],
      "metadata": {
        "colab": {
          "base_uri": "https://localhost:8080/"
        },
        "id": "NASsq9WzMmoD",
        "outputId": "8d960685-ab1c-4333-b0f0-370a273d73b3"
      },
      "execution_count": null,
      "outputs": [
        {
          "output_type": "stream",
          "name": "stdout",
          "text": [
            "   product_id  amount\n",
            "0           2  200.50\n",
            "1           2  200.50\n",
            "2           1  150.00\n",
            "3           1  150.00\n",
            "4           3   75.25\n"
          ]
        }
      ]
    },
    {
      "cell_type": "markdown",
      "source": [
        "## Some More SQL Essentials\n",
        "\n",
        "### DISTINCT\n",
        "Returns **unique values** from a column, removing duplicates.\n",
        "\n",
        "```sql\n",
        "-- Get unique customer IDs\n",
        "SELECT DISTINCT customer_id\n",
        "FROM sales;\n"
      ],
      "metadata": {
        "id": "s2rRDJa09XiG"
      }
    },
    {
      "cell_type": "code",
      "source": [
        "query_select = \"\"\"\n",
        "SELECT DISTINCT customer_id\n",
        "FROM sales;\n",
        "\"\"\"\n",
        "df_select = pd.read_sql_query(query_select, conn)\n",
        "print(df_select)"
      ],
      "metadata": {
        "colab": {
          "base_uri": "https://localhost:8080/"
        },
        "id": "BAUmOkQsMpmK",
        "outputId": "562d0d6f-2d1c-4b84-c414-fde88e22a168"
      },
      "execution_count": null,
      "outputs": [
        {
          "output_type": "stream",
          "name": "stdout",
          "text": [
            "   customer_id\n",
            "0          101\n",
            "1          102\n",
            "2          103\n"
          ]
        }
      ]
    },
    {
      "cell_type": "markdown",
      "source": [
        "### COUNT\n",
        "Counts the number of rows that satisfy a condition.\n",
        "\n",
        "```sql\n",
        "-- Count total sales\n",
        "SELECT COUNT(*) AS total_sales\n",
        "FROM sales;\n",
        "\n",
        "-- Count number of unique customers\n",
        "SELECT COUNT(DISTINCT customer_id) AS unique_customers\n",
        "FROM sales;"
      ],
      "metadata": {
        "id": "PW03aU2j-Lne"
      }
    },
    {
      "cell_type": "code",
      "source": [
        "query_select = \"\"\"\n",
        "SELECT COUNT(DISTINCT customer_id) AS unique_customers\n",
        "FROM sales;\n",
        "\"\"\"\n",
        "df_select = pd.read_sql_query(query_select, conn)\n",
        "print(df_select)"
      ],
      "metadata": {
        "colab": {
          "base_uri": "https://localhost:8080/"
        },
        "id": "mkn_GGE7MuCx",
        "outputId": "f4153fd8-9d91-490d-b592-082291462231"
      },
      "execution_count": null,
      "outputs": [
        {
          "output_type": "stream",
          "name": "stdout",
          "text": [
            "   unique_customers\n",
            "0                 3\n"
          ]
        }
      ]
    },
    {
      "cell_type": "markdown",
      "source": [
        "### LIMIT\n",
        "Restricts the number of rows returned, useful for sampling or previewing data.\n",
        "```sql\n",
        "-- Get the 10 most recent sales\n",
        "SELECT *\n",
        "FROM sales\n",
        "ORDER BY sale_date DESC\n",
        "LIMIT 10;\n",
        "\n",
        "```sql\n",
        "-- Count unique customers but only show the first 5 results\n",
        "SELECT customer_id, COUNT(*) AS num_sales\n",
        "FROM sales\n",
        "GROUP BY customer_id\n",
        "ORDER BY num_sales DESC\n",
        "LIMIT 5;"
      ],
      "metadata": {
        "id": "FlLXsk-y-Rq9"
      }
    },
    {
      "cell_type": "code",
      "source": [
        "query_select = \"\"\"\n",
        "SELECT customer_id, COUNT(*) AS num_sales\n",
        "FROM sales\n",
        "GROUP BY customer_id\n",
        "ORDER BY num_sales DESC\n",
        "LIMIT 5;\n",
        "\"\"\"\n",
        "df_select = pd.read_sql_query(query_select, conn)\n",
        "print(df_select)"
      ],
      "metadata": {
        "colab": {
          "base_uri": "https://localhost:8080/"
        },
        "id": "4f5TZeqYMxDj",
        "outputId": "39407df9-b780-4c48-fa43-3753e00592af"
      },
      "execution_count": null,
      "outputs": [
        {
          "output_type": "stream",
          "name": "stdout",
          "text": [
            "   customer_id  num_sales\n",
            "0          102          2\n",
            "1          101          2\n",
            "2          103          1\n"
          ]
        }
      ]
    },
    {
      "cell_type": "markdown",
      "source": [
        "**Aggregations and Filtering**\n",
        "   - Use aggregation functions like `SUM()`, `COUNT()`, `AVG()`, `MIN()`, `MAX()` to summarize data.  \n",
        "   - `GROUP BY` allows you to compute metrics per category (e.g., total sales per customer).  \n",
        "   - `HAVING` filters aggregated results (useful when you want to filter groups, unlike `WHERE` which filters raw rows).  \n",
        "\n",
        "```sql\n",
        "-- Find total sales per customer\n",
        "SELECT customer_id, SUM(amount) AS total_sales\n",
        "FROM sales\n",
        "GROUP BY customer_id;\n",
        "\n",
        "-- Find customers with total sales greater than 200\n",
        "SELECT customer_id, SUM(amount) AS total_sales\n",
        "FROM sales\n",
        "GROUP BY customer_id\n",
        "HAVING SUM(amount) > 200;"
      ],
      "metadata": {
        "id": "fdUEnIIUCFWI"
      }
    },
    {
      "cell_type": "code",
      "source": [
        "query_select = \"\"\"\n",
        "SELECT customer_id, SUM(amount) AS total_sales\n",
        "FROM sales\n",
        "GROUP BY customer_id\n",
        "HAVING SUM(amount) > 200;\n",
        "\"\"\"\n",
        "df_select = pd.read_sql_query(query_select, conn)\n",
        "print(df_select)"
      ],
      "metadata": {
        "colab": {
          "base_uri": "https://localhost:8080/"
        },
        "id": "zhgNCvCrM1gd",
        "outputId": "b7a6cc2b-bcea-43d6-de91-213bbac4cc78"
      },
      "execution_count": null,
      "outputs": [
        {
          "output_type": "stream",
          "name": "stdout",
          "text": [
            "   customer_id  total_sales\n",
            "0          101       225.25\n",
            "1          102       401.00\n"
          ]
        }
      ]
    },
    {
      "cell_type": "markdown",
      "source": [
        "# SQL JOINs: Combining Data from Multiple Tables\n",
        "\n",
        "In relational databases, data is often split across multiple tables. **JOINs** allow you to combine rows from two or more tables based on related columns (usually keys).\n",
        "\n",
        "---\n",
        "\n",
        "## 1. INNER JOIN\n",
        "Returns only the rows where there is a **match in both tables**.\n",
        "\n",
        "\n",
        "<center>\n",
        "<img src=\"https://www.pragimtech.com/blog/contribute/article_images/1220210728013442/sql-inner-join-example.jpg\" alt=\"SQL Candidate key\" width=\"600\">\n",
        "</center>\n",
        "\n",
        "```sql\n",
        "SELECT o.Order_ID, c.Name, p.Product_Name\n",
        "FROM Orders o\n",
        "INNER JOIN Customers c\n",
        "    ON o.Customer_ID = c.CustomerID\n",
        "INNER JOIN Products p\n",
        "    ON o.Product_ID = p.ProductID;\n"
      ],
      "metadata": {
        "id": "o1hQloh--oQp"
      }
    },
    {
      "cell_type": "markdown",
      "source": [
        "---\n",
        "\n",
        "## 2. LEFT JOIN (or LEFT OUTER JOIN)\n",
        "\n",
        "Returns **all rows from the left table**, and **matched rows from the right table**. If there is no match, the right table columns return NULL.\n",
        "\n",
        "<center>\n",
        "<img src=\"https://www.pragimtech.com/blog/contribute/article_images/1220210728013442/sql-left-join-example.jpg\" alt=\"SQL Candidate key\" width=\"600\">\n",
        "</center>\n",
        "\n",
        "```sql\n",
        "SELECT o.Order_ID, c.Name, p.Product_Name\n",
        "FROM Orders o\n",
        "INNER JOIN Customers c\n",
        "    ON o.Customer_ID = c.CustomerID\n",
        "INNER JOIN Products p\n",
        "    ON o.Product_ID = p.ProductID;"
      ],
      "metadata": {
        "id": "WNDgmq4--qzC"
      }
    },
    {
      "cell_type": "markdown",
      "source": [
        "Here:\n",
        "\n",
        "* All customers are shown, even if they haven’t placed any orders.\n",
        "\n",
        "* Orders columns for customers with no orders will be NULL."
      ],
      "metadata": {
        "id": "mhXcMa4U-2kC"
      }
    },
    {
      "cell_type": "markdown",
      "source": [
        "---\n",
        "\n",
        "## 3. RIGHT JOIN (or RIGHT OUTER JOIN)\n",
        "\n",
        "Returns all **rows from the right table, and matched rows from the left table**.\n",
        "If there is no match, the left table columns return NULL.\n",
        "\n",
        "<center>\n",
        "<img src=\"https://www.pragimtech.com/blog/contribute/article_images/1220210728013442/sql-right-join-example.jpg\" alt=\"SQL Candidate key\" width=\"600\">\n",
        "</center>\n",
        "\n",
        "```sql\n",
        "SELECT o.Order_ID, c.CustomerID, c.Name\n",
        "FROM Orders o\n",
        "RIGHT JOIN Customers c\n",
        "    ON o.Customer_ID = c.CustomerID;\n",
        "\n"
      ],
      "metadata": {
        "id": "rWzn-bbT-zeu"
      }
    },
    {
      "cell_type": "markdown",
      "source": [
        "Here, All customers appear, even if they have no orders (similar to LEFT JOIN but reversed table order)."
      ],
      "metadata": {
        "id": "XZCqdBsS_ItG"
      }
    },
    {
      "cell_type": "markdown",
      "source": [
        "---\n",
        "\n",
        "## 4. FULL OUTER JOIN\n",
        "\n",
        "Returns **all rows from both tables**, with NULL for missing matches on either side.\n",
        "\n",
        "<center>\n",
        "<img src=\"https://www.thedataschool.co.uk/content/images/2024/07/image-22.png\" alt=\"SQL Candidate key\" width=\"600\">\n",
        "</center>\n",
        "\n",
        "```sql\n",
        "SELECT c.CustomerID, c.Name, o.Order_ID\n",
        "FROM Customers c\n",
        "FULL OUTER JOIN Orders o\n",
        "    ON c.CustomerID = o.Customer_ID;\n",
        "\n",
        "\n"
      ],
      "metadata": {
        "id": "2_PDI8uD_Rg5"
      }
    },
    {
      "cell_type": "markdown",
      "source": [
        "Here, we combines the effect of LEFT and RIGHT JOIN. Customers without orders and orders without customers are included with NULL in the missing columns."
      ],
      "metadata": {
        "id": "-QMkBVgw_a9s"
      }
    },
    {
      "cell_type": "markdown",
      "source": [
        "Below is a full example of creating and manipulating a table in SQL.\n"
      ],
      "metadata": {
        "id": "YKZjzEsi6u5h"
      }
    },
    {
      "cell_type": "markdown",
      "source": [
        "###EXAMPLE:"
      ],
      "metadata": {
        "id": "wBUL0OuFKrcs"
      }
    },
    {
      "cell_type": "code",
      "source": [
        "# Step 1: Import necessary libraries\n",
        "import sqlite3\n",
        "import pandas as pd\n",
        "\n",
        "# Step 2: Connect to a SQLite database\n",
        "conn = sqlite3.connect('sales_data.db')\n",
        "cursor = conn.cursor()\n",
        "\n",
        "# Step 3: Create tables\n",
        "cursor.execute('''\n",
        "CREATE TABLE IF NOT EXISTS sales (\n",
        "    order_id INTEGER PRIMARY KEY,\n",
        "    customer_id INTEGER,\n",
        "    product_id INTEGER,\n",
        "    sale_date TEXT,\n",
        "    amount REAL\n",
        ");\n",
        "''')\n",
        "\n",
        "cursor.execute('''\n",
        "CREATE TABLE IF NOT EXISTS products (\n",
        "    product_id INTEGER PRIMARY KEY,\n",
        "    product_name TEXT\n",
        ");\n",
        "''')\n",
        "\n",
        "# Step 4: Insert data\n",
        "sales_data = [\n",
        "    (1, 101, 1, '2023-01-01', 150.00),\n",
        "    (2, 102, 2, '2023-01-02', 200.50),\n",
        "    (3, 101, 3, '2023-01-03', 75.25),\n",
        "    (4, 103, 1, '2023-01-04', 150.00),\n",
        "    (5, 102, 2, '2023-01-05', 200.50)\n",
        "]\n",
        "cursor.executemany(\"INSERT OR IGNORE INTO sales VALUES (?, ?, ?, ?, ?)\", sales_data)\n",
        "\n",
        "products_data = [\n",
        "    (1, 'Laptop'),\n",
        "    (2, 'Monitor'),\n",
        "    (3, 'Mouse')\n",
        "]\n",
        "cursor.executemany(\"INSERT OR IGNORE INTO products VALUES (?, ?)\", products_data)\n",
        "\n",
        "conn.commit()\n",
        "print(\"Database populated successfully!\")\n",
        "\n",
        "# Step 5: Simple SQL query\n",
        "query_1 = \"SELECT * FROM sales WHERE amount > 150;\"\n",
        "df_high_sales = pd.read_sql_query(query_1, conn)\n",
        "print(\"\\n--- Sales with Amount > $150 ---\")\n",
        "print(df_high_sales)\n",
        "\n",
        "# Step 6: JOIN query\n",
        "query_2 = \"\"\"\n",
        "SELECT s.order_id, s.sale_date, s.amount, p.product_name\n",
        "FROM sales AS s\n",
        "JOIN products AS p\n",
        "ON s.product_id = p.product_id;\n",
        "\"\"\"\n",
        "df_sales = pd.read_sql_query(query_2, conn)\n",
        "print(\"\\n--- Sales with Product Names ---\")\n",
        "print(df_sales)\n",
        "\n",
        "# Step 7: GROUP BY query\n",
        "query_3 = \"\"\"\n",
        "SELECT customer_id, SUM(amount) AS total_amount\n",
        "FROM sales\n",
        "GROUP BY customer_id\n",
        "ORDER BY total_amount DESC;\n",
        "\"\"\"\n",
        "df_summary = pd.read_sql_query(query_3, conn)\n",
        "print(\"\\n--- Total Sales per Customer ---\")\n",
        "print(df_summary)\n",
        "\n",
        "# Step 8: HAVING query (filter aggregated results)\n",
        "query_4 = \"\"\"\n",
        "SELECT customer_id, SUM(amount) AS total_amount\n",
        "FROM sales\n",
        "GROUP BY customer_id\n",
        "HAVING SUM(amount) > 200\n",
        "ORDER BY total_amount DESC;\n",
        "\"\"\"\n",
        "df_having = pd.read_sql_query(query_4, conn)\n",
        "print(\"\\n--- Customers with Total Sales > $200 ---\")\n",
        "print(df_having)\n",
        "\n",
        "# Step 9: Close connection\n",
        "conn.close()\n",
        "print(\"\\nConnection to database closed.\")\n"
      ],
      "metadata": {
        "colab": {
          "base_uri": "https://localhost:8080/"
        },
        "id": "U_c_gEEmBk6v",
        "outputId": "d6db4718-d84c-4cd3-9b56-4262ffa64dca"
      },
      "execution_count": null,
      "outputs": [
        {
          "output_type": "stream",
          "name": "stdout",
          "text": [
            "Database populated successfully!\n",
            "\n",
            "--- Sales with Amount > $150 ---\n",
            "   order_id  customer_id  product_id   sale_date  amount\n",
            "0         2          102           2  2023-01-02   200.5\n",
            "1         5          102           2  2023-01-05   200.5\n",
            "\n",
            "--- Sales with Product Names ---\n",
            "   order_id   sale_date  amount product_name\n",
            "0         1  2023-01-01  150.00       Laptop\n",
            "1         2  2023-01-02  200.50      Monitor\n",
            "2         3  2023-01-03   75.25        Mouse\n",
            "3         4  2023-01-04  150.00       Laptop\n",
            "4         5  2023-01-05  200.50      Monitor\n",
            "\n",
            "--- Total Sales per Customer ---\n",
            "   customer_id  total_amount\n",
            "0          102        401.00\n",
            "1          101        225.25\n",
            "2          103        150.00\n",
            "\n",
            "--- Customers with Total Sales > $200 ---\n",
            "   customer_id  total_amount\n",
            "0          102        401.00\n",
            "1          101        225.25\n",
            "\n",
            "Connection to database closed.\n"
          ]
        }
      ]
    },
    {
      "cell_type": "markdown",
      "source": [
        "# Key Takeaways: SQL\n",
        "\n",
        "1. **Relational Databases Structure**\n",
        "   - Data is organized into **tables**, consisting of **rows** (records) and **columns** (attributes).  \n",
        "   - **Primary Keys (PK)** uniquely identify rows, and **Foreign Keys (FK)** link tables to maintain **referential integrity**.\n",
        "\n",
        "2. **Core SQL Commands**\n",
        "   - `CREATE TABLE` – define a new table.  \n",
        "   - `INSERT INTO` – add rows of data.  \n",
        "   - `SELECT` – retrieve data.  \n",
        "   - `WHERE` – filter rows.  \n",
        "   - `UPDATE` / `DELETE` – modify or remove data.  \n",
        "   - `DROP TABLE` – remove a table permanently.  \n",
        "\n",
        "3. **The “Big 6” Elements of a SELECT Statement**\n",
        "   - **SELECT:** Choose columns.  \n",
        "   - **FROM:** Specify tables.  \n",
        "   - **WHERE:** Filter rows.  \n",
        "   - **GROUP BY:** Aggregate rows.  \n",
        "   - **HAVING:** Filter aggregated results.  \n",
        "   - **ORDER BY:** Sort results.  \n",
        "   - **LIMIT:** Restrict the number of rows returned.\n",
        "\n",
        "4. **JOINs for Combining Tables**\n",
        "   - **INNER JOIN:** Only matching rows.  \n",
        "   - **LEFT JOIN:** All left table rows, matched right table rows.  \n",
        "   - **RIGHT JOIN:** All right table rows, matched left table rows.  \n",
        "   - **FULL OUTER JOIN:** All rows from both tables, NULL for missing matches.\n",
        "\n",
        "5. **Aggregations and Filtering**\n",
        "   - Use `SUM()`, `COUNT()`, `AVG()`, `MIN()`, `MAX()` for aggregation.  \n",
        "   - Use `GROUP BY` to summarize data per category.  \n",
        "   - Use `HAVING` to filter **after aggregation** (cannot use WHERE for aggregated results).\n",
        "\n",
        "6. **SQL in Python with Pandas**\n",
        "   - `sqlite3` allows creating a **lightweight database** in Colab.  \n",
        "   - Use `pd.read_sql_query()` to **load SQL query results directly into a DataFrame** for analysis.  \n",
        "   - Combining SQL + Pandas enables **powerful data workflows** in Python.\n",
        "\n",
        "7. **Best Practices**\n",
        "   - Always use **WHERE** when updating or deleting rows.  \n",
        "   - Use **table aliases** for readability in JOINs.  \n",
        "   - Use **LIMIT** when exploring large datasets to preview data efficiently.  \n",
        "   - Test queries on **sample data** before running on full datasets.  \n",
        "\n",
        "---\n",
        "\n",
        "**Conclusion:**  \n",
        "By mastering table creation, data insertion, SELECT statements, JOINs, aggregation, and integration with Pandas, you can perform **complex data analysis** efficiently in SQL and Python. This chapter lays the foundation for building **real-world data pipelines and analytical workflows**.\n"
      ],
      "metadata": {
        "id": "V0P5_H60kiZL"
      }
    },
    {
      "cell_type": "markdown",
      "source": [
        "## Knowledge Check\n",
        "\n",
        "<iframe src=\"https://docs.google.com/forms/d/e/1FAIpQLSduyV-41gyQSCvhPZVweI7VZjrayWSMa2OFB-ra-BsTnRPgeQ/viewform?embedded=true\" width=\"100%\" height=\"800px\" frameborder=\"0\" style=\"min-height: 800px; height: 100vh\">Loading…</iframe>"
      ],
      "metadata": {
        "id": "T0CJnhS1Ud8q"
      }
    },
    {
      "cell_type": "markdown",
      "source": [
        "<iframe src=\"https://docs.google.com/forms/d/e/1FAIpQLSduyV-41gyQSCvhPZVweI7VZjrayWSMa2OFB-ra-BsTnRPgeQ/viewform?embedded=true\" width=\"100%\" height=\"800px\" frameborder=\"0\" style=\"min-height: 800px; height: 100vh\">Loading…</iframe>\n",
        "\n"
      ],
      "metadata": {
        "id": "Dx9AOruBke1z"
      }
    }
  ]
}