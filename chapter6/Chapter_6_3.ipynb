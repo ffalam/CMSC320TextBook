{
 "cells": [
  {
   "cell_type": "markdown",
   "source": [
    "**Aggregations and Filtering**\n",
    "   - Use aggregation functions like `SUM()`, `COUNT()`, `AVG()`, `MIN()`, `MAX()` to summarize data.  \n",
    "   - `GROUP BY` allows you to compute metrics per category (e.g., total sales per customer).  \n",
    "   - `HAVING` filters aggregated results (useful when you want to filter groups, unlike `WHERE` which filters raw rows).  \n",
    "\n",
    "```sql\n",
    "-- Find total sales per customer\n",
    "SELECT customer_id, SUM(amount) AS total_sales\n",
    "FROM sales\n",
    "GROUP BY customer_id;\n",
    "\n",
    "-- Find customers with total sales greater than 200\n",
    "SELECT customer_id, SUM(amount) AS total_sales\n",
    "FROM sales\n",
    "GROUP BY customer_id\n",
    "HAVING SUM(amount) > 200;"
   ],
   "metadata": {
    "id": "fdUEnIIUCFWI"
   }
  },
  {
   "cell_type": "code",
   "source": [
    "query_select = \"\"\"\n",
    "SELECT customer_id, SUM(amount) AS total_sales\n",
    "FROM sales\n",
    "GROUP BY customer_id\n",
    "HAVING SUM(amount) > 200;\n",
    "\"\"\"\n",
    "df_select = pd.read_sql_query(query_select, conn)\n",
    "print(df_select)"
   ],
   "metadata": {
    "colab": {
     "base_uri": "https://localhost:8080/"
    },
    "id": "zhgNCvCrM1gd",
    "outputId": "b7a6cc2b-bcea-43d6-de91-213bbac4cc78"
   },
   "execution_count": null,
   "outputs": [
    {
     "output_type": "stream",
     "name": "stdout",
     "text": [
      "   customer_id  total_sales\n",
      "0          101       225.25\n",
      "1          102       401.00\n"
     ]
    }
   ]
  },
  {
   "cell_type": "markdown",
   "source": [
    "# SQL JOINs: Combining Data from Multiple Tables\n",
    "\n",
    "In relational databases, data is often split across multiple tables. **JOINs** allow you to combine rows from two or more tables based on related columns (usually keys).\n",
    "\n",
    "---\n",
    "\n",
    "## 1. INNER JOIN\n",
    "Returns only the rows where there is a **match in both tables**.\n",
    "\n",
    "\n",
    "<center>\n",
    "<img src=\"https://www.pragimtech.com/blog/contribute/article_images/1220210728013442/sql-inner-join-example.jpg\" alt=\"SQL Candidate key\" width=\"600\">\n",
    "</center>\n",
    "\n",
    "```sql\n",
    "SELECT o.Order_ID, c.Name, p.Product_Name\n",
    "FROM Orders o\n",
    "INNER JOIN Customers c\n",
    "    ON o.Customer_ID = c.CustomerID\n",
    "INNER JOIN Products p\n",
    "    ON o.Product_ID = p.ProductID;\n"
   ],
   "metadata": {
    "id": "o1hQloh--oQp"
   }
  },
  {
   "cell_type": "markdown",
   "source": [
    "---\n",
    "\n",
    "## 2. LEFT JOIN (or LEFT OUTER JOIN)\n",
    "\n",
    "Returns **all rows from the left table**, and **matched rows from the right table**. If there is no match, the right table columns return NULL.\n",
    "\n",
    "<center>\n",
    "<img src=\"https://www.pragimtech.com/blog/contribute/article_images/1220210728013442/sql-left-join-example.jpg\" alt=\"SQL Candidate key\" width=\"600\">\n",
    "</center>\n",
    "\n",
    "```sql\n",
    "SELECT o.Order_ID, c.Name, p.Product_Name\n",
    "FROM Orders o\n",
    "INNER JOIN Customers c\n",
    "    ON o.Customer_ID = c.CustomerID\n",
    "INNER JOIN Products p\n",
    "    ON o.Product_ID = p.ProductID;"
   ],
   "metadata": {
    "id": "WNDgmq4--qzC"
   }
  },
  {
   "cell_type": "markdown",
   "source": [
    "Here:\n",
    "\n",
    "* All customers are shown, even if they haven\u2019t placed any orders.\n",
    "\n",
    "* Orders columns for customers with no orders will be NULL."
   ],
   "metadata": {
    "id": "mhXcMa4U-2kC"
   }
  },
  {
   "cell_type": "markdown",
   "source": [
    "---\n",
    "\n",
    "## 3. RIGHT JOIN (or RIGHT OUTER JOIN)\n",
    "\n",
    "Returns all **rows from the right table, and matched rows from the left table**.\n",
    "If there is no match, the left table columns return NULL.\n",
    "\n",
    "<center>\n",
    "<img src=\"https://www.pragimtech.com/blog/contribute/article_images/1220210728013442/sql-right-join-example.jpg\" alt=\"SQL Candidate key\" width=\"600\">\n",
    "</center>\n",
    "\n",
    "```sql\n",
    "SELECT o.Order_ID, c.CustomerID, c.Name\n",
    "FROM Orders o\n",
    "RIGHT JOIN Customers c\n",
    "    ON o.Customer_ID = c.CustomerID;\n",
    "\n"
   ],
   "metadata": {
    "id": "rWzn-bbT-zeu"
   }
  },
  {
   "cell_type": "markdown",
   "source": [
    "Here, All customers appear, even if they have no orders (similar to LEFT JOIN but reversed table order)."
   ],
   "metadata": {
    "id": "XZCqdBsS_ItG"
   }
  },
  {
   "cell_type": "markdown",
   "source": [
    "---\n",
    "\n",
    "## 4. FULL OUTER JOIN\n",
    "\n",
    "Returns **all rows from both tables**, with NULL for missing matches on either side.\n",
    "\n",
    "<center>\n",
    "<img src=\"https://www.thedataschool.co.uk/content/images/2024/07/image-22.png\" alt=\"SQL Candidate key\" width=\"600\">\n",
    "</center>\n",
    "\n",
    "```sql\n",
    "SELECT c.CustomerID, c.Name, o.Order_ID\n",
    "FROM Customers c\n",
    "FULL OUTER JOIN Orders o\n",
    "    ON c.CustomerID = o.Customer_ID;\n",
    "\n",
    "\n"
   ],
   "metadata": {
    "id": "2_PDI8uD_Rg5"
   }
  },
  {
   "cell_type": "markdown",
   "source": [
    "Here, we combines the effect of LEFT and RIGHT JOIN. Customers without orders and orders without customers are included with NULL in the missing columns."
   ],
   "metadata": {
    "id": "-QMkBVgw_a9s"
   }
  },
  {
   "cell_type": "markdown",
   "source": [
    "Below is a full example of creating and manipulating a table in SQL.\n"
   ],
   "metadata": {
    "id": "YKZjzEsi6u5h"
   }
  }
 ],
 "metadata": {
  "colab": {
   "provenance": [],
   "toc_visible": true
  },
  "kernelspec": {
   "name": "python3",
   "display_name": "Python 3"
  },
  "language_info": {
   "name": "python"
  }
 },
 "nbformat": 4,
 "nbformat_minor": 0
}