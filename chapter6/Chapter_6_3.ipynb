{
 "cells": [
  {
   "cell_type": "markdown",
   "metadata": {
    "id": "o1hQloh--oQp"
   },
   "source": [
    "# SQL JOINs: Combining Data from Multiple Tables\n",
    "\n",
    "In relational databases, data is often split across multiple tables. **JOINs** allow you to combine rows from two or more tables based on related columns (usually keys).\n",
    "\n",
    "---\n",
    "\n",
    "## 1. INNER JOIN\n",
    "Returns only the rows where there is a **match in both tables**.\n",
    "\n",
    "\n",
    "<center>\n",
    "<img src=\"https://www.pragimtech.com/blog/contribute/article_images/1220210728013442/sql-inner-join-example.jpg\" alt=\"SQL Candidate key\" width=\"600\">\n",
    "</center>\n",
    "\n",
    "```sql\n",
    "SELECT o.Order_ID, c.Name, p.Product_Name\n",
    "FROM Orders o\n",
    "INNER JOIN Customers c\n",
    "    ON o.Customer_ID = c.CustomerID\n",
    "INNER JOIN Products p\n",
    "    ON o.Product_ID = p.ProductID;\n",
    "```"
   ]
  },
  {
   "cell_type": "markdown",
   "metadata": {
    "id": "WNDgmq4--qzC"
   },
   "source": [
    "---\n",
    "\n",
    "## 2. LEFT JOIN (or LEFT OUTER JOIN)\n",
    "\n",
    "Returns **all rows from the left table**, and **matched rows from the right table**. If there is no match, the right table columns return NULL.\n",
    "\n",
    "<center>\n",
    "<img src=\"https://www.pragimtech.com/blog/contribute/article_images/1220210728013442/sql-left-join-example.jpg\" alt=\"SQL Candidate key\" width=\"600\">\n",
    "</center>\n",
    "\n",
    "```sql\n",
    "SELECT o.Order_ID, c.Name, p.Product_Name\n",
    "FROM Orders o\n",
    "INNER JOIN Customers c\n",
    "    ON o.Customer_ID = c.CustomerID\n",
    "INNER JOIN Products p\n",
    "    ON o.Product_ID = p.ProductID;\n",
    "```"
   ]
  },
  {
   "cell_type": "markdown",
   "metadata": {
    "id": "mhXcMa4U-2kC"
   },
   "source": [
    "Here:\n",
    "\n",
    "* All customers are shown, even if they haven’t placed any orders.\n",
    "\n",
    "* Orders columns for customers with no orders will be NULL."
   ]
  },
  {
   "cell_type": "markdown",
   "metadata": {
    "id": "rWzn-bbT-zeu"
   },
   "source": [
    "---\n",
    "\n",
    "## 3. RIGHT JOIN (or RIGHT OUTER JOIN)\n",
    "\n",
    "Returns all **rows from the right table, and matched rows from the left table**.\n",
    "If there is no match, the left table columns return NULL.\n",
    "\n",
    "<center>\n",
    "<img src=\"https://www.pragimtech.com/blog/contribute/article_images/1220210728013442/sql-right-join-example.jpg\" alt=\"SQL Candidate key\" width=\"600\">\n",
    "</center>\n",
    "\n",
    "```sql\n",
    "SELECT o.Order_ID, c.CustomerID, c.Name\n",
    "FROM Orders o\n",
    "RIGHT JOIN Customers c\n",
    "    ON o.Customer_ID = c.CustomerID;\n",
    "```"
   ]
  },
  {
   "cell_type": "markdown",
   "metadata": {
    "id": "XZCqdBsS_ItG"
   },
   "source": [
    "Here, All customers appear, even if they have no orders (similar to LEFT JOIN but reversed table order)."
   ]
  },
  {
   "cell_type": "markdown",
   "metadata": {
    "id": "2_PDI8uD_Rg5"
   },
   "source": [
    "---\n",
    "\n",
    "## 4. FULL OUTER JOIN\n",
    "\n",
    "Returns **all rows from both tables**, with NULL for missing matches on either side.\n",
    "\n",
    "<center>\n",
    "<img src=\"https://www.thedataschool.co.uk/content/images/2024/07/image-22.png\" alt=\"SQL Candidate key\" width=\"600\">\n",
    "</center>\n",
    "\n",
    "```sql\n",
    "SELECT c.CustomerID, c.Name, o.Order_ID\n",
    "FROM Customers c\n",
    "FULL OUTER JOIN Orders o\n",
    "    ON c.CustomerID = o.Customer_ID;\n",
    "\n",
    "\n"
   ]
  },
  {
   "cell_type": "markdown",
   "metadata": {
    "id": "-QMkBVgw_a9s"
   },
   "source": [
    "Here, we combines the effect of LEFT and RIGHT JOIN. Customers without orders and orders without customers are included with NULL in the missing columns."
   ]
  },
  {
   "cell_type": "markdown",
   "metadata": {
    "id": "YKZjzEsi6u5h"
   },
   "source": [
    "Below is a full example of creating and manipulating a table in SQL.\n"
   ]
  },
  {
   "cell_type": "markdown",
   "metadata": {},
   "source": [
    "### EXAMPLE:"
   ]
  },
  {
   "cell_type": "code",
   "execution_count": 1,
   "metadata": {},
   "outputs": [
    {
     "name": "stdout",
     "output_type": "stream",
     "text": [
      "Database populated successfully!\n",
      "\n",
      "--- Sales with Amount > $150 ---\n",
      "   order_id  customer_id  product_id   sale_date  amount\n",
      "0         2          102           2  2023-01-02   200.5\n",
      "1         5          102           2  2023-01-05   200.5\n",
      "\n",
      "--- Sales with Product Names ---\n",
      "   order_id   sale_date  amount product_name\n",
      "0         1  2023-01-01  150.00       Laptop\n",
      "1         2  2023-01-02  200.50      Monitor\n",
      "2         3  2023-01-03   75.25        Mouse\n",
      "3         4  2023-01-04  150.00       Laptop\n",
      "4         5  2023-01-05  200.50      Monitor\n",
      "\n",
      "--- Total Sales per Customer ---\n",
      "   customer_id  total_amount\n",
      "0          102        401.00\n",
      "1          101        225.25\n",
      "2          103        150.00\n",
      "\n",
      "--- Customers with Total Sales > $200 ---\n",
      "   customer_id  total_amount\n",
      "0          102        401.00\n",
      "1          101        225.25\n",
      "\n",
      "Connection to database closed.\n"
     ]
    }
   ],
   "source": [
    "# Step 1: Import necessary libraries\n",
    "import sqlite3\n",
    "import pandas as pd\n",
    "\n",
    "# Step 2: Connect to a SQLite database\n",
    "conn = sqlite3.connect('sales_data.db')\n",
    "cursor = conn.cursor()\n",
    "\n",
    "# Step 3: Create tables\n",
    "cursor.execute('''\n",
    "CREATE TABLE IF NOT EXISTS sales (\n",
    "    order_id INTEGER PRIMARY KEY,\n",
    "    customer_id INTEGER,\n",
    "    product_id INTEGER,\n",
    "    sale_date TEXT,\n",
    "    amount REAL\n",
    ");\n",
    "''')\n",
    "\n",
    "cursor.execute('''\n",
    "CREATE TABLE IF NOT EXISTS products (\n",
    "    product_id INTEGER PRIMARY KEY,\n",
    "    product_name TEXT\n",
    ");\n",
    "''')\n",
    "\n",
    "# Step 4: Insert data\n",
    "sales_data = [\n",
    "    (1, 101, 1, '2023-01-01', 150.00),\n",
    "    (2, 102, 2, '2023-01-02', 200.50),\n",
    "    (3, 101, 3, '2023-01-03', 75.25),\n",
    "    (4, 103, 1, '2023-01-04', 150.00),\n",
    "    (5, 102, 2, '2023-01-05', 200.50)\n",
    "]\n",
    "cursor.executemany(\"INSERT OR IGNORE INTO sales VALUES (?, ?, ?, ?, ?)\", sales_data)\n",
    "\n",
    "products_data = [\n",
    "    (1, 'Laptop'),\n",
    "    (2, 'Monitor'),\n",
    "    (3, 'Mouse')\n",
    "]\n",
    "cursor.executemany(\"INSERT OR IGNORE INTO products VALUES (?, ?)\", products_data)\n",
    "\n",
    "conn.commit()\n",
    "print(\"Database populated successfully!\")\n",
    "\n",
    "# Step 5: Simple SQL query\n",
    "query_1 = \"SELECT * FROM sales WHERE amount > 150;\"\n",
    "df_high_sales = pd.read_sql_query(query_1, conn)\n",
    "print(\"\\n--- Sales with Amount > $150 ---\")\n",
    "print(df_high_sales)\n",
    "\n",
    "# Step 6: JOIN query\n",
    "query_2 = \"\"\"\n",
    "SELECT s.order_id, s.sale_date, s.amount, p.product_name\n",
    "FROM sales AS s\n",
    "JOIN products AS p\n",
    "ON s.product_id = p.product_id;\n",
    "\"\"\"\n",
    "df_sales = pd.read_sql_query(query_2, conn)\n",
    "print(\"\\n--- Sales with Product Names ---\")\n",
    "print(df_sales)\n",
    "\n",
    "# Step 7: GROUP BY query\n",
    "query_3 = \"\"\"\n",
    "SELECT customer_id, SUM(amount) AS total_amount\n",
    "FROM sales\n",
    "GROUP BY customer_id\n",
    "ORDER BY total_amount DESC;\n",
    "\"\"\"\n",
    "df_summary = pd.read_sql_query(query_3, conn)\n",
    "print(\"\\n--- Total Sales per Customer ---\")\n",
    "print(df_summary)\n",
    "\n",
    "# Step 8: HAVING query (filter aggregated results)\n",
    "query_4 = \"\"\"\n",
    "SELECT customer_id, SUM(amount) AS total_amount\n",
    "FROM sales\n",
    "GROUP BY customer_id\n",
    "HAVING SUM(amount) > 200\n",
    "ORDER BY total_amount DESC;\n",
    "\"\"\"\n",
    "df_having = pd.read_sql_query(query_4, conn)\n",
    "print(\"\\n--- Customers with Total Sales > $200 ---\")\n",
    "print(df_having)\n",
    "\n",
    "# Step 9: Close connection\n",
    "conn.close()\n",
    "print(\"\\nConnection to database closed.\")\n"
   ]
  }
 ],
 "metadata": {
  "colab": {
   "provenance": [],
   "toc_visible": true
  },
  "kernelspec": {
   "display_name": "Python 3 (ipykernel)",
   "language": "python",
   "name": "python3"
  },
  "language_info": {
   "codemirror_mode": {
    "name": "ipython",
    "version": 3
   },
   "file_extension": ".py",
   "mimetype": "text/x-python",
   "name": "python",
   "nbconvert_exporter": "python",
   "pygments_lexer": "ipython3",
   "version": "3.9.12"
  }
 },
 "nbformat": 4,
 "nbformat_minor": 4
}
