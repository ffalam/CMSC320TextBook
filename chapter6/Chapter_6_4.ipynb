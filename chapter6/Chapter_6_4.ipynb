{
 "cells": [
  {
   "cell_type": "markdown",
   "metadata": {
    "id": "V0P5_H60kiZL"
   },
   "source": [
    "# Key Takeaways: SQL\n",
    "\n",
    "1. **Relational Databases Structure**\n",
    "   - Data is organized into **tables**, consisting of **rows** (records) and **columns** (attributes).  \n",
    "   - **Primary Keys (PK)** uniquely identify rows, and **Foreign Keys (FK)** link tables to maintain **referential integrity**.\n",
    "\n",
    "2. **Core SQL Commands**\n",
    "   - `CREATE TABLE` – define a new table.  \n",
    "   - `INSERT INTO` – add rows of data.  \n",
    "   - `SELECT` – retrieve data.  \n",
    "   - `WHERE` – filter rows.  \n",
    "   - `UPDATE` / `DELETE` – modify or remove data.  \n",
    "   - `DROP TABLE` – remove a table permanently.  \n",
    "\n",
    "3. **The “Big 6” Elements of a SELECT Statement**\n",
    "   - **SELECT:** Choose columns.  \n",
    "   - **FROM:** Specify tables.  \n",
    "   - **WHERE:** Filter rows.  \n",
    "   - **GROUP BY:** Aggregate rows.  \n",
    "   - **HAVING:** Filter aggregated results.  \n",
    "   - **ORDER BY:** Sort results.  \n",
    "   - **LIMIT:** Restrict the number of rows returned.\n",
    "\n",
    "4. **JOINs for Combining Tables**\n",
    "   - **INNER JOIN:** Only matching rows.  \n",
    "   - **LEFT JOIN:** All left table rows, matched right table rows.  \n",
    "   - **RIGHT JOIN:** All right table rows, matched left table rows.  \n",
    "   - **FULL OUTER JOIN:** All rows from both tables, NULL for missing matches.\n",
    "\n",
    "5. **Aggregations and Filtering**\n",
    "   - Use `SUM()`, `COUNT()`, `AVG()`, `MIN()`, `MAX()` for aggregation.  \n",
    "   - Use `GROUP BY` to summarize data per category.  \n",
    "   - Use `HAVING` to filter **after aggregation** (cannot use WHERE for aggregated results).\n",
    "\n",
    "6. **SQL in Python with Pandas**\n",
    "   - `sqlite3` allows creating a **lightweight database** in Colab.  \n",
    "   - Use `pd.read_sql_query()` to **load SQL query results directly into a DataFrame** for analysis.  \n",
    "   - Combining SQL + Pandas enables **powerful data workflows** in Python.\n",
    "\n",
    "7. **Best Practices**\n",
    "   - Always use **WHERE** when updating or deleting rows.  \n",
    "   - Use **table aliases** for readability in JOINs.  \n",
    "   - Use **LIMIT** when exploring large datasets to preview data efficiently.  \n",
    "   - Test queries on **sample data** before running on full datasets.  \n",
    "\n",
    "---\n",
    "\n",
    "**Conclusion:**  \n",
    "By mastering table creation, data insertion, SELECT statements, JOINs, aggregation, and integration with Pandas, you can perform **complex data analysis** efficiently in SQL and Python. This chapter lays the foundation for building **real-world data pipelines and analytical workflows**.\n"
   ]
  },
  {
   "cell_type": "markdown",
   "metadata": {
    "id": "T0CJnhS1Ud8q"
   },
   "source": [
    "## Knowledge Check\n",
    "\n",
    "<iframe src=\"https://docs.google.com/forms/d/e/1FAIpQLSduyV-41gyQSCvhPZVweI7VZjrayWSMa2OFB-ra-BsTnRPgeQ/viewform?embedded=true\" width=\"100%\" height=\"800px\" frameborder=\"0\" style=\"min-height: 800px; height: 100vh\">Loading…</iframe>"
   ]
  },
  {
   "cell_type": "markdown",
   "metadata": {
    "id": "Dx9AOruBke1z"
   },
   "source": [
    "<iframe src=\"https://docs.google.com/forms/d/e/1FAIpQLSduyV-41gyQSCvhPZVweI7VZjrayWSMa2OFB-ra-BsTnRPgeQ/viewform?embedded=true\" width=\"100%\" height=\"800px\" frameborder=\"0\" style=\"min-height: 800px; height: 100vh\">Loading…</iframe>\n",
    "\n"
   ]
  }
 ],
 "metadata": {
  "colab": {
   "provenance": [],
   "toc_visible": true
  },
  "kernelspec": {
   "display_name": "Python 3 (ipykernel)",
   "language": "python",
   "name": "python3"
  },
  "language_info": {
   "codemirror_mode": {
    "name": "ipython",
    "version": 3
   },
   "file_extension": ".py",
   "mimetype": "text/x-python",
   "name": "python",
   "nbconvert_exporter": "python",
   "pygments_lexer": "ipython3",
   "version": "3.9.12"
  }
 },
 "nbformat": 4,
 "nbformat_minor": 4
}
