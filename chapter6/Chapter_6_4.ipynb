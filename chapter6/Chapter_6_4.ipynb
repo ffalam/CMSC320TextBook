{
 "cells": [
  {
   "cell_type": "markdown",
   "source": [
    "###EXAMPLE:"
   ],
   "metadata": {
    "id": "wBUL0OuFKrcs"
   }
  },
  {
   "cell_type": "code",
   "source": [
    "# Step 1: Import necessary libraries\n",
    "import sqlite3\n",
    "import pandas as pd\n",
    "\n",
    "# Step 2: Connect to a SQLite database\n",
    "conn = sqlite3.connect('sales_data.db')\n",
    "cursor = conn.cursor()\n",
    "\n",
    "# Step 3: Create tables\n",
    "cursor.execute('''\n",
    "CREATE TABLE IF NOT EXISTS sales (\n",
    "    order_id INTEGER PRIMARY KEY,\n",
    "    customer_id INTEGER,\n",
    "    product_id INTEGER,\n",
    "    sale_date TEXT,\n",
    "    amount REAL\n",
    ");\n",
    "''')\n",
    "\n",
    "cursor.execute('''\n",
    "CREATE TABLE IF NOT EXISTS products (\n",
    "    product_id INTEGER PRIMARY KEY,\n",
    "    product_name TEXT\n",
    ");\n",
    "''')\n",
    "\n",
    "# Step 4: Insert data\n",
    "sales_data = [\n",
    "    (1, 101, 1, '2023-01-01', 150.00),\n",
    "    (2, 102, 2, '2023-01-02', 200.50),\n",
    "    (3, 101, 3, '2023-01-03', 75.25),\n",
    "    (4, 103, 1, '2023-01-04', 150.00),\n",
    "    (5, 102, 2, '2023-01-05', 200.50)\n",
    "]\n",
    "cursor.executemany(\"INSERT OR IGNORE INTO sales VALUES (?, ?, ?, ?, ?)\", sales_data)\n",
    "\n",
    "products_data = [\n",
    "    (1, 'Laptop'),\n",
    "    (2, 'Monitor'),\n",
    "    (3, 'Mouse')\n",
    "]\n",
    "cursor.executemany(\"INSERT OR IGNORE INTO products VALUES (?, ?)\", products_data)\n",
    "\n",
    "conn.commit()\n",
    "print(\"Database populated successfully!\")\n",
    "\n",
    "# Step 5: Simple SQL query\n",
    "query_1 = \"SELECT * FROM sales WHERE amount > 150;\"\n",
    "df_high_sales = pd.read_sql_query(query_1, conn)\n",
    "print(\"\\n--- Sales with Amount > $150 ---\")\n",
    "print(df_high_sales)\n",
    "\n",
    "# Step 6: JOIN query\n",
    "query_2 = \"\"\"\n",
    "SELECT s.order_id, s.sale_date, s.amount, p.product_name\n",
    "FROM sales AS s\n",
    "JOIN products AS p\n",
    "ON s.product_id = p.product_id;\n",
    "\"\"\"\n",
    "df_sales = pd.read_sql_query(query_2, conn)\n",
    "print(\"\\n--- Sales with Product Names ---\")\n",
    "print(df_sales)\n",
    "\n",
    "# Step 7: GROUP BY query\n",
    "query_3 = \"\"\"\n",
    "SELECT customer_id, SUM(amount) AS total_amount\n",
    "FROM sales\n",
    "GROUP BY customer_id\n",
    "ORDER BY total_amount DESC;\n",
    "\"\"\"\n",
    "df_summary = pd.read_sql_query(query_3, conn)\n",
    "print(\"\\n--- Total Sales per Customer ---\")\n",
    "print(df_summary)\n",
    "\n",
    "# Step 8: HAVING query (filter aggregated results)\n",
    "query_4 = \"\"\"\n",
    "SELECT customer_id, SUM(amount) AS total_amount\n",
    "FROM sales\n",
    "GROUP BY customer_id\n",
    "HAVING SUM(amount) > 200\n",
    "ORDER BY total_amount DESC;\n",
    "\"\"\"\n",
    "df_having = pd.read_sql_query(query_4, conn)\n",
    "print(\"\\n--- Customers with Total Sales > $200 ---\")\n",
    "print(df_having)\n",
    "\n",
    "# Step 9: Close connection\n",
    "conn.close()\n",
    "print(\"\\nConnection to database closed.\")\n"
   ],
   "metadata": {
    "colab": {
     "base_uri": "https://localhost:8080/"
    },
    "id": "U_c_gEEmBk6v",
    "outputId": "d6db4718-d84c-4cd3-9b56-4262ffa64dca"
   },
   "execution_count": null,
   "outputs": [
    {
     "output_type": "stream",
     "name": "stdout",
     "text": [
      "Database populated successfully!\n",
      "\n",
      "--- Sales with Amount > $150 ---\n",
      "   order_id  customer_id  product_id   sale_date  amount\n",
      "0         2          102           2  2023-01-02   200.5\n",
      "1         5          102           2  2023-01-05   200.5\n",
      "\n",
      "--- Sales with Product Names ---\n",
      "   order_id   sale_date  amount product_name\n",
      "0         1  2023-01-01  150.00       Laptop\n",
      "1         2  2023-01-02  200.50      Monitor\n",
      "2         3  2023-01-03   75.25        Mouse\n",
      "3         4  2023-01-04  150.00       Laptop\n",
      "4         5  2023-01-05  200.50      Monitor\n",
      "\n",
      "--- Total Sales per Customer ---\n",
      "   customer_id  total_amount\n",
      "0          102        401.00\n",
      "1          101        225.25\n",
      "2          103        150.00\n",
      "\n",
      "--- Customers with Total Sales > $200 ---\n",
      "   customer_id  total_amount\n",
      "0          102        401.00\n",
      "1          101        225.25\n",
      "\n",
      "Connection to database closed.\n"
     ]
    }
   ]
  },
  {
   "cell_type": "markdown",
   "source": [
    "# Key Takeaways: SQL\n",
    "\n",
    "1. **Relational Databases Structure**\n",
    "   - Data is organized into **tables**, consisting of **rows** (records) and **columns** (attributes).  \n",
    "   - **Primary Keys (PK)** uniquely identify rows, and **Foreign Keys (FK)** link tables to maintain **referential integrity**.\n",
    "\n",
    "2. **Core SQL Commands**\n",
    "   - `CREATE TABLE` \u2013 define a new table.  \n",
    "   - `INSERT INTO` \u2013 add rows of data.  \n",
    "   - `SELECT` \u2013 retrieve data.  \n",
    "   - `WHERE` \u2013 filter rows.  \n",
    "   - `UPDATE` / `DELETE` \u2013 modify or remove data.  \n",
    "   - `DROP TABLE` \u2013 remove a table permanently.  \n",
    "\n",
    "3. **The \u201cBig 6\u201d Elements of a SELECT Statement**\n",
    "   - **SELECT:** Choose columns.  \n",
    "   - **FROM:** Specify tables.  \n",
    "   - **WHERE:** Filter rows.  \n",
    "   - **GROUP BY:** Aggregate rows.  \n",
    "   - **HAVING:** Filter aggregated results.  \n",
    "   - **ORDER BY:** Sort results.  \n",
    "   - **LIMIT:** Restrict the number of rows returned.\n",
    "\n",
    "4. **JOINs for Combining Tables**\n",
    "   - **INNER JOIN:** Only matching rows.  \n",
    "   - **LEFT JOIN:** All left table rows, matched right table rows.  \n",
    "   - **RIGHT JOIN:** All right table rows, matched left table rows.  \n",
    "   - **FULL OUTER JOIN:** All rows from both tables, NULL for missing matches.\n",
    "\n",
    "5. **Aggregations and Filtering**\n",
    "   - Use `SUM()`, `COUNT()`, `AVG()`, `MIN()`, `MAX()` for aggregation.  \n",
    "   - Use `GROUP BY` to summarize data per category.  \n",
    "   - Use `HAVING` to filter **after aggregation** (cannot use WHERE for aggregated results).\n",
    "\n",
    "6. **SQL in Python with Pandas**\n",
    "   - `sqlite3` allows creating a **lightweight database** in Colab.  \n",
    "   - Use `pd.read_sql_query()` to **load SQL query results directly into a DataFrame** for analysis.  \n",
    "   - Combining SQL + Pandas enables **powerful data workflows** in Python.\n",
    "\n",
    "7. **Best Practices**\n",
    "   - Always use **WHERE** when updating or deleting rows.  \n",
    "   - Use **table aliases** for readability in JOINs.  \n",
    "   - Use **LIMIT** when exploring large datasets to preview data efficiently.  \n",
    "   - Test queries on **sample data** before running on full datasets.  \n",
    "\n",
    "---\n",
    "\n",
    "**Conclusion:**  \n",
    "By mastering table creation, data insertion, SELECT statements, JOINs, aggregation, and integration with Pandas, you can perform **complex data analysis** efficiently in SQL and Python. This chapter lays the foundation for building **real-world data pipelines and analytical workflows**.\n"
   ],
   "metadata": {
    "id": "V0P5_H60kiZL"
   }
  },
  {
   "cell_type": "markdown",
   "source": [
    "## Knowledge Check\n",
    "\n",
    "<iframe src=\"https://docs.google.com/forms/d/e/1FAIpQLSduyV-41gyQSCvhPZVweI7VZjrayWSMa2OFB-ra-BsTnRPgeQ/viewform?embedded=true\" width=\"100%\" height=\"800px\" frameborder=\"0\" style=\"min-height: 800px; height: 100vh\">Loading\u2026</iframe>"
   ],
   "metadata": {
    "id": "T0CJnhS1Ud8q"
   }
  },
  {
   "cell_type": "markdown",
   "source": [
    "<iframe src=\"https://docs.google.com/forms/d/e/1FAIpQLSduyV-41gyQSCvhPZVweI7VZjrayWSMa2OFB-ra-BsTnRPgeQ/viewform?embedded=true\" width=\"100%\" height=\"800px\" frameborder=\"0\" style=\"min-height: 800px; height: 100vh\">Loading\u2026</iframe>\n",
    "\n"
   ],
   "metadata": {
    "id": "Dx9AOruBke1z"
   }
  }
 ],
 "metadata": {
  "colab": {
   "provenance": [],
   "toc_visible": true
  },
  "kernelspec": {
   "name": "python3",
   "display_name": "Python 3"
  },
  "language_info": {
   "name": "python"
  }
 },
 "nbformat": 4,
 "nbformat_minor": 0
}