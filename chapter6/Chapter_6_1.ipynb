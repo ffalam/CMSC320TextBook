{
 "cells": [
  {
   "cell_type": "markdown",
   "metadata": {},
   "source": [
    "# The “Big 6” Elements of a SQL Select Statement\n",
    "\n",
    "When querying data in SQL, the `SELECT` statement is the foundation. It allows you to **specify what data to retrieve, from where, and how to organize it**. The six key elements (plus `LIMIT`) are essential to writing powerful queries.\n",
    "\n",
    "\n",
    "* **SELECT:** Specifies which columns you want to retrieve.  \n",
    "  * Example: `SELECT customer_id, amount FROM sales;`\n",
    "* **FROM:** Specifies the table you are querying.  \n",
    "* **WHERE:** Filters rows based on conditions.  \n",
    "  * Example: `SELECT * FROM sales WHERE amount > 100 AND sale_date >= '2023-01-01';`  \n",
    "  * Example: `SELECT product_id, amount FROM sales ORDER BY amount DESC;`\n",
    "* **GROUP BY:** Aggregates rows with the same values into summary rows. Useful for metrics like total sales per customer.  \n",
    "* **HAVING:** Filters results of a `GROUP BY` clause, similar to `WHERE` but for aggregated data.  \n",
    "* **ORDER BY:** Sorts the result set. Use `DESC` for descending and `ASC` for ascending.\n",
    "* ** LIMIT:** Restricts the number of rows returned in the result set. Often used with ORDER BY to get top or bottom results.\n",
    "\n",
    "<center>\n",
    "<img src=\"https://sqlmct.com/wp-content/uploads/2020/02/SELECTprocessing.png\" alt=\"SQL Candidate key\" width=\"600\">\n",
    "</center>\n",
    "\n",
    "Remember that, although these six key elements (SELECT, FROM, WHERE, GROUP BY, HAVING, ORDER BY) plus `LIMIT` are essential to writing powerful queries; however, **WHERE, GROUP BY, HAVING, ORDER BY, and LIMIT are optional**  depending on the query’s purpose.\n",
    "\n",
    "\n",
    "\n",
    "<!-- * **JOIN:** Combines data from multiple tables.  \n",
    "  * Example (INNER JOIN): `SELECT s.order_id, p.product_name FROM sales s JOIN products p ON s.product_id = p.product_id;` -->"
   ]
  },
  {
   "cell_type": "markdown",
   "metadata": {
    "id": "yJAa4UnnFwp0"
   },
   "source": [
    "Example: Let’s create the Customers, Products, and Orders tables and insert sample data into each."
   ]
  },
  {
   "cell_type": "code",
   "execution_count": 4,
   "metadata": {
    "colab": {
     "base_uri": "https://localhost:8080/"
    },
    "id": "MXov0-ljF23K",
    "outputId": "745882ca-fac2-4032-8b6e-4eb899b37de3"
   },
   "outputs": [
    {
     "name": "stdout",
     "output_type": "stream",
     "text": [
      "Tables created and sample data inserted successfully!\n"
     ]
    }
   ],
   "source": [
    "# Step 1: Import libraries\n",
    "import sqlite3\n",
    "import pandas as pd\n",
    "\n",
    "# Step 2: Connect to SQLite database\n",
    "conn = sqlite3.connect('shop_data.db')\n",
    "cursor = conn.cursor()\n",
    "\n",
    "# Step 3: Create tables\n",
    "cursor.execute('''\n",
    "CREATE TABLE IF NOT EXISTS Customers (\n",
    "    CustomerID INTEGER PRIMARY KEY,\n",
    "    Name TEXT,\n",
    "    Age INTEGER,\n",
    "    Gender TEXT\n",
    ");\n",
    "''')\n",
    "\n",
    "cursor.execute('''\n",
    "CREATE TABLE IF NOT EXISTS Products (\n",
    "    ProductID INTEGER PRIMARY KEY,\n",
    "    Product_Name TEXT,\n",
    "    Price REAL\n",
    ");\n",
    "''')\n",
    "\n",
    "cursor.execute('''\n",
    "CREATE TABLE IF NOT EXISTS Orders (\n",
    "    OrderID INTEGER PRIMARY KEY,\n",
    "    CustomerID INTEGER,\n",
    "    ProductID INTEGER,\n",
    "    Quantity INTEGER,\n",
    "    FOREIGN KEY(CustomerID) REFERENCES Customers(CustomerID),\n",
    "    FOREIGN KEY(ProductID) REFERENCES Products(ProductID)\n",
    ");\n",
    "''')\n",
    "cursor.execute('''\n",
    "CREATE TABLE IF NOT EXISTS sales (\n",
    "    order_id INTEGER PRIMARY KEY,\n",
    "    customer_id INTEGER,\n",
    "    sale_date TEXT,\n",
    "    product_id INTEGER,\n",
    "    amount REAL\n",
    ");\n",
    "''')\n",
    "\n",
    "\n",
    "\n",
    "# Step 4: Insert sample data\n",
    "\n",
    "sales_data = [\n",
    "    (1, 101, '2023-01-01', 1, 150.00),\n",
    "    (2, 102, '2023-01-02', 2, 200.50),\n",
    "    (3, 101, '2023-01-03', 3, 75.25),\n",
    "    (4, 103, '2023-01-04', 1, 150.00),\n",
    "    (5, 102, '2023-01-05', 2, 200.50)\n",
    "]\n",
    "\n",
    "cursor.executemany(\"INSERT OR IGNORE INTO sales VALUES (?, ?, ?, ?, ?)\", sales_data)\n",
    "\n",
    "\n",
    "customers_data = [\n",
    "    (101, 'Alice', 25, 'F'),\n",
    "    (102, 'Bob', 30, 'M'),\n",
    "    (103, 'Charlie', 28, 'M'),\n",
    "    (104, 'Diana', 22, 'F')\n",
    "]\n",
    "cursor.executemany(\"INSERT OR IGNORE INTO Customers VALUES (?, ?, ?, ?)\", customers_data)\n",
    "\n",
    "products_data = [\n",
    "    (1, 'Laptop', 1000),\n",
    "    (2, 'Monitor', 200),\n",
    "    (3, 'Mouse', 30)\n",
    "]\n",
    "cursor.executemany(\"INSERT OR IGNORE INTO Products VALUES (?, ?, ?)\", products_data)\n",
    "\n",
    "orders_data = [\n",
    "    (5001, 101, 1, 1),\n",
    "    (5002, 102, 2, 2),\n",
    "    (5003, 101, 3, 1),\n",
    "    (5004, 103, 1, 1),\n",
    "    (5005, 104, 2, 1)\n",
    "]\n",
    "cursor.executemany(\"INSERT OR IGNORE INTO Orders VALUES (?, ?, ?, ?)\", orders_data)\n",
    "\n",
    "conn.commit()\n",
    "print(\"Tables created and sample data inserted successfully!\")"
   ]
  },
  {
   "cell_type": "markdown",
   "metadata": {
    "id": "oz7EZdokF52e"
   },
   "source": [
    "---\n",
    "\n",
    "## 1. SELECT\n",
    "Specifies which **columns** you want to retrieve from a table.\n",
    "*Example:*  \n",
    "```sql\n",
    "SELECT customer_id, amount\n",
    "FROM sales;"
   ]
  },
  {
   "cell_type": "code",
   "execution_count": 5,
   "metadata": {
    "colab": {
     "base_uri": "https://localhost:8080/"
    },
    "id": "j_DinD5AM7Nu",
    "outputId": "5a077429-3851-4036-f5ff-00c3a1f1c340"
   },
   "outputs": [
    {
     "name": "stdout",
     "output_type": "stream",
     "text": [
      "   order_id  customer_id   sale_date  product_id  amount\n",
      "0         1          101  2023-01-01           1  150.00\n",
      "1         2          102  2023-01-02           2  200.50\n",
      "2         3          101  2023-01-03           3   75.25\n",
      "3         4          103  2023-01-04           1  150.00\n",
      "4         5          102  2023-01-05           2  200.50\n"
     ]
    }
   ],
   "source": [
    "query_select = \"SELECT * FROM sales;\"\n",
    "df_select = pd.read_sql_query(query_select, conn)\n",
    "print(df_select)"
   ]
  },
  {
   "cell_type": "markdown",
   "metadata": {
    "id": "5V_VNFb9853o"
   },
   "source": [
    "## 2. FROM\n",
    "Specifies the table(s) you are querying.\n",
    "\n",
    "```sql\n",
    "SELECT customer_id, amount\n",
    "FROM sales;"
   ]
  },
  {
   "cell_type": "code",
   "execution_count": 6,
   "metadata": {
    "colab": {
     "base_uri": "https://localhost:8080/"
    },
    "id": "5XhJqt7YGHPh",
    "outputId": "fca800d3-dba7-43fd-8705-efd1500922d7"
   },
   "outputs": [
    {
     "name": "stdout",
     "output_type": "stream",
     "text": [
      "   customer_id  amount\n",
      "0          101  150.00\n",
      "1          102  200.50\n",
      "2          101   75.25\n",
      "3          103  150.00\n",
      "4          102  200.50\n"
     ]
    }
   ],
   "source": [
    "query_select = \"SELECT customer_id, amount FROM sales;\"\n",
    "df_select = pd.read_sql_query(query_select, conn)\n",
    "print(df_select)"
   ]
  },
  {
   "cell_type": "markdown",
   "metadata": {
    "id": "qgGo_fKI8_Oy"
   },
   "source": [
    "## 3. WHERE\n",
    "Filters rows based on conditions. Only rows that satisfy the condition are returned.\n",
    "\n",
    "```sql\n",
    "SELECT *\n",
    "FROM sales\n",
    "WHERE amount > 100 AND sale_date >= '2023-01-01';\n"
   ]
  },
  {
   "cell_type": "code",
   "execution_count": 7,
   "metadata": {
    "colab": {
     "base_uri": "https://localhost:8080/"
    },
    "id": "QjCuKGlIMCUJ",
    "outputId": "33e7c38a-71c5-469c-bf86-bc67d7371d59"
   },
   "outputs": [
    {
     "name": "stdout",
     "output_type": "stream",
     "text": [
      "   order_id  customer_id   sale_date  product_id  amount\n",
      "0         1          101  2023-01-01           1   150.0\n",
      "1         2          102  2023-01-02           2   200.5\n",
      "2         4          103  2023-01-04           1   150.0\n",
      "3         5          102  2023-01-05           2   200.5\n"
     ]
    }
   ],
   "source": [
    "query_select = \"SELECT * FROM sales WHERE amount > 100 AND sale_date >= '2023-01-01'\"\n",
    "df_select = pd.read_sql_query(query_select, conn)\n",
    "print(df_select)"
   ]
  },
  {
   "cell_type": "markdown",
   "metadata": {
    "id": "veG--sUs9GiX"
   },
   "source": [
    "## 4. GROUPBY\n",
    "Aggregates rows with the same values into summary rows, such as totals, averages, or counts.\n",
    "\n",
    "```sql\n",
    "SELECT customer_id, SUM(amount) AS total_sales\n",
    "FROM sales\n",
    "GROUP BY customer_id;\n"
   ]
  },
  {
   "cell_type": "code",
   "execution_count": 8,
   "metadata": {
    "colab": {
     "base_uri": "https://localhost:8080/"
    },
    "id": "2ujqDajwMEjB",
    "outputId": "e1126ba2-e093-4c05-903b-98c58d2dc785"
   },
   "outputs": [
    {
     "name": "stdout",
     "output_type": "stream",
     "text": [
      "   customer_id  total_sales\n",
      "0          101       225.25\n",
      "1          102       401.00\n",
      "2          103       150.00\n"
     ]
    }
   ],
   "source": [
    "query_select = \"\"\"\n",
    "SELECT customer_id, SUM(amount) AS total_sales\n",
    "FROM sales\n",
    "GROUP BY customer_id;\n",
    "\"\"\"\n",
    "df_select = pd.read_sql_query(query_select, conn)\n",
    "print(df_select)"
   ]
  },
  {
   "cell_type": "markdown",
   "metadata": {},
   "source": [
    "## 5. HAVING\n",
    "Filters results after aggregation. Similar to WHERE, but operates on aggregated data.\n",
    "\n",
    "Remember, while `WHERE` filters **raw rows before aggregation**, `HAVING` filters **groups created by `GROUP BY`**.  \n",
    "\n",
    "**Connection to GROUP BY:**  \n",
    "- `GROUP BY` creates aggregated groups (e.g., total sales per customer).  \n",
    "- `HAVING` applies conditions on these aggregated values. Without `GROUP BY`, `HAVING` can still work on aggregate functions applied to the entire table.  \n",
    "\n",
    "\n",
    "```sql\n",
    "SELECT customer_id, SUM(amount) AS total_sales\n",
    "FROM sales\n",
    "GROUP BY customer_id\n",
    "HAVING SUM(amount) > 100;"
   ]
  },
  {
   "cell_type": "code",
   "execution_count": 10,
   "metadata": {},
   "outputs": [
    {
     "name": "stdout",
     "output_type": "stream",
     "text": [
      "   customer_id  total_sales\n",
      "0          101       225.25\n",
      "1          102       401.00\n",
      "2          103       150.00\n"
     ]
    }
   ],
   "source": [
    "query_select = \"\"\"\n",
    "SELECT customer_id, SUM(amount) AS total_sales\n",
    "FROM sales\n",
    "GROUP BY customer_id\n",
    "HAVING SUM(amount) > 100;\n",
    "\"\"\"\n",
    "df_select = pd.read_sql_query(query_select, conn)\n",
    "print(df_select)"
   ]
  },
  {
   "cell_type": "markdown",
   "metadata": {},
   "source": [
    "## 6. ORDERBY\n",
    "Sorts the result set by one or more columns.\n",
    "\n",
    "```sql\n",
    "SELECT product_id, amount\n",
    "FROM sales\n",
    "ORDER BY amount DESC; -- DESC for descending, ASC for ascending"
   ]
  },
  {
   "cell_type": "code",
   "execution_count": 11,
   "metadata": {},
   "outputs": [
    {
     "name": "stdout",
     "output_type": "stream",
     "text": [
      "   product_id  amount\n",
      "0           2  200.50\n",
      "1           2  200.50\n",
      "2           1  150.00\n",
      "3           1  150.00\n",
      "4           3   75.25\n"
     ]
    }
   ],
   "source": [
    "query_select = \"\"\"\n",
    "SELECT product_id, amount\n",
    "FROM sales\n",
    "ORDER BY amount DESC;\n",
    "\"\"\"\n",
    "df_select = pd.read_sql_query(query_select, conn)\n",
    "print(df_select)"
   ]
  }
 ],
 "metadata": {
  "colab": {
   "provenance": [],
   "toc_visible": true
  },
  "kernelspec": {
   "display_name": "Python 3 (ipykernel)",
   "language": "python",
   "name": "python3"
  },
  "language_info": {
   "codemirror_mode": {
    "name": "ipython",
    "version": 3
   },
   "file_extension": ".py",
   "mimetype": "text/x-python",
   "name": "python",
   "nbconvert_exporter": "python",
   "pygments_lexer": "ipython3",
   "version": "3.9.12"
  }
 },
 "nbformat": 4,
 "nbformat_minor": 4
}
