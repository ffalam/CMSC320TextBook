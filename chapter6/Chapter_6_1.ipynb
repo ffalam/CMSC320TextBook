{
 "cells": [
  {
   "cell_type": "markdown",
   "source": [
    "Example: Let\u2019s create the Customers, Products, and Orders tables and insert sample data into each."
   ],
   "metadata": {
    "id": "yJAa4UnnFwp0"
   }
  },
  {
   "cell_type": "code",
   "source": [
    "# Step 1: Import libraries\n",
    "import sqlite3\n",
    "import pandas as pd\n",
    "\n",
    "# Step 2: Connect to SQLite database\n",
    "conn = sqlite3.connect('shop_data.db')\n",
    "cursor = conn.cursor()\n",
    "\n",
    "# Step 3: Create tables\n",
    "cursor.execute('''\n",
    "CREATE TABLE IF NOT EXISTS Customers (\n",
    "    CustomerID INTEGER PRIMARY KEY,\n",
    "    Name TEXT,\n",
    "    Age INTEGER,\n",
    "    Gender TEXT\n",
    ");\n",
    "''')\n",
    "\n",
    "cursor.execute('''\n",
    "CREATE TABLE IF NOT EXISTS Products (\n",
    "    ProductID INTEGER PRIMARY KEY,\n",
    "    Product_Name TEXT,\n",
    "    Price REAL\n",
    ");\n",
    "''')\n",
    "\n",
    "cursor.execute('''\n",
    "CREATE TABLE IF NOT EXISTS Orders (\n",
    "    OrderID INTEGER PRIMARY KEY,\n",
    "    CustomerID INTEGER,\n",
    "    ProductID INTEGER,\n",
    "    Quantity INTEGER,\n",
    "    FOREIGN KEY(CustomerID) REFERENCES Customers(CustomerID),\n",
    "    FOREIGN KEY(ProductID) REFERENCES Products(ProductID)\n",
    ");\n",
    "''')\n",
    "cursor.execute('''\n",
    "CREATE TABLE IF NOT EXISTS sales (\n",
    "    order_id INTEGER PRIMARY KEY,\n",
    "    customer_id INTEGER,\n",
    "    sale_date TEXT,\n",
    "    product_id INTEGER,\n",
    "    amount REAL\n",
    ");\n",
    "''')\n",
    "\n",
    "\n",
    "\n",
    "# Step 4: Insert sample data\n",
    "\n",
    "sales_data = [\n",
    "    (1, 101, '2023-01-01', 1, 150.00),\n",
    "    (2, 102, '2023-01-02', 2, 200.50),\n",
    "    (3, 101, '2023-01-03', 3, 75.25),\n",
    "    (4, 103, '2023-01-04', 1, 150.00),\n",
    "    (5, 102, '2023-01-05', 2, 200.50)\n",
    "]\n",
    "\n",
    "cursor.executemany(\"INSERT OR IGNORE INTO sales VALUES (?, ?, ?, ?, ?)\", sales_data)\n",
    "\n",
    "\n",
    "customers_data = [\n",
    "    (101, 'Alice', 25, 'F'),\n",
    "    (102, 'Bob', 30, 'M'),\n",
    "    (103, 'Charlie', 28, 'M'),\n",
    "    (104, 'Diana', 22, 'F')\n",
    "]\n",
    "cursor.executemany(\"INSERT OR IGNORE INTO Customers VALUES (?, ?, ?, ?)\", customers_data)\n",
    "\n",
    "products_data = [\n",
    "    (1, 'Laptop', 1000),\n",
    "    (2, 'Monitor', 200),\n",
    "    (3, 'Mouse', 30)\n",
    "]\n",
    "cursor.executemany(\"INSERT OR IGNORE INTO Products VALUES (?, ?, ?)\", products_data)\n",
    "\n",
    "orders_data = [\n",
    "    (5001, 101, 1, 1),\n",
    "    (5002, 102, 2, 2),\n",
    "    (5003, 101, 3, 1),\n",
    "    (5004, 103, 1, 1),\n",
    "    (5005, 104, 2, 1)\n",
    "]\n",
    "cursor.executemany(\"INSERT OR IGNORE INTO Orders VALUES (?, ?, ?, ?)\", orders_data)\n",
    "\n",
    "conn.commit()\n",
    "print(\"Tables created and sample data inserted successfully!\")"
   ],
   "metadata": {
    "colab": {
     "base_uri": "https://localhost:8080/"
    },
    "id": "MXov0-ljF23K",
    "outputId": "745882ca-fac2-4032-8b6e-4eb899b37de3"
   },
   "execution_count": null,
   "outputs": [
    {
     "output_type": "stream",
     "name": "stdout",
     "text": [
      "Tables created and sample data inserted successfully!\n"
     ]
    }
   ]
  },
  {
   "cell_type": "markdown",
   "source": [
    "---\n",
    "\n",
    "## 1. SELECT\n",
    "Specifies which **columns** you want to retrieve from a table.\n",
    "*Example:*  \n",
    "```sql\n",
    "SELECT customer_id, amount\n",
    "FROM sales;"
   ],
   "metadata": {
    "id": "oz7EZdokF52e"
   }
  },
  {
   "cell_type": "code",
   "source": [
    "query_select = \"SELECT * FROM sales;\"\n",
    "df_select = pd.read_sql_query(query_select, conn)\n",
    "print(df_select)"
   ],
   "metadata": {
    "colab": {
     "base_uri": "https://localhost:8080/"
    },
    "id": "j_DinD5AM7Nu",
    "outputId": "5a077429-3851-4036-f5ff-00c3a1f1c340"
   },
   "execution_count": null,
   "outputs": [
    {
     "output_type": "stream",
     "name": "stdout",
     "text": [
      "   order_id  customer_id   sale_date  product_id  amount\n",
      "0         1          101  2023-01-01           1  150.00\n",
      "1         2          102  2023-01-02           2  200.50\n",
      "2         3          101  2023-01-03           3   75.25\n",
      "3         4          103  2023-01-04           1  150.00\n",
      "4         5          102  2023-01-05           2  200.50\n"
     ]
    }
   ]
  },
  {
   "cell_type": "markdown",
   "source": [
    "## 2. FROM\n",
    "Specifies the table(s) you are querying.\n",
    "\n",
    "```sql\n",
    "SELECT customer_id, amount\n",
    "FROM sales;"
   ],
   "metadata": {
    "id": "5V_VNFb9853o"
   }
  },
  {
   "cell_type": "code",
   "source": [
    "query_select = \"SELECT customer_id, amount FROM sales;\"\n",
    "df_select = pd.read_sql_query(query_select, conn)\n",
    "print(df_select)"
   ],
   "metadata": {
    "colab": {
     "base_uri": "https://localhost:8080/"
    },
    "id": "5XhJqt7YGHPh",
    "outputId": "fca800d3-dba7-43fd-8705-efd1500922d7"
   },
   "execution_count": null,
   "outputs": [
    {
     "output_type": "stream",
     "name": "stdout",
     "text": [
      "   customer_id  amount\n",
      "0          101  150.00\n",
      "1          102  200.50\n",
      "2          101   75.25\n",
      "3          103  150.00\n",
      "4          102  200.50\n"
     ]
    }
   ]
  },
  {
   "cell_type": "markdown",
   "source": [
    "## 3. WHERE\n",
    "Filters rows based on conditions. Only rows that satisfy the condition are returned.\n",
    "\n",
    "```sql\n",
    "SELECT *\n",
    "FROM sales\n",
    "WHERE amount > 100 AND sale_date >= '2023-01-01';\n"
   ],
   "metadata": {
    "id": "qgGo_fKI8_Oy"
   }
  },
  {
   "cell_type": "code",
   "source": [
    "query_select = \"SELECT * FROM sales WHERE amount > 100 AND sale_date >= '2023-01-01'\"\n",
    "df_select = pd.read_sql_query(query_select, conn)\n",
    "print(df_select)"
   ],
   "metadata": {
    "colab": {
     "base_uri": "https://localhost:8080/"
    },
    "id": "QjCuKGlIMCUJ",
    "outputId": "33e7c38a-71c5-469c-bf86-bc67d7371d59"
   },
   "execution_count": null,
   "outputs": [
    {
     "output_type": "stream",
     "name": "stdout",
     "text": [
      "   order_id  customer_id   sale_date  product_id  amount\n",
      "0         1          101  2023-01-01           1   150.0\n",
      "1         2          102  2023-01-02           2   200.5\n",
      "2         4          103  2023-01-04           1   150.0\n",
      "3         5          102  2023-01-05           2   200.5\n"
     ]
    }
   ]
  },
  {
   "cell_type": "markdown",
   "source": [
    "## 4. GROUPBY\n",
    "Aggregates rows with the same values into summary rows, such as totals, averages, or counts.\n",
    "\n",
    "```sql\n",
    "SELECT customer_id, SUM(amount) AS total_sales\n",
    "FROM sales\n",
    "GROUP BY customer_id;\n"
   ],
   "metadata": {
    "id": "veG--sUs9GiX"
   }
  },
  {
   "cell_type": "code",
   "source": [
    "query_select = \"\"\"\n",
    "SELECT customer_id, SUM(amount) AS total_sales\n",
    "FROM sales\n",
    "GROUP BY customer_id;\n",
    "\"\"\"\n",
    "df_select = pd.read_sql_query(query_select, conn)\n",
    "print(df_select)\n"
   ],
   "metadata": {
    "colab": {
     "base_uri": "https://localhost:8080/"
    },
    "id": "2ujqDajwMEjB",
    "outputId": "e1126ba2-e093-4c05-903b-98c58d2dc785"
   },
   "execution_count": null,
   "outputs": [
    {
     "output_type": "stream",
     "name": "stdout",
     "text": [
      "   customer_id  total_sales\n",
      "0          101       225.25\n",
      "1          102       401.00\n",
      "2          103       150.00\n"
     ]
    }
   ]
  }
 ],
 "metadata": {
  "colab": {
   "provenance": [],
   "toc_visible": true
  },
  "kernelspec": {
   "name": "python3",
   "display_name": "Python 3"
  },
  "language_info": {
   "name": "python"
  }
 },
 "nbformat": 4,
 "nbformat_minor": 0
}