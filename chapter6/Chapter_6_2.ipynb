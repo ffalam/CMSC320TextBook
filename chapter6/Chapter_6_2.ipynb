{
 "cells": [
  {
   "cell_type": "markdown",
   "metadata": {
    "id": "s2rRDJa09XiG"
   },
   "source": [
    "## Some More SQL Essentials\n",
    "\n",
    "### DISTINCT\n",
    "Returns **unique values** from a column, removing duplicates.\n",
    "\n",
    "```sql\n",
    "-- Get unique customer IDs\n",
    "SELECT DISTINCT customer_id\n",
    "FROM sales;\n"
   ]
  },
  {
   "cell_type": "code",
   "execution_count": 2,
   "metadata": {
    "colab": {
     "base_uri": "https://localhost:8080/"
    },
    "id": "BAUmOkQsMpmK",
    "outputId": "562d0d6f-2d1c-4b84-c414-fde88e22a168"
   },
   "outputs": [
    {
     "name": "stdout",
     "output_type": "stream",
     "text": [
      "Tables created and sample data inserted successfully!\n",
      "   customer_id\n",
      "0          101\n",
      "1          102\n",
      "2          103\n"
     ]
    }
   ],
   "source": [
    "query_select = \"\"\"\n",
    "SELECT DISTINCT customer_id\n",
    "FROM sales;\n",
    "\"\"\"\n",
    "df_select = pd.read_sql_query(query_select, conn)\n",
    "print(df_select)"
   ]
  },
  {
   "cell_type": "markdown",
   "metadata": {
    "id": "PW03aU2j-Lne"
   },
   "source": [
    "### COUNT\n",
    "Counts the number of rows that satisfy a condition.\n",
    "\n",
    "```sql\n",
    "-- Count total sales\n",
    "SELECT COUNT(*) AS total_sales\n",
    "FROM sales;\n",
    "\n",
    "-- Count number of unique customers\n",
    "SELECT COUNT(DISTINCT customer_id) AS unique_customers\n",
    "FROM sales;"
   ]
  },
  {
   "cell_type": "code",
   "execution_count": 3,
   "metadata": {
    "colab": {
     "base_uri": "https://localhost:8080/"
    },
    "id": "mkn_GGE7MuCx",
    "outputId": "f4153fd8-9d91-490d-b592-082291462231"
   },
   "outputs": [
    {
     "name": "stdout",
     "output_type": "stream",
     "text": [
      "   unique_customers\n",
      "0                 3\n"
     ]
    }
   ],
   "source": [
    "query_select = \"\"\"\n",
    "SELECT COUNT(DISTINCT customer_id) AS unique_customers\n",
    "FROM sales;\n",
    "\"\"\"\n",
    "df_select = pd.read_sql_query(query_select, conn)\n",
    "print(df_select)"
   ]
  },
  {
   "cell_type": "markdown",
   "metadata": {
    "id": "FlLXsk-y-Rq9"
   },
   "source": [
    "### LIMIT\n",
    "Restricts the number of rows returned, useful for sampling or previewing data.\n",
    "```sql\n",
    "-- Get the 10 most recent sales\n",
    "SELECT *\n",
    "FROM sales\n",
    "ORDER BY sale_date DESC\n",
    "LIMIT 10;\n",
    "\n",
    "```sql\n",
    "-- Count unique customers but only show the first 5 results\n",
    "SELECT customer_id, COUNT(*) AS num_sales\n",
    "FROM sales\n",
    "GROUP BY customer_id\n",
    "ORDER BY num_sales DESC\n",
    "LIMIT 5;"
   ]
  },
  {
   "cell_type": "code",
   "execution_count": 4,
   "metadata": {
    "colab": {
     "base_uri": "https://localhost:8080/"
    },
    "id": "4f5TZeqYMxDj",
    "outputId": "39407df9-b780-4c48-fa43-3753e00592af"
   },
   "outputs": [
    {
     "name": "stdout",
     "output_type": "stream",
     "text": [
      "   customer_id  num_sales\n",
      "0          102          2\n",
      "1          101          2\n",
      "2          103          1\n"
     ]
    }
   ],
   "source": [
    "query_select = \"\"\"\n",
    "SELECT customer_id, COUNT(*) AS num_sales\n",
    "FROM sales\n",
    "GROUP BY customer_id\n",
    "ORDER BY num_sales DESC\n",
    "LIMIT 5;\n",
    "\"\"\"\n",
    "df_select = pd.read_sql_query(query_select, conn)\n",
    "print(df_select)"
   ]
  },
  {
   "cell_type": "markdown",
   "metadata": {},
   "source": [
    "**Aggregations and Filtering**\n",
    "   - Use aggregation functions like `SUM()`, `COUNT()`, `AVG()`, `MIN()`, `MAX()` to summarize data.  \n",
    "   - `GROUP BY` allows you to compute metrics per category (e.g., total sales per customer).  \n",
    "   - `HAVING` filters aggregated results (useful when you want to filter groups, unlike `WHERE` which filters raw rows).  \n",
    "\n",
    "```sql\n",
    "-- Find total sales per customer\n",
    "SELECT customer_id, SUM(amount) AS total_sales\n",
    "FROM sales\n",
    "GROUP BY customer_id;\n",
    "\n",
    "-- Find customers with total sales greater than 200\n",
    "SELECT customer_id, SUM(amount) AS total_sales\n",
    "FROM sales\n",
    "GROUP BY customer_id\n",
    "HAVING SUM(amount) > 200;"
   ]
  },
  {
   "cell_type": "code",
   "execution_count": 5,
   "metadata": {},
   "outputs": [
    {
     "name": "stdout",
     "output_type": "stream",
     "text": [
      "   customer_id  total_sales\n",
      "0          101       225.25\n",
      "1          102       401.00\n"
     ]
    }
   ],
   "source": [
    "query_select = \"\"\"\n",
    "SELECT customer_id, SUM(amount) AS total_sales\n",
    "FROM sales\n",
    "GROUP BY customer_id\n",
    "HAVING SUM(amount) > 200;\n",
    "\"\"\"\n",
    "df_select = pd.read_sql_query(query_select, conn)\n",
    "print(df_select)"
   ]
  }
 ],
 "metadata": {
  "colab": {
   "provenance": [],
   "toc_visible": true
  },
  "kernelspec": {
   "display_name": "Python 3 (ipykernel)",
   "language": "python",
   "name": "python3"
  },
  "language_info": {
   "codemirror_mode": {
    "name": "ipython",
    "version": 3
   },
   "file_extension": ".py",
   "mimetype": "text/x-python",
   "name": "python",
   "nbconvert_exporter": "python",
   "pygments_lexer": "ipython3",
   "version": "3.9.12"
  }
 },
 "nbformat": 4,
 "nbformat_minor": 4
}
