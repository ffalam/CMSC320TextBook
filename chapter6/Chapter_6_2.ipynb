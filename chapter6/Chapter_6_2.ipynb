{
 "cells": [
  {
   "cell_type": "markdown",
   "source": [
    "## 5. HAVING\n",
    "Filters results after aggregation. Similar to WHERE, but operates on aggregated data.\n",
    "\n",
    "Remember, while `WHERE` filters **raw rows before aggregation**, `HAVING` filters **groups created by `GROUP BY`**.  \n",
    "\n",
    "**Connection to GROUP BY:**  \n",
    "- `GROUP BY` creates aggregated groups (e.g., total sales per customer).  \n",
    "- `HAVING` applies conditions on these aggregated values. Without `GROUP BY`, `HAVING` can still work on aggregate functions applied to the entire table.  \n",
    "\n",
    "\n",
    "```sql\n",
    "SELECT customer_id, SUM(amount) AS total_sales\n",
    "FROM sales\n",
    "GROUP BY customer_id\n",
    "HAVING SUM(amount) > 100;\n"
   ],
   "metadata": {
    "id": "saazlmyZ9MS7"
   }
  },
  {
   "cell_type": "code",
   "source": [
    "query_select = \"\"\"\n",
    "SELECT customer_id, SUM(amount) AS total_sales\n",
    "FROM sales\n",
    "GROUP BY customer_id\n",
    "HAVING SUM(amount) > 100;\n",
    "\"\"\"\n",
    "df_select = pd.read_sql_query(query_select, conn)\n",
    "print(df_select)"
   ],
   "metadata": {
    "colab": {
     "base_uri": "https://localhost:8080/"
    },
    "id": "jmPU_aCLMdGC",
    "outputId": "1a880222-f5c6-4a6f-f9a3-51eefe3d163a"
   },
   "execution_count": null,
   "outputs": [
    {
     "output_type": "stream",
     "name": "stdout",
     "text": [
      "   customer_id  total_sales\n",
      "0          101       225.25\n",
      "1          102       401.00\n",
      "2          103       150.00\n"
     ]
    }
   ]
  },
  {
   "cell_type": "markdown",
   "source": [
    "## 6. ORDERBY\n",
    "Sorts the result set by one or more columns.\n",
    "\n",
    "```sql\n",
    "SELECT product_id, amount\n",
    "FROM sales\n",
    "ORDER BY amount DESC; -- DESC for descending, ASC for ascending\n"
   ],
   "metadata": {
    "id": "BNFSO6S-9Rds"
   }
  },
  {
   "cell_type": "code",
   "source": [
    "query_select = \"\"\"\n",
    "SELECT product_id, amount\n",
    "FROM sales\n",
    "ORDER BY amount DESC;\n",
    "\"\"\"\n",
    "df_select = pd.read_sql_query(query_select, conn)\n",
    "print(df_select)"
   ],
   "metadata": {
    "colab": {
     "base_uri": "https://localhost:8080/"
    },
    "id": "NASsq9WzMmoD",
    "outputId": "8d960685-ab1c-4333-b0f0-370a273d73b3"
   },
   "execution_count": null,
   "outputs": [
    {
     "output_type": "stream",
     "name": "stdout",
     "text": [
      "   product_id  amount\n",
      "0           2  200.50\n",
      "1           2  200.50\n",
      "2           1  150.00\n",
      "3           1  150.00\n",
      "4           3   75.25\n"
     ]
    }
   ]
  },
  {
   "cell_type": "markdown",
   "source": [
    "## Some More SQL Essentials\n",
    "\n",
    "### DISTINCT\n",
    "Returns **unique values** from a column, removing duplicates.\n",
    "\n",
    "```sql\n",
    "-- Get unique customer IDs\n",
    "SELECT DISTINCT customer_id\n",
    "FROM sales;\n"
   ],
   "metadata": {
    "id": "s2rRDJa09XiG"
   }
  },
  {
   "cell_type": "code",
   "source": [
    "query_select = \"\"\"\n",
    "SELECT DISTINCT customer_id\n",
    "FROM sales;\n",
    "\"\"\"\n",
    "df_select = pd.read_sql_query(query_select, conn)\n",
    "print(df_select)"
   ],
   "metadata": {
    "colab": {
     "base_uri": "https://localhost:8080/"
    },
    "id": "BAUmOkQsMpmK",
    "outputId": "562d0d6f-2d1c-4b84-c414-fde88e22a168"
   },
   "execution_count": null,
   "outputs": [
    {
     "output_type": "stream",
     "name": "stdout",
     "text": [
      "   customer_id\n",
      "0          101\n",
      "1          102\n",
      "2          103\n"
     ]
    }
   ]
  },
  {
   "cell_type": "markdown",
   "source": [
    "### COUNT\n",
    "Counts the number of rows that satisfy a condition.\n",
    "\n",
    "```sql\n",
    "-- Count total sales\n",
    "SELECT COUNT(*) AS total_sales\n",
    "FROM sales;\n",
    "\n",
    "-- Count number of unique customers\n",
    "SELECT COUNT(DISTINCT customer_id) AS unique_customers\n",
    "FROM sales;"
   ],
   "metadata": {
    "id": "PW03aU2j-Lne"
   }
  },
  {
   "cell_type": "code",
   "source": [
    "query_select = \"\"\"\n",
    "SELECT COUNT(DISTINCT customer_id) AS unique_customers\n",
    "FROM sales;\n",
    "\"\"\"\n",
    "df_select = pd.read_sql_query(query_select, conn)\n",
    "print(df_select)"
   ],
   "metadata": {
    "colab": {
     "base_uri": "https://localhost:8080/"
    },
    "id": "mkn_GGE7MuCx",
    "outputId": "f4153fd8-9d91-490d-b592-082291462231"
   },
   "execution_count": null,
   "outputs": [
    {
     "output_type": "stream",
     "name": "stdout",
     "text": [
      "   unique_customers\n",
      "0                 3\n"
     ]
    }
   ]
  },
  {
   "cell_type": "markdown",
   "source": [
    "### LIMIT\n",
    "Restricts the number of rows returned, useful for sampling or previewing data.\n",
    "```sql\n",
    "-- Get the 10 most recent sales\n",
    "SELECT *\n",
    "FROM sales\n",
    "ORDER BY sale_date DESC\n",
    "LIMIT 10;\n",
    "\n",
    "```sql\n",
    "-- Count unique customers but only show the first 5 results\n",
    "SELECT customer_id, COUNT(*) AS num_sales\n",
    "FROM sales\n",
    "GROUP BY customer_id\n",
    "ORDER BY num_sales DESC\n",
    "LIMIT 5;"
   ],
   "metadata": {
    "id": "FlLXsk-y-Rq9"
   }
  },
  {
   "cell_type": "code",
   "source": [
    "query_select = \"\"\"\n",
    "SELECT customer_id, COUNT(*) AS num_sales\n",
    "FROM sales\n",
    "GROUP BY customer_id\n",
    "ORDER BY num_sales DESC\n",
    "LIMIT 5;\n",
    "\"\"\"\n",
    "df_select = pd.read_sql_query(query_select, conn)\n",
    "print(df_select)"
   ],
   "metadata": {
    "colab": {
     "base_uri": "https://localhost:8080/"
    },
    "id": "4f5TZeqYMxDj",
    "outputId": "39407df9-b780-4c48-fa43-3753e00592af"
   },
   "execution_count": null,
   "outputs": [
    {
     "output_type": "stream",
     "name": "stdout",
     "text": [
      "   customer_id  num_sales\n",
      "0          102          2\n",
      "1          101          2\n",
      "2          103          1\n"
     ]
    }
   ]
  }
 ],
 "metadata": {
  "colab": {
   "provenance": [],
   "toc_visible": true
  },
  "kernelspec": {
   "name": "python3",
   "display_name": "Python 3"
  },
  "language_info": {
   "name": "python"
  }
 },
 "nbformat": 4,
 "nbformat_minor": 0
}